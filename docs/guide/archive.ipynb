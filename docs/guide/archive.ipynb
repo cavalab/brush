{
 "cells": [
  {
   "cell_type": "markdown",
   "metadata": {},
   "source": [
    "# The archive\n",
    "\n",
    "When you fit a brush estimator, two new attributes are created: `best_estimator_` and `archive_`.\n",
    "\n",
    "If you set `use_arch` to `True` when instantiating the estimator, then it will store the pareto front as a list in `archive_`. This pareto front is always created with individuals from the final population that are not dominated in objectives **error** and **complexity**.\n",
    "\n",
    "In case you need more flexibility, the archive will contain the entire final population if `use_arch` is `False`, and you can iterate through this list to select individuals with different criteria. It is also good to remind that Brush supports different optimization objectives using the argument `objectives`.\n",
    "\n",
    "Each element from the archive is a serialized individual (JSON object)."
   ]
  },
  {
   "cell_type": "code",
   "execution_count": 1,
   "metadata": {},
   "outputs": [],
   "source": [
    "import pandas as pd\n",
    "from pybrush import BrushClassifier\n",
    "\n",
    "# load data\n",
    "df = pd.read_csv('../examples/datasets/d_analcatdata_aids.csv')\n",
    "X = df.drop(columns='target')\n",
    "y = df['target']"
   ]
  },
  {
   "cell_type": "code",
   "execution_count": 2,
   "metadata": {},
   "outputs": [
    {
     "name": "stdout",
     "output_type": "stream",
     "text": [
      "Completed 100% [====================]\n",
      "Best model: Logistic(Sum(-0.44628683,If(AIDS>15890.50,9.51,0.00 (MeanLabel))))\n",
      "score: 0.68\n"
     ]
    }
   ],
   "source": [
    "est = BrushClassifier(\n",
    "    functions=['SplitBest','Add','Mul','Sin','Cos','Exp','Logabs'],\n",
    "    use_arch=True,\n",
    "    objectives=[\"error\", \"complexity\"],\n",
    "    max_gens=100,\n",
    "    pop_size=200,\n",
    "    verbosity=1\n",
    ")\n",
    "\n",
    "est.fit(X,y)\n",
    "\n",
    "print(\"Best model:\", est.best_estimator_.get_model())\n",
    "print('score:', est.score(X,y))"
   ]
  },
  {
   "cell_type": "markdown",
   "metadata": {},
   "source": [
    "You can see individuals from archive using the index:"
   ]
  },
  {
   "cell_type": "code",
   "execution_count": 3,
   "metadata": {},
   "outputs": [
    {
     "name": "stdout",
     "output_type": "stream",
     "text": [
      "6\n"
     ]
    },
    {
     "data": {
      "text/plain": [
       "{'fitness': {'complexity': 80,\n",
       "  'crowding_dist': 0.0,\n",
       "  'dcounter': 0,\n",
       "  'depth': 3,\n",
       "  'dominated': [],\n",
       "  'linear_complexity': 14,\n",
       "  'loss': 0.6931471228599548,\n",
       "  'loss_v': 0.6931471228599548,\n",
       "  'rank': 1,\n",
       "  'size': 5,\n",
       "  'values': [0.6931471228599548, 80.0],\n",
       "  'weights': [-1.0, -1.0],\n",
       "  'wvalues': [-0.6931471228599548, -80.0]},\n",
       " 'id': 495,\n",
       " 'objectives': ['log', 'complexity'],\n",
       " 'parent_id': [],\n",
       " 'program': {'Tree': [{'W': 1.0,\n",
       "    'arg_types': ['ArrayF'],\n",
       "    'center_op': True,\n",
       "    'feature': '',\n",
       "    'fixed': True,\n",
       "    'is_weighted': False,\n",
       "    'name': 'Logistic',\n",
       "    'node_type': 'Logistic',\n",
       "    'prob_change': 0.0,\n",
       "    'ret_type': 'ArrayF',\n",
       "    'sig_dual_hash': 10617925524997611780,\n",
       "    'sig_hash': 13326223354425868050},\n",
       "   {'W': 0.0,\n",
       "    'arg_types': ['ArrayF'],\n",
       "    'center_op': True,\n",
       "    'feature': '',\n",
       "    'fixed': True,\n",
       "    'is_weighted': True,\n",
       "    'name': 'OffsetSum',\n",
       "    'node_type': 'OffsetSum',\n",
       "    'prob_change': 0.0,\n",
       "    'ret_type': 'ArrayF',\n",
       "    'sig_dual_hash': 10617925524997611780,\n",
       "    'sig_hash': 13326223354425868050},\n",
       "   {'W': 0.0,\n",
       "    'arg_types': [],\n",
       "    'center_op': True,\n",
       "    'feature': 'MeanLabel',\n",
       "    'fixed': False,\n",
       "    'is_weighted': True,\n",
       "    'name': 'MeanLabel',\n",
       "    'node_type': 'MeanLabel',\n",
       "    'prob_change': 0.19857122004032135,\n",
       "    'ret_type': 'ArrayF',\n",
       "    'sig_dual_hash': 509529941281334733,\n",
       "    'sig_hash': 17717457037689164349}],\n",
       "  'is_fitted_': True},\n",
       " 'variation': 'born'}"
      ]
     },
     "execution_count": 3,
     "metadata": {},
     "output_type": "execute_result"
    }
   ],
   "source": [
    "print(len(est.archive_[0]))\n",
    "\n",
    "est.archive_[0]"
   ]
  },
  {
   "cell_type": "markdown",
   "metadata": {},
   "source": [
    "And you can call `predict` (or `predict_proba`, if your `est` is an instance of `BrushClassifier`) with the entire archive:"
   ]
  },
  {
   "cell_type": "code",
   "execution_count": 4,
   "metadata": {},
   "outputs": [
    {
     "data": {
      "text/plain": [
       "[{'id': 495,\n",
       "  'y_pred': array([False, False, False, False, False, False, False, False, False,\n",
       "         False, False, False, False, False, False, False, False, False,\n",
       "         False, False, False, False, False, False, False, False, False,\n",
       "         False, False, False, False, False, False, False, False, False,\n",
       "         False, False, False, False, False, False, False, False, False,\n",
       "         False, False, False, False, False])},\n",
       " {'id': 556,\n",
       "  'y_pred': array([ True,  True,  True,  True,  True,  True,  True,  True,  True,\n",
       "          True,  True,  True,  True,  True,  True,  True,  True,  True,\n",
       "          True,  True,  True,  True,  True,  True,  True,  True,  True,\n",
       "          True,  True,  True,  True,  True,  True,  True,  True,  True,\n",
       "          True,  True,  True,  True,  True,  True,  True,  True,  True,\n",
       "          True,  True,  True,  True,  True])},\n",
       " {'id': 491,\n",
       "  'y_pred': array([False, False, False, False, False, False, False, False, False,\n",
       "         False, False, False, False, False, False, False, False, False,\n",
       "         False, False, False, False, False, False, False, False, False,\n",
       "         False, False, False, False, False, False, False, False, False,\n",
       "         False, False, False, False, False, False, False, False, False,\n",
       "         False, False, False, False, False])},\n",
       " {'id': 425,\n",
       "  'y_pred': array([False,  True,  True,  True,  True, False,  True,  True,  True,\n",
       "         False, False,  True,  True, False, False, False, False, False,\n",
       "         False, False, False, False, False, False, False, False, False,\n",
       "         False, False, False, False, False, False, False, False, False,\n",
       "         False, False, False, False, False, False, False, False, False,\n",
       "         False, False, False, False, False])},\n",
       " {'id': 580,\n",
       "  'y_pred': array([False,  True,  True,  True,  True, False,  True,  True,  True,\n",
       "         False, False,  True,  True, False, False, False, False, False,\n",
       "         False, False, False, False, False, False, False, False, False,\n",
       "         False, False, False, False, False, False, False, False, False,\n",
       "         False, False, False, False, False, False, False, False, False,\n",
       "         False, False, False, False, False])},\n",
       " {'id': 423,\n",
       "  'y_pred': array([False,  True,  True,  True,  True, False,  True,  True,  True,\n",
       "         False, False,  True,  True, False, False, False, False, False,\n",
       "         False, False, False, False, False, False, False, False, False,\n",
       "         False, False, False, False, False, False, False, False, False,\n",
       "         False, False, False, False, False, False, False, False, False,\n",
       "         False, False, False, False, False])},\n",
       " {'id': 597,\n",
       "  'y_pred': array([False,  True,  True,  True,  True, False,  True,  True,  True,\n",
       "         False, False,  True,  True, False, False, False, False, False,\n",
       "         False, False, False, False, False, False, False, False, False,\n",
       "         False, False, False, False, False, False, False, False, False,\n",
       "         False, False, False, False, False, False, False, False, False,\n",
       "         False, False, False, False, False])},\n",
       " {'id': 596,\n",
       "  'y_pred': array([False,  True,  True,  True,  True, False,  True,  True,  True,\n",
       "         False, False,  True,  True, False, False, False, False, False,\n",
       "         False, False, False, False, False, False, False, False, False,\n",
       "         False, False, False, False, False, False, False, False, False,\n",
       "         False, False, False, False, False, False, False, False, False,\n",
       "         False, False, False, False, False])}]"
      ]
     },
     "execution_count": 4,
     "metadata": {},
     "output_type": "execute_result"
    }
   ],
   "source": [
    "est.predict_archive(X)\n"
   ]
  },
  {
   "cell_type": "code",
   "execution_count": 5,
   "metadata": {},
   "outputs": [
    {
     "data": {
      "text/plain": [
       "[{'id': 495,\n",
       "  'y_pred': array([0.5, 0.5, 0.5, 0.5, 0.5, 0.5, 0.5, 0.5, 0.5, 0.5, 0.5, 0.5, 0.5,\n",
       "         0.5, 0.5, 0.5, 0.5, 0.5, 0.5, 0.5, 0.5, 0.5, 0.5, 0.5, 0.5, 0.5,\n",
       "         0.5, 0.5, 0.5, 0.5, 0.5, 0.5, 0.5, 0.5, 0.5, 0.5, 0.5, 0.5, 0.5,\n",
       "         0.5, 0.5, 0.5, 0.5, 0.5, 0.5, 0.5, 0.5, 0.5, 0.5, 0.5],\n",
       "        dtype=float32)},\n",
       " {'id': 556,\n",
       "  'y_pred': array([0.50000006, 0.50000006, 0.50000006, 0.50000006, 0.50000006,\n",
       "         0.50000006, 0.50000006, 0.50000006, 0.50000006, 0.50000006,\n",
       "         0.50000006, 0.50000006, 0.50000006, 0.50000006, 0.50000006,\n",
       "         0.50000006, 0.50000006, 0.50000006, 0.50000006, 0.50000006,\n",
       "         0.50000006, 0.50000006, 0.50000006, 0.50000006, 0.50000006,\n",
       "         0.50000006, 0.50000006, 0.50000006, 0.50000006, 0.50000006,\n",
       "         0.50000006, 0.50000006, 0.50000006, 0.50000006, 0.50000006,\n",
       "         0.50000006, 0.50000006, 0.50000006, 0.50000006, 0.50000006,\n",
       "         0.50000006, 0.50000006, 0.50000006, 0.50000006, 0.50000006,\n",
       "         0.50000006, 0.50000006, 0.50000006, 0.50000006, 0.50000006],\n",
       "        dtype=float32)},\n",
       " {'id': 491,\n",
       "  'y_pred': array([0.5, 0.5, 0.5, 0.5, 0.5, 0.5, 0.5, 0.5, 0.5, 0.5, 0.5, 0.5, 0.5,\n",
       "         0.5, 0.5, 0.5, 0.5, 0.5, 0.5, 0.5, 0.5, 0.5, 0.5, 0.5, 0.5, 0.5,\n",
       "         0.5, 0.5, 0.5, 0.5, 0.5, 0.5, 0.5, 0.5, 0.5, 0.5, 0.5, 0.5, 0.5,\n",
       "         0.5, 0.5, 0.5, 0.5, 0.5, 0.5, 0.5, 0.5, 0.5, 0.5, 0.5],\n",
       "        dtype=float32)},\n",
       " {'id': 425,\n",
       "  'y_pred': array([0.39024398, 0.99988425, 0.99988425, 0.99988425, 0.99988425,\n",
       "         0.39024398, 0.99988425, 0.99988425, 0.99988425, 0.39024398,\n",
       "         0.39024398, 0.99988425, 0.99988425, 0.39024398, 0.39024398,\n",
       "         0.39024398, 0.39024398, 0.39024398, 0.39024398, 0.39024398,\n",
       "         0.39024398, 0.39024398, 0.39024398, 0.39024398, 0.39024398,\n",
       "         0.39024398, 0.39024398, 0.39024398, 0.39024398, 0.39024398,\n",
       "         0.39024398, 0.39024398, 0.39024398, 0.39024398, 0.39024398,\n",
       "         0.39024398, 0.39024398, 0.39024398, 0.39024398, 0.39024398,\n",
       "         0.39024398, 0.39024398, 0.39024398, 0.39024398, 0.39024398,\n",
       "         0.39024398, 0.39024398, 0.39024398, 0.39024398, 0.39024398],\n",
       "        dtype=float32)},\n",
       " {'id': 580,\n",
       "  'y_pred': array([0.5      , 0.7310586, 0.7310586, 0.7310586, 0.7310586, 0.5      ,\n",
       "         0.7310586, 0.7310586, 0.7310586, 0.5      , 0.5      , 0.7310586,\n",
       "         0.7310586, 0.5      , 0.5      , 0.5      , 0.5      , 0.5      ,\n",
       "         0.5      , 0.5      , 0.5      , 0.5      , 0.5      , 0.5      ,\n",
       "         0.5      , 0.5      , 0.5      , 0.5      , 0.5      , 0.5      ,\n",
       "         0.5      , 0.5      , 0.5      , 0.5      , 0.5      , 0.5      ,\n",
       "         0.5      , 0.5      , 0.5      , 0.5      , 0.5      , 0.5      ,\n",
       "         0.5      , 0.5      , 0.5      , 0.5      , 0.5      , 0.5      ,\n",
       "         0.5      , 0.5      ], dtype=float32)},\n",
       " {'id': 423,\n",
       "  'y_pred': array([0.3902102, 0.9996853, 0.9996853, 0.9996853, 0.9996853, 0.3902102,\n",
       "         0.9996853, 0.9996853, 0.9996853, 0.3902102, 0.3902102, 0.9996853,\n",
       "         0.9996853, 0.3902102, 0.3902102, 0.3902102, 0.3902102, 0.3902102,\n",
       "         0.3902102, 0.3902102, 0.3902102, 0.3902102, 0.3902102, 0.3902102,\n",
       "         0.3902102, 0.3902102, 0.3902102, 0.3902102, 0.3902102, 0.3902102,\n",
       "         0.3902102, 0.3902102, 0.3902102, 0.3902102, 0.3902102, 0.3902102,\n",
       "         0.3902102, 0.3902102, 0.3902102, 0.3902102, 0.3902102, 0.3902102,\n",
       "         0.3902102, 0.3902102, 0.3902102, 0.3902102, 0.3902102, 0.3902102,\n",
       "         0.3902102, 0.3902102], dtype=float32)},\n",
       " {'id': 597,\n",
       "  'y_pred': array([0.3902417 , 0.99988425, 0.99988425, 0.99988425, 0.99988425,\n",
       "         0.3902417 , 0.99988425, 0.99988425, 0.99988425, 0.3902417 ,\n",
       "         0.3902417 , 0.99988425, 0.99988425, 0.3902417 , 0.3902417 ,\n",
       "         0.3902417 , 0.3902417 , 0.3902417 , 0.3902417 , 0.3902417 ,\n",
       "         0.3902417 , 0.3902417 , 0.3902417 , 0.3902417 , 0.3902417 ,\n",
       "         0.3902417 , 0.3902417 , 0.3902417 , 0.3902417 , 0.3902417 ,\n",
       "         0.3902417 , 0.3902417 , 0.3902417 , 0.3902417 , 0.3902417 ,\n",
       "         0.3902417 , 0.3902417 , 0.3902417 , 0.3902417 , 0.3902417 ,\n",
       "         0.3902417 , 0.3902417 , 0.3902417 , 0.3902417 , 0.3902417 ,\n",
       "         0.3902417 , 0.3902417 , 0.3902417 , 0.3902417 , 0.3902417 ],\n",
       "        dtype=float32)},\n",
       " {'id': 596,\n",
       "  'y_pred': array([0.39024386, 0.9997986 , 0.9997986 , 0.9997986 , 0.9997986 ,\n",
       "         0.39024386, 0.9997986 , 0.9997986 , 0.9997986 , 0.39024386,\n",
       "         0.39024386, 0.9997986 , 0.9997986 , 0.39024386, 0.39024386,\n",
       "         0.39024386, 0.39024386, 0.39024386, 0.39024386, 0.39024386,\n",
       "         0.39024386, 0.39024386, 0.39024386, 0.39024386, 0.39024386,\n",
       "         0.39024386, 0.39024386, 0.39024386, 0.39024386, 0.39024386,\n",
       "         0.39024386, 0.39024386, 0.39024386, 0.39024386, 0.39024386,\n",
       "         0.39024386, 0.39024386, 0.39024386, 0.39024386, 0.39024386,\n",
       "         0.39024386, 0.39024386, 0.39024386, 0.39024386, 0.39024386,\n",
       "         0.39024386, 0.39024386, 0.39024386, 0.39024386, 0.39024386],\n",
       "        dtype=float32)}]"
      ]
     },
     "execution_count": 5,
     "metadata": {},
     "output_type": "execute_result"
    }
   ],
   "source": [
    "est.predict_proba_archive(X)"
   ]
  },
  {
   "cell_type": "markdown",
   "metadata": {},
   "source": [
    "## Loading a specific model from archive\n",
    "\n",
    "We have a static class method called `from_json` which let's you easily the string representation of the json from the archive to load an individual."
   ]
  },
  {
   "cell_type": "code",
   "execution_count": 6,
   "metadata": {},
   "outputs": [],
   "source": [
    "from pybrush import individual\n",
    "\n",
    "loaded_from_arch = individual.ClassifierIndividual.from_json(est.archive_[-1])"
   ]
  },
  {
   "cell_type": "code",
   "execution_count": 7,
   "metadata": {},
   "outputs": [
    {
     "name": "stdout",
     "output_type": "stream",
     "text": [
      "Logistic(Sum(-0.44824797,If(AIDS>15890.50,8.96,0.00)))\n",
      "Fitness(0.548499 3488.000000 )\n"
     ]
    }
   ],
   "source": [
    "print(loaded_from_arch.get_model())\n",
    "print(loaded_from_arch.fitness)"
   ]
  },
  {
   "cell_type": "markdown",
   "metadata": {},
   "source": [
    "To use this loaded model to do predictions, you need to wrap the data into a Dataset:"
   ]
  },
  {
   "cell_type": "code",
   "execution_count": 8,
   "metadata": {},
   "outputs": [
    {
     "data": {
      "text/plain": [
       "array([False,  True,  True,  True,  True, False,  True,  True,  True,\n",
       "       False, False,  True,  True, False, False, False, False, False,\n",
       "       False, False, False, False, False, False, False, False, False,\n",
       "       False, False, False, False, False, False, False, False, False,\n",
       "       False, False, False, False, False, False, False, False, False,\n",
       "       False, False, False, False, False])"
      ]
     },
     "execution_count": 8,
     "metadata": {},
     "output_type": "execute_result"
    }
   ],
   "source": [
    "from pybrush import Dataset\n",
    "\n",
    "loaded_from_arch.predict(Dataset(X=X, ref_dataset=est.data_, \n",
    "                              feature_names=est.feature_names_))"
   ]
  },
  {
   "cell_type": "markdown",
   "metadata": {},
   "source": [
    "## Visualizing the Pareto front of the archive"
   ]
  },
  {
   "cell_type": "code",
   "execution_count": 9,
   "metadata": {},
   "outputs": [
    {
     "name": "stdout",
     "output_type": "stream",
     "text": [
      "8\n"
     ]
    },
    {
     "data": {
      "text/plain": [
       "Text(0, 0.5, 'Complexity (smaller is better)')"
      ]
     },
     "execution_count": 9,
     "metadata": {},
     "output_type": "execute_result"
    },
    {
     "data": {
      "image/png": "[encoded data removed]",
      "text/plain": [
       "<Figure size 640x480 with 1 Axes>"
      ]
     },
     "metadata": {},
     "output_type": "display_data"
    }
   ],
   "source": [
    "import matplotlib.pyplot as plt\n",
    "\n",
    "xs, ys = [], []\n",
    "for ind in est.archive_:\n",
    "    xs.append(ind['fitness']['loss_v'])\n",
    "    ys.append(ind['fitness']['complexity'])\n",
    "\n",
    "print(len(xs))\n",
    "plt.scatter(xs, ys, alpha=0.25, c='b', linewidth=1.0)\n",
    "plt.xlabel(\"Loss on validation partition (smaller is better)\")\n",
    "plt.ylabel(\"Complexity (smaller is better)\")"
   ]
  },
  {
   "cell_type": "markdown",
   "metadata": {},
   "source": [
    "## Storing the population (unique individuals)\n",
    "\n",
    "If not using archive, then the unique individuals from the final population will be stored. Notice that, while the archive contains only the Pareto front (when `use_arch=True`), this will contain all individuals, even dominated ones."
   ]
  },
  {
   "cell_type": "code",
   "execution_count": 10,
   "metadata": {},
   "outputs": [
    {
     "name": "stdout",
     "output_type": "stream",
     "text": [
      "Completed 100% [====================]\n",
      "saving final population as archive...\n",
      "Best model: Logistic(Sum(-0.58814025,2.56*Sub(1.00*AIDS,1.00*AIDS)))\n",
      "score: 0.68\n"
     ]
    }
   ],
   "source": [
    "est = BrushClassifier(\n",
    "    # functions=['SplitBest','Add','Mul','Sin','Cos','Exp','Logabs'],\n",
    "    use_arch=False,\n",
    "    objectives=[\"error\", \"complexity\"],\n",
    "    max_gens=5,\n",
    "    pop_size=200,\n",
    "    verbosity=1\n",
    ")\n",
    "\n",
    "est.fit(X,y)\n",
    "\n",
    "print(\"Best model:\", est.best_estimator_.get_model())\n",
    "print('score:', est.score(X,y))"
   ]
  },
  {
   "cell_type": "code",
   "execution_count": 11,
   "metadata": {},
   "outputs": [
    {
     "name": "stdout",
     "output_type": "stream",
     "text": [
      "32\n"
     ]
    },
    {
     "data": {
      "text/plain": [
       "Text(0, 0.5, 'Complexity (smaller is better)')"
      ]
     },
     "execution_count": 11,
     "metadata": {},
     "output_type": "execute_result"
    },
    {
     "data": {
      "image/png": "[encoded data removed]",
      "text/plain": [
       "<Figure size 640x480 with 1 Axes>"
      ]
     },
     "metadata": {},
     "output_type": "display_data"
    }
   ],
   "source": [
    "xs, ys = [], []\n",
    "for ind in est.archive_:\n",
    "    xs.append(ind['fitness']['loss_v'])\n",
    "    ys.append(ind['fitness']['complexity'])\n",
    "\n",
    "print(len(xs))\n",
    "plt.scatter(xs, ys, alpha=0.25, c='b', linewidth=1.0)\n",
    "plt.xlabel(\"Loss on validation partition (smaller is better)\")\n",
    "plt.ylabel(\"Complexity (smaller is better)\")"
   ]
  }
 ],
 "metadata": {
  "kernelspec": {
   "display_name": "brush",
   "language": "python",
   "name": "python3"
  },
  "language_info": {
   "codemirror_mode": {
    "name": "ipython",
    "version": 3
   },
   "file_extension": ".py",
   "mimetype": "text/x-python",
   "name": "python",
   "nbconvert_exporter": "python",
   "pygments_lexer": "ipython3",
   "version": "3.12.2"
  }
 },
 "nbformat": 4,
 "nbformat_minor": 2
}
