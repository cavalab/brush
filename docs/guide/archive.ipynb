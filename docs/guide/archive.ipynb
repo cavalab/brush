{
 "cells": [
  {
   "cell_type": "markdown",
   "metadata": {},
   "source": [
    "# The archive\n",
    "\n",
    "When you fit a brush estimator, two new attributes are created: `best_estimator_` and `archive_`.\n",
    "\n",
    "If you set `use_arch` to `True` when instantiating the estimator, then it will store the pareto front as a list in `archive_`. This pareto front is always created with individuals from the final population that are not dominated in objectives **scorer** and **complexity**. Setting `scorer` as an objective means optimizing the metric set as `scorer: str`.\n",
    "\n",
    "In case you need more flexibility, the archive will contain the entire final population if `use_arch` is `False`, and you can iterate through this list to select individuals with different criteria. It is also good to remind that Brush supports different optimization objectives using the argument `objectives`.\n",
    "\n",
    "Each element from the archive is a serialized individual (JSON object)."
   ]
  },
  {
   "cell_type": "code",
   "execution_count": 1,
   "metadata": {},
   "outputs": [],
   "source": [
    "import pandas as pd\n",
    "from pybrush import BrushClassifier\n",
    "\n",
    "# load data\n",
    "df = pd.read_csv('../examples/datasets/d_analcatdata_aids.csv')\n",
    "X = df.drop(columns='target')\n",
    "y = df['target']"
   ]
  },
  {
   "cell_type": "code",
   "execution_count": 2,
   "metadata": {},
   "outputs": [
    {
     "name": "stdout",
     "output_type": "stream",
     "text": [
      "Completed 100% [====================]\n",
      "Best model: Logistic(Sum(-0.66,0.01*Exp(0.69*Sum(3.66*Tan(1.55*Cos(1.20*Log1p(0.80*AIDS))),1.00*Square(0.40*Tan(Sub(AIDS,2.46)))))))\n",
      "score: 0.84\n"
     ]
    }
   ],
   "source": [
    "est = BrushClassifier(\n",
    "    # functions=['SplitBest','Add','Mul','Sin','Cos','Exp','Logabs'],\n",
    "    use_arch=True,\n",
    "    objectives=[\"scorer\", \"linear_complexity\"],\n",
    "    scorer='balanced_accuracy', # brush implements several metrics for clf and reg!\n",
    "    max_gens=100,\n",
    "    pop_size=100,\n",
    "    max_depth=10,\n",
    "    max_size=100,\n",
    "    verbosity=1\n",
    ")\n",
    "\n",
    "est.fit(X,y)\n",
    "\n",
    "print(\"Best model:\", est.best_estimator_.get_model())\n",
    "print('score:', est.score(X,y))"
   ]
  },
  {
   "cell_type": "markdown",
   "metadata": {},
   "source": [
    "You can see individuals from archive using the index:"
   ]
  },
  {
   "cell_type": "code",
   "execution_count": 3,
   "metadata": {},
   "outputs": [
    {
     "name": "stdout",
     "output_type": "stream",
     "text": [
      "7\n"
     ]
    },
    {
     "data": {
      "text/plain": [
       "{'fitness': {'complexity': 128,\n",
       "  'crowding_dist': 3.4028234663852886e+38,\n",
       "  'dcounter': 0,\n",
       "  'depth': 3,\n",
       "  'dominated': [],\n",
       "  'linear_complexity': 15,\n",
       "  'loss': 0.5,\n",
       "  'loss_v': 0.5,\n",
       "  'prev_complexity': 128,\n",
       "  'prev_depth': 3,\n",
       "  'prev_linear_complexity': 15,\n",
       "  'prev_loss': 0.5,\n",
       "  'prev_loss_v': 0.5,\n",
       "  'prev_size': 5,\n",
       "  'rank': 1,\n",
       "  'size': 5,\n",
       "  'values': [0.5, 15.0],\n",
       "  'weights': [1.0, -1.0],\n",
       "  'wvalues': [0.5, -15.0]},\n",
       " 'id': 276,\n",
       " 'is_fitted_': False,\n",
       " 'objectives': ['balanced_accuracy', 'linear_complexity'],\n",
       " 'parent_id': [241],\n",
       " 'program': {'Tree': [{'W': 1.0,\n",
       "    'arg_types': ['ArrayF'],\n",
       "    'center_op': True,\n",
       "    'feature': '',\n",
       "    'feature_type': 'ArrayF',\n",
       "    'fixed': True,\n",
       "    'is_weighted': False,\n",
       "    'name': 'Logistic',\n",
       "    'node_type': 'Logistic',\n",
       "    'prob_change': 0.0,\n",
       "    'ret_type': 'ArrayF',\n",
       "    'sig_dual_hash': 10617925524997611780,\n",
       "    'sig_hash': 13326223354425868050},\n",
       "   {'W': -21.192781448364258,\n",
       "    'arg_types': ['ArrayF'],\n",
       "    'center_op': True,\n",
       "    'feature': '',\n",
       "    'feature_type': 'ArrayF',\n",
       "    'fixed': True,\n",
       "    'is_weighted': True,\n",
       "    'name': 'OffsetSum',\n",
       "    'node_type': 'OffsetSum',\n",
       "    'prob_change': 0.0,\n",
       "    'ret_type': 'ArrayF',\n",
       "    'sig_dual_hash': 10617925524997611780,\n",
       "    'sig_hash': 13326223354425868050},\n",
       "   {'W': 1.0,\n",
       "    'arg_types': [],\n",
       "    'center_op': False,\n",
       "    'feature': 'constF',\n",
       "    'feature_type': 'ArrayF',\n",
       "    'fixed': False,\n",
       "    'is_weighted': True,\n",
       "    'name': 'Constant',\n",
       "    'node_type': 'Constant',\n",
       "    'prob_change': 0.19857122004032135,\n",
       "    'ret_type': 'ArrayF',\n",
       "    'sig_dual_hash': 509529941281334733,\n",
       "    'sig_hash': 17717457037689164349}],\n",
       "  'is_fitted_': True},\n",
       " 'variation': 'point'}"
      ]
     },
     "execution_count": 3,
     "metadata": {},
     "output_type": "execute_result"
    }
   ],
   "source": [
    "print(len(est.archive_[0]))\n",
    "\n",
    "est.archive_[0]"
   ]
  },
  {
   "cell_type": "markdown",
   "metadata": {},
   "source": [
    "And you can call `predict` (or `predict_proba`, if your `est` is an instance of `BrushClassifier`) with the entire archive:"
   ]
  },
  {
   "cell_type": "code",
   "execution_count": 4,
   "metadata": {},
   "outputs": [
    {
     "data": {
      "text/plain": [
       "[{'id': 276,\n",
       "  'y_pred': array([False, False, False, False, False, False, False, False, False,\n",
       "         False, False, False, False, False, False, False, False, False,\n",
       "         False, False, False, False, False, False, False, False, False,\n",
       "         False, False, False, False, False, False, False, False, False,\n",
       "         False, False, False, False, False, False, False, False, False,\n",
       "         False, False, False, False, False])},\n",
       " {'id': 255,\n",
       "  'y_pred': array([ True,  True,  True,  True,  True,  True,  True,  True,  True,\n",
       "          True,  True,  True,  True,  True,  True,  True,  True,  True,\n",
       "          True,  True,  True,  True,  True,  True,  True,  True,  True,\n",
       "          True,  True,  True,  True,  True,  True,  True,  True,  True,\n",
       "          True,  True,  True,  True, False,  True,  True,  True,  True,\n",
       "         False,  True,  True,  True, False])},\n",
       " {'id': 291,\n",
       "  'y_pred': array([False,  True,  True,  True,  True, False,  True,  True,  True,\n",
       "          True, False,  True,  True,  True, False, False, False, False,\n",
       "         False, False, False, False, False, False, False, False, False,\n",
       "         False, False, False, False,  True,  True, False, False, False,\n",
       "         False, False, False, False, False, False, False, False, False,\n",
       "         False, False, False, False, False])},\n",
       " {'id': 223,\n",
       "  'y_pred': array([ True,  True,  True,  True,  True, False,  True,  True, False,\n",
       "          True,  True,  True,  True,  True, False, False, False,  True,\n",
       "          True,  True,  True,  True, False, False,  True,  True,  True,\n",
       "         False,  True, False, False,  True, False, False, False, False,\n",
       "         False, False,  True, False, False, False, False, False, False,\n",
       "          True, False, False, False, False])},\n",
       " {'id': 299,\n",
       "  'y_pred': array([False,  True,  True,  True, False,  True,  True,  True, False,\n",
       "         False, False,  True,  True, False, False, False, False, False,\n",
       "          True,  True,  True,  True,  True,  True,  True,  True, False,\n",
       "         False, False, False, False, False, False, False, False, False,\n",
       "         False, False, False, False, False, False, False, False, False,\n",
       "         False, False, False, False, False])},\n",
       " {'id': 205,\n",
       "  'y_pred': array([ True,  True, False,  True, False,  True,  True,  True,  True,\n",
       "         False, False, False,  True,  True, False, False, False, False,\n",
       "          True,  True,  True,  True,  True,  True,  True, False, False,\n",
       "         False, False, False,  True, False, False, False, False, False,\n",
       "         False, False, False, False, False, False, False, False, False,\n",
       "         False, False, False, False, False])},\n",
       " {'id': 284,\n",
       "  'y_pred': array([False,  True,  True,  True, False, False,  True,  True,  True,\n",
       "         False, False,  True,  True, False, False, False, False, False,\n",
       "          True,  True,  True,  True,  True,  True,  True, False, False,\n",
       "         False, False, False, False, False, False, False, False, False,\n",
       "         False, False, False, False, False, False, False, False, False,\n",
       "         False, False, False, False, False])},\n",
       " {'id': 216,\n",
       "  'y_pred': array([ True,  True,  True,  True, False,  True,  True,  True,  True,\n",
       "         False, False,  True,  True,  True, False, False, False, False,\n",
       "          True,  True,  True,  True,  True,  True,  True, False, False,\n",
       "         False, False, False,  True, False, False, False, False, False,\n",
       "         False, False, False, False, False, False, False, False, False,\n",
       "         False, False, False, False, False])}]"
      ]
     },
     "execution_count": 4,
     "metadata": {},
     "output_type": "execute_result"
    }
   ],
   "source": [
    "est.predict_archive(X)\n"
   ]
  },
  {
   "cell_type": "code",
   "execution_count": 5,
   "metadata": {},
   "outputs": [
    {
     "data": {
      "text/plain": [
       "[{'id': 276,\n",
       "  'y_pred': array([1.6997556e-09, 1.6997556e-09, 1.6997556e-09, 1.6997556e-09,\n",
       "         1.6997556e-09, 1.6997556e-09, 1.6997556e-09, 1.6997556e-09,\n",
       "         1.6997556e-09, 1.6997556e-09, 1.6997556e-09, 1.6997556e-09,\n",
       "         1.6997556e-09, 1.6997556e-09, 1.6997556e-09, 1.6997556e-09,\n",
       "         1.6997556e-09, 1.6997556e-09, 1.6997556e-09, 1.6997556e-09,\n",
       "         1.6997556e-09, 1.6997556e-09, 1.6997556e-09, 1.6997556e-09,\n",
       "         1.6997556e-09, 1.6997556e-09, 1.6997556e-09, 1.6997556e-09,\n",
       "         1.6997556e-09, 1.6997556e-09, 1.6997556e-09, 1.6997556e-09,\n",
       "         1.6997556e-09, 1.6997556e-09, 1.6997556e-09, 1.6997556e-09,\n",
       "         1.6997556e-09, 1.6997556e-09, 1.6997556e-09, 1.6997556e-09,\n",
       "         1.6997556e-09, 1.6997556e-09, 1.6997556e-09, 1.6997556e-09,\n",
       "         1.6997556e-09, 1.6997556e-09, 1.6997556e-09, 1.6997556e-09,\n",
       "         1.6997554e-09, 1.6997554e-09], dtype=float32)},\n",
       " {'id': 255,\n",
       "  'y_pred': array([1.0000000e+00, 1.0000000e+00, 1.0000000e+00, 1.0000000e+00,\n",
       "         1.0000000e+00, 1.0000000e+00, 1.0000000e+00, 1.0000000e+00,\n",
       "         1.0000000e+00, 1.0000000e+00, 1.0000000e+00, 1.0000000e+00,\n",
       "         1.0000000e+00, 1.0000000e+00, 1.0000000e+00, 1.0000000e+00,\n",
       "         1.0000000e+00, 1.0000000e+00, 1.0000000e+00, 1.0000000e+00,\n",
       "         9.9189562e-01, 1.0000000e+00, 1.0000000e+00, 1.0000000e+00,\n",
       "         1.0000000e+00, 1.0000000e+00, 1.0000000e+00, 1.0000000e+00,\n",
       "         1.0000000e+00, 1.0000000e+00, 1.0000000e+00, 1.0000000e+00,\n",
       "         1.0000000e+00, 1.0000000e+00, 1.0000000e+00, 1.0000000e+00,\n",
       "         1.0000000e+00, 1.0000000e+00, 1.0000000e+00, 1.0000000e+00,\n",
       "         2.5226601e-07, 1.0000000e+00, 1.0000000e+00, 1.0000000e+00,\n",
       "         1.0000000e+00, 1.2559589e-08, 1.0000000e+00, 1.0000000e+00,\n",
       "         9.9994493e-01, 7.5142947e-04], dtype=float32)},\n",
       " {'id': 291,\n",
       "  'y_pred': array([0.40832812, 0.98195755, 0.9980451 , 0.9285575 , 0.6787649 ,\n",
       "         0.4070084 , 0.90464234, 0.9759905 , 0.8015995 , 0.56454235,\n",
       "         0.38471374, 0.75632966, 0.8415649 , 0.58642745, 0.45130208,\n",
       "         0.35909173, 0.3724028 , 0.38078153, 0.3690993 , 0.36329514,\n",
       "         0.35886306, 0.36582726, 0.36634612, 0.36103794, 0.35928234,\n",
       "         0.3677505 , 0.45364073, 0.46575433, 0.40029106, 0.3931169 ,\n",
       "         0.3872061 , 0.6069299 , 0.6723217 , 0.474232  , 0.40790805,\n",
       "         0.36780828, 0.45101497, 0.46114194, 0.39616343, 0.3758736 ,\n",
       "         0.35848212, 0.35994977, 0.36038867, 0.35968274, 0.3594158 ,\n",
       "         0.35842496, 0.3598544 , 0.35983533, 0.35895833, 0.35863447],\n",
       "        dtype=float32)},\n",
       " {'id': 223,\n",
       "  'y_pred': array([1.0000000e+00, 6.6772705e-01, 6.0496938e-01, 5.8646095e-01,\n",
       "         9.9967659e-01, 3.3581728e-01, 9.8153692e-01, 9.9281877e-01,\n",
       "         3.9839453e-01, 9.3153781e-01, 7.1204311e-01, 5.2228838e-01,\n",
       "         9.8504770e-01, 8.3672822e-01, 2.6778040e-02, 3.0239686e-01,\n",
       "         2.4735206e-03, 7.1163636e-01, 9.8937935e-01, 8.6009079e-01,\n",
       "         8.3452570e-01, 9.9600571e-01, 3.2030308e-01, 4.4884560e-01,\n",
       "         5.5151033e-01, 8.8560218e-01, 7.9688108e-01, 1.2145558e-04,\n",
       "         8.5215700e-01, 4.2970630e-04, 1.6191787e-01, 9.9994743e-01,\n",
       "         3.2906738e-04, 1.2768777e-01, 2.0219128e-01, 1.9208260e-01,\n",
       "         2.0801620e-01, 3.6240211e-03, 9.9977070e-01, 1.3777211e-01,\n",
       "         1.9593807e-01, 1.6067323e-01, 1.3702215e-01, 3.0948851e-01,\n",
       "         4.5316583e-01, 8.9674324e-01, 4.3176955e-01, 3.3417767e-01,\n",
       "         3.6992738e-01, 2.2459310e-01], dtype=float32)},\n",
       " {'id': 299,\n",
       "  'y_pred': array([0.34055302, 1.        , 0.7081366 , 1.        , 0.35137445,\n",
       "         0.5301215 , 1.        , 1.        , 0.36766002, 0.3426208 ,\n",
       "         0.34076977, 0.52361375, 1.        , 0.34055346, 0.34055302,\n",
       "         0.3411135 , 0.34551674, 0.3412838 , 1.        , 1.        ,\n",
       "         1.        , 1.        , 0.98239744, 1.        , 1.        ,\n",
       "         0.5200303 , 0.34055308, 0.34055412, 0.34055302, 0.34055656,\n",
       "         0.34055302, 0.3451016 , 0.3499597 , 0.34055424, 0.34055302,\n",
       "         0.4865933 , 0.34055302, 0.3417678 , 0.3405533 , 0.34219858,\n",
       "         0.34083688, 0.3437415 , 0.430698  , 0.3487337 , 0.34136522,\n",
       "         0.34717625, 0.3513794 , 0.34469324, 0.34057552, 0.34055302],\n",
       "        dtype=float32)},\n",
       " {'id': 205,\n",
       "  'y_pred': array([1.        , 1.        , 0.4483214 , 1.        , 0.35121915,\n",
       "         1.        , 1.        , 1.        , 1.        , 0.34246865,\n",
       "         0.3409491 , 0.39334202, 1.        , 1.        , 0.34055325,\n",
       "         0.3410458 , 0.34562182, 0.34147963, 1.        , 1.        ,\n",
       "         1.        , 0.97857016, 0.5833435 , 0.9992594 , 1.        ,\n",
       "         0.38189098, 0.3405538 , 0.34056905, 0.34055313, 0.34057575,\n",
       "         1.        , 0.3442056 , 0.35019004, 0.34066746, 0.34055302,\n",
       "         0.379195  , 0.3405739 , 0.36196   , 0.34055692, 0.34293365,\n",
       "         0.34099573, 0.35373685, 0.37753   , 0.34516105, 0.3428576 ,\n",
       "         0.3445686 , 0.34757704, 0.3479604 , 0.34062853, 0.34055302],\n",
       "        dtype=float32)},\n",
       " {'id': 284,\n",
       "  'y_pred': array([0.34055302, 1.        , 0.70079273, 1.        , 0.35516626,\n",
       "         0.34055302, 1.        , 1.        , 0.73520136, 0.34235644,\n",
       "         0.34074152, 0.52190685, 1.        , 0.34065253, 0.34055302,\n",
       "         0.3408473 , 0.34612182, 0.34117717, 0.93075883, 1.        ,\n",
       "         1.        , 1.        , 0.9820839 , 1.        , 1.        ,\n",
       "         0.46768993, 0.34055308, 0.34055483, 0.34055302, 0.3405562 ,\n",
       "         0.34055302, 0.34480694, 0.35323465, 0.3405581 , 0.34055302,\n",
       "         0.45321235, 0.34055302, 0.340565  , 0.34055325, 0.34246317,\n",
       "         0.34078667, 0.3486134 , 0.43834123, 0.34679285, 0.34189865,\n",
       "         0.3456168 , 0.350807  , 0.34737733, 0.34057352, 0.34055302],\n",
       "        dtype=float32)},\n",
       " {'id': 216,\n",
       "  'y_pred': array([1.        , 1.        , 0.74646103, 1.        , 0.35793266,\n",
       "         1.        , 1.        , 1.        , 1.        , 0.342173  ,\n",
       "         0.34073693, 0.50279343, 1.        , 1.        , 0.34055302,\n",
       "         0.34080166, 0.34676194, 0.34114748, 1.        , 1.        ,\n",
       "         1.        , 1.        , 0.9891026 , 1.        , 1.        ,\n",
       "         0.45581204, 0.34055305, 0.34055522, 0.34055302, 0.34055656,\n",
       "         1.        , 0.34450173, 0.355653  , 0.34058613, 0.34055302,\n",
       "         0.44539875, 0.34055617, 0.3863583 , 0.34055328, 0.34273973,\n",
       "         0.34076747, 0.36387348, 0.43910918, 0.345996  , 0.3426439 ,\n",
       "         0.34505373, 0.3502998 , 0.35104322, 0.34057167, 0.34055302],\n",
       "        dtype=float32)}]"
      ]
     },
     "execution_count": 5,
     "metadata": {},
     "output_type": "execute_result"
    }
   ],
   "source": [
    "est.predict_proba_archive(X)"
   ]
  },
  {
   "cell_type": "markdown",
   "metadata": {},
   "source": [
    "## Loading a specific model from archive\n",
    "\n",
    "We have a static class method called `from_json` which let's you easily the string representation of the json from the archive to load an individual."
   ]
  },
  {
   "cell_type": "code",
   "execution_count": 6,
   "metadata": {},
   "outputs": [],
   "source": [
    "from pybrush import individual\n",
    "\n",
    "loaded_from_arch = individual.ClassifierIndividual.from_json(est.archive_[-1])"
   ]
  },
  {
   "cell_type": "code",
   "execution_count": 7,
   "metadata": {},
   "outputs": [
    {
     "name": "stdout",
     "output_type": "stream",
     "text": [
      "Logistic(Sum(-0.66,0.01*Exp(0.69*Sum(3.66*Tan(1.55*Cos(1.20*Log1p(0.80*AIDS))),1.00*Square(0.40*Tan(Sub(AIDS,2.46)))))))\n",
      "Fitness(0.840000 106.000000 )\n"
     ]
    }
   ],
   "source": [
    "print(loaded_from_arch.get_model())\n",
    "print(loaded_from_arch.fitness)"
   ]
  },
  {
   "cell_type": "markdown",
   "metadata": {},
   "source": [
    "To use this loaded model to do predictions, you need to wrap the data into a Dataset:"
   ]
  },
  {
   "cell_type": "code",
   "execution_count": 8,
   "metadata": {},
   "outputs": [
    {
     "data": {
      "text/plain": [
       "array([ True,  True,  True,  True, False,  True,  True,  True,  True,\n",
       "       False, False,  True,  True,  True, False, False, False, False,\n",
       "        True,  True,  True,  True,  True,  True,  True, False, False,\n",
       "       False, False, False,  True, False, False, False, False, False,\n",
       "       False, False, False, False, False, False, False, False, False,\n",
       "       False, False, False, False, False])"
      ]
     },
     "execution_count": 8,
     "metadata": {},
     "output_type": "execute_result"
    }
   ],
   "source": [
    "from pybrush import Dataset\n",
    "\n",
    "loaded_from_arch.predict(Dataset(X=X, ref_dataset=est.data_, \n",
    "                              feature_names=est.feature_names_))"
   ]
  },
  {
   "cell_type": "markdown",
   "metadata": {},
   "source": [
    "## Visualizing the Pareto front of the archive"
   ]
  },
  {
   "cell_type": "code",
   "execution_count": 9,
   "metadata": {},
   "outputs": [
    {
     "name": "stdout",
     "output_type": "stream",
     "text": [
      "8\n"
     ]
    },
    {
     "data": {
      "text/plain": [
       "Text(0, 0.5, 'Complexity (smaller is better)')"
      ]
     },
     "execution_count": 9,
     "metadata": {},
     "output_type": "execute_result"
    },
    {
     "data": {
      "image/png": "[encoded data removed]",
      "text/plain": [
       "<Figure size 640x480 with 1 Axes>"
      ]
     },
     "metadata": {},
     "output_type": "display_data"
    }
   ],
   "source": [
    "import matplotlib.pyplot as plt\n",
    "\n",
    "xs, ys = [], []\n",
    "for ind in est.archive_:\n",
    "    # We should look at the same objectives to get a valid pareto front\n",
    "    xs.append(ind['fitness']['loss'])\n",
    "    ys.append(ind['fitness']['linear_complexity'])\n",
    "\n",
    "print(len(xs))\n",
    "plt.scatter(xs, ys, alpha=0.25, c='b', linewidth=1.0)\n",
    "plt.yscale('log')\n",
    "plt.xlabel(\"Loss on validation partition (greater is better)\")\n",
    "plt.ylabel(\"Complexity (smaller is better)\")"
   ]
  },
  {
   "cell_type": "markdown",
   "metadata": {},
   "source": [
    "## Storing the population (unique individuals)\n",
    "\n",
    "If not using archive, then the unique individuals from the final population will be stored. Notice that, while the archive contains only the Pareto front (when `use_arch=True`), this will contain all individuals, even dominated ones."
   ]
  },
  {
   "cell_type": "code",
   "execution_count": 10,
   "metadata": {},
   "outputs": [
    {
     "name": "stdout",
     "output_type": "stream",
     "text": [
      "Completed 100% [====================]\n",
      "Best model: Logistic(Sum(2.90,5.79*Min(Log(Max(If(AIDS>15890.50,Total,0.48),Sin(15888.76*Sin(Sum(15890.50*Total,15890.50))),-0.31)),1.00,15810.96)))\n",
      "score: 0.8\n"
     ]
    }
   ],
   "source": [
    "est = BrushClassifier(\n",
    "    # functions=['SplitBest','Add','Mul','Sin','Cos','Exp','Logabs'],\n",
    "    use_arch=True,\n",
    "    objectives=[\"scorer\", \"linear_complexity\"],\n",
    "    max_depth=10,\n",
    "    max_size=100,\n",
    "    max_gens=100,\n",
    "    pop_size=200,\n",
    "    verbosity=1\n",
    ")\n",
    "\n",
    "est.fit(X,y)\n",
    "\n",
    "print(\"Best model:\", est.best_estimator_.get_model())\n",
    "print('score:', est.score(X,y))"
   ]
  },
  {
   "cell_type": "code",
   "execution_count": 11,
   "metadata": {},
   "outputs": [
    {
     "name": "stdout",
     "output_type": "stream",
     "text": [
      "13\n"
     ]
    },
    {
     "data": {
      "text/plain": [
       "Text(0, 0.5, 'Complexity (smaller is better)')"
      ]
     },
     "execution_count": 11,
     "metadata": {},
     "output_type": "execute_result"
    },
    {
     "data": {
      "image/png": "[encoded data removed]",
      "text/plain": [
       "<Figure size 640x480 with 1 Axes>"
      ]
     },
     "metadata": {},
     "output_type": "display_data"
    }
   ],
   "source": [
    "xs, ys = [], []\n",
    "for ind in est.archive_:\n",
    "    # use the same as the objectives\n",
    "    xs.append(ind['fitness']['loss'])\n",
    "    ys.append(ind['fitness']['linear_complexity'])\n",
    "\n",
    "print(len(xs))\n",
    "plt.scatter(xs, ys, alpha=0.25, c='b', linewidth=1.0)\n",
    "plt.yscale('log')\n",
    "plt.xlabel(\"Loss on validation partition (smaller is better)\")\n",
    "plt.ylabel(\"Complexity (smaller is better)\")"
   ]
  },
  {
   "cell_type": "markdown",
   "metadata": {},
   "source": [
    "# (advanced) Interactive plot of archive"
   ]
  },
  {
   "cell_type": "code",
   "execution_count": 12,
   "metadata": {},
   "outputs": [],
   "source": [
    "# TODO"
   ]
  }
 ],
 "metadata": {
  "kernelspec": {
   "display_name": "brush",
   "language": "python",
   "name": "python3"
  },
  "language_info": {
   "codemirror_mode": {
    "name": "ipython",
    "version": 3
   },
   "file_extension": ".py",
   "mimetype": "text/x-python",
   "name": "python",
   "nbconvert_exporter": "python",
   "pygments_lexer": "ipython3",
   "version": "3.12.2"
  }
 },
 "nbformat": 4,
 "nbformat_minor": 2
}
