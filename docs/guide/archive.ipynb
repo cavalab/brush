{
 "cells": [
  {
   "cell_type": "markdown",
   "metadata": {},
   "source": [
    "# The archive\n",
    "\n",
    "When you fit a brush estimator, two new attributes are created: `best_estimator_` and `archive_`.\n",
    "\n",
    "If you set `use_arch` to `True` when instantiating the estimator, then it will store the pareto front as a list in `archive_`. This pareto front is always created with individuals from the final population that are not dominated in objectives **error** and **complexity**.\n",
    "\n",
    "In case you need more flexibility, the archive will contain the entire final population if `use_arch` is `False`, and you can iterate through this list to select individuals with different criteria. It is also good to remind that Brush supports different optimization objectives using the argument `objectives`.\n",
    "\n",
    "Each element from the archive is a serialized individual (JSON object)."
   ]
  },
  {
   "cell_type": "code",
   "execution_count": 1,
   "metadata": {},
   "outputs": [],
   "source": [
    "import pandas as pd\n",
    "from pybrush import BrushClassifier\n",
    "\n",
    "# load data\n",
    "df = pd.read_csv('../examples/datasets/d_analcatdata_aids.csv')\n",
    "X = df.drop(columns='target')\n",
    "y = df['target']"
   ]
  },
  {
   "cell_type": "code",
   "execution_count": 2,
   "metadata": {},
   "outputs": [
    {
     "name": "stdout",
     "output_type": "stream",
     "text": [
      "Completed 100% [====================]\n",
      "Best model: Logistic(Sum(-22.89,9.24*Median(Logabs(Median(-0.05*AIDS,300.97,-2.37*AIDS,0.64*AIDS)),-1.68*Cos(1.00*Total))))\n",
      "score: 0.88\n"
     ]
    }
   ],
   "source": [
    "est = BrushClassifier(\n",
    "    # functions=['SplitBest','Add','Mul','Sin','Cos','Exp','Logabs'],\n",
    "    use_arch=True,\n",
    "    objectives=[\"error\", \"linear_complexity\"],\n",
    "    scorer='balanced_accuracy', # brush implements several metrics for clf and reg!\n",
    "    max_gens=100,\n",
    "    pop_size=100,\n",
    "    max_depth=10,\n",
    "    max_size=100,\n",
    "    verbosity=1\n",
    ")\n",
    "\n",
    "est.fit(X,y)\n",
    "\n",
    "print(\"Best model:\", est.best_estimator_.get_model())\n",
    "print('score:', est.score(X,y))"
   ]
  },
  {
   "cell_type": "markdown",
   "metadata": {},
   "source": [
    "You can see individuals from archive using the index:"
   ]
  },
  {
   "cell_type": "code",
   "execution_count": 3,
   "metadata": {},
   "outputs": [
    {
     "name": "stdout",
     "output_type": "stream",
     "text": [
      "7\n"
     ]
    },
    {
     "data": {
      "text/plain": [
       "{'fitness': {'complexity': 80,\n",
       "  'crowding_dist': 0.0,\n",
       "  'dcounter': 0,\n",
       "  'depth': 3,\n",
       "  'dominated': [],\n",
       "  'linear_complexity': 14,\n",
       "  'loss': 0.5,\n",
       "  'loss_v': 0.5,\n",
       "  'rank': 1,\n",
       "  'size': 5,\n",
       "  'values': [0.5, 14.0],\n",
       "  'weights': [1.0, -1.0],\n",
       "  'wvalues': [0.5, -14.0]},\n",
       " 'id': 224,\n",
       " 'is_fitted_': False,\n",
       " 'objectives': ['balanced_accuracy', 'linear_complexity'],\n",
       " 'parent_id': [249],\n",
       " 'program': {'Tree': [{'W': 1.0,\n",
       "    'arg_types': ['ArrayF'],\n",
       "    'center_op': True,\n",
       "    'feature': '',\n",
       "    'fixed': True,\n",
       "    'is_weighted': False,\n",
       "    'name': 'Logistic',\n",
       "    'node_type': 'Logistic',\n",
       "    'prob_change': 0.0,\n",
       "    'ret_type': 'ArrayF',\n",
       "    'sig_dual_hash': 10617925524997611780,\n",
       "    'sig_hash': 13326223354425868050},\n",
       "   {'W': 2.3819211492082104e-07,\n",
       "    'arg_types': ['ArrayF'],\n",
       "    'center_op': True,\n",
       "    'feature': '',\n",
       "    'fixed': True,\n",
       "    'is_weighted': True,\n",
       "    'name': 'OffsetSum',\n",
       "    'node_type': 'OffsetSum',\n",
       "    'prob_change': 0.0,\n",
       "    'ret_type': 'ArrayF',\n",
       "    'sig_dual_hash': 10617925524997611780,\n",
       "    'sig_hash': 13326223354425868050},\n",
       "   {'W': 0.0,\n",
       "    'arg_types': [],\n",
       "    'center_op': True,\n",
       "    'feature': 'MeanLabel',\n",
       "    'fixed': False,\n",
       "    'is_weighted': True,\n",
       "    'name': 'MeanLabel',\n",
       "    'node_type': 'MeanLabel',\n",
       "    'prob_change': 0.19857122004032135,\n",
       "    'ret_type': 'ArrayF',\n",
       "    'sig_dual_hash': 509529941281334733,\n",
       "    'sig_hash': 17717457037689164349}],\n",
       "  'is_fitted_': True},\n",
       " 'variation': 'delete'}"
      ]
     },
     "execution_count": 3,
     "metadata": {},
     "output_type": "execute_result"
    }
   ],
   "source": [
    "print(len(est.archive_[0]))\n",
    "\n",
    "est.archive_[0]"
   ]
  },
  {
   "cell_type": "markdown",
   "metadata": {},
   "source": [
    "And you can call `predict` (or `predict_proba`, if your `est` is an instance of `BrushClassifier`) with the entire archive:"
   ]
  },
  {
   "cell_type": "code",
   "execution_count": 4,
   "metadata": {},
   "outputs": [
    {
     "data": {
      "text/plain": [
       "[{'id': 224,\n",
       "  'y_pred': array([ True,  True,  True,  True,  True,  True,  True,  True,  True,\n",
       "          True,  True,  True,  True,  True,  True,  True,  True,  True,\n",
       "          True,  True,  True,  True,  True,  True,  True,  True,  True,\n",
       "          True,  True,  True,  True,  True,  True,  True,  True,  True,\n",
       "          True,  True,  True,  True,  True,  True,  True,  True,  True,\n",
       "          True,  True,  True,  True,  True])},\n",
       " {'id': 267,\n",
       "  'y_pred': array([ True,  True,  True,  True,  True,  True,  True,  True,  True,\n",
       "          True,  True,  True,  True,  True,  True,  True,  True,  True,\n",
       "          True,  True,  True,  True,  True,  True,  True,  True,  True,\n",
       "          True,  True,  True,  True,  True,  True,  True,  True,  True,\n",
       "          True,  True,  True,  True,  True,  True,  True,  True,  True,\n",
       "          True,  True,  True, False, False])},\n",
       " {'id': 253,\n",
       "  'y_pred': array([ True,  True,  True,  True,  True,  True,  True,  True,  True,\n",
       "          True,  True,  True,  True,  True,  True, False,  True,  True,\n",
       "          True,  True, False,  True,  True,  True, False,  True,  True,\n",
       "          True,  True,  True,  True,  True,  True,  True,  True,  True,\n",
       "          True,  True,  True,  True, False, False, False, False, False,\n",
       "         False, False, False, False, False])},\n",
       " {'id': 248,\n",
       "  'y_pred': array([False,  True,  True,  True,  True, False,  True,  True,  True,\n",
       "          True, False,  True,  True,  True, False, False, False, False,\n",
       "         False, False, False, False, False, False, False, False, False,\n",
       "         False, False, False, False,  True,  True, False, False, False,\n",
       "         False, False, False, False, False, False, False, False, False,\n",
       "         False, False, False, False, False])},\n",
       " {'id': 221,\n",
       "  'y_pred': array([ True,  True,  True,  True,  True,  True,  True,  True,  True,\n",
       "          True,  True,  True,  True, False,  True, False,  True,  True,\n",
       "          True,  True, False,  True,  True, False, False,  True, False,\n",
       "         False, False, False, False, False, False, False, False, False,\n",
       "         False, False, False, False, False, False, False, False, False,\n",
       "         False, False, False, False, False])},\n",
       " {'id': 268,\n",
       "  'y_pred': array([ True, False, False,  True,  True,  True,  True,  True,  True,\n",
       "          True,  True,  True,  True, False,  True, False,  True,  True,\n",
       "          True,  True, False,  True,  True, False, False,  True, False,\n",
       "          True, False, False, False, False, False,  True, False, False,\n",
       "          True, False, False, False, False, False, False, False, False,\n",
       "         False, False, False, False, False])},\n",
       " {'id': 227,\n",
       "  'y_pred': array([ True,  True,  True,  True,  True,  True,  True,  True,  True,\n",
       "          True,  True,  True,  True, False,  True, False,  True,  True,\n",
       "          True,  True, False,  True,  True, False, False,  True, False,\n",
       "         False, False, False, False, False, False, False, False, False,\n",
       "         False, False, False, False, False, False, False,  True, False,\n",
       "         False,  True,  True, False, False])},\n",
       " {'id': 222,\n",
       "  'y_pred': array([ True,  True,  True,  True,  True,  True,  True,  True,  True,\n",
       "          True,  True,  True,  True, False,  True, False,  True,  True,\n",
       "          True,  True, False,  True,  True, False, False,  True, False,\n",
       "         False, False, False, False, False, False, False, False, False,\n",
       "         False, False, False, False, False, False, False, False, False,\n",
       "         False, False, False, False, False])}]"
      ]
     },
     "execution_count": 4,
     "metadata": {},
     "output_type": "execute_result"
    }
   ],
   "source": [
    "est.predict_archive(X)\n"
   ]
  },
  {
   "cell_type": "code",
   "execution_count": 5,
   "metadata": {},
   "outputs": [
    {
     "data": {
      "text/plain": [
       "[{'id': 224,\n",
       "  'y_pred': array([0.50000006, 0.50000006, 0.50000006, 0.50000006, 0.50000006,\n",
       "         0.50000006, 0.50000006, 0.50000006, 0.50000006, 0.50000006,\n",
       "         0.50000006, 0.50000006, 0.50000006, 0.50000006, 0.50000006,\n",
       "         0.50000006, 0.50000006, 0.50000006, 0.50000006, 0.50000006,\n",
       "         0.50000006, 0.50000006, 0.50000006, 0.50000006, 0.50000006,\n",
       "         0.50000006, 0.50000006, 0.50000006, 0.50000006, 0.50000006,\n",
       "         0.50000006, 0.50000006, 0.50000006, 0.50000006, 0.50000006,\n",
       "         0.50000006, 0.50000006, 0.50000006, 0.50000006, 0.50000006,\n",
       "         0.50000006, 0.50000006, 0.50000006, 0.50000006, 0.50000006,\n",
       "         0.50000006, 0.50000006, 0.50000006, 0.50000006, 0.50000006],\n",
       "        dtype=float32)},\n",
       " {'id': 267,\n",
       "  'y_pred': array([0.50000006, 0.50000006, 0.50000006, 0.50000006, 0.50000006,\n",
       "         0.50000006, 0.50000006, 0.50000006, 0.50000006, 0.50000006,\n",
       "         0.50000006, 0.50000006, 0.50000006, 0.50000006, 0.50000006,\n",
       "         0.50000006, 0.50000006, 0.50000006, 0.50000006, 0.50000006,\n",
       "         0.50000006, 0.50000006, 0.50000006, 0.50000006, 0.50000006,\n",
       "         0.50000006, 0.50000006, 0.50000006, 0.50000006, 0.50000006,\n",
       "         0.50000006, 0.50000006, 0.50000006, 0.50000006, 0.50000006,\n",
       "         0.50000006, 0.50000006, 0.50000006, 0.50000006, 0.50000006,\n",
       "         0.50000006, 0.50000006, 0.50000006, 0.50000006, 0.50000006,\n",
       "         0.50000006, 0.50000006, 0.50000006, 0.5       , 0.5       ],\n",
       "        dtype=float32)},\n",
       " {'id': 253,\n",
       "  'y_pred': array([1.0000000e+00, 1.0000000e+00, 1.0000000e+00, 1.0000000e+00,\n",
       "         1.0000000e+00, 1.0000000e+00, 1.0000000e+00, 1.0000000e+00,\n",
       "         1.0000000e+00, 1.0000000e+00, 1.0000000e+00, 1.0000000e+00,\n",
       "         1.0000000e+00, 1.0000000e+00, 1.0000000e+00, 2.6460971e-33,\n",
       "         1.0000000e+00, 1.0000000e+00, 1.0000000e+00, 1.0000000e+00,\n",
       "         1.6258183e-38, 1.0000000e+00, 1.0000000e+00, 1.0000000e+00,\n",
       "         5.8284171e-29, 1.0000000e+00, 1.0000000e+00, 1.0000000e+00,\n",
       "         1.0000000e+00, 1.0000000e+00, 1.0000000e+00, 1.0000000e+00,\n",
       "         1.0000000e+00, 1.0000000e+00, 1.0000000e+00, 1.0000000e+00,\n",
       "         1.0000000e+00, 1.0000000e+00, 1.0000000e+00, 1.0000000e+00,\n",
       "         0.0000000e+00, 9.2439477e-14, 8.9999381e-04, 7.6866075e-20,\n",
       "         6.3916352e-26, 0.0000000e+00, 6.2285228e-16, 2.2913454e-16,\n",
       "         2.4129283e-36, 0.0000000e+00], dtype=float32)},\n",
       " {'id': 248,\n",
       "  'y_pred': array([0.40832677, 0.9819442 , 0.9980428 , 0.928524  , 0.6787221 ,\n",
       "         0.40700728, 0.9046033 , 0.97597414, 0.8015507 , 0.5645146 ,\n",
       "         0.3847164 , 0.7562814 , 0.8415178 , 0.58639634, 0.45129323,\n",
       "         0.3590986 , 0.37240747, 0.38078484, 0.36910453, 0.36330134,\n",
       "         0.35887   , 0.36583307, 0.3663518 , 0.36104453, 0.3592892 ,\n",
       "         0.36775598, 0.45363158, 0.46574306, 0.40029106, 0.39311814,\n",
       "         0.3872084 , 0.60689586, 0.6722796 , 0.47421923, 0.4079068 ,\n",
       "         0.36781374, 0.45100626, 0.46113142, 0.39616418, 0.37587774,\n",
       "         0.35848913, 0.3599565 , 0.36039537, 0.35968953, 0.35942262,\n",
       "         0.35843197, 0.35986114, 0.3598421 , 0.35896525, 0.35864148],\n",
       "        dtype=float32)},\n",
       " {'id': 221,\n",
       "  'y_pred': array([6.8455279e-01, 9.2507279e-01, 9.9996328e-01, 9.9973506e-01,\n",
       "         9.9024230e-01, 8.5053802e-01, 9.9984980e-01, 1.0000000e+00,\n",
       "         9.9999452e-01, 7.7767837e-01, 9.9764770e-01, 9.9723607e-01,\n",
       "         9.9877852e-01, 7.2055508e-04, 7.0307863e-01, 4.7335762e-09,\n",
       "         9.9908900e-01, 5.7893783e-01, 9.9937075e-01, 5.9488875e-01,\n",
       "         3.0134004e-03, 8.4708017e-01, 9.9627787e-01, 1.6721009e-05,\n",
       "         7.2612274e-06, 9.9185842e-01, 3.7416004e-05, 6.9725983e-02,\n",
       "         2.8134545e-02, 4.5516295e-04, 3.8685976e-04, 3.5228763e-02,\n",
       "         1.4636871e-01, 3.3729061e-04, 1.4915816e-04, 1.2030498e-02,\n",
       "         2.0874229e-01, 1.3627498e-07, 2.3267772e-03, 7.7272084e-04,\n",
       "         5.4220024e-09, 5.1101696e-02, 7.7349949e-07, 2.2291251e-01,\n",
       "         2.3547939e-03, 1.4433665e-10, 1.9185352e-01, 1.5476409e-01,\n",
       "         4.1295965e-03, 7.5339609e-05], dtype=float32)},\n",
       " {'id': 268,\n",
       "  'y_pred': array([9.9999797e-01, 1.1734376e-10, 2.6598217e-02, 9.6509117e-01,\n",
       "         9.9989510e-01, 9.9999988e-01, 9.9927419e-01, 1.0000000e+00,\n",
       "         1.0000000e+00, 9.9998999e-01, 1.0000000e+00, 9.9946362e-01,\n",
       "         9.8989546e-01, 8.5127588e-10, 1.0000000e+00, 5.4980208e-29,\n",
       "         1.0000000e+00, 9.9793398e-01, 1.0000000e+00, 9.8695600e-01,\n",
       "         1.4879044e-09, 9.9992442e-01, 1.0000000e+00, 4.8135617e-16,\n",
       "         5.1401169e-18, 1.0000000e+00, 5.3432811e-04, 1.0000000e+00,\n",
       "         3.5330553e-02, 6.7545516e-09, 1.3135318e-09, 3.1581141e-05,\n",
       "         6.5718741e-06, 1.0000000e+00, 3.2985175e-09, 6.8101413e-06,\n",
       "         1.0000000e+00, 9.0349983e-10, 3.1027819e-06, 2.0427045e-09,\n",
       "         4.5713031e-30, 1.6649633e-04, 9.1373351e-21, 3.4881912e-02,\n",
       "         2.1275635e-09, 6.8615321e-36, 2.2609465e-02, 9.3014184e-03,\n",
       "         5.7613416e-09, 2.0117196e-15], dtype=float32)},\n",
       " {'id': 227,\n",
       "  'y_pred': array([6.8455279e-01, 9.2507279e-01, 9.9996328e-01, 9.9973506e-01,\n",
       "         9.9024230e-01, 8.5053802e-01, 9.9984980e-01, 1.0000000e+00,\n",
       "         9.9999452e-01, 7.7767837e-01, 9.9764770e-01, 9.9723607e-01,\n",
       "         9.9877852e-01, 7.2055508e-04, 7.0307863e-01, 4.2825782e-08,\n",
       "         9.9908900e-01, 5.7893783e-01, 9.9937075e-01, 9.2999882e-01,\n",
       "         2.6617436e-02, 9.3360871e-01, 9.9795341e-01, 1.5125872e-04,\n",
       "         6.5690205e-05, 9.9185842e-01, 3.7416004e-05, 6.9725983e-02,\n",
       "         2.8134545e-02, 4.5516295e-04, 3.8685976e-04, 3.5228763e-02,\n",
       "         1.4636871e-01, 3.3729061e-04, 1.4915816e-04, 1.2030498e-02,\n",
       "         2.0874229e-01, 1.3627498e-07, 2.3267772e-03, 7.7272084e-04,\n",
       "         4.9054137e-08, 3.2760739e-01, 6.9979833e-06, 7.2185576e-01,\n",
       "         2.0908177e-02, 1.3058479e-09, 6.8231910e-01, 6.2357342e-01,\n",
       "         3.6159780e-02, 6.8120228e-04], dtype=float32)},\n",
       " {'id': 222,\n",
       "  'y_pred': array([9.7539186e-01, 9.9999821e-01, 1.0000000e+00, 1.0000000e+00,\n",
       "         1.0000000e+00, 9.9906200e-01, 1.0000000e+00, 1.0000000e+00,\n",
       "         1.0000000e+00, 9.9015218e-01, 1.0000000e+00, 1.0000000e+00,\n",
       "         1.0000000e+00, 4.9898453e-11, 9.6422809e-01, 1.4846121e-29,\n",
       "         1.0000000e+00, 9.2548394e-01, 1.0000000e+00, 9.5333952e-01,\n",
       "         4.0177536e-10, 9.9972028e-01, 1.0000000e+00, 1.2997899e-16,\n",
       "         1.3879791e-18, 1.0000000e+00, 1.3607823e-15, 2.9250901e-04,\n",
       "         1.9478646e-05, 1.6441272e-11, 1.0263715e-11, 4.2740627e-05,\n",
       "         1.7812129e-02, 8.1753382e-11, 3.0035227e-13, 1.5821930e-06,\n",
       "         1.5539562e-02, 7.6648076e-24, 4.0193804e-09, 1.2441673e-10,\n",
       "         1.2343736e-30, 4.4964254e-05, 2.4673334e-21, 9.6650757e-03,\n",
       "         5.7450322e-10, 1.8527966e-36, 6.2075639e-03, 2.5288009e-03,\n",
       "         1.5557218e-09, 5.4321996e-16], dtype=float32)}]"
      ]
     },
     "execution_count": 5,
     "metadata": {},
     "output_type": "execute_result"
    }
   ],
   "source": [
    "est.predict_proba_archive(X)"
   ]
  },
  {
   "cell_type": "markdown",
   "metadata": {},
   "source": [
    "## Loading a specific model from archive\n",
    "\n",
    "We have a static class method called `from_json` which let's you easily the string representation of the json from the archive to load an individual."
   ]
  },
  {
   "cell_type": "code",
   "execution_count": 6,
   "metadata": {},
   "outputs": [],
   "source": [
    "from pybrush import individual\n",
    "\n",
    "loaded_from_arch = individual.ClassifierIndividual.from_json(est.archive_[-1])"
   ]
  },
  {
   "cell_type": "code",
   "execution_count": 7,
   "metadata": {},
   "outputs": [
    {
     "name": "stdout",
     "output_type": "stream",
     "text": [
      "Logistic(Sum(-71.38,34.56*Mean(Logabs(1.00*Median(-0.02*AIDS,145.33,-2.37*AIDS,0.33*AIDS)),-1.52*Cos(1.00*Total))))\n",
      "Fitness(0.880000 87.000000 )\n"
     ]
    }
   ],
   "source": [
    "print(loaded_from_arch.get_model())\n",
    "print(loaded_from_arch.fitness)"
   ]
  },
  {
   "cell_type": "markdown",
   "metadata": {},
   "source": [
    "To use this loaded model to do predictions, you need to wrap the data into a Dataset:"
   ]
  },
  {
   "cell_type": "code",
   "execution_count": 8,
   "metadata": {},
   "outputs": [
    {
     "data": {
      "text/plain": [
       "array([ True,  True,  True,  True,  True,  True,  True,  True,  True,\n",
       "        True,  True,  True,  True, False,  True, False,  True,  True,\n",
       "        True,  True, False,  True,  True, False, False,  True, False,\n",
       "       False, False, False, False, False, False, False, False, False,\n",
       "       False, False, False, False, False, False, False, False, False,\n",
       "       False, False, False, False, False])"
      ]
     },
     "execution_count": 8,
     "metadata": {},
     "output_type": "execute_result"
    }
   ],
   "source": [
    "from pybrush import Dataset\n",
    "\n",
    "loaded_from_arch.predict(Dataset(X=X, ref_dataset=est.data_, \n",
    "                              feature_names=est.feature_names_))"
   ]
  },
  {
   "cell_type": "markdown",
   "metadata": {},
   "source": [
    "## Visualizing the Pareto front of the archive"
   ]
  },
  {
   "cell_type": "code",
   "execution_count": 9,
   "metadata": {},
   "outputs": [
    {
     "name": "stdout",
     "output_type": "stream",
     "text": [
      "8\n"
     ]
    },
    {
     "data": {
      "text/plain": [
       "Text(0, 0.5, 'Complexity (smaller is better)')"
      ]
     },
     "execution_count": 9,
     "metadata": {},
     "output_type": "execute_result"
    },
    {
     "data": {
      "image/png": "[encoded data removed]",
      "text/plain": [
       "<Figure size 640x480 with 1 Axes>"
      ]
     },
     "metadata": {},
     "output_type": "display_data"
    }
   ],
   "source": [
    "import matplotlib.pyplot as plt\n",
    "\n",
    "xs, ys = [], []\n",
    "for ind in est.archive_:\n",
    "    # We should look at the same objectives to get a valid pareto front\n",
    "    xs.append(ind['fitness']['loss_v'])\n",
    "    ys.append(ind['fitness']['complexity'])\n",
    "\n",
    "print(len(xs))\n",
    "plt.scatter(xs, ys, alpha=0.25, c='b', linewidth=1.0)\n",
    "plt.xlabel(\"Loss on validation partition (smaller is better)\")\n",
    "plt.ylabel(\"Complexity (smaller is better)\")"
   ]
  },
  {
   "cell_type": "markdown",
   "metadata": {},
   "source": [
    "## Storing the population (unique individuals)\n",
    "\n",
    "If not using archive, then the unique individuals from the final population will be stored. Notice that, while the archive contains only the Pareto front (when `use_arch=True`), this will contain all individuals, even dominated ones."
   ]
  },
  {
   "cell_type": "code",
   "execution_count": 10,
   "metadata": {},
   "outputs": [
    {
     "name": "stdout",
     "output_type": "stream",
     "text": [
      "Completed 100% [====================]\n",
      "saving final population as archive...\n",
      "Best model: Logistic(Sum(-0.45,If(AIDS>15890.50,8.96,0.00)))\n",
      "score: 0.68\n"
     ]
    }
   ],
   "source": [
    "est = BrushClassifier(\n",
    "    # functions=['SplitBest','Add','Mul','Sin','Cos','Exp','Logabs'],\n",
    "    use_arch=False,\n",
    "    objectives=[\"error\", \"complexity\"],\n",
    "    max_gens=5,\n",
    "    pop_size=200,\n",
    "    verbosity=1\n",
    ")\n",
    "\n",
    "est.fit(X,y)\n",
    "\n",
    "print(\"Best model:\", est.best_estimator_.get_model())\n",
    "print('score:', est.score(X,y))"
   ]
  },
  {
   "cell_type": "code",
   "execution_count": 11,
   "metadata": {},
   "outputs": [
    {
     "name": "stdout",
     "output_type": "stream",
     "text": [
      "3\n"
     ]
    },
    {
     "data": {
      "text/plain": [
       "Text(0, 0.5, 'Complexity (smaller is better)')"
      ]
     },
     "execution_count": 11,
     "metadata": {},
     "output_type": "execute_result"
    },
    {
     "data": {
      "image/png": "[encoded data removed]",
      "text/plain": [
       "<Figure size 640x480 with 1 Axes>"
      ]
     },
     "metadata": {},
     "output_type": "display_data"
    }
   ],
   "source": [
    "xs, ys = [], []\n",
    "for ind in est.archive_:\n",
    "    xs.append(ind['fitness']['loss_v'])\n",
    "    ys.append(ind['fitness']['complexity'])\n",
    "\n",
    "print(len(xs))\n",
    "plt.scatter(xs, ys, alpha=0.25, c='b', linewidth=1.0)\n",
    "plt.xlabel(\"Loss on validation partition (smaller is better)\")\n",
    "plt.ylabel(\"Complexity (smaller is better)\")"
   ]
  }
 ],
 "metadata": {
  "kernelspec": {
   "display_name": "brush",
   "language": "python",
   "name": "python3"
  },
  "language_info": {
   "codemirror_mode": {
    "name": "ipython",
    "version": 3
   },
   "file_extension": ".py",
   "mimetype": "text/x-python",
   "name": "python",
   "nbconvert_exporter": "python",
   "pygments_lexer": "ipython3",
   "version": "3.12.2"
  }
 },
 "nbformat": 4,
 "nbformat_minor": 2
}
