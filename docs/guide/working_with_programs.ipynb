{
 "cells": [
  {
   "cell_type": "markdown",
   "id": "e9776d12",
   "metadata": {},
   "source": [
    "# Working with Programs\n",
    "\n",
    "In Brush, a *Program* is an executable data structure. \n",
    "You may think of it as a *model* or a *function* mapping feature inputs to data labels. \n",
    "We call them programs because that's what they are: executable data structures,  \n",
    "and that is what they are called in the genetic algorithm literature, to distinguish them from optimizing bits or strings. \n",
    "\n",
    "The Brush Program class operates similarly to a [sklearn](scikit-learn.org) estimator: it has `fit` and `predict` methods that are called in during training or inference, respectively. \n",
    "\n",
    "\n",
    "## Types of Programs \n",
    "\n",
    "There are four fundamental \"types\" of Brush programs:\n",
    "\n",
    "- **Regressors**: map inputs to a continous endpoint \n",
    "- **Binary Classifiers**: map inputs to a binary endpoint, as well as a continuous value in $[0, 1]$  \n",
    "- **Multi-class Classifiers**: map inputs to a category\n",
    "    - Under development\n",
    "- **Representors**: map inputs to a lower dimensional space. \n",
    "    - Under development\n",
    "\n",
    "## Representation \n",
    "\n",
    "Internally, the programs are represented as syntax trees. \n",
    "We use the [tree.hh tree class](https://github.com/kpeeters/tree.hh) which gives trees an STL-like feel. \n",
    "\n",
    "\n",
    "\n",
    "## Generation\n",
    "\n",
    "We generate random programs using Sean Luke's PTC2 algorithm.  \n",
    "\n",
    "\n",
    "## Evaluation\n",
    "\n",
    "TODO\n",
    "\n",
    "\n"
   ]
  },
  {
   "cell_type": "markdown",
   "id": "8c258669",
   "metadata": {},
   "source": [
    "## Visualizing Programs\n",
    "\n",
    "Programs in Brush are symbolic tree structures, and can be viewed in a few ways: \n",
    "\n",
    "\n",
    "1. As a string using `get_model()`\n",
    "2. As a string-like tree using `get_model(\"tree\")`\n",
    "2. As a graph using `graphviz` and `get_model(\"dot\")`. \n",
    "\n",
    "Let's look at a regresion example."
   ]
  },
  {
   "cell_type": "code",
   "execution_count": 1,
   "id": "102e3fcb",
   "metadata": {
    "tags": [
     "remove-output"
    ]
   },
   "outputs": [],
   "source": [
    "import pandas as pd\n",
    "from pybrush import BrushRegressor\n",
    "\n",
    "# load data\n",
    "df = pd.read_csv('../examples/datasets/d_enc.csv')\n",
    "X = df.drop(columns='label')\n",
    "y = df['label']"
   ]
  },
  {
   "cell_type": "code",
   "execution_count": 2,
   "id": "ac39c9ca",
   "metadata": {},
   "outputs": [
    {
     "name": "stdout",
     "output_type": "stream",
     "text": [
      "Completed 100% [====================]\n",
      "saving final population as archive...\n",
      "score: 0.8864496494920485\n"
     ]
    }
   ],
   "source": [
    "# import and make a regressor\n",
    "est = BrushRegressor(\n",
    "    functions=['SplitBest','Add','Mul','Sin','Cos','Exp','Logabs'],\n",
    "    verbosity=1 # set verbosity==1 to see a progress bar\n",
    ")\n",
    "\n",
    "# use like you would a sklearn regressor\n",
    "est.fit(X,y)\n",
    "y_pred = est.predict(X)\n",
    "print('score:', est.score(X,y))"
   ]
  },
  {
   "cell_type": "markdown",
   "id": "5bbd24cd",
   "metadata": {},
   "source": [
    "You can see the fitness of the final individual by accessing the `fitness` attribute. Each fitness value corresponds to the objective of same index defined earlier for the `BrushRegressor` class. By default, it will try to minimize `\"error\"` and `\"size\"`."
   ]
  },
  {
   "cell_type": "code",
   "execution_count": 3,
   "id": "166415c2",
   "metadata": {},
   "outputs": [
    {
     "name": "stdout",
     "output_type": "stream",
     "text": [
      "Fitness(10.263265 19.000000 )\n",
      "['error', 'size']\n"
     ]
    }
   ],
   "source": [
    "print(est.best_estimator_.fitness)\n",
    "print(est.objectives)"
   ]
  },
  {
   "cell_type": "markdown",
   "id": "38b6364e",
   "metadata": {},
   "source": [
    "A `fitness` in Brush is actually more than a tuple. It is a class that has all boolean comparison operators overloaded to allow an ease of use when prototyping with Brush.\n",
    "\n",
    "It also infers the weight of each objective to automatically handle minimization or maximization objetives.\n",
    "\n",
    "To see the weights, you can try:"
   ]
  },
  {
   "cell_type": "code",
   "execution_count": 4,
   "id": "13d0ac5f",
   "metadata": {},
   "outputs": [
    {
     "data": {
      "text/plain": [
       "[-1.0, -1.0]"
      ]
     },
     "execution_count": 4,
     "metadata": {},
     "output_type": "execute_result"
    }
   ],
   "source": [
    "est.best_estimator_.fitness.weights"
   ]
  },
  {
   "cell_type": "markdown",
   "id": "2fc9fe80",
   "metadata": {},
   "source": [
    "Other information of the best estimator can also be accessed through its fitness attribute:"
   ]
  },
  {
   "cell_type": "code",
   "execution_count": 5,
   "id": "de5255e7",
   "metadata": {},
   "outputs": [
    {
     "name": "stdout",
     "output_type": "stream",
     "text": [
      "19\n",
      "5832\n",
      "3\n"
     ]
    }
   ],
   "source": [
    "print(est.best_estimator_.fitness.size)\n",
    "print(est.best_estimator_.fitness.complexity)\n",
    "print(est.best_estimator_.fitness.depth)"
   ]
  },
  {
   "cell_type": "markdown",
   "id": "fe594691",
   "metadata": {},
   "source": [
    "## Serialization \n",
    "\n",
    "Brush let's you serialize the entire individual, or just the program or fitness it wraps. It uses JSON to serialize the objects, and this is implemented with the get and set states of an object:"
   ]
  },
  {
   "cell_type": "code",
   "execution_count": 6,
   "id": "b01ab1fa",
   "metadata": {},
   "outputs": [
    {
     "name": "stdout",
     "output_type": "stream",
     "text": [
      "fitness {'complexity': 5832, 'crowding_dist': 3.4028234663852886e+38, 'dcounter': 0, 'depth': 3, 'dominated': [63, 64, 87, 99, 116, 157], 'linear_complexity': 39, 'loss': 10.263264656066895, 'loss_v': 10.263264656066895, 'rank': 1, 'size': 19, 'values': [10.263264656066895, 19.0], 'weights': [-1.0, -1.0], 'wvalues': [-10.263264656066895, -19.0]}\n",
      "id 233\n",
      "objectives ['mse', 'size']\n",
      "parent_id [280, 268]\n",
      "program {'Tree': [{'W': 0.75, 'arg_types': ['ArrayF', 'ArrayF'], 'center_op': True, 'feature': 'x0', 'fixed': False, 'is_weighted': True, 'name': 'SplitBest', 'node_type': 'SplitBest', 'prob_change': 1.0, 'ret_type': 'ArrayF', 'sig_dual_hash': 9996486434638833164, 'sig_hash': 10001460114883919497}, {'W': 0.8050000071525574, 'arg_types': ['ArrayF', 'ArrayF'], 'center_op': True, 'feature': 'x0', 'fixed': False, 'is_weighted': True, 'name': 'SplitBest', 'node_type': 'SplitBest', 'prob_change': 1.0, 'ret_type': 'ArrayF', 'sig_dual_hash': 9996486434638833164, 'sig_hash': 10001460114883919497}, {'W': 30.494491577148438, 'arg_types': [], 'center_op': True, 'feature': 'MeanLabel', 'fixed': False, 'is_weighted': True, 'name': 'MeanLabel', 'node_type': 'MeanLabel', 'prob_change': 0.6167147755622864, 'ret_type': 'ArrayF', 'sig_dual_hash': 509529941281334733, 'sig_hash': 17717457037689164349}, {'W': 49.47871398925781, 'arg_types': [], 'center_op': False, 'feature': 'x0', 'fixed': False, 'is_weighted': True, 'name': 'Terminal', 'node_type': 'Terminal', 'prob_change': 0.6343384981155396, 'ret_type': 'ArrayF', 'sig_dual_hash': 509529941281334733, 'sig_hash': 17717457037689164349}, {'W': 0.02150718681514263, 'arg_types': [], 'center_op': False, 'feature': 'x1', 'fixed': False, 'is_weighted': True, 'name': 'Terminal', 'node_type': 'Terminal', 'prob_change': 0.6729995608329773, 'ret_type': 'ArrayF', 'sig_dual_hash': 509529941281334733, 'sig_hash': 17717457037689164349}], 'is_fitted_': True}\n",
      "variation cx\n"
     ]
    }
   ],
   "source": [
    "estimator_dict = est.best_estimator_.__getstate__()\n",
    "\n",
    "for k, v in estimator_dict.items():\n",
    "    print(k, v)"
   ]
  },
  {
   "cell_type": "markdown",
   "id": "6bcb071b",
   "metadata": {},
   "source": [
    "With serialization, you can use pickle to save and load just programs or even the entire individual."
   ]
  },
  {
   "cell_type": "code",
   "execution_count": 7,
   "id": "b4537631",
   "metadata": {},
   "outputs": [],
   "source": [
    "import pickle\n",
    "import os, tempfile\n",
    "\n",
    "individual_file = os.path.join(tempfile.mkdtemp(), 'individual.json')\n",
    "with open(individual_file, \"wb\") as f:\n",
    "    pickle.dump(est.best_estimator_, f)\n",
    "\n",
    "program_file = os.path.join(tempfile.mkdtemp(), 'program.json')\n",
    "with open(program_file, \"wb\") as f:\n",
    "    pickle.dump(est.best_estimator_.program, f)"
   ]
  },
  {
   "cell_type": "markdown",
   "id": "fff5693d",
   "metadata": {},
   "source": [
    "Then we can load it later with:"
   ]
  },
  {
   "cell_type": "code",
   "execution_count": 8,
   "id": "ee7a20c6",
   "metadata": {},
   "outputs": [
    {
     "name": "stdout",
     "output_type": "stream",
     "text": [
      "If(x0>0.75,If(x0>0.81,30.49 (MeanLabel),49.48*x0),0.02*x1)\n"
     ]
    }
   ],
   "source": [
    "with open(individual_file, \"rb\") as f:\n",
    "    loaded_estimator = pickle.load(f)\n",
    "    print(loaded_estimator.get_model())"
   ]
  },
  {
   "cell_type": "markdown",
   "id": "a355d8f3",
   "metadata": {},
   "source": [
    "### String\n",
    "\n",
    "Now that we have trained a model, `est.best_estimator_` contains our symbolic model. \n",
    "We can view it as a string:"
   ]
  },
  {
   "cell_type": "code",
   "execution_count": 9,
   "id": "316964d5",
   "metadata": {},
   "outputs": [
    {
     "name": "stdout",
     "output_type": "stream",
     "text": [
      "If(x0>0.75,If(x0>0.81,30.49 (MeanLabel),49.48*x0),0.02*x1)\n"
     ]
    }
   ],
   "source": [
    "print(est.best_estimator_.get_model())"
   ]
  },
  {
   "cell_type": "markdown",
   "id": "e7d578bb",
   "metadata": {},
   "source": [
    "### Quick Little Tree\n",
    "\n",
    "Or, we can view it as a compact tree:"
   ]
  },
  {
   "cell_type": "code",
   "execution_count": 10,
   "id": "dad68d01",
   "metadata": {},
   "outputs": [
    {
     "name": "stdout",
     "output_type": "stream",
     "text": [
      "0.75*SplitBest\n",
      "|-0.81*SplitBest\n",
      "  |-30.49 (MeanLabel)\n",
      "  |-49.48*x0\n",
      "|-0.02*x1\n"
     ]
    }
   ],
   "source": [
    "print(est.best_estimator_.get_model(\"tree\"))"
   ]
  },
  {
   "cell_type": "markdown",
   "id": "90068143",
   "metadata": {},
   "source": [
    "### GraphViz\n",
    "\n",
    "If we are feeling fancy 🎩, we can also view it as a graph in dot format. \n",
    "Let's import graphviz and make a nicer plot."
   ]
  },
  {
   "cell_type": "code",
   "execution_count": 11,
   "id": "3ef1a735",
   "metadata": {},
   "outputs": [
    {
     "data": {
      "image/svg+xml": [
       "<?xml version=\"1.0\" encoding=\"UTF-8\" standalone=\"no\"?>\n",
       "<!DOCTYPE svg PUBLIC \"-//W3C//DTD SVG 1.1//EN\"\n",
       " \"http://www.w3.org/Graphics/SVG/1.1/DTD/svg11.dtd\">\n",
       "<!-- Generated by graphviz version 9.0.0 (20231125.0833)\n",
       " -->\n",
       "<!-- Title: G Pages: 1 -->\n",
       "<svg width=\"325pt\" height=\"279pt\"\n",
       " viewBox=\"0.00 0.00 325.50 279.25\" xmlns=\"http://www.w3.org/2000/svg\" xmlns:xlink=\"http://www.w3.org/1999/xlink\">\n",
       "<g id=\"graph0\" class=\"graph\" transform=\"scale(1 1) rotate(0) translate(4 275.25)\">\n",
       "<title>G</title>\n",
       "<polygon fill=\"white\" stroke=\"none\" points=\"-4,4 -4,-275.25 321.5,-275.25 321.5,4 -4,4\"/>\n",
       "<!-- y -->\n",
       "<g id=\"node1\" class=\"node\">\n",
       "<title>y</title>\n",
       "<polygon fill=\"none\" stroke=\"black\" points=\"285.4,-271.25 231.4,-271.25 231.4,-235.25 285.4,-235.25 285.4,-271.25\"/>\n",
       "<text text-anchor=\"middle\" x=\"258.4\" y=\"-248.57\" font-family=\"Times,serif\" font-size=\"14.00\">y</text>\n",
       "</g>\n",
       "<!-- 7ff0540fad00 -->\n",
       "<g id=\"node2\" class=\"node\">\n",
       "<title>7ff0540fad00</title>\n",
       "<ellipse fill=\"none\" stroke=\"black\" cx=\"258.4\" cy=\"-164\" rx=\"59.1\" ry=\"18\"/>\n",
       "<text text-anchor=\"middle\" x=\"258.4\" y=\"-159.32\" font-family=\"Times,serif\" font-size=\"14.00\">x0&gt;0.75?</text>\n",
       "</g>\n",
       "<!-- y&#45;&gt;7ff0540fad00 -->\n",
       "<g id=\"edge1\" class=\"edge\">\n",
       "<title>y&#45;&gt;7ff0540fad00</title>\n",
       "<path fill=\"none\" stroke=\"black\" d=\"M258.4,-235.01C258.4,-223.18 258.4,-207.2 258.4,-193.5\"/>\n",
       "<polygon fill=\"black\" stroke=\"black\" points=\"261.9,-193.72 258.4,-183.72 254.9,-193.72 261.9,-193.72\"/>\n",
       "<text text-anchor=\"middle\" x=\"274.15\" y=\"-203.95\" font-family=\"Times,serif\" font-size=\"14.00\">0.75</text>\n",
       "</g>\n",
       "<!-- 7ff0540d6030 -->\n",
       "<g id=\"node3\" class=\"node\">\n",
       "<title>7ff0540d6030</title>\n",
       "<ellipse fill=\"none\" stroke=\"black\" cx=\"180.4\" cy=\"-91\" rx=\"59.1\" ry=\"18\"/>\n",
       "<text text-anchor=\"middle\" x=\"180.4\" y=\"-86.33\" font-family=\"Times,serif\" font-size=\"14.00\">x0&gt;0.81?</text>\n",
       "</g>\n",
       "<!-- 7ff0540fad00&#45;&gt;7ff0540d6030 -->\n",
       "<g id=\"edge2\" class=\"edge\">\n",
       "<title>7ff0540fad00&#45;&gt;7ff0540d6030</title>\n",
       "<path fill=\"none\" stroke=\"black\" d=\"M240.31,-146.53C230.36,-137.48 217.85,-126.09 206.83,-116.06\"/>\n",
       "<polygon fill=\"black\" stroke=\"black\" points=\"209.26,-113.54 199.51,-109.4 204.55,-118.72 209.26,-113.54\"/>\n",
       "<text text-anchor=\"middle\" x=\"235.81\" y=\"-133.23\" font-family=\"Times,serif\" font-size=\"14.00\">Y</text>\n",
       "</g>\n",
       "<!-- x1 -->\n",
       "<g id=\"node4\" class=\"node\">\n",
       "<title>x1</title>\n",
       "<ellipse fill=\"none\" stroke=\"black\" cx=\"284.4\" cy=\"-91\" rx=\"27\" ry=\"18\"/>\n",
       "<text text-anchor=\"middle\" x=\"284.4\" y=\"-86.33\" font-family=\"Times,serif\" font-size=\"14.00\">x1</text>\n",
       "</g>\n",
       "<!-- 7ff0540fad00&#45;&gt;x1 -->\n",
       "<g id=\"edge3\" class=\"edge\">\n",
       "<title>7ff0540fad00&#45;&gt;x1</title>\n",
       "<path fill=\"none\" stroke=\"black\" d=\"M264.69,-145.81C267.61,-137.85 271.14,-128.19 274.41,-119.27\"/>\n",
       "<polygon fill=\"black\" stroke=\"black\" points=\"277.67,-120.55 277.82,-109.96 271.09,-118.15 277.67,-120.55\"/>\n",
       "<text text-anchor=\"middle\" x=\"262.59\" y=\"-112.49\" font-family=\"Times,serif\" font-size=\"14.00\">0.02</text>\n",
       "<text text-anchor=\"middle\" x=\"258.69\" y=\"-132.51\" font-family=\"Times,serif\" font-size=\"14.00\">N</text>\n",
       "</g>\n",
       "<!-- 7ff0540fab80 -->\n",
       "<g id=\"node5\" class=\"node\">\n",
       "<title>7ff0540fab80</title>\n",
       "<ellipse fill=\"none\" stroke=\"black\" cx=\"105.4\" cy=\"-18\" rx=\"105.4\" ry=\"18\"/>\n",
       "<text text-anchor=\"middle\" x=\"105.4\" y=\"-13.32\" font-family=\"Times,serif\" font-size=\"14.00\">30.49 (MeanLabel)</text>\n",
       "</g>\n",
       "<!-- 7ff0540d6030&#45;&gt;7ff0540fab80 -->\n",
       "<g id=\"edge4\" class=\"edge\">\n",
       "<title>7ff0540d6030&#45;&gt;7ff0540fab80</title>\n",
       "<path fill=\"none\" stroke=\"black\" d=\"M163,-73.53C153.74,-64.76 142.15,-53.79 131.8,-44\"/>\n",
       "<polygon fill=\"black\" stroke=\"black\" points=\"134.25,-41.49 124.58,-37.16 129.44,-46.58 134.25,-41.49\"/>\n",
       "<text text-anchor=\"middle\" x=\"158.5\" y=\"-60.23\" font-family=\"Times,serif\" font-size=\"14.00\">Y</text>\n",
       "</g>\n",
       "<!-- x0 -->\n",
       "<g id=\"node6\" class=\"node\">\n",
       "<title>x0</title>\n",
       "<ellipse fill=\"none\" stroke=\"black\" cx=\"255.4\" cy=\"-18\" rx=\"27\" ry=\"18\"/>\n",
       "<text text-anchor=\"middle\" x=\"255.4\" y=\"-13.32\" font-family=\"Times,serif\" font-size=\"14.00\">x0</text>\n",
       "</g>\n",
       "<!-- 7ff0540d6030&#45;&gt;x0 -->\n",
       "<g id=\"edge5\" class=\"edge\">\n",
       "<title>7ff0540d6030&#45;&gt;x0</title>\n",
       "<path fill=\"none\" stroke=\"black\" d=\"M197.79,-73.53C208.14,-63.74 221.38,-51.2 232.56,-40.62\"/>\n",
       "<polygon fill=\"black\" stroke=\"black\" points=\"234.67,-43.44 239.53,-34.03 229.86,-38.36 234.67,-43.44\"/>\n",
       "<text text-anchor=\"middle\" x=\"220.37\" y=\"-36.93\" font-family=\"Times,serif\" font-size=\"14.00\">49.48</text>\n",
       "<text text-anchor=\"middle\" x=\"191.79\" y=\"-60.23\" font-family=\"Times,serif\" font-size=\"14.00\">N</text>\n",
       "</g>\n",
       "</g>\n",
       "</svg>\n"
      ],
      "text/plain": [
       "<graphviz.sources.Source at 0x7ff0594e0e00>"
      ]
     },
     "execution_count": 11,
     "metadata": {},
     "output_type": "execute_result"
    }
   ],
   "source": [
    "import graphviz\n",
    "\n",
    "model = est.best_estimator_.get_model(\"dot\")\n",
    "graphviz.Source(model)"
   ]
  },
  {
   "cell_type": "markdown",
   "id": "a2f93509",
   "metadata": {},
   "source": [
    "The `model` variable is now a little program in the [dot language](https://graphviz.org/docs/layouts/dot/), which we can inspect directly. "
   ]
  },
  {
   "cell_type": "code",
   "execution_count": 12,
   "id": "1f7e725e",
   "metadata": {},
   "outputs": [
    {
     "name": "stdout",
     "output_type": "stream",
     "text": [
      "digraph G {\n",
      "y [shape=box];\n",
      "y -> \"7ff0540fad00\" [label=\"0.75\"];\n",
      "\"7ff0540fad00\" [label=\"x0>0.75?\"];\n",
      "\"7ff0540fad00\" -> \"7ff0540d6030\" [headlabel=\"\",taillabel=\"Y\"];\n",
      "\"7ff0540fad00\" -> \"x1\" [headlabel=\"0.02\",taillabel=\"N\"];\n",
      "\"7ff0540d6030\" [label=\"x0>0.81?\"];\n",
      "\"7ff0540d6030\" -> \"7ff0540fab80\" [headlabel=\"\",taillabel=\"Y\"];\n",
      "\"7ff0540d6030\" -> \"x0\" [headlabel=\"49.48\",taillabel=\"N\"];\n",
      "\"7ff0540fab80\" [label=\"30.49 (MeanLabel)\"];\n",
      "\"x0\" [label=\"x0\"];\n",
      "\"x1\" [label=\"x1\"];\n",
      "}\n",
      "\n"
     ]
    }
   ],
   "source": [
    "print(model)"
   ]
  },
  {
   "cell_type": "markdown",
   "id": "b9c0154a",
   "metadata": {},
   "source": [
    "### Tweaking Graphs\n",
    "\n",
    "The [dot manual](https://graphviz.org/docs/layouts/dot/) has lots of options for tweaking the graphs. \n",
    "You can do this by manually editing `model`, but brush also provides a function, `get_dot_model()`, to which you can pass additional arguments to dot. \n",
    "\n",
    "For example, let's view the graph from Left-to-Right: "
   ]
  },
  {
   "cell_type": "code",
   "execution_count": 13,
   "id": "f35b1e05",
   "metadata": {},
   "outputs": [
    {
     "data": {
      "image/svg+xml": [
       "<?xml version=\"1.0\" encoding=\"UTF-8\" standalone=\"no\"?>\n",
       "<!DOCTYPE svg PUBLIC \"-//W3C//DTD SVG 1.1//EN\"\n",
       " \"http://www.w3.org/Graphics/SVG/1.1/DTD/svg11.dtd\">\n",
       "<!-- Generated by graphviz version 9.0.0 (20231125.0833)\n",
       " -->\n",
       "<!-- Title: G Pages: 1 -->\n",
       "<svg width=\"651pt\" height=\"125pt\"\n",
       " viewBox=\"0.00 0.00 650.69 125.00\" xmlns=\"http://www.w3.org/2000/svg\" xmlns:xlink=\"http://www.w3.org/1999/xlink\">\n",
       "<g id=\"graph0\" class=\"graph\" transform=\"scale(1 1) rotate(0) translate(4 121)\">\n",
       "<title>G</title>\n",
       "<polygon fill=\"white\" stroke=\"none\" points=\"-4,4 -4,-121 646.69,-121 646.69,4 -4,4\"/>\n",
       "<!-- y -->\n",
       "<g id=\"node1\" class=\"node\">\n",
       "<title>y</title>\n",
       "<polygon fill=\"none\" stroke=\"black\" points=\"54,-48 0,-48 0,-12 54,-12 54,-48\"/>\n",
       "<text text-anchor=\"middle\" x=\"27\" y=\"-25.32\" font-family=\"Times,serif\" font-size=\"14.00\">y</text>\n",
       "</g>\n",
       "<!-- 7ff0540fad00 -->\n",
       "<g id=\"node2\" class=\"node\">\n",
       "<title>7ff0540fad00</title>\n",
       "<ellipse fill=\"none\" stroke=\"black\" cx=\"180.6\" cy=\"-30\" rx=\"59.1\" ry=\"18\"/>\n",
       "<text text-anchor=\"middle\" x=\"180.6\" y=\"-25.32\" font-family=\"Times,serif\" font-size=\"14.00\">x0&gt;0.75?</text>\n",
       "</g>\n",
       "<!-- y&#45;&gt;7ff0540fad00 -->\n",
       "<g id=\"edge1\" class=\"edge\">\n",
       "<title>y&#45;&gt;7ff0540fad00</title>\n",
       "<path fill=\"none\" stroke=\"black\" d=\"M54.41,-30C69.8,-30 89.99,-30 109.66,-30\"/>\n",
       "<polygon fill=\"black\" stroke=\"black\" points=\"109.63,-33.5 119.63,-30 109.63,-26.5 109.63,-33.5\"/>\n",
       "<text text-anchor=\"middle\" x=\"87.75\" y=\"-33.95\" font-family=\"Times,serif\" font-size=\"14.00\">0.75</text>\n",
       "</g>\n",
       "<!-- 7ff0540d6030 -->\n",
       "<g id=\"node3\" class=\"node\">\n",
       "<title>7ff0540d6030</title>\n",
       "<ellipse fill=\"none\" stroke=\"black\" cx=\"335.8\" cy=\"-72\" rx=\"59.1\" ry=\"18\"/>\n",
       "<text text-anchor=\"middle\" x=\"335.8\" y=\"-67.33\" font-family=\"Times,serif\" font-size=\"14.00\">x0&gt;0.81?</text>\n",
       "</g>\n",
       "<!-- 7ff0540fad00&#45;&gt;7ff0540d6030 -->\n",
       "<g id=\"edge2\" class=\"edge\">\n",
       "<title>7ff0540fad00&#45;&gt;7ff0540d6030</title>\n",
       "<path fill=\"none\" stroke=\"black\" d=\"M225.5,-42.04C242.49,-46.69 262.12,-52.07 280.01,-56.98\"/>\n",
       "<polygon fill=\"black\" stroke=\"black\" points=\"278.86,-60.29 289.43,-59.56 280.71,-53.54 278.86,-60.29\"/>\n",
       "<text text-anchor=\"middle\" x=\"221\" y=\"-45.99\" font-family=\"Times,serif\" font-size=\"14.00\">Y</text>\n",
       "</g>\n",
       "<!-- x1 -->\n",
       "<g id=\"node4\" class=\"node\">\n",
       "<title>x1</title>\n",
       "<ellipse fill=\"none\" stroke=\"black\" cx=\"335.8\" cy=\"-18\" rx=\"27\" ry=\"18\"/>\n",
       "<text text-anchor=\"middle\" x=\"335.8\" y=\"-13.32\" font-family=\"Times,serif\" font-size=\"14.00\">x1</text>\n",
       "</g>\n",
       "<!-- 7ff0540fad00&#45;&gt;x1 -->\n",
       "<g id=\"edge3\" class=\"edge\">\n",
       "<title>7ff0540fad00&#45;&gt;x1</title>\n",
       "<path fill=\"none\" stroke=\"black\" d=\"M238.21,-25.57C257.97,-24.02 279.64,-22.32 297.44,-20.93\"/>\n",
       "<polygon fill=\"black\" stroke=\"black\" points=\"297.59,-24.43 307.29,-20.15 297.05,-17.45 297.59,-24.43\"/>\n",
       "<text text-anchor=\"middle\" x=\"293.05\" y=\"-6.74\" font-family=\"Times,serif\" font-size=\"14.00\">0.02</text>\n",
       "<text text-anchor=\"middle\" x=\"244.21\" y=\"-12.27\" font-family=\"Times,serif\" font-size=\"14.00\">N</text>\n",
       "</g>\n",
       "<!-- 7ff0540fab80 -->\n",
       "<g id=\"node5\" class=\"node\">\n",
       "<title>7ff0540fab80</title>\n",
       "<ellipse fill=\"none\" stroke=\"black\" cx=\"537.3\" cy=\"-99\" rx=\"105.4\" ry=\"18\"/>\n",
       "<text text-anchor=\"middle\" x=\"537.3\" y=\"-94.33\" font-family=\"Times,serif\" font-size=\"14.00\">30.49 (MeanLabel)</text>\n",
       "</g>\n",
       "<!-- 7ff0540d6030&#45;&gt;7ff0540fab80 -->\n",
       "<g id=\"edge4\" class=\"edge\">\n",
       "<title>7ff0540d6030&#45;&gt;7ff0540fab80</title>\n",
       "<path fill=\"none\" stroke=\"black\" d=\"M390.52,-79.27C406.5,-81.43 424.5,-83.87 442.26,-86.27\"/>\n",
       "<polygon fill=\"black\" stroke=\"black\" points=\"441.69,-89.73 452.06,-87.6 442.62,-82.79 441.69,-89.73\"/>\n",
       "<text text-anchor=\"middle\" x=\"395.02\" y=\"-83.22\" font-family=\"Times,serif\" font-size=\"14.00\">Y</text>\n",
       "</g>\n",
       "<!-- x0 -->\n",
       "<g id=\"node6\" class=\"node\">\n",
       "<title>x0</title>\n",
       "<ellipse fill=\"none\" stroke=\"black\" cx=\"537.3\" cy=\"-45\" rx=\"27\" ry=\"18\"/>\n",
       "<text text-anchor=\"middle\" x=\"537.3\" y=\"-40.33\" font-family=\"Times,serif\" font-size=\"14.00\">x0</text>\n",
       "</g>\n",
       "<!-- 7ff0540d6030&#45;&gt;x0 -->\n",
       "<g id=\"edge5\" class=\"edge\">\n",
       "<title>7ff0540d6030&#45;&gt;x0</title>\n",
       "<path fill=\"none\" stroke=\"black\" d=\"M390.52,-64.73C425.01,-60.06 468.9,-54.12 499.46,-49.99\"/>\n",
       "<polygon fill=\"black\" stroke=\"black\" points=\"499.54,-53.51 508.98,-48.7 498.6,-46.57 499.54,-53.51\"/>\n",
       "<text text-anchor=\"middle\" x=\"490.23\" y=\"-35.19\" font-family=\"Times,serif\" font-size=\"14.00\">49.48</text>\n",
       "<text text-anchor=\"middle\" x=\"396.52\" y=\"-51.43\" font-family=\"Times,serif\" font-size=\"14.00\">N</text>\n",
       "</g>\n",
       "</g>\n",
       "</svg>\n"
      ],
      "text/plain": [
       "<graphviz.sources.Source at 0x7ff059520c50>"
      ]
     },
     "execution_count": 13,
     "metadata": {},
     "output_type": "execute_result"
    }
   ],
   "source": [
    "model = est.best_estimator_.get_dot_model(\"rankdir=LR;\")\n",
    "graphviz.Source(model)"
   ]
  },
  {
   "cell_type": "markdown",
   "id": "512434e7",
   "metadata": {},
   "source": [
    "### A classification example"
   ]
  },
  {
   "cell_type": "code",
   "execution_count": 14,
   "id": "4ca564f3",
   "metadata": {},
   "outputs": [
    {
     "name": "stdout",
     "output_type": "stream",
     "text": [
      "Completed 100% [====================]\n",
      "saving final population as archive...\n",
      "Best model: Logistic(Sum(-0.15581149,0.42*Max(1.84*AIDS,0.30*Age,-1.05*Total,0.42*AIDS)))\n",
      "score: 0.6\n"
     ]
    },
    {
     "data": {
      "image/svg+xml": [
       "<?xml version=\"1.0\" encoding=\"UTF-8\" standalone=\"no\"?>\n",
       "<!DOCTYPE svg PUBLIC \"-//W3C//DTD SVG 1.1//EN\"\n",
       " \"http://www.w3.org/Graphics/SVG/1.1/DTD/svg11.dtd\">\n",
       "<!-- Generated by graphviz version 9.0.0 (20231125.0833)\n",
       " -->\n",
       "<!-- Title: G Pages: 1 -->\n",
       "<svg width=\"313pt\" height=\"296pt\"\n",
       " viewBox=\"0.00 0.00 312.83 295.50\" xmlns=\"http://www.w3.org/2000/svg\" xmlns:xlink=\"http://www.w3.org/1999/xlink\">\n",
       "<g id=\"graph0\" class=\"graph\" transform=\"scale(1 1) rotate(0) translate(4 291.5)\">\n",
       "<title>G</title>\n",
       "<polygon fill=\"white\" stroke=\"none\" points=\"-4,4 -4,-291.5 308.83,-291.5 308.83,4 -4,4\"/>\n",
       "<!-- 7ff0540dace0 -->\n",
       "<g id=\"node1\" class=\"node\">\n",
       "<title>7ff0540dace0</title>\n",
       "<ellipse fill=\"none\" stroke=\"black\" cx=\"167.48\" cy=\"-269.5\" rx=\"50.68\" ry=\"18\"/>\n",
       "<text text-anchor=\"middle\" x=\"167.48\" y=\"-264.82\" font-family=\"Times,serif\" font-size=\"14.00\">Logistic</text>\n",
       "</g>\n",
       "<!-- 7ff0540dada0 -->\n",
       "<g id=\"node2\" class=\"node\">\n",
       "<title>7ff0540dada0</title>\n",
       "<ellipse fill=\"none\" stroke=\"black\" cx=\"167.48\" cy=\"-196.5\" rx=\"30.69\" ry=\"18\"/>\n",
       "<text text-anchor=\"middle\" x=\"167.48\" y=\"-191.82\" font-family=\"Times,serif\" font-size=\"14.00\">Add</text>\n",
       "</g>\n",
       "<!-- 7ff0540dace0&#45;&gt;7ff0540dada0 -->\n",
       "<g id=\"edge1\" class=\"edge\">\n",
       "<title>7ff0540dace0&#45;&gt;7ff0540dada0</title>\n",
       "<path fill=\"none\" stroke=\"black\" d=\"M167.48,-251.31C167.48,-243.73 167.48,-234.6 167.48,-226.04\"/>\n",
       "<polygon fill=\"black\" stroke=\"black\" points=\"170.98,-226.04 167.48,-216.04 163.98,-226.04 170.98,-226.04\"/>\n",
       "</g>\n",
       "<!-- 7ff0540dabc0 -->\n",
       "<g id=\"node3\" class=\"node\">\n",
       "<title>7ff0540dabc0</title>\n",
       "<ellipse fill=\"none\" stroke=\"black\" cx=\"105.48\" cy=\"-107.25\" rx=\"32.79\" ry=\"18\"/>\n",
       "<text text-anchor=\"middle\" x=\"105.48\" y=\"-102.58\" font-family=\"Times,serif\" font-size=\"14.00\">Max</text>\n",
       "</g>\n",
       "<!-- 7ff0540dada0&#45;&gt;7ff0540dabc0 -->\n",
       "<g id=\"edge2\" class=\"edge\">\n",
       "<title>7ff0540dada0&#45;&gt;7ff0540dabc0</title>\n",
       "<path fill=\"none\" stroke=\"black\" d=\"M156.11,-179.5C146.99,-166.66 134.02,-148.41 123.49,-133.6\"/>\n",
       "<polygon fill=\"black\" stroke=\"black\" points=\"126.51,-131.8 117.86,-125.68 120.8,-135.86 126.51,-131.8\"/>\n",
       "<text text-anchor=\"middle\" x=\"158.23\" y=\"-147.2\" font-family=\"Times,serif\" font-size=\"14.00\">0.42</text>\n",
       "</g>\n",
       "<!-- 7ff0540dada0Offset -->\n",
       "<g id=\"node4\" class=\"node\">\n",
       "<title>7ff0540dada0Offset</title>\n",
       "<ellipse fill=\"none\" stroke=\"black\" cx=\"230.48\" cy=\"-107.25\" rx=\"74.36\" ry=\"18\"/>\n",
       "<text text-anchor=\"middle\" x=\"230.48\" y=\"-102.58\" font-family=\"Times,serif\" font-size=\"14.00\">&#45;0.15581149</text>\n",
       "</g>\n",
       "<!-- 7ff0540dada0&#45;&gt;7ff0540dada0Offset -->\n",
       "<g id=\"edge3\" class=\"edge\">\n",
       "<title>7ff0540dada0&#45;&gt;7ff0540dada0Offset</title>\n",
       "<path fill=\"none\" stroke=\"black\" d=\"M179.03,-179.5C188.12,-166.91 200.98,-149.1 211.57,-134.44\"/>\n",
       "<polygon fill=\"black\" stroke=\"black\" points=\"214.23,-136.73 217.25,-126.57 208.56,-132.63 214.23,-136.73\"/>\n",
       "</g>\n",
       "<!-- AIDS -->\n",
       "<g id=\"node5\" class=\"node\">\n",
       "<title>AIDS</title>\n",
       "<ellipse fill=\"none\" stroke=\"black\" cx=\"36.48\" cy=\"-18\" rx=\"36.48\" ry=\"18\"/>\n",
       "<text text-anchor=\"middle\" x=\"36.48\" y=\"-13.32\" font-family=\"Times,serif\" font-size=\"14.00\">AIDS</text>\n",
       "</g>\n",
       "<!-- 7ff0540dabc0&#45;&gt;AIDS -->\n",
       "<g id=\"edge4\" class=\"edge\">\n",
       "<title>7ff0540dabc0&#45;&gt;AIDS</title>\n",
       "<path fill=\"none\" stroke=\"black\" d=\"M74.06,-101.2C56.43,-96.58 35.84,-87.82 24.98,-71.25 20.16,-63.9 20.47,-54.86 22.78,-46.37\"/>\n",
       "<polygon fill=\"black\" stroke=\"black\" points=\"26.01,-47.73 26.18,-37.14 19.44,-45.31 26.01,-47.73\"/>\n",
       "<text text-anchor=\"middle\" x=\"41.23\" y=\"-57.95\" font-family=\"Times,serif\" font-size=\"14.00\">1.84</text>\n",
       "</g>\n",
       "<!-- 7ff0540dabc0&#45;&gt;AIDS -->\n",
       "<g id=\"edge7\" class=\"edge\">\n",
       "<title>7ff0540dabc0&#45;&gt;AIDS</title>\n",
       "<path fill=\"none\" stroke=\"black\" d=\"M92.82,-90.25C82.58,-77.29 67.96,-58.81 56.19,-43.92\"/>\n",
       "<polygon fill=\"black\" stroke=\"black\" points=\"59.17,-42.06 50.22,-36.38 53.68,-46.4 59.17,-42.06\"/>\n",
       "<text text-anchor=\"middle\" x=\"93.23\" y=\"-57.95\" font-family=\"Times,serif\" font-size=\"14.00\">0.42</text>\n",
       "</g>\n",
       "<!-- Age -->\n",
       "<g id=\"node6\" class=\"node\">\n",
       "<title>Age</title>\n",
       "<ellipse fill=\"none\" stroke=\"black\" cx=\"133.48\" cy=\"-18\" rx=\"30.16\" ry=\"18\"/>\n",
       "<text text-anchor=\"middle\" x=\"133.48\" y=\"-13.32\" font-family=\"Times,serif\" font-size=\"14.00\">Age</text>\n",
       "</g>\n",
       "<!-- 7ff0540dabc0&#45;&gt;Age -->\n",
       "<g id=\"edge5\" class=\"edge\">\n",
       "<title>7ff0540dabc0&#45;&gt;Age</title>\n",
       "<path fill=\"none\" stroke=\"black\" d=\"M111.01,-89.01C114.87,-76.98 120.1,-60.67 124.55,-46.82\"/>\n",
       "<polygon fill=\"black\" stroke=\"black\" points=\"127.87,-47.94 127.59,-37.35 121.2,-45.8 127.87,-47.94\"/>\n",
       "<text text-anchor=\"middle\" x=\"138.23\" y=\"-57.95\" font-family=\"Times,serif\" font-size=\"14.00\">0.30</text>\n",
       "</g>\n",
       "<!-- Total -->\n",
       "<g id=\"node7\" class=\"node\">\n",
       "<title>Total</title>\n",
       "<ellipse fill=\"none\" stroke=\"black\" cx=\"217.48\" cy=\"-18\" rx=\"35.95\" ry=\"18\"/>\n",
       "<text text-anchor=\"middle\" x=\"217.48\" y=\"-13.32\" font-family=\"Times,serif\" font-size=\"14.00\">Total</text>\n",
       "</g>\n",
       "<!-- 7ff0540dabc0&#45;&gt;Total -->\n",
       "<g id=\"edge6\" class=\"edge\">\n",
       "<title>7ff0540dabc0&#45;&gt;Total</title>\n",
       "<path fill=\"none\" stroke=\"black\" d=\"M126.39,-93.03C136.05,-86.7 147.55,-78.87 157.48,-71.25 169.38,-62.12 181.98,-51.33 192.54,-41.94\"/>\n",
       "<polygon fill=\"black\" stroke=\"black\" points=\"194.66,-44.74 199.75,-35.45 189.98,-39.54 194.66,-44.74\"/>\n",
       "<text text-anchor=\"middle\" x=\"196.48\" y=\"-57.95\" font-family=\"Times,serif\" font-size=\"14.00\">&#45;1.05</text>\n",
       "</g>\n",
       "</g>\n",
       "</svg>\n"
      ],
      "text/plain": [
       "<graphviz.sources.Source at 0x7ff05df79bb0>"
      ]
     },
     "execution_count": 14,
     "metadata": {},
     "output_type": "execute_result"
    }
   ],
   "source": [
    "from pybrush import BrushClassifier\n",
    "from sklearn.preprocessing import StandardScaler\n",
    "\n",
    "# load data\n",
    "df = pd.read_csv('../examples/datasets/d_analcatdata_aids.csv')\n",
    "X = df.drop(columns='target')\n",
    "y = df['target']\n",
    "\n",
    "if True:\n",
    "    scl = StandardScaler().fit(X)\n",
    "    X = pd.DataFrame(scl.transform(X), columns=X.columns)\n",
    "\n",
    "est = BrushClassifier(\n",
    "    # functions=['SplitOn', 'SplitBest', 'Sin','Cos','Exp'],\n",
    "    max_gens=100,\n",
    "    objectives=[\"error\", \"linear_complexity\"],  \n",
    "    scorer=\"average_precision_score\",\n",
    "    pop_size=100,\n",
    "    bandit='dynamic_thompson',\n",
    "    verbosity=1\n",
    ")\n",
    "\n",
    "est.fit(X,y)\n",
    "\n",
    "print(\"Best model:\", est.best_estimator_.get_model())\n",
    "print('score:', est.score(X,y))\n",
    "\n",
    "model = est.best_estimator_.get_dot_model()\n",
    "graphviz.Source(model)"
   ]
  },
  {
   "cell_type": "code",
   "execution_count": 15,
   "id": "6018bafe",
   "metadata": {},
   "outputs": [
    {
     "name": "stdout",
     "output_type": "stream",
     "text": [
      "Completed 100% [====================]\n",
      "saving final population as archive...\n",
      "Best model: Logistic(Sum(-0.54662466,If(AIDS>0.41,9.06,-0.46*Race)))\n",
      "score: 0.68\n"
     ]
    },
    {
     "data": {
      "image/svg+xml": [
       "<?xml version=\"1.0\" encoding=\"UTF-8\" standalone=\"no\"?>\n",
       "<!DOCTYPE svg PUBLIC \"-//W3C//DTD SVG 1.1//EN\"\n",
       " \"http://www.w3.org/Graphics/SVG/1.1/DTD/svg11.dtd\">\n",
       "<!-- Generated by graphviz version 9.0.0 (20231125.0833)\n",
       " -->\n",
       "<!-- Title: G Pages: 1 -->\n",
       "<svg width=\"324pt\" height=\"260pt\"\n",
       " viewBox=\"0.00 0.00 323.68 260.00\" xmlns=\"http://www.w3.org/2000/svg\" xmlns:xlink=\"http://www.w3.org/1999/xlink\">\n",
       "<g id=\"graph0\" class=\"graph\" transform=\"scale(1 1) rotate(0) translate(4 256)\">\n",
       "<title>G</title>\n",
       "<polygon fill=\"white\" stroke=\"none\" points=\"-4,4 -4,-256 319.68,-256 319.68,4 -4,4\"/>\n",
       "<!-- 7ff0540c8c80 -->\n",
       "<g id=\"node1\" class=\"node\">\n",
       "<title>7ff0540c8c80</title>\n",
       "<ellipse fill=\"none\" stroke=\"black\" cx=\"158.32\" cy=\"-234\" rx=\"50.68\" ry=\"18\"/>\n",
       "<text text-anchor=\"middle\" x=\"158.32\" y=\"-229.32\" font-family=\"Times,serif\" font-size=\"14.00\">Logistic</text>\n",
       "</g>\n",
       "<!-- 7ff0540c8d40 -->\n",
       "<g id=\"node2\" class=\"node\">\n",
       "<title>7ff0540c8d40</title>\n",
       "<ellipse fill=\"none\" stroke=\"black\" cx=\"158.32\" cy=\"-162\" rx=\"30.69\" ry=\"18\"/>\n",
       "<text text-anchor=\"middle\" x=\"158.32\" y=\"-157.32\" font-family=\"Times,serif\" font-size=\"14.00\">Add</text>\n",
       "</g>\n",
       "<!-- 7ff0540c8c80&#45;&gt;7ff0540c8d40 -->\n",
       "<g id=\"edge1\" class=\"edge\">\n",
       "<title>7ff0540c8c80&#45;&gt;7ff0540c8d40</title>\n",
       "<path fill=\"none\" stroke=\"black\" d=\"M158.32,-215.7C158.32,-208.41 158.32,-199.73 158.32,-191.54\"/>\n",
       "<polygon fill=\"black\" stroke=\"black\" points=\"161.82,-191.62 158.32,-181.62 154.82,-191.62 161.82,-191.62\"/>\n",
       "</g>\n",
       "<!-- 7ff0540c8bc0 -->\n",
       "<g id=\"node3\" class=\"node\">\n",
       "<title>7ff0540c8bc0</title>\n",
       "<ellipse fill=\"none\" stroke=\"black\" cx=\"76.32\" cy=\"-90\" rx=\"72.25\" ry=\"18\"/>\n",
       "<text text-anchor=\"middle\" x=\"76.32\" y=\"-85.33\" font-family=\"Times,serif\" font-size=\"14.00\">AIDS&gt;0.41?</text>\n",
       "</g>\n",
       "<!-- 7ff0540c8d40&#45;&gt;7ff0540c8bc0 -->\n",
       "<g id=\"edge2\" class=\"edge\">\n",
       "<title>7ff0540c8d40&#45;&gt;7ff0540c8bc0</title>\n",
       "<path fill=\"none\" stroke=\"black\" d=\"M141.33,-146.5C130.68,-137.41 116.71,-125.48 104.44,-115\"/>\n",
       "<polygon fill=\"black\" stroke=\"black\" points=\"106.91,-112.51 97.03,-108.68 102.37,-117.84 106.91,-112.51\"/>\n",
       "</g>\n",
       "<!-- 7ff0540c8d40Offset -->\n",
       "<g id=\"node4\" class=\"node\">\n",
       "<title>7ff0540c8d40Offset</title>\n",
       "<ellipse fill=\"none\" stroke=\"black\" cx=\"241.32\" cy=\"-90\" rx=\"74.36\" ry=\"18\"/>\n",
       "<text text-anchor=\"middle\" x=\"241.32\" y=\"-85.33\" font-family=\"Times,serif\" font-size=\"14.00\">&#45;0.54662466</text>\n",
       "</g>\n",
       "<!-- 7ff0540c8d40&#45;&gt;7ff0540c8d40Offset -->\n",
       "<g id=\"edge3\" class=\"edge\">\n",
       "<title>7ff0540c8d40&#45;&gt;7ff0540c8d40Offset</title>\n",
       "<path fill=\"none\" stroke=\"black\" d=\"M175.12,-146.83C185.94,-137.7 200.29,-125.6 212.87,-115\"/>\n",
       "<polygon fill=\"black\" stroke=\"black\" points=\"215.09,-117.7 220.47,-108.58 210.57,-112.35 215.09,-117.7\"/>\n",
       "</g>\n",
       "<!-- 7ff0540c9400 -->\n",
       "<g id=\"node5\" class=\"node\">\n",
       "<title>7ff0540c9400</title>\n",
       "<ellipse fill=\"none\" stroke=\"black\" cx=\"33.32\" cy=\"-18\" rx=\"33.32\" ry=\"18\"/>\n",
       "<text text-anchor=\"middle\" x=\"33.32\" y=\"-13.32\" font-family=\"Times,serif\" font-size=\"14.00\">9.06</text>\n",
       "</g>\n",
       "<!-- 7ff0540c8bc0&#45;&gt;7ff0540c9400 -->\n",
       "<g id=\"edge4\" class=\"edge\">\n",
       "<title>7ff0540c8bc0&#45;&gt;7ff0540c9400</title>\n",
       "<path fill=\"none\" stroke=\"black\" d=\"M65.91,-72.05C60.93,-63.94 54.85,-54.04 49.3,-45.01\"/>\n",
       "<polygon fill=\"black\" stroke=\"black\" points=\"52.35,-43.29 44.13,-36.6 46.38,-46.95 52.35,-43.29\"/>\n",
       "<text text-anchor=\"middle\" x=\"61.41\" y=\"-58.75\" font-family=\"Times,serif\" font-size=\"14.00\">Y</text>\n",
       "</g>\n",
       "<!-- Race -->\n",
       "<g id=\"node6\" class=\"node\">\n",
       "<title>Race</title>\n",
       "<ellipse fill=\"none\" stroke=\"black\" cx=\"120.32\" cy=\"-18\" rx=\"35.42\" ry=\"18\"/>\n",
       "<text text-anchor=\"middle\" x=\"120.32\" y=\"-13.32\" font-family=\"Times,serif\" font-size=\"14.00\">Race</text>\n",
       "</g>\n",
       "<!-- 7ff0540c8bc0&#45;&gt;Race -->\n",
       "<g id=\"edge5\" class=\"edge\">\n",
       "<title>7ff0540c8bc0&#45;&gt;Race</title>\n",
       "<path fill=\"none\" stroke=\"black\" d=\"M86.97,-72.05C92.07,-63.94 98.29,-54.04 103.97,-45.01\"/>\n",
       "<polygon fill=\"black\" stroke=\"black\" points=\"106.91,-46.92 109.26,-36.59 100.98,-43.19 106.91,-46.92\"/>\n",
       "<text text-anchor=\"middle\" x=\"92.07\" y=\"-39.26\" font-family=\"Times,serif\" font-size=\"14.00\">&#45;0.46</text>\n",
       "<text text-anchor=\"middle\" x=\"80.97\" y=\"-58.75\" font-family=\"Times,serif\" font-size=\"14.00\">N</text>\n",
       "</g>\n",
       "</g>\n",
       "</svg>\n"
      ],
      "text/plain": [
       "<graphviz.sources.Source at 0x7ff05d409ca0>"
      ]
     },
     "execution_count": 15,
     "metadata": {},
     "output_type": "execute_result"
    }
   ],
   "source": [
    "\n",
    "est = BrushClassifier(\n",
    "    # functions=['SplitOn', 'SplitBest', 'Sin','Cos','Exp'],\n",
    "    max_gens=100,\n",
    "    objectives=[\"error\", \"complexity\"],  \n",
    "    scorer=\"log\",\n",
    "    pop_size=100,\n",
    "    bandit='dynamic_thompson',\n",
    "    verbosity=1\n",
    ")\n",
    "\n",
    "est.fit(X,y)\n",
    "\n",
    "print(\"Best model:\", est.best_estimator_.get_model())\n",
    "print('score:', est.score(X,y))\n",
    "\n",
    "model = est.best_estimator_.get_dot_model()\n",
    "graphviz.Source(model)"
   ]
  }
 ],
 "metadata": {
  "kernelspec": {
   "display_name": "brush",
   "language": "python",
   "name": "python3"
  },
  "language_info": {
   "codemirror_mode": {
    "name": "ipython",
    "version": 3
   },
   "file_extension": ".py",
   "mimetype": "text/x-python",
   "name": "python",
   "nbconvert_exporter": "python",
   "pygments_lexer": "ipython3",
   "version": "3.12.2"
  }
 },
 "nbformat": 4,
 "nbformat_minor": 5
}
