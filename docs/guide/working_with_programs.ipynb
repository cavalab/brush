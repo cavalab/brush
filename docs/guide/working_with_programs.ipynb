{
 "cells": [
  {
   "cell_type": "markdown",
   "id": "e9776d12",
   "metadata": {},
   "source": [
    "# Working with Programs\n",
    "\n",
    "In Brush, a *Program* is an executable data structure. \n",
    "You may think of it as a *model* or a *function* mapping feature inputs to data labels. \n",
    "We call them programs because that's what they are: executable data structures,  \n",
    "and that is what they are called in the genetic algorithm literature, to distinguish them from optimizing bits or strings. \n",
    "\n",
    "The Brush Program class operates similarly to a [sklearn](scikit-learn.org) estimator: it has `fit` and `predict` methods that are called in during training or inference, respectively. \n",
    "\n",
    "\n",
    "## Types of Programs \n",
    "\n",
    "There are four fundamental \"types\" of Brush programs:\n",
    "\n",
    "- **Regressors**: map inputs to a continous endpoint \n",
    "- **Binary Classifiers**: map inputs to a binary endpoint, as well as a continuous value in $[0, 1]$  \n",
    "- **Multi-class Classifiers**: map inputs to a category\n",
    "    - Under development\n",
    "- **Representors**: map inputs to a lower dimensional space. \n",
    "    - Under development\n",
    "\n",
    "## Representation \n",
    "\n",
    "Internally, the programs are represented as syntax trees. \n",
    "We use the [tree.hh tree class](https://github.com/kpeeters/tree.hh) which gives trees an STL-like feel. \n",
    "\n",
    "\n",
    "\n",
    "## Generation\n",
    "\n",
    "We generate random programs using Sean Luke's PTC2 algorithm.  \n",
    "\n",
    "\n",
    "## Evaluation\n",
    "\n",
    "TODO\n",
    "\n",
    "\n"
   ]
  },
  {
   "cell_type": "markdown",
   "id": "8c258669",
   "metadata": {},
   "source": [
    "## Visualizing Programs\n",
    "\n",
    "Programs in Brush are symbolic tree structures, and can be viewed in a few ways: \n",
    "\n",
    "\n",
    "1. As a string using `get_model()`\n",
    "2. As a string-like tree using `get_model(\"tree\")`\n",
    "2. As a graph using `graphviz` and `get_model(\"dot\")`. \n",
    "\n",
    "Let's look at a regresion example."
   ]
  },
  {
   "cell_type": "code",
   "execution_count": 1,
   "id": "102e3fcb",
   "metadata": {
    "tags": [
     "remove-output"
    ]
   },
   "outputs": [],
   "source": [
    "import pandas as pd\n",
    "from pybrush import BrushRegressor\n",
    "\n",
    "# load data\n",
    "df = pd.read_csv('../examples/datasets/d_enc.csv')\n",
    "X = df.drop(columns='label')\n",
    "y = df['label']"
   ]
  },
  {
   "cell_type": "code",
   "execution_count": 2,
   "id": "ac39c9ca",
   "metadata": {},
   "outputs": [
    {
     "name": "stdout",
     "output_type": "stream",
     "text": [
      "Completed 100% [====================]\n",
      "score: 0.8972961690538603\n"
     ]
    }
   ],
   "source": [
    "# import and make a regressor\n",
    "est = BrushRegressor(\n",
    "    functions=['SplitBest','Add','Mul','Sin','Cos','Exp','Logabs'],\n",
    "    verbosity=1 # set verbosity==1 to see a progress bar\n",
    ")\n",
    "\n",
    "# use like you would a sklearn regressor\n",
    "est.fit(X,y)\n",
    "y_pred = est.predict(X)\n",
    "print('score:', est.score(X,y))"
   ]
  },
  {
   "cell_type": "markdown",
   "id": "5bbd24cd",
   "metadata": {},
   "source": [
    "You can see the fitness of the final individual by accessing the `fitness` attribute. Each fitness value corresponds to the objective of same index defined earlier for the `BrushRegressor` class. By default, it will try to minimize `\"error\"` and `\"size\"`."
   ]
  },
  {
   "cell_type": "code",
   "execution_count": 3,
   "id": "166415c2",
   "metadata": {},
   "outputs": [
    {
     "name": "stdout",
     "output_type": "stream",
     "text": [
      "Fitness(9.282899 19.000000 )\n",
      "['error', 'size']\n"
     ]
    }
   ],
   "source": [
    "print(est.best_estimator_.fitness)\n",
    "print(est.objectives)"
   ]
  },
  {
   "cell_type": "markdown",
   "id": "38b6364e",
   "metadata": {},
   "source": [
    "A `fitness` in Brush is actually more than a tuple. It is a class that has all boolean comparison operators overloaded to allow an ease of use when prototyping with Brush.\n",
    "\n",
    "It also infers the weight of each objective to automatically handle minimization or maximization objetives.\n",
    "\n",
    "To see the weights, you can try:"
   ]
  },
  {
   "cell_type": "code",
   "execution_count": 4,
   "id": "13d0ac5f",
   "metadata": {},
   "outputs": [
    {
     "data": {
      "text/plain": [
       "[-1.0, -1.0]"
      ]
     },
     "execution_count": 4,
     "metadata": {},
     "output_type": "execute_result"
    }
   ],
   "source": [
    "est.best_estimator_.fitness.weights"
   ]
  },
  {
   "cell_type": "markdown",
   "id": "fe594691",
   "metadata": {},
   "source": [
    "## Serialization \n",
    "\n",
    "Brush let's you serialize the entire individual, or just the program or fitness it wraps. It uses JSON to serialize the objects, and this is implemented with the get and set states of an object:"
   ]
  },
  {
   "cell_type": "code",
   "execution_count": 14,
   "id": "b01ab1fa",
   "metadata": {},
   "outputs": [
    {
     "name": "stdout",
     "output_type": "stream",
     "text": [
      "fitness {'complexity': 304, 'crowding_dist': 3.4028234663852886e+38, 'dcounter': 0, 'depth': 3, 'dominated': [0, 2, 29, 62, 80, 127, 146], 'loss': 9.282898902893066, 'loss_v': 9.282898902893066, 'rank': 1, 'size': 19, 'values': [9.282898902893066, 19.0], 'weights': [-1.0, -1.0], 'wvalues': [-9.282898902893066, -19.0]}\n",
      "id 1910\n",
      "objectives ['error', 'size']\n",
      "parent_id [1858]\n",
      "program {'Tree': [{'W': 0.75, 'arg_types': ['ArrayF', 'ArrayF'], 'center_op': True, 'feature': 'x0', 'fixed': False, 'is_weighted': False, 'name': 'SplitBest', 'node_type': 'SplitBest', 'prob_change': 1.0, 'ret_type': 'ArrayF', 'sig_dual_hash': 9996486434638833164, 'sig_hash': 10001460114883919497}, {'W': 0.8050000071525574, 'arg_types': ['ArrayF', 'ArrayF'], 'center_op': True, 'feature': 'x0', 'fixed': False, 'is_weighted': False, 'name': 'SplitBest', 'node_type': 'SplitBest', 'prob_change': 1.0, 'ret_type': 'ArrayF', 'sig_dual_hash': 9996486434638833164, 'sig_hash': 10001460114883919497}, {'W': 30.494491577148438, 'arg_types': [], 'center_op': True, 'feature': 'MeanLabel', 'fixed': False, 'is_weighted': True, 'name': 'MeanLabel', 'node_type': 'MeanLabel', 'prob_change': 1.0, 'ret_type': 'ArrayF', 'sig_dual_hash': 509529941281334733, 'sig_hash': 17717457037689164349}, {'W': 49.47871017456055, 'arg_types': [], 'center_op': True, 'feature': 'x0', 'fixed': False, 'is_weighted': True, 'name': 'Terminal', 'node_type': 'Terminal', 'prob_change': 1.0, 'ret_type': 'ArrayF', 'sig_dual_hash': 509529941281334733, 'sig_hash': 17717457037689164349}, {'W': 1.0, 'arg_types': ['ArrayF', 'ArrayF'], 'center_op': True, 'feature': '', 'fixed': False, 'is_weighted': False, 'name': 'Add', 'node_type': 'Add', 'prob_change': 1.0, 'ret_type': 'ArrayF', 'sig_dual_hash': 9996486434638833164, 'sig_hash': 10001460114883919497}, {'W': 0.018234524875879288, 'arg_types': [], 'center_op': True, 'feature': 'x1', 'fixed': False, 'is_weighted': True, 'name': 'Terminal', 'node_type': 'Terminal', 'prob_change': 1.0, 'ret_type': 'ArrayF', 'sig_dual_hash': 509529941281334733, 'sig_hash': 17717457037689164349}, {'W': 10.46687126159668, 'arg_types': [], 'center_op': True, 'feature': 'x6', 'fixed': False, 'is_weighted': True, 'name': 'Terminal', 'node_type': 'Terminal', 'prob_change': 1.0, 'ret_type': 'ArrayF', 'sig_dual_hash': 509529941281334733, 'sig_hash': 17717457037689164349}], 'is_fitted_': True}\n"
     ]
    }
   ],
   "source": [
    "estimator_dict = est.best_estimator_.__getstate__()\n",
    "\n",
    "for k, v in estimator_dict.items():\n",
    "    print(k, v)"
   ]
  },
  {
   "cell_type": "markdown",
   "id": "6bcb071b",
   "metadata": {},
   "source": [
    "With serialization, you can use pickle to save and load just programs or even the entire individual."
   ]
  },
  {
   "cell_type": "code",
   "execution_count": 6,
   "id": "b4537631",
   "metadata": {},
   "outputs": [],
   "source": [
    "import pickle\n",
    "import os, tempfile\n",
    "\n",
    "individual_file = os.path.join(tempfile.mkdtemp(), 'individual.json')\n",
    "with open(individual_file, \"wb\") as f:\n",
    "    pickle.dump(est.best_estimator_, f)\n",
    "\n",
    "program_file = os.path.join(tempfile.mkdtemp(), 'program.json')\n",
    "with open(program_file, \"wb\") as f:\n",
    "    pickle.dump(est.best_estimator_.program, f)"
   ]
  },
  {
   "cell_type": "markdown",
   "id": "fff5693d",
   "metadata": {},
   "source": [
    "Then we can load it later with:"
   ]
  },
  {
   "cell_type": "code",
   "execution_count": 7,
   "id": "ee7a20c6",
   "metadata": {},
   "outputs": [
    {
     "name": "stdout",
     "output_type": "stream",
     "text": [
      "If(x0>0.75,If(x0>0.81,30.49*MeanLabel,49.48*x0),Add(0.02*x1,10.47*x6))\n"
     ]
    }
   ],
   "source": [
    "with open(individual_file, \"rb\") as f:\n",
    "    loaded_estimator = pickle.load(f)\n",
    "    print(loaded_estimator.get_model())"
   ]
  },
  {
   "cell_type": "markdown",
   "id": "a355d8f3",
   "metadata": {},
   "source": [
    "### String\n",
    "\n",
    "Now that we have trained a model, `est.best_estimator_` contains our symbolic model. \n",
    "We can view it as a string:"
   ]
  },
  {
   "cell_type": "code",
   "execution_count": 8,
   "id": "316964d5",
   "metadata": {},
   "outputs": [
    {
     "name": "stdout",
     "output_type": "stream",
     "text": [
      "If(x0>0.75,If(x0>0.81,30.49*MeanLabel,49.48*x0),Add(0.02*x1,10.47*x6))\n"
     ]
    }
   ],
   "source": [
    "print(est.best_estimator_.get_model())"
   ]
  },
  {
   "cell_type": "markdown",
   "id": "e7d578bb",
   "metadata": {},
   "source": [
    "### Quick Little Tree\n",
    "\n",
    "Or, we can view it as a compact tree:"
   ]
  },
  {
   "cell_type": "code",
   "execution_count": 9,
   "id": "dad68d01",
   "metadata": {},
   "outputs": [
    {
     "name": "stdout",
     "output_type": "stream",
     "text": [
      "SplitBest\n",
      "|-SplitBest\n",
      "  |-30.49*MeanLabel\n",
      "  |-49.48*x0\n",
      "|-Add\n",
      "|  |-0.02*x1\n",
      "|  |-10.47*x6\n"
     ]
    }
   ],
   "source": [
    "print(est.best_estimator_.get_model(\"tree\"))"
   ]
  },
  {
   "cell_type": "markdown",
   "id": "90068143",
   "metadata": {},
   "source": [
    "### GraphViz\n",
    "\n",
    "If we are feeling fancy 🎩, we can also view it as a graph in dot format. \n",
    "Let's import graphviz and make a nicer plot."
   ]
  },
  {
   "cell_type": "code",
   "execution_count": 10,
   "id": "3ef1a735",
   "metadata": {},
   "outputs": [
    {
     "data": {
      "image/svg+xml": [
       "<?xml version=\"1.0\" encoding=\"UTF-8\" standalone=\"no\"?>\n",
       "<!DOCTYPE svg PUBLIC \"-//W3C//DTD SVG 1.1//EN\"\n",
       " \"http://www.w3.org/Graphics/SVG/1.1/DTD/svg11.dtd\">\n",
       "<!-- Generated by graphviz version 9.0.0 (20231125.0833)\n",
       " -->\n",
       "<!-- Title: G Pages: 1 -->\n",
       "<svg width=\"433pt\" height=\"206pt\"\n",
       " viewBox=\"0.00 0.00 432.61 206.25\" xmlns=\"http://www.w3.org/2000/svg\" xmlns:xlink=\"http://www.w3.org/1999/xlink\">\n",
       "<g id=\"graph0\" class=\"graph\" transform=\"scale(1 1) rotate(0) translate(4 202.25)\">\n",
       "<title>G</title>\n",
       "<polygon fill=\"white\" stroke=\"none\" points=\"-4,4 -4,-202.25 428.61,-202.25 428.61,4 -4,4\"/>\n",
       "<!-- 7f370003ebc0 -->\n",
       "<g id=\"node1\" class=\"node\">\n",
       "<title>7f370003ebc0</title>\n",
       "<ellipse fill=\"none\" stroke=\"black\" cx=\"288.61\" cy=\"-180.25\" rx=\"59.1\" ry=\"18\"/>\n",
       "<text text-anchor=\"middle\" x=\"288.61\" y=\"-175.57\" font-family=\"Times,serif\" font-size=\"14.00\">x0&gt;0.75?</text>\n",
       "</g>\n",
       "<!-- 7f37000b5410 -->\n",
       "<g id=\"node2\" class=\"node\">\n",
       "<title>7f37000b5410</title>\n",
       "<ellipse fill=\"none\" stroke=\"black\" cx=\"235.61\" cy=\"-107.25\" rx=\"59.1\" ry=\"18\"/>\n",
       "<text text-anchor=\"middle\" x=\"235.61\" y=\"-102.58\" font-family=\"Times,serif\" font-size=\"14.00\">x0&gt;0.81?</text>\n",
       "</g>\n",
       "<!-- 7f370003ebc0&#45;&gt;7f37000b5410 -->\n",
       "<g id=\"edge1\" class=\"edge\">\n",
       "<title>7f370003ebc0&#45;&gt;7f37000b5410</title>\n",
       "<path fill=\"none\" stroke=\"black\" d=\"M276.05,-162.42C269.71,-153.94 261.89,-143.46 254.82,-133.98\"/>\n",
       "<polygon fill=\"black\" stroke=\"black\" points=\"257.77,-132.09 248.99,-126.17 252.16,-136.28 257.77,-132.09\"/>\n",
       "<text text-anchor=\"middle\" x=\"271.55\" y=\"-149.12\" font-family=\"Times,serif\" font-size=\"14.00\">Y</text>\n",
       "</g>\n",
       "<!-- 7f370003f120 -->\n",
       "<g id=\"node3\" class=\"node\">\n",
       "<title>7f370003f120</title>\n",
       "<ellipse fill=\"none\" stroke=\"black\" cx=\"343.61\" cy=\"-107.25\" rx=\"30.69\" ry=\"18\"/>\n",
       "<text text-anchor=\"middle\" x=\"343.61\" y=\"-102.58\" font-family=\"Times,serif\" font-size=\"14.00\">Add</text>\n",
       "</g>\n",
       "<!-- 7f370003ebc0&#45;&gt;7f370003f120 -->\n",
       "<g id=\"edge2\" class=\"edge\">\n",
       "<title>7f370003ebc0&#45;&gt;7f370003f120</title>\n",
       "<path fill=\"none\" stroke=\"black\" d=\"M301.64,-162.42C308.48,-153.6 316.99,-142.62 324.55,-132.86\"/>\n",
       "<polygon fill=\"black\" stroke=\"black\" points=\"327.14,-135.23 330.5,-125.18 321.61,-130.94 327.14,-135.23\"/>\n",
       "<text text-anchor=\"middle\" x=\"295.64\" y=\"-149.12\" font-family=\"Times,serif\" font-size=\"14.00\">N</text>\n",
       "</g>\n",
       "<!-- 7f370003ef80 -->\n",
       "<g id=\"node4\" class=\"node\">\n",
       "<title>7f370003ef80</title>\n",
       "<ellipse fill=\"none\" stroke=\"black\" cx=\"99.61\" cy=\"-18\" rx=\"99.61\" ry=\"18\"/>\n",
       "<text text-anchor=\"middle\" x=\"99.61\" y=\"-13.32\" font-family=\"Times,serif\" font-size=\"14.00\">30.49*MeanLabel</text>\n",
       "</g>\n",
       "<!-- 7f37000b5410&#45;&gt;7f370003ef80 -->\n",
       "<g id=\"edge3\" class=\"edge\">\n",
       "<title>7f37000b5410&#45;&gt;7f370003ef80</title>\n",
       "<path fill=\"none\" stroke=\"black\" d=\"M210.98,-90.45C189.72,-76.81 158.76,-56.94 134.87,-41.62\"/>\n",
       "<polygon fill=\"black\" stroke=\"black\" points=\"137.02,-38.84 126.72,-36.39 133.24,-44.74 137.02,-38.84\"/>\n",
       "<text text-anchor=\"middle\" x=\"206.48\" y=\"-77.15\" font-family=\"Times,serif\" font-size=\"14.00\">Y</text>\n",
       "</g>\n",
       "<!-- x0 -->\n",
       "<g id=\"node5\" class=\"node\">\n",
       "<title>x0</title>\n",
       "<ellipse fill=\"none\" stroke=\"black\" cx=\"244.61\" cy=\"-18\" rx=\"27\" ry=\"18\"/>\n",
       "<text text-anchor=\"middle\" x=\"244.61\" y=\"-13.32\" font-family=\"Times,serif\" font-size=\"14.00\">x0</text>\n",
       "</g>\n",
       "<!-- 7f37000b5410&#45;&gt;x0 -->\n",
       "<g id=\"edge4\" class=\"edge\">\n",
       "<title>7f37000b5410&#45;&gt;x0</title>\n",
       "<path fill=\"none\" stroke=\"black\" d=\"M237.39,-89.01C238.61,-77.18 240.26,-61.2 241.67,-47.5\"/>\n",
       "<polygon fill=\"black\" stroke=\"black\" points=\"245.14,-48.01 242.68,-37.71 238.17,-47.3 245.14,-48.01\"/>\n",
       "<text text-anchor=\"middle\" x=\"222.59\" y=\"-40.15\" font-family=\"Times,serif\" font-size=\"14.00\">49.48</text>\n",
       "<text text-anchor=\"middle\" x=\"231.39\" y=\"-75.71\" font-family=\"Times,serif\" font-size=\"14.00\">N</text>\n",
       "</g>\n",
       "<!-- x1 -->\n",
       "<g id=\"node6\" class=\"node\">\n",
       "<title>x1</title>\n",
       "<ellipse fill=\"none\" stroke=\"black\" cx=\"325.61\" cy=\"-18\" rx=\"27\" ry=\"18\"/>\n",
       "<text text-anchor=\"middle\" x=\"325.61\" y=\"-13.32\" font-family=\"Times,serif\" font-size=\"14.00\">x1</text>\n",
       "</g>\n",
       "<!-- 7f370003f120&#45;&gt;x1 -->\n",
       "<g id=\"edge5\" class=\"edge\">\n",
       "<title>7f370003f120&#45;&gt;x1</title>\n",
       "<path fill=\"none\" stroke=\"black\" d=\"M340.05,-89.01C337.59,-77.06 334.25,-60.88 331.4,-47.08\"/>\n",
       "<polygon fill=\"black\" stroke=\"black\" points=\"334.91,-46.77 329.46,-37.68 328.06,-48.19 334.91,-46.77\"/>\n",
       "<text text-anchor=\"middle\" x=\"352.36\" y=\"-57.95\" font-family=\"Times,serif\" font-size=\"14.00\">0.02</text>\n",
       "</g>\n",
       "<!-- x6 -->\n",
       "<g id=\"node7\" class=\"node\">\n",
       "<title>x6</title>\n",
       "<ellipse fill=\"none\" stroke=\"black\" cx=\"397.61\" cy=\"-18\" rx=\"27\" ry=\"18\"/>\n",
       "<text text-anchor=\"middle\" x=\"397.61\" y=\"-13.32\" font-family=\"Times,serif\" font-size=\"14.00\">x6</text>\n",
       "</g>\n",
       "<!-- 7f370003f120&#45;&gt;x6 -->\n",
       "<g id=\"edge6\" class=\"edge\">\n",
       "<title>7f370003f120&#45;&gt;x6</title>\n",
       "<path fill=\"none\" stroke=\"black\" d=\"M357.76,-90.85C362.79,-84.96 368.27,-78.03 372.61,-71.25 377.66,-63.36 382.34,-54.29 386.26,-45.95\"/>\n",
       "<polygon fill=\"black\" stroke=\"black\" points=\"389.4,-47.49 390.31,-36.94 383.02,-44.62 389.4,-47.49\"/>\n",
       "<text text-anchor=\"middle\" x=\"401.86\" y=\"-57.95\" font-family=\"Times,serif\" font-size=\"14.00\">10.47</text>\n",
       "</g>\n",
       "</g>\n",
       "</svg>\n"
      ],
      "text/plain": [
       "<graphviz.sources.Source at 0x7f3708486a80>"
      ]
     },
     "execution_count": 10,
     "metadata": {},
     "output_type": "execute_result"
    }
   ],
   "source": [
    "import graphviz\n",
    "\n",
    "model = est.best_estimator_.get_model(\"dot\")\n",
    "graphviz.Source(model)"
   ]
  },
  {
   "cell_type": "markdown",
   "id": "a2f93509",
   "metadata": {},
   "source": [
    "The `model` variable is now a little program in the [dot language](https://graphviz.org/docs/layouts/dot/), which we can inspect directly. "
   ]
  },
  {
   "cell_type": "code",
   "execution_count": 11,
   "id": "1f7e725e",
   "metadata": {},
   "outputs": [
    {
     "name": "stdout",
     "output_type": "stream",
     "text": [
      "digraph G {\n",
      "\"7f370003ebc0\" [label=\"x0>0.75?\"];\n",
      "\"7f370003ebc0\" -> \"7f37000b5410\" [headlabel=\"\",taillabel=\"Y\"];\n",
      "\"7f370003ebc0\" -> \"7f370003f120\" [headlabel=\"\",taillabel=\"N\"];\n",
      "\"7f37000b5410\" [label=\"x0>0.81?\"];\n",
      "\"7f37000b5410\" -> \"7f370003ef80\" [headlabel=\"\",taillabel=\"Y\"];\n",
      "\"7f37000b5410\" -> \"x0\" [headlabel=\"49.48\",taillabel=\"N\"];\n",
      "\"7f370003ef80\" [label=\"30.49*MeanLabel\"];\n",
      "\"x0\" [label=\"x0\"];\n",
      "\"7f370003f120\" [label=\"Add\"];\n",
      "\"7f370003f120\" -> \"x1\" [label=\"0.02\"];\n",
      "\"7f370003f120\" -> \"x6\" [label=\"10.47\"];\n",
      "\"x1\" [label=\"x1\"];\n",
      "\"x6\" [label=\"x6\"];\n",
      "}\n",
      "\n"
     ]
    }
   ],
   "source": [
    "print(model)"
   ]
  },
  {
   "cell_type": "markdown",
   "id": "b9c0154a",
   "metadata": {},
   "source": [
    "### Tweaking Graphs\n",
    "\n",
    "The [dot manual](https://graphviz.org/docs/layouts/dot/) has lots of options for tweaking the graphs. \n",
    "You can do this by manually editing `model`, but brush also provides a function, `get_dot_model()`, to which you can pass additional arguments to dot. \n",
    "\n",
    "For example, let's view the graph from Left-to-Right: "
   ]
  },
  {
   "cell_type": "code",
   "execution_count": 12,
   "id": "f35b1e05",
   "metadata": {},
   "outputs": [
    {
     "data": {
      "image/svg+xml": [
       "<?xml version=\"1.0\" encoding=\"UTF-8\" standalone=\"no\"?>\n",
       "<!DOCTYPE svg PUBLIC \"-//W3C//DTD SVG 1.1//EN\"\n",
       " \"http://www.w3.org/Graphics/SVG/1.1/DTD/svg11.dtd\">\n",
       "<!-- Generated by graphviz version 9.0.0 (20231125.0833)\n",
       " -->\n",
       "<!-- Title: G Pages: 1 -->\n",
       "<svg width=\"557pt\" height=\"206pt\"\n",
       " viewBox=\"0.00 0.00 557.12 206.00\" xmlns=\"http://www.w3.org/2000/svg\" xmlns:xlink=\"http://www.w3.org/1999/xlink\">\n",
       "<g id=\"graph0\" class=\"graph\" transform=\"scale(1 1) rotate(0) translate(4 202)\">\n",
       "<title>G</title>\n",
       "<polygon fill=\"white\" stroke=\"none\" points=\"-4,4 -4,-202 553.12,-202 553.12,4 -4,4\"/>\n",
       "<!-- 7f370003ebc0 -->\n",
       "<g id=\"node1\" class=\"node\">\n",
       "<title>7f370003ebc0</title>\n",
       "<ellipse fill=\"none\" stroke=\"black\" cx=\"59.1\" cy=\"-98\" rx=\"59.1\" ry=\"18\"/>\n",
       "<text text-anchor=\"middle\" x=\"59.1\" y=\"-93.33\" font-family=\"Times,serif\" font-size=\"14.00\">x0&gt;0.75?</text>\n",
       "</g>\n",
       "<!-- 7f37000b5410 -->\n",
       "<g id=\"node2\" class=\"node\">\n",
       "<title>7f37000b5410</title>\n",
       "<ellipse fill=\"none\" stroke=\"black\" cx=\"214.3\" cy=\"-126\" rx=\"59.1\" ry=\"18\"/>\n",
       "<text text-anchor=\"middle\" x=\"214.3\" y=\"-121.33\" font-family=\"Times,serif\" font-size=\"14.00\">x0&gt;0.81?</text>\n",
       "</g>\n",
       "<!-- 7f370003ebc0&#45;&gt;7f37000b5410 -->\n",
       "<g id=\"edge1\" class=\"edge\">\n",
       "<title>7f370003ebc0&#45;&gt;7f37000b5410</title>\n",
       "<path fill=\"none\" stroke=\"black\" d=\"M110.69,-107.25C123.76,-109.64 137.98,-112.23 151.55,-114.72\"/>\n",
       "<polygon fill=\"black\" stroke=\"black\" points=\"150.81,-118.14 161.28,-116.49 152.07,-111.25 150.81,-118.14\"/>\n",
       "<text text-anchor=\"middle\" x=\"115.19\" y=\"-111.2\" font-family=\"Times,serif\" font-size=\"14.00\">Y</text>\n",
       "</g>\n",
       "<!-- 7f370003f120 -->\n",
       "<g id=\"node3\" class=\"node\">\n",
       "<title>7f370003f120</title>\n",
       "<ellipse fill=\"none\" stroke=\"black\" cx=\"214.3\" cy=\"-72\" rx=\"30.69\" ry=\"18\"/>\n",
       "<text text-anchor=\"middle\" x=\"214.3\" y=\"-67.33\" font-family=\"Times,serif\" font-size=\"14.00\">Add</text>\n",
       "</g>\n",
       "<!-- 7f370003ebc0&#45;&gt;7f370003f120 -->\n",
       "<g id=\"edge2\" class=\"edge\">\n",
       "<title>7f370003ebc0&#45;&gt;7f370003f120</title>\n",
       "<path fill=\"none\" stroke=\"black\" d=\"M111.54,-89.27C131.69,-85.85 154.47,-81.98 173.35,-78.78\"/>\n",
       "<polygon fill=\"black\" stroke=\"black\" points=\"173.78,-82.26 183.05,-77.13 172.61,-75.36 173.78,-82.26\"/>\n",
       "<text text-anchor=\"middle\" x=\"117.54\" y=\"-75.97\" font-family=\"Times,serif\" font-size=\"14.00\">N</text>\n",
       "</g>\n",
       "<!-- 7f370003ef80 -->\n",
       "<g id=\"node4\" class=\"node\">\n",
       "<title>7f370003ef80</title>\n",
       "<ellipse fill=\"none\" stroke=\"black\" cx=\"449.51\" cy=\"-180\" rx=\"99.61\" ry=\"18\"/>\n",
       "<text text-anchor=\"middle\" x=\"449.51\" y=\"-175.32\" font-family=\"Times,serif\" font-size=\"14.00\">30.49*MeanLabel</text>\n",
       "</g>\n",
       "<!-- 7f37000b5410&#45;&gt;7f370003ef80 -->\n",
       "<g id=\"edge3\" class=\"edge\">\n",
       "<title>7f37000b5410&#45;&gt;7f370003ef80</title>\n",
       "<path fill=\"none\" stroke=\"black\" d=\"M262.21,-136.86C294.78,-144.4 338.8,-154.6 375.87,-163.18\"/>\n",
       "<polygon fill=\"black\" stroke=\"black\" points=\"374.62,-166.48 385.15,-165.33 376.2,-159.66 374.62,-166.48\"/>\n",
       "<text text-anchor=\"middle\" x=\"257.71\" y=\"-140.81\" font-family=\"Times,serif\" font-size=\"14.00\">Y</text>\n",
       "</g>\n",
       "<!-- x0 -->\n",
       "<g id=\"node5\" class=\"node\">\n",
       "<title>x0</title>\n",
       "<ellipse fill=\"none\" stroke=\"black\" cx=\"449.51\" cy=\"-126\" rx=\"27\" ry=\"18\"/>\n",
       "<text text-anchor=\"middle\" x=\"449.51\" y=\"-121.33\" font-family=\"Times,serif\" font-size=\"14.00\">x0</text>\n",
       "</g>\n",
       "<!-- 7f37000b5410&#45;&gt;x0 -->\n",
       "<g id=\"edge4\" class=\"edge\">\n",
       "<title>7f37000b5410&#45;&gt;x0</title>\n",
       "<path fill=\"none\" stroke=\"black\" d=\"M273.85,-126C316.82,-126 373.93,-126 410.95,-126\"/>\n",
       "<polygon fill=\"black\" stroke=\"black\" points=\"410.7,-129.5 420.7,-126 410.7,-122.5 410.7,-129.5\"/>\n",
       "<text text-anchor=\"middle\" x=\"401.97\" y=\"-112.7\" font-family=\"Times,serif\" font-size=\"14.00\">49.48</text>\n",
       "<text text-anchor=\"middle\" x=\"279.85\" y=\"-112.7\" font-family=\"Times,serif\" font-size=\"14.00\">N</text>\n",
       "</g>\n",
       "<!-- x1 -->\n",
       "<g id=\"node6\" class=\"node\">\n",
       "<title>x1</title>\n",
       "<ellipse fill=\"none\" stroke=\"black\" cx=\"449.51\" cy=\"-72\" rx=\"27\" ry=\"18\"/>\n",
       "<text text-anchor=\"middle\" x=\"449.51\" y=\"-67.33\" font-family=\"Times,serif\" font-size=\"14.00\">x1</text>\n",
       "</g>\n",
       "<!-- 7f370003f120&#45;&gt;x1 -->\n",
       "<g id=\"edge5\" class=\"edge\">\n",
       "<title>7f370003f120&#45;&gt;x1</title>\n",
       "<path fill=\"none\" stroke=\"black\" d=\"M245.31,-72C287.63,-72 364.83,-72 410.92,-72\"/>\n",
       "<polygon fill=\"black\" stroke=\"black\" points=\"410.69,-75.5 420.69,-72 410.69,-68.5 410.69,-75.5\"/>\n",
       "<text text-anchor=\"middle\" x=\"311.65\" y=\"-75.95\" font-family=\"Times,serif\" font-size=\"14.00\">0.02</text>\n",
       "</g>\n",
       "<!-- x6 -->\n",
       "<g id=\"node7\" class=\"node\">\n",
       "<title>x6</title>\n",
       "<ellipse fill=\"none\" stroke=\"black\" cx=\"449.51\" cy=\"-18\" rx=\"27\" ry=\"18\"/>\n",
       "<text text-anchor=\"middle\" x=\"449.51\" y=\"-13.32\" font-family=\"Times,serif\" font-size=\"14.00\">x6</text>\n",
       "</g>\n",
       "<!-- 7f370003f120&#45;&gt;x6 -->\n",
       "<g id=\"edge6\" class=\"edge\">\n",
       "<title>7f370003f120&#45;&gt;x6</title>\n",
       "<path fill=\"none\" stroke=\"black\" d=\"M242.3,-63.99C256.8,-59.8 275.01,-54.74 291.4,-50.75 332.51,-40.74 380.13,-31.08 412.07,-24.88\"/>\n",
       "<polygon fill=\"black\" stroke=\"black\" points=\"412.44,-28.37 421.6,-23.04 411.12,-21.5 412.44,-28.37\"/>\n",
       "<text text-anchor=\"middle\" x=\"311.65\" y=\"-53.95\" font-family=\"Times,serif\" font-size=\"14.00\">10.47</text>\n",
       "</g>\n",
       "</g>\n",
       "</svg>\n"
      ],
      "text/plain": [
       "<graphviz.sources.Source at 0x7f3709988b90>"
      ]
     },
     "execution_count": 12,
     "metadata": {},
     "output_type": "execute_result"
    }
   ],
   "source": [
    "model = est.best_estimator_.get_dot_model(\"rankdir=LR;\")\n",
    "graphviz.Source(model)"
   ]
  }
 ],
 "metadata": {
  "kernelspec": {
   "display_name": "Python 3 (ipykernel)",
   "language": "python",
   "name": "python3"
  },
  "language_info": {
   "codemirror_mode": {
    "name": "ipython",
    "version": 3
   },
   "file_extension": ".py",
   "mimetype": "text/x-python",
   "name": "python",
   "nbconvert_exporter": "python",
   "pygments_lexer": "ipython3",
   "version": "3.12.2"
  }
 },
 "nbformat": 4,
 "nbformat_minor": 5
}
