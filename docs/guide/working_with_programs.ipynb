{
 "cells": [
  {
   "cell_type": "markdown",
   "id": "e9776d12",
   "metadata": {},
   "source": [
    "# Working with Programs\n",
    "\n",
    "In Brush, a *Program* is an executable data structure. \n",
    "You may think of it as a *model* or a *function* mapping feature inputs to data labels. \n",
    "We call them programs because that's what they are: executable data structures,  \n",
    "and that is what they are called in the genetic algorithm literature, to distinguish them from optimizing bits or strings. \n",
    "\n",
    "The Brush Program class operates similarly to a [sklearn](scikit-learn.org) estimator: it has `fit` and `predict` methods that are called in during training or inference, respectively. \n",
    "\n",
    "\n",
    "## Types of Programs \n",
    "\n",
    "There are four fundamental \"types\" of Brush programs:\n",
    "\n",
    "- **Regressors**: map inputs to a continous endpoint \n",
    "- **Binary Classifiers**: map inputs to a binary endpoint, as well as a continuous value in $[0, 1]$  \n",
    "- **Multi-class Classifiers**: map inputs to a category\n",
    "    - Under development\n",
    "- **Representors**: map inputs to a lower dimensional space. \n",
    "    - Under development\n",
    "\n",
    "## Representation \n",
    "\n",
    "Internally, the programs are represented as syntax trees. \n",
    "We use the [tree.hh tree class](https://github.com/kpeeters/tree.hh) which gives trees an STL-like feel. \n",
    "\n",
    "\n",
    "\n",
    "## Generation\n",
    "\n",
    "We generate random programs using Sean Luke's PTC2 algorithm.  \n",
    "\n",
    "\n",
    "## Evaluation\n",
    "\n",
    "TODO\n",
    "\n",
    "\n"
   ]
  },
  {
   "cell_type": "markdown",
   "id": "8c258669",
   "metadata": {},
   "source": [
    "## Visualizing Programs\n",
    "\n",
    "Programs in Brush are symbolic tree structures, and can be viewed in a few ways: \n",
    "\n",
    "\n",
    "1. As a string using `get_model()`\n",
    "2. As a string-like tree using `get_model(\"tree\")`\n",
    "2. As a graph using `graphviz` and `get_model(\"dot\")`. \n",
    "\n",
    "Let's look at a regresion example."
   ]
  },
  {
   "cell_type": "code",
   "execution_count": null,
   "id": "102e3fcb",
   "metadata": {
    "tags": [
     "remove-output"
    ]
   },
   "outputs": [],
   "source": [
    "import pandas as pd\n",
    "from brush import BrushRegressor\n",
    "from pmlb import fetch_data\n",
    "\n",
    "# load data\n",
    "df = pd.read_csv('../examples/datasets/d_enc.csv')\n",
    "X = df.drop(columns='label')\n",
    "y = df['label']\n",
    "\n"
   ]
  },
  {
   "cell_type": "code",
   "execution_count": null,
   "id": "ac39c9ca",
   "metadata": {},
   "outputs": [],
   "source": [
    "# import and make a regressor\n",
    "est = BrushRegressor(\n",
    "    functions=['SplitBest','Add','Mul','Sin','Cos','Exp','Logabs']\n",
    ")\n",
    "\n",
    "# use like you would a sklearn regressor\n",
    "est.fit(X,y)\n",
    "y_pred = est.predict(X)\n",
    "print('score:', est.score(X,y))"
   ]
  },
  {
   "cell_type": "markdown",
   "id": "a355d8f3",
   "metadata": {},
   "source": [
    "### String\n",
    "\n",
    "Now that we have trained a model, `est.best_estimator_` contains our symbolic model. \n",
    "We can view it as a string:"
   ]
  },
  {
   "cell_type": "code",
   "execution_count": null,
   "id": "316964d5",
   "metadata": {},
   "outputs": [],
   "source": [
    "print(est.best_estimator_.get_model())"
   ]
  },
  {
   "cell_type": "markdown",
   "id": "e7d578bb",
   "metadata": {},
   "source": [
    "### Quick Little Tree\n",
    "\n",
    "Or, we can view it as a compact tree:"
   ]
  },
  {
   "cell_type": "code",
   "execution_count": null,
   "id": "dad68d01",
   "metadata": {},
   "outputs": [],
   "source": [
    "print(est.best_estimator_.get_model(\"tree\"))"
   ]
  },
  {
   "cell_type": "markdown",
   "id": "90068143",
   "metadata": {},
   "source": [
    "### GraphViz\n",
    "\n",
    "If we are feeling fancy 🎩, we can also view it as a graph in dot format. \n",
    "Let's import graphviz and make a nicer plot."
   ]
  },
  {
   "cell_type": "code",
   "execution_count": null,
   "id": "3ef1a735",
   "metadata": {},
   "outputs": [],
   "source": [
    "import graphviz\n",
    "\n",
    "model = est.best_estimator_.get_model(\"dot\")\n",
    "graphviz.Source(model)"
   ]
  },
  {
   "cell_type": "markdown",
   "id": "a2f93509",
   "metadata": {},
   "source": [
    "The `model` variable is now a little program in the [dot language](https://graphviz.org/docs/layouts/dot/), which we can inspect directly. "
   ]
  },
  {
   "cell_type": "code",
   "execution_count": null,
   "id": "1f7e725e",
   "metadata": {},
   "outputs": [],
   "source": [
    "print(model)"
   ]
  },
  {
   "cell_type": "markdown",
   "id": "b9c0154a",
   "metadata": {},
   "source": [
    "### Tweaking Graphs\n",
    "\n",
    "The [dot manual](https://graphviz.org/docs/layouts/dot/) has lots of options for tweaking the graphs. \n",
    "You can do this by manually editing `model`, but brush also provides a function, `get_dot_model()`, to which you can pass additional arguments to dot. \n",
    "\n",
    "For example, let's view the graph from Left-to-Right: "
   ]
  },
  {
   "cell_type": "code",
   "execution_count": null,
   "id": "f35b1e05",
   "metadata": {},
   "outputs": [],
   "source": [
    "model = est.best_estimator_.get_dot_model(\"rankdir=LR;\")\n",
    "graphviz.Source(model)"
   ]
  }
 ],
 "metadata": {
  "kernelspec": {
   "display_name": "Python 3 (ipykernel)",
   "language": "python",
   "name": "python3"
  },
  "language_info": {
   "codemirror_mode": {
    "name": "ipython",
    "version": 3
   },
   "file_extension": ".py",
   "mimetype": "text/x-python",
   "name": "python",
   "nbconvert_exporter": "python",
   "pygments_lexer": "ipython3",
   "version": "3.11.0"
  }
 },
 "nbformat": 4,
 "nbformat_minor": 5
}
