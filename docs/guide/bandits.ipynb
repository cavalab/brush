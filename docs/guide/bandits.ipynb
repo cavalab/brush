{
 "cells": [
  {
   "cell_type": "markdown",
   "metadata": {},
   "source": [
    "# Using bandits to learn probabilities for the search space\n",
    "\n",
    "To learn probabilities for the search space, the `Brush` estimators (not the DEAP!) uses a multi-armed bandit approach. \n",
    "\n",
    "This allows it to dynamically adjust the sampling probabilities of different operations based on their performance.\n",
    "\n",
    "Not only it can learn how to sample terminals, but it also learns which mutations are useful and which are not. This is also important, as the mutations are responsible for sampling from the search space.\n",
    "\n",
    "In this notebook, we show how to set this configuration, and how it changes the probabilities."
   ]
  },
  {
   "cell_type": "code",
   "execution_count": 1,
   "metadata": {},
   "outputs": [],
   "source": [
    "import pandas as pd\n",
    "from pybrush import Dataset, SearchSpace\n",
    "from pybrush import BrushRegressor\n",
    "\n",
    "df = pd.read_csv('../examples/datasets/d_enc.csv')\n",
    "X = df.drop(columns='label')\n",
    "y = df['label']\n",
    "\n",
    "data = Dataset(X,y)\n",
    "\n",
    "search_space = SearchSpace(data)"
   ]
  },
  {
   "cell_type": "markdown",
   "metadata": {},
   "source": [
    "This is the original search space using the loaded dataset. "
   ]
  },
  {
   "cell_type": "code",
   "execution_count": 2,
   "metadata": {},
   "outputs": [
    {
     "name": "stdout",
     "output_type": "stream",
     "text": [
      "=== Search space ===\n",
      "terminal_map: {\"ArrayB\": [\"1.00\"], \"ArrayI\": [\"x_5\", \"x_7\", \"1.00\"], \"ArrayF\": [\"x_0\", \"x_1\", \"x_2\", \"x_3\", \"x_4\", \"x_6\", \"1.00\", \"1.00 (MeanLabel)\"]}\n",
      "terminal_weights: {\"ArrayB\": [-nan], \"ArrayI\": [0.011619061, 0.03579926, 0.023709161], \"ArrayF\": [0.6343385, 0.67299956, 0.42711574, 0.8625447, 0.8957853, 0.20750472, 0.6167148, 0.6167148]}\n",
      "node_map[ArrayI][[\"ArrayF\", \"ArrayI\", \"ArrayI\"]][SplitOn] = 1.00*SplitOn, weight = 1\n",
      "node_map[ArrayI][[\"ArrayI\", \"ArrayI\", \"ArrayI\"]][SplitOn] = 1.00*SplitOn, weight = 1\n",
      "node_map[ArrayI][[\"ArrayI\", \"ArrayI\"]][SplitBest] = 1.00*SplitBest, weight = 1\n",
      "node_map[MatrixF][[\"ArrayF\", \"ArrayF\", \"ArrayF\", \"ArrayF\"]][Logistic] = 1.00*Logistic, weight = 1\n",
      "node_map[MatrixF][[\"ArrayF\", \"ArrayF\", \"ArrayF\", \"ArrayF\"]][Square] = 1.00*Square, weight = 1\n",
      "node_map[MatrixF][[\"ArrayF\", \"ArrayF\", \"ArrayF\", \"ArrayF\"]][Sqrtabs] = 1.00*Sqrtabs, weight = 1\n",
      "node_map[MatrixF][[\"ArrayF\", \"ArrayF\", \"ArrayF\", \"ArrayF\"]][Sqrt] = 1.00*Sqrt, weight = 1\n",
      "node_map[MatrixF][[\"ArrayF\", \"ArrayF\", \"ArrayF\", \"ArrayF\"]][Log1p] = 1.00*Log1p, weight = 1\n",
      "node_map[MatrixF][[\"ArrayF\", \"ArrayF\", \"ArrayF\", \"ArrayF\"]][Logabs] = 1.00*Logabs, weight = 1\n",
      "node_map[MatrixF][[\"ArrayF\", \"ArrayF\", \"ArrayF\", \"ArrayF\"]][Log] = 1.00*Log, weight = 1\n",
      "node_map[MatrixF][[\"ArrayF\", \"ArrayF\", \"ArrayF\", \"ArrayF\"]][Abs] = 1.00*Abs, weight = 1\n",
      "node_map[MatrixF][[\"ArrayF\", \"ArrayF\", \"ArrayF\", \"ArrayF\"]][Exp] = 1.00*Exp, weight = 1\n",
      "node_map[MatrixF][[\"ArrayF\", \"ArrayF\", \"ArrayF\", \"ArrayF\"]][OffsetSum] = 0+Sum, weight = 1\n",
      "node_map[MatrixF][[\"ArrayF\", \"ArrayF\", \"ArrayF\", \"ArrayF\"]][Acos] = 1.00*Acos, weight = 1\n",
      "node_map[MatrixF][[\"ArrayF\", \"ArrayF\", \"ArrayF\", \"ArrayF\"]][Softmax] = 1.00*Softmax, weight = 1\n",
      "node_map[MatrixF][[\"ArrayF\", \"ArrayF\", \"ArrayF\", \"ArrayF\"]][Asin] = 1.00*Asin, weight = 1\n",
      "node_map[MatrixF][[\"ArrayF\", \"ArrayF\", \"ArrayF\", \"ArrayF\"]][Atan] = 1.00*Atan, weight = 1\n",
      "node_map[MatrixF][[\"ArrayF\", \"ArrayF\", \"ArrayF\", \"ArrayF\"]][Cos] = 1.00*Cos, weight = 1\n",
      "node_map[MatrixF][[\"ArrayF\", \"ArrayF\", \"ArrayF\", \"ArrayF\"]][Cosh] = 1.00*Cosh, weight = 1\n",
      "node_map[MatrixF][[\"ArrayF\", \"ArrayF\", \"ArrayF\", \"ArrayF\"]][Sin] = 1.00*Sin, weight = 1\n",
      "node_map[MatrixF][[\"ArrayF\", \"ArrayF\", \"ArrayF\", \"ArrayF\"]][Sinh] = 1.00*Sinh, weight = 1\n",
      "node_map[MatrixF][[\"ArrayF\", \"ArrayF\", \"ArrayF\", \"ArrayF\"]][Tan] = 1.00*Tan, weight = 1\n",
      "node_map[MatrixF][[\"ArrayF\", \"ArrayF\", \"ArrayF\", \"ArrayF\"]][Tanh] = 1.00*Tanh, weight = 1\n",
      "node_map[MatrixF][[\"ArrayF\", \"ArrayF\", \"ArrayF\", \"ArrayF\"]][Ceil] = 1.00*Ceil, weight = 1\n",
      "node_map[MatrixF][[\"ArrayF\", \"ArrayF\", \"ArrayF\", \"ArrayF\"]][Floor] = 1.00*Floor, weight = 1\n",
      "node_map[MatrixF][[\"ArrayF\", \"ArrayF\", \"ArrayF\"]][Logistic] = 1.00*Logistic, weight = 1\n",
      "node_map[MatrixF][[\"ArrayF\", \"ArrayF\", \"ArrayF\"]][Square] = 1.00*Square, weight = 1\n",
      "node_map[MatrixF][[\"ArrayF\", \"ArrayF\", \"ArrayF\"]][Sqrtabs] = 1.00*Sqrtabs, weight = 1\n",
      "node_map[MatrixF][[\"ArrayF\", \"ArrayF\", \"ArrayF\"]][Sqrt] = 1.00*Sqrt, weight = 1\n",
      "node_map[MatrixF][[\"ArrayF\", \"ArrayF\", \"ArrayF\"]][Log1p] = 1.00*Log1p, weight = 1\n",
      "node_map[MatrixF][[\"ArrayF\", \"ArrayF\", \"ArrayF\"]][Logabs] = 1.00*Logabs, weight = 1\n",
      "node_map[MatrixF][[\"ArrayF\", \"ArrayF\", \"ArrayF\"]][Log] = 1.00*Log, weight = 1\n",
      "node_map[MatrixF][[\"ArrayF\", \"ArrayF\", \"ArrayF\"]][Abs] = 1.00*Abs, weight = 1\n",
      "node_map[MatrixF][[\"ArrayF\", \"ArrayF\", \"ArrayF\"]][Exp] = 1.00*Exp, weight = 1\n",
      "node_map[MatrixF][[\"ArrayF\", \"ArrayF\", \"ArrayF\"]][OffsetSum] = 0+Sum, weight = 1\n",
      "node_map[MatrixF][[\"ArrayF\", \"ArrayF\", \"ArrayF\"]][Acos] = 1.00*Acos, weight = 1\n",
      "node_map[MatrixF][[\"ArrayF\", \"ArrayF\", \"ArrayF\"]][Softmax] = 1.00*Softmax, weight = 1\n",
      "node_map[MatrixF][[\"ArrayF\", \"ArrayF\", \"ArrayF\"]][Asin] = 1.00*Asin, weight = 1\n",
      "node_map[MatrixF][[\"ArrayF\", \"ArrayF\", \"ArrayF\"]][Atan] = 1.00*Atan, weight = 1\n",
      "node_map[MatrixF][[\"ArrayF\", \"ArrayF\", \"ArrayF\"]][Cos] = 1.00*Cos, weight = 1\n",
      "node_map[MatrixF][[\"ArrayF\", \"ArrayF\", \"ArrayF\"]][Cosh] = 1.00*Cosh, weight = 1\n",
      "node_map[MatrixF][[\"ArrayF\", \"ArrayF\", \"ArrayF\"]][Sin] = 1.00*Sin, weight = 1\n",
      "node_map[MatrixF][[\"ArrayF\", \"ArrayF\", \"ArrayF\"]][Sinh] = 1.00*Sinh, weight = 1\n",
      "node_map[MatrixF][[\"ArrayF\", \"ArrayF\", \"ArrayF\"]][Tan] = 1.00*Tan, weight = 1\n",
      "node_map[MatrixF][[\"ArrayF\", \"ArrayF\", \"ArrayF\"]][Tanh] = 1.00*Tanh, weight = 1\n",
      "node_map[MatrixF][[\"ArrayF\", \"ArrayF\", \"ArrayF\"]][Ceil] = 1.00*Ceil, weight = 1\n",
      "node_map[MatrixF][[\"ArrayF\", \"ArrayF\", \"ArrayF\"]][Floor] = 1.00*Floor, weight = 1\n",
      "node_map[MatrixF][[\"ArrayF\", \"ArrayF\"]][Logistic] = 1.00*Logistic, weight = 1\n",
      "node_map[MatrixF][[\"ArrayF\", \"ArrayF\"]][Square] = 1.00*Square, weight = 1\n",
      "node_map[MatrixF][[\"ArrayF\", \"ArrayF\"]][Sqrtabs] = 1.00*Sqrtabs, weight = 1\n",
      "node_map[MatrixF][[\"ArrayF\", \"ArrayF\"]][Sqrt] = 1.00*Sqrt, weight = 1\n",
      "node_map[MatrixF][[\"ArrayF\", \"ArrayF\"]][Log1p] = 1.00*Log1p, weight = 1\n",
      "node_map[MatrixF][[\"ArrayF\", \"ArrayF\"]][Logabs] = 1.00*Logabs, weight = 1\n",
      "node_map[MatrixF][[\"ArrayF\", \"ArrayF\"]][Log] = 1.00*Log, weight = 1\n",
      "node_map[MatrixF][[\"ArrayF\", \"ArrayF\"]][Abs] = 1.00*Abs, weight = 1\n",
      "node_map[MatrixF][[\"ArrayF\", \"ArrayF\"]][Exp] = 1.00*Exp, weight = 1\n",
      "node_map[MatrixF][[\"ArrayF\", \"ArrayF\"]][OffsetSum] = 0+Sum, weight = 1\n",
      "node_map[MatrixF][[\"ArrayF\", \"ArrayF\"]][Acos] = 1.00*Acos, weight = 1\n",
      "node_map[MatrixF][[\"ArrayF\", \"ArrayF\"]][Softmax] = 1.00*Softmax, weight = 1\n",
      "node_map[MatrixF][[\"ArrayF\", \"ArrayF\"]][Asin] = 1.00*Asin, weight = 1\n",
      "node_map[MatrixF][[\"ArrayF\", \"ArrayF\"]][Atan] = 1.00*Atan, weight = 1\n",
      "node_map[MatrixF][[\"ArrayF\", \"ArrayF\"]][Cos] = 1.00*Cos, weight = 1\n",
      "node_map[MatrixF][[\"ArrayF\", \"ArrayF\"]][Cosh] = 1.00*Cosh, weight = 1\n",
      "node_map[MatrixF][[\"ArrayF\", \"ArrayF\"]][Sin] = 1.00*Sin, weight = 1\n",
      "node_map[MatrixF][[\"ArrayF\", \"ArrayF\"]][Sinh] = 1.00*Sinh, weight = 1\n",
      "node_map[MatrixF][[\"ArrayF\", \"ArrayF\"]][Tan] = 1.00*Tan, weight = 1\n",
      "node_map[MatrixF][[\"ArrayF\", \"ArrayF\"]][Tanh] = 1.00*Tanh, weight = 1\n",
      "node_map[MatrixF][[\"ArrayF\", \"ArrayF\"]][Ceil] = 1.00*Ceil, weight = 1\n",
      "node_map[MatrixF][[\"ArrayF\", \"ArrayF\"]][Floor] = 1.00*Floor, weight = 1\n",
      "node_map[ArrayF][[\"ArrayI\", \"ArrayF\", \"ArrayF\"]][SplitOn] = 1.00*SplitOn, weight = 1\n",
      "node_map[ArrayF][[\"ArrayF\", \"ArrayF\", \"ArrayF\", \"ArrayF\"]][Sum] = 1.00*Sum, weight = 1\n",
      "node_map[ArrayF][[\"ArrayF\", \"ArrayF\", \"ArrayF\", \"ArrayF\"]][Prod] = 1.00*Prod, weight = 1\n",
      "node_map[ArrayF][[\"ArrayF\", \"ArrayF\", \"ArrayF\", \"ArrayF\"]][Median] = 1.00*Median, weight = 1\n",
      "node_map[ArrayF][[\"ArrayF\", \"ArrayF\", \"ArrayF\", \"ArrayF\"]][Mean] = 1.00*Mean, weight = 1\n",
      "node_map[ArrayF][[\"ArrayF\", \"ArrayF\", \"ArrayF\", \"ArrayF\"]][Max] = 1.00*Max, weight = 1\n",
      "node_map[ArrayF][[\"ArrayF\", \"ArrayF\", \"ArrayF\", \"ArrayF\"]][Min] = 1.00*Min, weight = 1\n",
      "node_map[ArrayF][[\"ArrayF\", \"ArrayF\", \"ArrayF\"]][Sum] = 1.00*Sum, weight = 1\n",
      "node_map[ArrayF][[\"ArrayF\", \"ArrayF\", \"ArrayF\"]][Prod] = 1.00*Prod, weight = 1\n",
      "node_map[ArrayF][[\"ArrayF\", \"ArrayF\", \"ArrayF\"]][Median] = 1.00*Median, weight = 1\n",
      "node_map[ArrayF][[\"ArrayF\", \"ArrayF\", \"ArrayF\"]][SplitOn] = 1.00*SplitOn, weight = 1\n",
      "node_map[ArrayF][[\"ArrayF\", \"ArrayF\", \"ArrayF\"]][Mean] = 1.00*Mean, weight = 1\n",
      "node_map[ArrayF][[\"ArrayF\", \"ArrayF\", \"ArrayF\"]][Max] = 1.00*Max, weight = 1\n",
      "node_map[ArrayF][[\"ArrayF\", \"ArrayF\", \"ArrayF\"]][Min] = 1.00*Min, weight = 1\n",
      "node_map[ArrayF][[\"ArrayF\", \"ArrayF\"]][Div] = 1.00*Div, weight = 1\n",
      "node_map[ArrayF][[\"ArrayF\", \"ArrayF\"]][Mul] = 1.00*Mul, weight = 1\n",
      "node_map[ArrayF][[\"ArrayF\", \"ArrayF\"]][Sub] = 1.00*Sub, weight = 1\n",
      "node_map[ArrayF][[\"ArrayF\", \"ArrayF\"]][Add] = 1.00*Add, weight = 1\n",
      "node_map[ArrayF][[\"ArrayF\", \"ArrayF\"]][Sum] = 1.00*Sum, weight = 1\n",
      "node_map[ArrayF][[\"ArrayF\", \"ArrayF\"]][Prod] = 1.00*Prod, weight = 1\n",
      "node_map[ArrayF][[\"ArrayF\", \"ArrayF\"]][Median] = 1.00*Median, weight = 1\n",
      "node_map[ArrayF][[\"ArrayF\", \"ArrayF\"]][Mean] = 1.00*Mean, weight = 1\n",
      "node_map[ArrayF][[\"ArrayF\", \"ArrayF\"]][SplitBest] = 1.00*SplitBest, weight = 1\n",
      "node_map[ArrayF][[\"ArrayF\", \"ArrayF\"]][Max] = 1.00*Max, weight = 1\n",
      "node_map[ArrayF][[\"ArrayF\", \"ArrayF\"]][Pow] = 1.00*Pow, weight = 1\n",
      "node_map[ArrayF][[\"ArrayF\", \"ArrayF\"]][Min] = 1.00*Min, weight = 1\n",
      "node_map[ArrayF][[\"ArrayF\"]][Logistic] = 1.00*Logistic, weight = 1\n",
      "node_map[ArrayF][[\"ArrayF\"]][Square] = 1.00*Square, weight = 1\n",
      "node_map[ArrayF][[\"ArrayF\"]][Sqrtabs] = 1.00*Sqrtabs, weight = 1\n",
      "node_map[ArrayF][[\"ArrayF\"]][Sqrt] = 1.00*Sqrt, weight = 1\n",
      "node_map[ArrayF][[\"ArrayF\"]][Log1p] = 1.00*Log1p, weight = 1\n",
      "node_map[ArrayF][[\"ArrayF\"]][Logabs] = 1.00*Logabs, weight = 1\n",
      "node_map[ArrayF][[\"ArrayF\"]][Log] = 1.00*Log, weight = 1\n",
      "node_map[ArrayF][[\"ArrayF\"]][Abs] = 1.00*Abs, weight = 1\n",
      "node_map[ArrayF][[\"ArrayF\"]][Exp] = 1.00*Exp, weight = 1\n",
      "node_map[ArrayF][[\"ArrayF\"]][OffsetSum] = 0+Sum, weight = 1\n",
      "node_map[ArrayF][[\"ArrayF\"]][Acos] = 1.00*Acos, weight = 1\n",
      "node_map[ArrayF][[\"ArrayF\"]][Asin] = 1.00*Asin, weight = 1\n",
      "node_map[ArrayF][[\"ArrayF\"]][Atan] = 1.00*Atan, weight = 1\n",
      "node_map[ArrayF][[\"ArrayF\"]][Cos] = 1.00*Cos, weight = 1\n",
      "node_map[ArrayF][[\"ArrayF\"]][Cosh] = 1.00*Cosh, weight = 1\n",
      "node_map[ArrayF][[\"ArrayF\"]][Sin] = 1.00*Sin, weight = 1\n",
      "node_map[ArrayF][[\"ArrayF\"]][Sinh] = 1.00*Sinh, weight = 1\n",
      "node_map[ArrayF][[\"ArrayF\"]][Tan] = 1.00*Tan, weight = 1\n",
      "node_map[ArrayF][[\"ArrayF\"]][Tanh] = 1.00*Tanh, weight = 1\n",
      "node_map[ArrayF][[\"ArrayF\"]][Ceil] = 1.00*Ceil, weight = 1\n",
      "node_map[ArrayF][[\"ArrayF\"]][Floor] = 1.00*Floor, weight = 1\n",
      "\n",
      "None\n"
     ]
    }
   ],
   "source": [
    "print( search_space.print() )"
   ]
  },
  {
   "cell_type": "markdown",
   "metadata": {},
   "source": [
    "There are two important settings for this:\n",
    "\n",
    "- `bandit`, which specifies which strategy will be used to learn the probabilities, and\n",
    "- `weights_init`, which will initialize the sampling probabilities for terminals in the search space based on the correlation between each terminal and the target variable."
   ]
  },
  {
   "cell_type": "code",
   "execution_count": 3,
   "metadata": {},
   "outputs": [],
   "source": [
    "est = BrushRegressor(\n",
    "    functions=['SplitBest','Add','Mul','Sin','Cos','Exp','Logabs'],\n",
    "    max_gens=100,\n",
    "    objectives=[\"error\", \"complexity\"],\n",
    "\n",
    "    # Changing search space sampling probabilities\n",
    "    bandit='thompson',\n",
    "    weights_init=True,\n",
    "    \n",
    "    verbosity=1\n",
    ")"
   ]
  },
  {
   "cell_type": "code",
   "execution_count": 4,
   "metadata": {},
   "outputs": [
    {
     "name": "stdout",
     "output_type": "stream",
     "text": [
      "Completed 100% [====================]\n",
      "saving final population as archive...\n",
      "score: 0.8864496494920485\n"
     ]
    }
   ],
   "source": [
    "est.fit(X,y)\n",
    "y_pred = est.predict(X)\n",
    "print('score:', est.score(X,y))"
   ]
  },
  {
   "cell_type": "markdown",
   "metadata": {},
   "source": [
    "The attribute `search_space_` is an original copy and it is not changed."
   ]
  },
  {
   "cell_type": "code",
   "execution_count": 5,
   "metadata": {},
   "outputs": [
    {
     "name": "stdout",
     "output_type": "stream",
     "text": [
      "=== Search space ===\n",
      "terminal_map: {\"ArrayB\": [\"1.00\"], \"ArrayI\": [\"x5\", \"x7\", \"1.00\"], \"ArrayF\": [\"x0\", \"x1\", \"x2\", \"x3\", \"x4\", \"x6\", \"1.00\", \"1.00 (MeanLabel)\"]}\n",
      "terminal_weights: {\"ArrayB\": [-nan], \"ArrayI\": [0.011619061, 0.03579926, 0.023709161], \"ArrayF\": [0.6343385, 0.67299956, 0.42711574, 0.8625447, 0.8957853, 0.20750472, 0.6167148, 0.6167148]}\n",
      "node_map[ArrayI][[\"ArrayI\", \"ArrayI\"]][SplitBest] = 1.00*SplitBest, weight = 1\n",
      "node_map[MatrixF][[\"ArrayF\", \"ArrayF\", \"ArrayF\", \"ArrayF\"]][Logabs] = 1.00*Logabs, weight = 1\n",
      "node_map[MatrixF][[\"ArrayF\", \"ArrayF\", \"ArrayF\", \"ArrayF\"]][Exp] = 1.00*Exp, weight = 1\n",
      "node_map[MatrixF][[\"ArrayF\", \"ArrayF\", \"ArrayF\", \"ArrayF\"]][Sin] = 1.00*Sin, weight = 1\n",
      "node_map[MatrixF][[\"ArrayF\", \"ArrayF\", \"ArrayF\", \"ArrayF\"]][Cos] = 1.00*Cos, weight = 1\n",
      "node_map[MatrixF][[\"ArrayF\", \"ArrayF\", \"ArrayF\"]][Logabs] = 1.00*Logabs, weight = 1\n",
      "node_map[MatrixF][[\"ArrayF\", \"ArrayF\", \"ArrayF\"]][Exp] = 1.00*Exp, weight = 1\n",
      "node_map[MatrixF][[\"ArrayF\", \"ArrayF\", \"ArrayF\"]][Sin] = 1.00*Sin, weight = 1\n",
      "node_map[MatrixF][[\"ArrayF\", \"ArrayF\", \"ArrayF\"]][Cos] = 1.00*Cos, weight = 1\n",
      "node_map[MatrixF][[\"ArrayF\", \"ArrayF\"]][Logabs] = 1.00*Logabs, weight = 1\n",
      "node_map[MatrixF][[\"ArrayF\", \"ArrayF\"]][Exp] = 1.00*Exp, weight = 1\n",
      "node_map[MatrixF][[\"ArrayF\", \"ArrayF\"]][Sin] = 1.00*Sin, weight = 1\n",
      "node_map[MatrixF][[\"ArrayF\", \"ArrayF\"]][Cos] = 1.00*Cos, weight = 1\n",
      "node_map[ArrayF][[\"ArrayF\", \"ArrayF\"]][SplitBest] = 1.00*SplitBest, weight = 1\n",
      "node_map[ArrayF][[\"ArrayF\", \"ArrayF\"]][Mul] = 1.00*Mul, weight = 1\n",
      "node_map[ArrayF][[\"ArrayF\", \"ArrayF\"]][Add] = 1.00*Add, weight = 1\n",
      "node_map[ArrayF][[\"ArrayF\"]][Logabs] = 1.00*Logabs, weight = 1\n",
      "node_map[ArrayF][[\"ArrayF\"]][Exp] = 1.00*Exp, weight = 1\n",
      "node_map[ArrayF][[\"ArrayF\"]][Sin] = 1.00*Sin, weight = 1\n",
      "node_map[ArrayF][[\"ArrayF\"]][Cos] = 1.00*Cos, weight = 1\n",
      "\n"
     ]
    }
   ],
   "source": [
    "est.search_space_.print()"
   ]
  },
  {
   "cell_type": "markdown",
   "metadata": {},
   "source": [
    "When we call `fit`, the Brush engine is set to run and return the best individual. Then, the engine is stored as an attribute in our estimator, called `engine_`, and we can retrieve the learned probabilities by looking at the engine's search space."
   ]
  },
  {
   "cell_type": "code",
   "execution_count": 6,
   "metadata": {},
   "outputs": [
    {
     "name": "stdout",
     "output_type": "stream",
     "text": [
      "=== Search space ===\n",
      "terminal_map: {\"ArrayB\": [\"1.00\"], \"ArrayI\": [\"x5\", \"x7\", \"1.00\"], \"ArrayF\": [\"x0\", \"x1\", \"x2\", \"x3\", \"x4\", \"x6\", \"1.00\", \"1.00 (MeanLabel)\"]}\n",
      "terminal_weights: {\"ArrayB\": [-nan], \"ArrayI\": [0.5773099, 0.5449126, 0.9365448], \"ArrayF\": [0.6960813, 0.61740744, 0.6442042, 0.586831, 0.58129895, 0.5667866, 0.13848749, 0.17617121]}\n",
      "node_map[ArrayI][[\"ArrayI\", \"ArrayI\"]][SplitBest] = 1.00*SplitBest, weight = 0.935714\n",
      "node_map[MatrixF][[\"ArrayF\", \"ArrayF\", \"ArrayF\", \"ArrayF\"]][Logabs] = 1.00*Logabs, weight = 0.119342044\n",
      "node_map[MatrixF][[\"ArrayF\", \"ArrayF\", \"ArrayF\", \"ArrayF\"]][Exp] = 1.00*Exp, weight = 0.58015406\n",
      "node_map[MatrixF][[\"ArrayF\", \"ArrayF\", \"ArrayF\", \"ArrayF\"]][Sin] = 1.00*Sin, weight = 0.7815636\n",
      "node_map[MatrixF][[\"ArrayF\", \"ArrayF\", \"ArrayF\", \"ArrayF\"]][Cos] = 1.00*Cos, weight = 0.93191224\n",
      "node_map[MatrixF][[\"ArrayF\", \"ArrayF\", \"ArrayF\"]][Logabs] = 1.00*Logabs, weight = 0.119342044\n",
      "node_map[MatrixF][[\"ArrayF\", \"ArrayF\", \"ArrayF\"]][Exp] = 1.00*Exp, weight = 0.58015406\n",
      "node_map[MatrixF][[\"ArrayF\", \"ArrayF\", \"ArrayF\"]][Sin] = 1.00*Sin, weight = 0.7815636\n",
      "node_map[MatrixF][[\"ArrayF\", \"ArrayF\", \"ArrayF\"]][Cos] = 1.00*Cos, weight = 0.93191224\n",
      "node_map[MatrixF][[\"ArrayF\", \"ArrayF\"]][Logabs] = 1.00*Logabs, weight = 0.119342044\n",
      "node_map[MatrixF][[\"ArrayF\", \"ArrayF\"]][Exp] = 1.00*Exp, weight = 0.58015406\n",
      "node_map[MatrixF][[\"ArrayF\", \"ArrayF\"]][Sin] = 1.00*Sin, weight = 0.7815636\n",
      "node_map[MatrixF][[\"ArrayF\", \"ArrayF\"]][Cos] = 1.00*Cos, weight = 0.93191224\n",
      "node_map[ArrayF][[\"ArrayF\", \"ArrayF\"]][SplitBest] = 1.00*SplitBest, weight = 0.79027665\n",
      "node_map[ArrayF][[\"ArrayF\", \"ArrayF\"]][Mul] = 1.00*Mul, weight = 0.54120576\n",
      "node_map[ArrayF][[\"ArrayF\", \"ArrayF\"]][Add] = 1.00*Add, weight = 0.13602638\n",
      "node_map[ArrayF][[\"ArrayF\"]][Logabs] = 1.00*Logabs, weight = 0.49333763\n",
      "node_map[ArrayF][[\"ArrayF\"]][Exp] = 1.00*Exp, weight = 0.19312082\n",
      "node_map[ArrayF][[\"ArrayF\"]][Sin] = 1.00*Sin, weight = 0.6831212\n",
      "node_map[ArrayF][[\"ArrayF\"]][Cos] = 1.00*Cos, weight = 0.33217654\n",
      "\n"
     ]
    }
   ],
   "source": [
    "est.engine_.search_space.print()"
   ]
  },
  {
   "cell_type": "markdown",
   "metadata": {},
   "source": [
    "Mutation probabilities are stored in the parameters, not the search space. The same way that we can have the original and the learned probabilities by looking at the instance references and the instance's engine reference, we can look the learned probabilities."
   ]
  },
  {
   "cell_type": "code",
   "execution_count": 7,
   "metadata": {},
   "outputs": [
    {
     "name": "stdout",
     "output_type": "stream",
     "text": [
      "0.1428571492433548\n",
      "{'delete': 0.1666666716337204, 'insert': 0.1666666716337204, 'point': 0.1666666716337204, 'subtree': 0.1666666716337204, 'toggle_weight_off': 0.1666666716337204, 'toggle_weight_on': 0.1666666716337204}\n"
     ]
    }
   ],
   "source": [
    "print(est.parameters_.cx_prob)\n",
    "print(est.parameters_.mutation_probs)"
   ]
  },
  {
   "cell_type": "code",
   "execution_count": 8,
   "metadata": {},
   "outputs": [
    {
     "name": "stdout",
     "output_type": "stream",
     "text": [
      "0.24751585721969604\n",
      "{'delete': 0.3365027606487274, 'insert': 0.012862366624176502, 'point': 0.5938984155654907, 'subtree': 0.6804305911064148, 'toggle_weight_off': 0.2458513081073761, 'toggle_weight_on': 0.14377430081367493}\n"
     ]
    }
   ],
   "source": [
    "print(est.engine_.params.cx_prob)\n",
    "print(est.engine_.params.mutation_probs)"
   ]
  }
 ],
 "metadata": {
  "kernelspec": {
   "display_name": "brush",
   "language": "python",
   "name": "python3"
  },
  "language_info": {
   "codemirror_mode": {
    "name": "ipython",
    "version": 3
   },
   "file_extension": ".py",
   "mimetype": "text/x-python",
   "name": "python",
   "nbconvert_exporter": "python",
   "pygments_lexer": "ipython3",
   "version": "3.12.2"
  }
 },
 "nbformat": 4,
 "nbformat_minor": 2
}
