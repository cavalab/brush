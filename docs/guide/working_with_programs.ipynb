{
 "cells": [
  {
   "cell_type": "markdown",
   "id": "e9776d12",
   "metadata": {},
   "source": [
    "# Working with Programs\n",
    "\n",
    "In Brush, a *Program* is an executable data structure. \n",
    "You may think of it as a *model* or a *function* mapping feature inputs to data labels. \n",
    "We call them programs because that's what they are: executable data structures,  \n",
    "and that is what they are called in the genetic algorithm literature, to distinguish them from optimizing bits or strings. \n",
    "\n",
    "The Brush Program class operates similarly to a [sklearn](scikit-learn.org) estimator: it has `fit` and `predict` methods that are called in during training or inference, respectively. \n",
    "\n",
    "\n",
    "## Types of Programs \n",
    "\n",
    "There are four fundamental \"types\" of Brush programs:\n",
    "\n",
    "- **Regressors**: map inputs to a continous endpoint \n",
    "- **Binary Classifiers**: map inputs to a binary endpoint, as well as a continuous value in $[0, 1]$  \n",
    "- **Multi-class Classifiers**: map inputs to a category\n",
    "    - Under development\n",
    "- **Representors**: map inputs to a lower dimensional space. \n",
    "    - Under development\n",
    "\n",
    "## Representation \n",
    "\n",
    "Internally, the programs are represented as syntax trees. \n",
    "We use the [tree.hh tree class](https://github.com/kpeeters/tree.hh) which gives trees an STL-like feel. \n",
    "\n",
    "\n",
    "\n",
    "## Generation\n",
    "\n",
    "We generate random programs using Sean Luke's PTC2 algorithm.  \n",
    "\n",
    "\n",
    "## Evaluation\n",
    "\n",
    "TODO\n",
    "\n",
    "\n"
   ]
  },
  {
   "cell_type": "markdown",
   "id": "8c258669",
   "metadata": {},
   "source": [
    "## Visualizing Programs\n",
    "\n",
    "Programs in Brush are symbolic tree structures, and can be viewed in a few ways: \n",
    "\n",
    "\n",
    "1. As a string using `get_model()`\n",
    "2. As a string-like tree using `get_model(\"tree\")`\n",
    "2. As a graph using `graphviz` and `get_model(\"dot\")`. \n",
    "\n",
    "Let's look at a regresion example."
   ]
  },
  {
   "cell_type": "code",
   "execution_count": 1,
   "id": "102e3fcb",
   "metadata": {
    "tags": [
     "remove-output"
    ]
   },
   "outputs": [],
   "source": [
    "import pandas as pd\n",
    "from pybrush import BrushRegressor\n",
    "\n",
    "# load data\n",
    "df = pd.read_csv('../examples/datasets/d_enc.csv')\n",
    "X = df.drop(columns='label')\n",
    "y = df['label']"
   ]
  },
  {
   "cell_type": "code",
   "execution_count": 2,
   "id": "ac39c9ca",
   "metadata": {},
   "outputs": [
    {
     "name": "stdout",
     "output_type": "stream",
     "text": [
      "Completed 100% [====================]\n",
      "saving final population as archive...\n",
      "score: 0.8864496494920485\n"
     ]
    }
   ],
   "source": [
    "# import and make a regressor\n",
    "est = BrushRegressor(\n",
    "    functions=['SplitBest','Add','Mul','Sin','Cos','Exp','Logabs'],\n",
    "    verbosity=1 # set verbosity==1 to see a progress bar\n",
    ")\n",
    "\n",
    "# use like you would a sklearn regressor\n",
    "est.fit(X,y)\n",
    "y_pred = est.predict(X)\n",
    "print('score:', est.score(X,y))"
   ]
  },
  {
   "cell_type": "markdown",
   "id": "5bbd24cd",
   "metadata": {},
   "source": [
    "You can see the fitness of the final individual by accessing the `fitness` attribute. Each fitness value corresponds to the objective of same index defined earlier for the `BrushRegressor` class. By default, it will try to minimize `\"error\"` and `\"size\"`."
   ]
  },
  {
   "cell_type": "code",
   "execution_count": 3,
   "id": "166415c2",
   "metadata": {},
   "outputs": [
    {
     "name": "stdout",
     "output_type": "stream",
     "text": [
      "Fitness(10.263265 19.000000 )\n",
      "['error', 'size']\n"
     ]
    }
   ],
   "source": [
    "print(est.best_estimator_.fitness)\n",
    "print(est.objectives)"
   ]
  },
  {
   "cell_type": "markdown",
   "id": "38b6364e",
   "metadata": {},
   "source": [
    "A `fitness` in Brush is actually more than a tuple. It is a class that has all boolean comparison operators overloaded to allow an ease of use when prototyping with Brush.\n",
    "\n",
    "It also infers the weight of each objective to automatically handle minimization or maximization objetives.\n",
    "\n",
    "To see the weights, you can try:"
   ]
  },
  {
   "cell_type": "code",
   "execution_count": 4,
   "id": "13d0ac5f",
   "metadata": {},
   "outputs": [
    {
     "data": {
      "text/plain": [
       "[-1.0, -1.0]"
      ]
     },
     "execution_count": 4,
     "metadata": {},
     "output_type": "execute_result"
    }
   ],
   "source": [
    "est.best_estimator_.fitness.weights"
   ]
  },
  {
   "cell_type": "markdown",
   "id": "2fc9fe80",
   "metadata": {},
   "source": [
    "Other information of the best estimator can also be accessed through its fitness attribute:"
   ]
  },
  {
   "cell_type": "code",
   "execution_count": 5,
   "id": "de5255e7",
   "metadata": {},
   "outputs": [
    {
     "name": "stdout",
     "output_type": "stream",
     "text": [
      "19\n",
      "6088\n",
      "3\n"
     ]
    }
   ],
   "source": [
    "print(est.best_estimator_.fitness.size)\n",
    "print(est.best_estimator_.fitness.complexity)\n",
    "print(est.best_estimator_.fitness.depth)"
   ]
  },
  {
   "cell_type": "markdown",
   "id": "fe594691",
   "metadata": {},
   "source": [
    "## Serialization \n",
    "\n",
    "Brush let's you serialize the entire individual, or just the program or fitness it wraps. It uses JSON to serialize the objects, and this is implemented with the get and set states of an object:"
   ]
  },
  {
   "cell_type": "code",
   "execution_count": 6,
   "id": "b01ab1fa",
   "metadata": {},
   "outputs": [
    {
     "name": "stdout",
     "output_type": "stream",
     "text": [
      "fitness {'complexity': 6088, 'crowding_dist': 3.4028234663852886e+38, 'dcounter': 0, 'depth': 3, 'dominated': [46, 58, 101, 109, 118, 136, 147, 148, 158, 186], 'linear_complexity': 40, 'loss': 10.263264656066895, 'loss_v': 10.263264656066895, 'rank': 1, 'size': 19, 'values': [10.263264656066895, 19.0], 'weights': [-1.0, -1.0], 'wvalues': [-10.263264656066895, -19.0]}\n",
      "id 202\n",
      "is_fitted_ False\n",
      "objectives ['mse', 'size']\n",
      "parent_id [225]\n",
      "program {'Tree': [{'W': 0.75, 'arg_types': ['ArrayF', 'ArrayF'], 'center_op': True, 'feature': 'x0', 'fixed': False, 'is_weighted': True, 'name': 'SplitBest', 'node_type': 'SplitBest', 'prob_change': 1.0, 'ret_type': 'ArrayF', 'sig_dual_hash': 9996486434638833164, 'sig_hash': 10001460114883919497}, {'W': 0.8050000071525574, 'arg_types': ['ArrayF', 'ArrayF'], 'center_op': True, 'feature': 'x0', 'fixed': False, 'is_weighted': True, 'name': 'SplitBest', 'node_type': 'SplitBest', 'prob_change': 1.0, 'ret_type': 'ArrayF', 'sig_dual_hash': 9996486434638833164, 'sig_hash': 10001460114883919497}, {'W': 30.494491577148438, 'arg_types': [], 'center_op': True, 'feature': 'Cf', 'fixed': False, 'is_weighted': True, 'name': 'Constant', 'node_type': 'Constant', 'prob_change': 0.6167147755622864, 'ret_type': 'ArrayF', 'sig_dual_hash': 509529941281334733, 'sig_hash': 17717457037689164349}, {'W': 49.47871398925781, 'arg_types': [], 'center_op': True, 'feature': 'x0', 'fixed': False, 'is_weighted': True, 'name': 'Terminal', 'node_type': 'Terminal', 'prob_change': 0.6343384981155396, 'ret_type': 'ArrayF', 'sig_dual_hash': 509529941281334733, 'sig_hash': 17717457037689164349}, {'W': 0.02150718681514263, 'arg_types': [], 'center_op': True, 'feature': 'x1', 'fixed': False, 'is_weighted': True, 'name': 'Terminal', 'node_type': 'Terminal', 'prob_change': 0.6729995608329773, 'ret_type': 'ArrayF', 'sig_dual_hash': 509529941281334733, 'sig_hash': 17717457037689164349}], 'is_fitted_': True}\n",
      "variation delete\n"
     ]
    }
   ],
   "source": [
    "estimator_dict = est.best_estimator_.__getstate__()\n",
    "\n",
    "for k, v in estimator_dict.items():\n",
    "    print(k, v)"
   ]
  },
  {
   "cell_type": "markdown",
   "id": "6bcb071b",
   "metadata": {},
   "source": [
    "With serialization, you can use pickle to save and load just programs or even the entire individual."
   ]
  },
  {
   "cell_type": "code",
   "execution_count": 7,
   "id": "b4537631",
   "metadata": {},
   "outputs": [],
   "source": [
    "import pickle\n",
    "import os, tempfile\n",
    "\n",
    "individual_file = os.path.join(tempfile.mkdtemp(), 'individual.json')\n",
    "with open(individual_file, \"wb\") as f:\n",
    "    pickle.dump(est.best_estimator_, f)\n",
    "\n",
    "program_file = os.path.join(tempfile.mkdtemp(), 'program.json')\n",
    "with open(program_file, \"wb\") as f:\n",
    "    pickle.dump(est.best_estimator_.program, f)"
   ]
  },
  {
   "cell_type": "markdown",
   "id": "fff5693d",
   "metadata": {},
   "source": [
    "Then we can load it later with:"
   ]
  },
  {
   "cell_type": "code",
   "execution_count": 8,
   "id": "ee7a20c6",
   "metadata": {},
   "outputs": [
    {
     "name": "stdout",
     "output_type": "stream",
     "text": [
      "If(x0>0.75,If(x0>0.81,30.49,49.48*x0),0.02*x1)\n"
     ]
    }
   ],
   "source": [
    "with open(individual_file, \"rb\") as f:\n",
    "    loaded_estimator = pickle.load(f)\n",
    "    print(loaded_estimator.get_model())"
   ]
  },
  {
   "cell_type": "markdown",
   "id": "a355d8f3",
   "metadata": {},
   "source": [
    "### String\n",
    "\n",
    "Now that we have trained a model, `est.best_estimator_` contains our symbolic model. \n",
    "We can view it as a string:"
   ]
  },
  {
   "cell_type": "code",
   "execution_count": 9,
   "id": "316964d5",
   "metadata": {},
   "outputs": [
    {
     "name": "stdout",
     "output_type": "stream",
     "text": [
      "If(x0>0.75,If(x0>0.81,30.49,49.48*x0),0.02*x1)\n"
     ]
    }
   ],
   "source": [
    "print(est.best_estimator_.get_model())"
   ]
  },
  {
   "cell_type": "markdown",
   "id": "e7d578bb",
   "metadata": {},
   "source": [
    "### Quick Little Tree\n",
    "\n",
    "Or, we can view it as a compact tree:"
   ]
  },
  {
   "cell_type": "code",
   "execution_count": 10,
   "id": "dad68d01",
   "metadata": {},
   "outputs": [
    {
     "name": "stdout",
     "output_type": "stream",
     "text": [
      "If(x0>0.75)\n",
      "|- If(x0>0.81)\n",
      "|  |- 30.49\n",
      "|  |- 49.48*x0\n",
      "|- 0.02*x1\n"
     ]
    }
   ],
   "source": [
    "print(est.best_estimator_.get_model(\"tree\"))"
   ]
  },
  {
   "cell_type": "markdown",
   "id": "90068143",
   "metadata": {},
   "source": [
    "### GraphViz\n",
    "\n",
    "If we are feeling fancy 🎩, we can also view it as a graph in dot format. \n",
    "Let's import graphviz and make a nicer plot."
   ]
  },
  {
   "cell_type": "code",
   "execution_count": 11,
   "id": "3ef1a735",
   "metadata": {},
   "outputs": [
    {
     "data": {
      "image/svg+xml": [
       "<?xml version=\"1.0\" encoding=\"UTF-8\" standalone=\"no\"?>\n",
       "<!DOCTYPE svg PUBLIC \"-//W3C//DTD SVG 1.1//EN\"\n",
       " \"http://www.w3.org/Graphics/SVG/1.1/DTD/svg11.dtd\">\n",
       "<!-- Generated by graphviz version 9.0.0 (20231125.0833)\n",
       " -->\n",
       "<!-- Title: G Pages: 1 -->\n",
       "<svg width=\"221pt\" height=\"279pt\"\n",
       " viewBox=\"0.00 0.00 220.63 279.25\" xmlns=\"http://www.w3.org/2000/svg\" xmlns:xlink=\"http://www.w3.org/1999/xlink\">\n",
       "<g id=\"graph0\" class=\"graph\" transform=\"scale(1 1) rotate(0) translate(4 275.25)\">\n",
       "<title>G</title>\n",
       "<polygon fill=\"white\" stroke=\"none\" points=\"-4,4 -4,-275.25 216.63,-275.25 216.63,4 -4,4\"/>\n",
       "<!-- y -->\n",
       "<g id=\"node1\" class=\"node\">\n",
       "<title>y</title>\n",
       "<polygon fill=\"none\" stroke=\"black\" points=\"160.63,-271.25 106.63,-271.25 106.63,-235.25 160.63,-235.25 160.63,-271.25\"/>\n",
       "<text text-anchor=\"middle\" x=\"133.63\" y=\"-248.57\" font-family=\"Times,serif\" font-size=\"14.00\">y</text>\n",
       "</g>\n",
       "<!-- 7f7f74183100 -->\n",
       "<g id=\"node2\" class=\"node\">\n",
       "<title>7f7f74183100</title>\n",
       "<ellipse fill=\"none\" stroke=\"black\" cx=\"133.63\" cy=\"-164\" rx=\"59.1\" ry=\"18\"/>\n",
       "<text text-anchor=\"middle\" x=\"133.63\" y=\"-159.32\" font-family=\"Times,serif\" font-size=\"14.00\">x0&gt;0.75?</text>\n",
       "</g>\n",
       "<!-- y&#45;&gt;7f7f74183100 -->\n",
       "<g id=\"edge1\" class=\"edge\">\n",
       "<title>y&#45;&gt;7f7f74183100</title>\n",
       "<path fill=\"none\" stroke=\"black\" d=\"M133.63,-235.01C133.63,-223.18 133.63,-207.2 133.63,-193.5\"/>\n",
       "<polygon fill=\"black\" stroke=\"black\" points=\"137.13,-193.72 133.63,-183.72 130.13,-193.72 137.13,-193.72\"/>\n",
       "<text text-anchor=\"middle\" x=\"149.38\" y=\"-203.95\" font-family=\"Times,serif\" font-size=\"14.00\">0.75</text>\n",
       "</g>\n",
       "<!-- 7f7f74182c20 -->\n",
       "<g id=\"node3\" class=\"node\">\n",
       "<title>7f7f74182c20</title>\n",
       "<ellipse fill=\"none\" stroke=\"black\" cx=\"81.63\" cy=\"-91\" rx=\"59.1\" ry=\"18\"/>\n",
       "<text text-anchor=\"middle\" x=\"81.63\" y=\"-86.33\" font-family=\"Times,serif\" font-size=\"14.00\">x0&gt;0.81?</text>\n",
       "</g>\n",
       "<!-- 7f7f74183100&#45;&gt;7f7f74182c20 -->\n",
       "<g id=\"edge2\" class=\"edge\">\n",
       "<title>7f7f74183100&#45;&gt;7f7f74182c20</title>\n",
       "<path fill=\"none\" stroke=\"black\" d=\"M121.31,-146.17C115.09,-137.69 107.42,-127.21 100.48,-117.73\"/>\n",
       "<polygon fill=\"black\" stroke=\"black\" points=\"103.5,-115.93 94.76,-109.93 97.85,-120.06 103.5,-115.93\"/>\n",
       "<text text-anchor=\"middle\" x=\"116.81\" y=\"-132.87\" font-family=\"Times,serif\" font-size=\"14.00\">Y</text>\n",
       "</g>\n",
       "<!-- x1 -->\n",
       "<g id=\"node4\" class=\"node\">\n",
       "<title>x1</title>\n",
       "<ellipse fill=\"none\" stroke=\"black\" cx=\"185.63\" cy=\"-91\" rx=\"27\" ry=\"18\"/>\n",
       "<text text-anchor=\"middle\" x=\"185.63\" y=\"-86.33\" font-family=\"Times,serif\" font-size=\"14.00\">x1</text>\n",
       "</g>\n",
       "<!-- 7f7f74183100&#45;&gt;x1 -->\n",
       "<g id=\"edge3\" class=\"edge\">\n",
       "<title>7f7f74183100&#45;&gt;x1</title>\n",
       "<path fill=\"none\" stroke=\"black\" d=\"M145.96,-146.17C152.35,-137.44 160.3,-126.6 167.39,-116.91\"/>\n",
       "<polygon fill=\"black\" stroke=\"black\" points=\"170.13,-119.09 173.22,-108.95 164.48,-114.95 170.13,-119.09\"/>\n",
       "<text text-anchor=\"middle\" x=\"158.36\" y=\"-111.68\" font-family=\"Times,serif\" font-size=\"14.00\">0.02</text>\n",
       "<text text-anchor=\"middle\" x=\"139.96\" y=\"-132.87\" font-family=\"Times,serif\" font-size=\"14.00\">N</text>\n",
       "</g>\n",
       "<!-- 7f7f74183040 -->\n",
       "<g id=\"node5\" class=\"node\">\n",
       "<title>7f7f74183040</title>\n",
       "<ellipse fill=\"none\" stroke=\"black\" cx=\"39.63\" cy=\"-18\" rx=\"39.63\" ry=\"18\"/>\n",
       "<text text-anchor=\"middle\" x=\"39.63\" y=\"-13.32\" font-family=\"Times,serif\" font-size=\"14.00\">30.49</text>\n",
       "</g>\n",
       "<!-- 7f7f74182c20&#45;&gt;7f7f74183040 -->\n",
       "<g id=\"edge4\" class=\"edge\">\n",
       "<title>7f7f74182c20&#45;&gt;7f7f74183040</title>\n",
       "<path fill=\"none\" stroke=\"black\" d=\"M71.47,-72.81C66.6,-64.58 60.66,-54.54 55.24,-45.38\"/>\n",
       "<polygon fill=\"black\" stroke=\"black\" points=\"58.29,-43.67 50.19,-36.84 52.27,-47.23 58.29,-43.67\"/>\n",
       "<text text-anchor=\"middle\" x=\"66.97\" y=\"-59.51\" font-family=\"Times,serif\" font-size=\"14.00\">Y</text>\n",
       "</g>\n",
       "<!-- x0 -->\n",
       "<g id=\"node6\" class=\"node\">\n",
       "<title>x0</title>\n",
       "<ellipse fill=\"none\" stroke=\"black\" cx=\"124.63\" cy=\"-18\" rx=\"27\" ry=\"18\"/>\n",
       "<text text-anchor=\"middle\" x=\"124.63\" y=\"-13.32\" font-family=\"Times,serif\" font-size=\"14.00\">x0</text>\n",
       "</g>\n",
       "<!-- 7f7f74182c20&#45;&gt;x0 -->\n",
       "<g id=\"edge5\" class=\"edge\">\n",
       "<title>7f7f74182c20&#45;&gt;x0</title>\n",
       "<path fill=\"none\" stroke=\"black\" d=\"M92.04,-72.81C97.15,-64.37 103.42,-54.03 109.08,-44.68\"/>\n",
       "<polygon fill=\"black\" stroke=\"black\" points=\"111.94,-46.72 114.13,-36.35 105.95,-43.09 111.94,-46.72\"/>\n",
       "<text text-anchor=\"middle\" x=\"94.66\" y=\"-39.01\" font-family=\"Times,serif\" font-size=\"14.00\">49.48</text>\n",
       "<text text-anchor=\"middle\" x=\"86.04\" y=\"-59.51\" font-family=\"Times,serif\" font-size=\"14.00\">N</text>\n",
       "</g>\n",
       "</g>\n",
       "</svg>\n"
      ],
      "text/plain": [
       "<graphviz.sources.Source at 0x7f7f7a518740>"
      ]
     },
     "execution_count": 11,
     "metadata": {},
     "output_type": "execute_result"
    }
   ],
   "source": [
    "import graphviz\n",
    "\n",
    "model = est.best_estimator_.get_model(\"dot\")\n",
    "graphviz.Source(model)"
   ]
  },
  {
   "cell_type": "markdown",
   "id": "a2f93509",
   "metadata": {},
   "source": [
    "The `model` variable is now a little program in the [dot language](https://graphviz.org/docs/layouts/dot/), which we can inspect directly. "
   ]
  },
  {
   "cell_type": "code",
   "execution_count": 12,
   "id": "1f7e725e",
   "metadata": {},
   "outputs": [
    {
     "name": "stdout",
     "output_type": "stream",
     "text": [
      "digraph G {\n",
      "y [shape=box];\n",
      "y -> \"7f7f74183100\" [label=\"0.75\"];\n",
      "\"7f7f74183100\" [label=\"x0>0.75?\"];\n",
      "\"7f7f74183100\" -> \"7f7f74182c20\" [headlabel=\"\",taillabel=\"Y\"];\n",
      "\"7f7f74183100\" -> \"x1\" [headlabel=\"0.02\",taillabel=\"N\"];\n",
      "\"7f7f74182c20\" [label=\"x0>0.81?\"];\n",
      "\"7f7f74182c20\" -> \"7f7f74183040\" [headlabel=\"\",taillabel=\"Y\"];\n",
      "\"7f7f74182c20\" -> \"x0\" [headlabel=\"49.48\",taillabel=\"N\"];\n",
      "\"7f7f74183040\" [label=\"30.49\"];\n",
      "\"x0\" [label=\"x0\"];\n",
      "\"x1\" [label=\"x1\"];\n",
      "}\n",
      "\n"
     ]
    }
   ],
   "source": [
    "print(model)"
   ]
  },
  {
   "cell_type": "markdown",
   "id": "b9c0154a",
   "metadata": {},
   "source": [
    "### Tweaking Graphs\n",
    "\n",
    "The [dot manual](https://graphviz.org/docs/layouts/dot/) has lots of options for tweaking the graphs. \n",
    "You can do this by manually editing `model`, but brush also provides a function, `get_dot_model()`, to which you can pass additional arguments to dot. \n",
    "\n",
    "For example, let's view the graph from Left-to-Right: "
   ]
  },
  {
   "cell_type": "code",
   "execution_count": 13,
   "id": "f35b1e05",
   "metadata": {},
   "outputs": [
    {
     "data": {
      "image/svg+xml": [
       "<?xml version=\"1.0\" encoding=\"UTF-8\" standalone=\"no\"?>\n",
       "<!DOCTYPE svg PUBLIC \"-//W3C//DTD SVG 1.1//EN\"\n",
       " \"http://www.w3.org/Graphics/SVG/1.1/DTD/svg11.dtd\">\n",
       "<!-- Generated by graphviz version 9.0.0 (20231125.0833)\n",
       " -->\n",
       "<!-- Title: G Pages: 1 -->\n",
       "<svg width=\"519pt\" height=\"125pt\"\n",
       " viewBox=\"0.00 0.00 519.17 125.00\" xmlns=\"http://www.w3.org/2000/svg\" xmlns:xlink=\"http://www.w3.org/1999/xlink\">\n",
       "<g id=\"graph0\" class=\"graph\" transform=\"scale(1 1) rotate(0) translate(4 121)\">\n",
       "<title>G</title>\n",
       "<polygon fill=\"white\" stroke=\"none\" points=\"-4,4 -4,-121 515.17,-121 515.17,4 -4,4\"/>\n",
       "<!-- y -->\n",
       "<g id=\"node1\" class=\"node\">\n",
       "<title>y</title>\n",
       "<polygon fill=\"none\" stroke=\"black\" points=\"54,-48 0,-48 0,-12 54,-12 54,-48\"/>\n",
       "<text text-anchor=\"middle\" x=\"27\" y=\"-25.32\" font-family=\"Times,serif\" font-size=\"14.00\">y</text>\n",
       "</g>\n",
       "<!-- 7f7f74183100 -->\n",
       "<g id=\"node2\" class=\"node\">\n",
       "<title>7f7f74183100</title>\n",
       "<ellipse fill=\"none\" stroke=\"black\" cx=\"180.6\" cy=\"-30\" rx=\"59.1\" ry=\"18\"/>\n",
       "<text text-anchor=\"middle\" x=\"180.6\" y=\"-25.32\" font-family=\"Times,serif\" font-size=\"14.00\">x0&gt;0.75?</text>\n",
       "</g>\n",
       "<!-- y&#45;&gt;7f7f74183100 -->\n",
       "<g id=\"edge1\" class=\"edge\">\n",
       "<title>y&#45;&gt;7f7f74183100</title>\n",
       "<path fill=\"none\" stroke=\"black\" d=\"M54.41,-30C69.8,-30 89.99,-30 109.66,-30\"/>\n",
       "<polygon fill=\"black\" stroke=\"black\" points=\"109.63,-33.5 119.63,-30 109.63,-26.5 109.63,-33.5\"/>\n",
       "<text text-anchor=\"middle\" x=\"87.75\" y=\"-33.95\" font-family=\"Times,serif\" font-size=\"14.00\">0.75</text>\n",
       "</g>\n",
       "<!-- 7f7f74182c20 -->\n",
       "<g id=\"node3\" class=\"node\">\n",
       "<title>7f7f74182c20</title>\n",
       "<ellipse fill=\"none\" stroke=\"black\" cx=\"335.8\" cy=\"-72\" rx=\"59.1\" ry=\"18\"/>\n",
       "<text text-anchor=\"middle\" x=\"335.8\" y=\"-67.33\" font-family=\"Times,serif\" font-size=\"14.00\">x0&gt;0.81?</text>\n",
       "</g>\n",
       "<!-- 7f7f74183100&#45;&gt;7f7f74182c20 -->\n",
       "<g id=\"edge2\" class=\"edge\">\n",
       "<title>7f7f74183100&#45;&gt;7f7f74182c20</title>\n",
       "<path fill=\"none\" stroke=\"black\" d=\"M225.5,-42.04C242.49,-46.69 262.12,-52.07 280.01,-56.98\"/>\n",
       "<polygon fill=\"black\" stroke=\"black\" points=\"278.86,-60.29 289.43,-59.56 280.71,-53.54 278.86,-60.29\"/>\n",
       "<text text-anchor=\"middle\" x=\"221\" y=\"-45.99\" font-family=\"Times,serif\" font-size=\"14.00\">Y</text>\n",
       "</g>\n",
       "<!-- x1 -->\n",
       "<g id=\"node4\" class=\"node\">\n",
       "<title>x1</title>\n",
       "<ellipse fill=\"none\" stroke=\"black\" cx=\"335.8\" cy=\"-18\" rx=\"27\" ry=\"18\"/>\n",
       "<text text-anchor=\"middle\" x=\"335.8\" y=\"-13.32\" font-family=\"Times,serif\" font-size=\"14.00\">x1</text>\n",
       "</g>\n",
       "<!-- 7f7f74183100&#45;&gt;x1 -->\n",
       "<g id=\"edge3\" class=\"edge\">\n",
       "<title>7f7f74183100&#45;&gt;x1</title>\n",
       "<path fill=\"none\" stroke=\"black\" d=\"M238.21,-25.57C257.97,-24.02 279.64,-22.32 297.44,-20.93\"/>\n",
       "<polygon fill=\"black\" stroke=\"black\" points=\"297.59,-24.43 307.29,-20.15 297.05,-17.45 297.59,-24.43\"/>\n",
       "<text text-anchor=\"middle\" x=\"293.05\" y=\"-6.74\" font-family=\"Times,serif\" font-size=\"14.00\">0.02</text>\n",
       "<text text-anchor=\"middle\" x=\"244.21\" y=\"-12.27\" font-family=\"Times,serif\" font-size=\"14.00\">N</text>\n",
       "</g>\n",
       "<!-- 7f7f74183040 -->\n",
       "<g id=\"node5\" class=\"node\">\n",
       "<title>7f7f74183040</title>\n",
       "<ellipse fill=\"none\" stroke=\"black\" cx=\"471.53\" cy=\"-99\" rx=\"39.63\" ry=\"18\"/>\n",
       "<text text-anchor=\"middle\" x=\"471.53\" y=\"-94.33\" font-family=\"Times,serif\" font-size=\"14.00\">30.49</text>\n",
       "</g>\n",
       "<!-- 7f7f74182c20&#45;&gt;7f7f74183040 -->\n",
       "<g id=\"edge4\" class=\"edge\">\n",
       "<title>7f7f74182c20&#45;&gt;7f7f74183040</title>\n",
       "<path fill=\"none\" stroke=\"black\" d=\"M385.84,-81.9C398.28,-84.41 411.61,-87.1 423.93,-89.59\"/>\n",
       "<polygon fill=\"black\" stroke=\"black\" points=\"422.92,-92.96 433.42,-91.51 424.31,-86.1 422.92,-92.96\"/>\n",
       "<text text-anchor=\"middle\" x=\"381.34\" y=\"-85.85\" font-family=\"Times,serif\" font-size=\"14.00\">Y</text>\n",
       "</g>\n",
       "<!-- x0 -->\n",
       "<g id=\"node6\" class=\"node\">\n",
       "<title>x0</title>\n",
       "<ellipse fill=\"none\" stroke=\"black\" cx=\"471.53\" cy=\"-45\" rx=\"27\" ry=\"18\"/>\n",
       "<text text-anchor=\"middle\" x=\"471.53\" y=\"-40.33\" font-family=\"Times,serif\" font-size=\"14.00\">x0</text>\n",
       "</g>\n",
       "<!-- 7f7f74182c20&#45;&gt;x0 -->\n",
       "<g id=\"edge5\" class=\"edge\">\n",
       "<title>7f7f74182c20&#45;&gt;x0</title>\n",
       "<path fill=\"none\" stroke=\"black\" d=\"M385.84,-62.1C401.72,-58.89 419.05,-55.39 433.87,-52.4\"/>\n",
       "<polygon fill=\"black\" stroke=\"black\" points=\"434.55,-55.84 443.66,-50.43 433.17,-48.97 434.55,-55.84\"/>\n",
       "<text text-anchor=\"middle\" x=\"424.89\" y=\"-36.83\" font-family=\"Times,serif\" font-size=\"14.00\">49.48</text>\n",
       "<text text-anchor=\"middle\" x=\"391.84\" y=\"-48.8\" font-family=\"Times,serif\" font-size=\"14.00\">N</text>\n",
       "</g>\n",
       "</g>\n",
       "</svg>\n"
      ],
      "text/plain": [
       "<graphviz.sources.Source at 0x7f7f7a55c0e0>"
      ]
     },
     "execution_count": 13,
     "metadata": {},
     "output_type": "execute_result"
    }
   ],
   "source": [
    "model = est.best_estimator_.get_dot_model(\"rankdir=LR;\")\n",
    "graphviz.Source(model)"
   ]
  },
  {
   "cell_type": "markdown",
   "id": "512434e7",
   "metadata": {},
   "source": [
    "### A classification example"
   ]
  },
  {
   "cell_type": "code",
   "execution_count": 14,
   "id": "4ca564f3",
   "metadata": {},
   "outputs": [
    {
     "name": "stdout",
     "output_type": "stream",
     "text": [
      "Completed 100% [====================]\n",
      "saving final population as archive...\n",
      "Best model: Logistic(Sum(-0.16,0.37*Max(-1.84*Race,-3.42,0.00,6.25*AIDS)))\n",
      "score: 0.68\n"
     ]
    },
    {
     "data": {
      "image/svg+xml": [
       "<?xml version=\"1.0\" encoding=\"UTF-8\" standalone=\"no\"?>\n",
       "<!DOCTYPE svg PUBLIC \"-//W3C//DTD SVG 1.1//EN\"\n",
       " \"http://www.w3.org/Graphics/SVG/1.1/DTD/svg11.dtd\">\n",
       "<!-- Generated by graphviz version 9.0.0 (20231125.0833)\n",
       " -->\n",
       "<!-- Title: G Pages: 1 -->\n",
       "<svg width=\"346pt\" height=\"296pt\"\n",
       " viewBox=\"0.00 0.00 345.90 295.50\" xmlns=\"http://www.w3.org/2000/svg\" xmlns:xlink=\"http://www.w3.org/1999/xlink\">\n",
       "<g id=\"graph0\" class=\"graph\" transform=\"scale(1 1) rotate(0) translate(4 291.5)\">\n",
       "<title>G</title>\n",
       "<polygon fill=\"white\" stroke=\"none\" points=\"-4,4 -4,-291.5 341.9,-291.5 341.9,4 -4,4\"/>\n",
       "<!-- 7f7f7402e880 -->\n",
       "<g id=\"node1\" class=\"node\">\n",
       "<title>7f7f7402e880</title>\n",
       "<ellipse fill=\"none\" stroke=\"black\" cx=\"212.42\" cy=\"-269.5\" rx=\"50.68\" ry=\"18\"/>\n",
       "<text text-anchor=\"middle\" x=\"212.42\" y=\"-264.82\" font-family=\"Times,serif\" font-size=\"14.00\">Logistic</text>\n",
       "</g>\n",
       "<!-- 7f7f7402e940 -->\n",
       "<g id=\"node2\" class=\"node\">\n",
       "<title>7f7f7402e940</title>\n",
       "<ellipse fill=\"none\" stroke=\"black\" cx=\"212.42\" cy=\"-196.5\" rx=\"30.69\" ry=\"18\"/>\n",
       "<text text-anchor=\"middle\" x=\"212.42\" y=\"-191.82\" font-family=\"Times,serif\" font-size=\"14.00\">Add</text>\n",
       "</g>\n",
       "<!-- 7f7f7402e880&#45;&gt;7f7f7402e940 -->\n",
       "<g id=\"edge1\" class=\"edge\">\n",
       "<title>7f7f7402e880&#45;&gt;7f7f7402e940</title>\n",
       "<path fill=\"none\" stroke=\"black\" d=\"M212.42,-251.31C212.42,-243.73 212.42,-234.6 212.42,-226.04\"/>\n",
       "<polygon fill=\"black\" stroke=\"black\" points=\"215.92,-226.04 212.42,-216.04 208.92,-226.04 215.92,-226.04\"/>\n",
       "</g>\n",
       "<!-- 7f7f740dd3a0 -->\n",
       "<g id=\"node3\" class=\"node\">\n",
       "<title>7f7f740dd3a0</title>\n",
       "<ellipse fill=\"none\" stroke=\"black\" cx=\"169.42\" cy=\"-107.25\" rx=\"32.79\" ry=\"18\"/>\n",
       "<text text-anchor=\"middle\" x=\"169.42\" y=\"-102.58\" font-family=\"Times,serif\" font-size=\"14.00\">Max</text>\n",
       "</g>\n",
       "<!-- 7f7f7402e940&#45;&gt;7f7f740dd3a0 -->\n",
       "<g id=\"edge2\" class=\"edge\">\n",
       "<title>7f7f7402e940&#45;&gt;7f7f740dd3a0</title>\n",
       "<path fill=\"none\" stroke=\"black\" d=\"M204.13,-178.68C198.07,-166.37 189.71,-149.4 182.71,-135.21\"/>\n",
       "<polygon fill=\"black\" stroke=\"black\" points=\"185.92,-133.8 178.36,-126.38 179.64,-136.9 185.92,-133.8\"/>\n",
       "<text text-anchor=\"middle\" x=\"211.17\" y=\"-147.2\" font-family=\"Times,serif\" font-size=\"14.00\">0.37</text>\n",
       "</g>\n",
       "<!-- 7f7f7402e940Offset -->\n",
       "<g id=\"node4\" class=\"node\">\n",
       "<title>7f7f7402e940Offset</title>\n",
       "<ellipse fill=\"none\" stroke=\"black\" cx=\"256.42\" cy=\"-107.25\" rx=\"36.48\" ry=\"18\"/>\n",
       "<text text-anchor=\"middle\" x=\"256.42\" y=\"-102.58\" font-family=\"Times,serif\" font-size=\"14.00\">&#45;0.16</text>\n",
       "</g>\n",
       "<!-- 7f7f7402e940&#45;&gt;7f7f7402e940Offset -->\n",
       "<g id=\"edge3\" class=\"edge\">\n",
       "<title>7f7f7402e940&#45;&gt;7f7f7402e940Offset</title>\n",
       "<path fill=\"none\" stroke=\"black\" d=\"M221.08,-178.79C224.06,-173 227.4,-166.48 230.42,-160.5 234.56,-152.33 239.02,-143.41 243.05,-135.3\"/>\n",
       "<polygon fill=\"black\" stroke=\"black\" points=\"246.07,-137.09 247.38,-126.58 239.8,-133.98 246.07,-137.09\"/>\n",
       "</g>\n",
       "<!-- Race -->\n",
       "<g id=\"node5\" class=\"node\">\n",
       "<title>Race</title>\n",
       "<ellipse fill=\"none\" stroke=\"black\" cx=\"35.42\" cy=\"-18\" rx=\"35.42\" ry=\"18\"/>\n",
       "<text text-anchor=\"middle\" x=\"35.42\" y=\"-13.32\" font-family=\"Times,serif\" font-size=\"14.00\">Race</text>\n",
       "</g>\n",
       "<!-- 7f7f740dd3a0&#45;&gt;Race -->\n",
       "<g id=\"edge4\" class=\"edge\">\n",
       "<title>7f7f740dd3a0&#45;&gt;Race</title>\n",
       "<path fill=\"none\" stroke=\"black\" d=\"M145.45,-94.47C132.96,-88.05 117.58,-79.7 104.42,-71.25 90.02,-62 74.77,-50.63 62.27,-40.86\"/>\n",
       "<polygon fill=\"black\" stroke=\"black\" points=\"64.52,-38.17 54.51,-34.71 60.17,-43.66 64.52,-38.17\"/>\n",
       "<text text-anchor=\"middle\" x=\"122.42\" y=\"-57.95\" font-family=\"Times,serif\" font-size=\"14.00\">&#45;1.84</text>\n",
       "</g>\n",
       "<!-- 7f7f7402eac0 -->\n",
       "<g id=\"node6\" class=\"node\">\n",
       "<title>7f7f7402eac0</title>\n",
       "<ellipse fill=\"none\" stroke=\"black\" cx=\"125.42\" cy=\"-18\" rx=\"36.48\" ry=\"18\"/>\n",
       "<text text-anchor=\"middle\" x=\"125.42\" y=\"-13.32\" font-family=\"Times,serif\" font-size=\"14.00\">&#45;3.42</text>\n",
       "</g>\n",
       "<!-- 7f7f740dd3a0&#45;&gt;7f7f7402eac0 -->\n",
       "<g id=\"edge5\" class=\"edge\">\n",
       "<title>7f7f740dd3a0&#45;&gt;7f7f7402eac0</title>\n",
       "<path fill=\"none\" stroke=\"black\" d=\"M160.94,-89.43C154.73,-77.12 146.18,-60.15 139.02,-45.96\"/>\n",
       "<polygon fill=\"black\" stroke=\"black\" points=\"142.19,-44.48 134.56,-37.12 135.94,-47.63 142.19,-44.48\"/>\n",
       "</g>\n",
       "<!-- 7f7f7410e1e0 -->\n",
       "<g id=\"node7\" class=\"node\">\n",
       "<title>7f7f7410e1e0</title>\n",
       "<ellipse fill=\"none\" stroke=\"black\" cx=\"213.42\" cy=\"-18\" rx=\"33.32\" ry=\"18\"/>\n",
       "<text text-anchor=\"middle\" x=\"213.42\" y=\"-13.32\" font-family=\"Times,serif\" font-size=\"14.00\">0.00</text>\n",
       "</g>\n",
       "<!-- 7f7f740dd3a0&#45;&gt;7f7f7410e1e0 -->\n",
       "<g id=\"edge6\" class=\"edge\">\n",
       "<title>7f7f740dd3a0&#45;&gt;7f7f7410e1e0</title>\n",
       "<path fill=\"none\" stroke=\"black\" d=\"M177.91,-89.43C184.12,-77.12 192.67,-60.15 199.83,-45.96\"/>\n",
       "<polygon fill=\"black\" stroke=\"black\" points=\"202.91,-47.63 204.29,-37.12 196.66,-44.48 202.91,-47.63\"/>\n",
       "</g>\n",
       "<!-- AIDS -->\n",
       "<g id=\"node8\" class=\"node\">\n",
       "<title>AIDS</title>\n",
       "<ellipse fill=\"none\" stroke=\"black\" cx=\"301.42\" cy=\"-18\" rx=\"36.48\" ry=\"18\"/>\n",
       "<text text-anchor=\"middle\" x=\"301.42\" y=\"-13.32\" font-family=\"Times,serif\" font-size=\"14.00\">AIDS</text>\n",
       "</g>\n",
       "<!-- 7f7f740dd3a0&#45;&gt;AIDS -->\n",
       "<g id=\"edge7\" class=\"edge\">\n",
       "<title>7f7f740dd3a0&#45;&gt;AIDS</title>\n",
       "<path fill=\"none\" stroke=\"black\" d=\"M189.76,-92.81C211.47,-78.46 246.1,-55.57 271.04,-39.08\"/>\n",
       "<polygon fill=\"black\" stroke=\"black\" points=\"272.74,-42.16 279.15,-33.72 268.88,-36.32 272.74,-42.16\"/>\n",
       "<text text-anchor=\"middle\" x=\"263.17\" y=\"-57.95\" font-family=\"Times,serif\" font-size=\"14.00\">6.25</text>\n",
       "</g>\n",
       "</g>\n",
       "</svg>\n"
      ],
      "text/plain": [
       "<graphviz.sources.Source at 0x7f7fb8037650>"
      ]
     },
     "execution_count": 14,
     "metadata": {},
     "output_type": "execute_result"
    }
   ],
   "source": [
    "from pybrush import BrushClassifier\n",
    "from sklearn.preprocessing import StandardScaler\n",
    "\n",
    "# load data\n",
    "df = pd.read_csv('../examples/datasets/d_analcatdata_aids.csv')\n",
    "X = df.drop(columns='target')\n",
    "y = df['target']\n",
    "\n",
    "if True:\n",
    "    scl = StandardScaler().fit(X)\n",
    "    X = pd.DataFrame(scl.transform(X), columns=X.columns)\n",
    "\n",
    "est = BrushClassifier(\n",
    "    # functions=['SplitOn', 'SplitBest', 'Sin','Cos','Exp'],\n",
    "    max_gens=100,\n",
    "    objectives=[\"error\", \"linear_complexity\"],  \n",
    "    scorer=\"average_precision_score\",\n",
    "    pop_size=100,\n",
    "    bandit='dynamic_thompson',\n",
    "    verbosity=1\n",
    ")\n",
    "\n",
    "est.fit(X,y)\n",
    "\n",
    "print(\"Best model:\", est.best_estimator_.get_model())\n",
    "print('score:', est.score(X,y))\n",
    "\n",
    "model = est.best_estimator_.get_dot_model()\n",
    "graphviz.Source(model)"
   ]
  },
  {
   "cell_type": "code",
   "execution_count": 15,
   "id": "6018bafe",
   "metadata": {},
   "outputs": [
    {
     "name": "stdout",
     "output_type": "stream",
     "text": [
      "Completed 100% [====================]\n",
      "saving final population as archive...\n",
      "Best model: Logistic(Sum(-0.62,If(AIDS>0.41,10.13,-0.70*Total)))\n",
      "score: 0.68\n"
     ]
    },
    {
     "data": {
      "image/svg+xml": [
       "<?xml version=\"1.0\" encoding=\"UTF-8\" standalone=\"no\"?>\n",
       "<!DOCTYPE svg PUBLIC \"-//W3C//DTD SVG 1.1//EN\"\n",
       " \"http://www.w3.org/Graphics/SVG/1.1/DTD/svg11.dtd\">\n",
       "<!-- Generated by graphviz version 9.0.0 (20231125.0833)\n",
       " -->\n",
       "<!-- Title: G Pages: 1 -->\n",
       "<svg width=\"258pt\" height=\"260pt\"\n",
       " viewBox=\"0.00 0.00 258.11 260.00\" xmlns=\"http://www.w3.org/2000/svg\" xmlns:xlink=\"http://www.w3.org/1999/xlink\">\n",
       "<g id=\"graph0\" class=\"graph\" transform=\"scale(1 1) rotate(0) translate(4 256)\">\n",
       "<title>G</title>\n",
       "<polygon fill=\"white\" stroke=\"none\" points=\"-4,4 -4,-256 254.11,-256 254.11,4 -4,4\"/>\n",
       "<!-- 7f7f74033b70 -->\n",
       "<g id=\"node1\" class=\"node\">\n",
       "<title>7f7f74033b70</title>\n",
       "<ellipse fill=\"none\" stroke=\"black\" cx=\"149.63\" cy=\"-234\" rx=\"50.68\" ry=\"18\"/>\n",
       "<text text-anchor=\"middle\" x=\"149.63\" y=\"-229.32\" font-family=\"Times,serif\" font-size=\"14.00\">Logistic</text>\n",
       "</g>\n",
       "<!-- 7f7f7402e500 -->\n",
       "<g id=\"node2\" class=\"node\">\n",
       "<title>7f7f7402e500</title>\n",
       "<ellipse fill=\"none\" stroke=\"black\" cx=\"149.63\" cy=\"-162\" rx=\"30.69\" ry=\"18\"/>\n",
       "<text text-anchor=\"middle\" x=\"149.63\" y=\"-157.32\" font-family=\"Times,serif\" font-size=\"14.00\">Add</text>\n",
       "</g>\n",
       "<!-- 7f7f74033b70&#45;&gt;7f7f7402e500 -->\n",
       "<g id=\"edge1\" class=\"edge\">\n",
       "<title>7f7f74033b70&#45;&gt;7f7f7402e500</title>\n",
       "<path fill=\"none\" stroke=\"black\" d=\"M149.63,-215.7C149.63,-208.41 149.63,-199.73 149.63,-191.54\"/>\n",
       "<polygon fill=\"black\" stroke=\"black\" points=\"153.13,-191.62 149.63,-181.62 146.13,-191.62 153.13,-191.62\"/>\n",
       "</g>\n",
       "<!-- 7f7f740bfbe0 -->\n",
       "<g id=\"node3\" class=\"node\">\n",
       "<title>7f7f740bfbe0</title>\n",
       "<ellipse fill=\"none\" stroke=\"black\" cx=\"86.63\" cy=\"-90\" rx=\"72.25\" ry=\"18\"/>\n",
       "<text text-anchor=\"middle\" x=\"86.63\" y=\"-85.33\" font-family=\"Times,serif\" font-size=\"14.00\">AIDS&gt;0.41?</text>\n",
       "</g>\n",
       "<!-- 7f7f7402e500&#45;&gt;7f7f740bfbe0 -->\n",
       "<g id=\"edge2\" class=\"edge\">\n",
       "<title>7f7f7402e500&#45;&gt;7f7f740bfbe0</title>\n",
       "<path fill=\"none\" stroke=\"black\" d=\"M135.65,-145.46C127.99,-136.95 118.3,-126.19 109.57,-116.48\"/>\n",
       "<polygon fill=\"black\" stroke=\"black\" points=\"112.2,-114.18 102.91,-109.09 107,-118.86 112.2,-114.18\"/>\n",
       "</g>\n",
       "<!-- 7f7f7402e500Offset -->\n",
       "<g id=\"node4\" class=\"node\">\n",
       "<title>7f7f7402e500Offset</title>\n",
       "<ellipse fill=\"none\" stroke=\"black\" cx=\"213.63\" cy=\"-90\" rx=\"36.48\" ry=\"18\"/>\n",
       "<text text-anchor=\"middle\" x=\"213.63\" y=\"-85.33\" font-family=\"Times,serif\" font-size=\"14.00\">&#45;0.62</text>\n",
       "</g>\n",
       "<!-- 7f7f7402e500&#45;&gt;7f7f7402e500Offset -->\n",
       "<g id=\"edge3\" class=\"edge\">\n",
       "<title>7f7f7402e500&#45;&gt;7f7f7402e500Offset</title>\n",
       "<path fill=\"none\" stroke=\"black\" d=\"M163.52,-145.81C171.71,-136.85 182.26,-125.32 191.56,-115.14\"/>\n",
       "<polygon fill=\"black\" stroke=\"black\" points=\"194.14,-117.5 198.31,-107.76 188.98,-112.78 194.14,-117.5\"/>\n",
       "</g>\n",
       "<!-- 7f7f74029770 -->\n",
       "<g id=\"node5\" class=\"node\">\n",
       "<title>7f7f74029770</title>\n",
       "<ellipse fill=\"none\" stroke=\"black\" cx=\"39.63\" cy=\"-18\" rx=\"39.63\" ry=\"18\"/>\n",
       "<text text-anchor=\"middle\" x=\"39.63\" y=\"-13.32\" font-family=\"Times,serif\" font-size=\"14.00\">10.13</text>\n",
       "</g>\n",
       "<!-- 7f7f740bfbe0&#45;&gt;7f7f74029770 -->\n",
       "<g id=\"edge4\" class=\"edge\">\n",
       "<title>7f7f740bfbe0&#45;&gt;7f7f74029770</title>\n",
       "<path fill=\"none\" stroke=\"black\" d=\"M75.26,-72.05C69.75,-63.85 63.02,-53.83 56.9,-44.71\"/>\n",
       "<polygon fill=\"black\" stroke=\"black\" points=\"59.91,-42.91 51.43,-36.56 54.09,-46.82 59.91,-42.91\"/>\n",
       "<text text-anchor=\"middle\" x=\"70.76\" y=\"-58.75\" font-family=\"Times,serif\" font-size=\"14.00\">Y</text>\n",
       "</g>\n",
       "<!-- Total -->\n",
       "<g id=\"node6\" class=\"node\">\n",
       "<title>Total</title>\n",
       "<ellipse fill=\"none\" stroke=\"black\" cx=\"133.63\" cy=\"-18\" rx=\"35.95\" ry=\"18\"/>\n",
       "<text text-anchor=\"middle\" x=\"133.63\" y=\"-13.32\" font-family=\"Times,serif\" font-size=\"14.00\">Total</text>\n",
       "</g>\n",
       "<!-- 7f7f740bfbe0&#45;&gt;Total -->\n",
       "<g id=\"edge5\" class=\"edge\">\n",
       "<title>7f7f740bfbe0&#45;&gt;Total</title>\n",
       "<path fill=\"none\" stroke=\"black\" d=\"M98.01,-72.05C103.52,-63.85 110.25,-53.83 116.37,-44.71\"/>\n",
       "<polygon fill=\"black\" stroke=\"black\" points=\"119.17,-46.82 121.84,-36.56 113.36,-42.91 119.17,-46.82\"/>\n",
       "<text text-anchor=\"middle\" x=\"104.68\" y=\"-39.26\" font-family=\"Times,serif\" font-size=\"14.00\">&#45;0.70</text>\n",
       "<text text-anchor=\"middle\" x=\"92.01\" y=\"-58.75\" font-family=\"Times,serif\" font-size=\"14.00\">N</text>\n",
       "</g>\n",
       "</g>\n",
       "</svg>\n"
      ],
      "text/plain": [
       "<graphviz.sources.Source at 0x7f7f7aa914c0>"
      ]
     },
     "execution_count": 15,
     "metadata": {},
     "output_type": "execute_result"
    }
   ],
   "source": [
    "\n",
    "est = BrushClassifier(\n",
    "    # functions=['SplitOn', 'SplitBest', 'Sin','Cos','Exp'],\n",
    "    max_gens=100,\n",
    "    objectives=[\"error\", \"complexity\"],  \n",
    "    scorer=\"log\",\n",
    "    pop_size=100,\n",
    "    bandit='dynamic_thompson',\n",
    "    verbosity=1\n",
    ")\n",
    "\n",
    "est.fit(X,y)\n",
    "\n",
    "print(\"Best model:\", est.best_estimator_.get_model())\n",
    "print('score:', est.score(X,y))\n",
    "\n",
    "model = est.best_estimator_.get_dot_model()\n",
    "graphviz.Source(model)"
   ]
  },
  {
   "cell_type": "code",
   "execution_count": 16,
   "id": "03e77e47",
   "metadata": {},
   "outputs": [
    {
     "name": "stdout",
     "output_type": "stream",
     "text": [
      "Logistic\n",
      "|- -0.62+Sum\n",
      "|  |- If(AIDS>0.41)\n",
      "|  |  |- 10.13\n",
      "|  |  |- -0.70*Total\n"
     ]
    }
   ],
   "source": [
    "print(est.best_estimator_.get_model(\"tree\"))"
   ]
  }
 ],
 "metadata": {
  "kernelspec": {
   "display_name": "brush",
   "language": "python",
   "name": "python3"
  },
  "language_info": {
   "codemirror_mode": {
    "name": "ipython",
    "version": 3
   },
   "file_extension": ".py",
   "mimetype": "text/x-python",
   "name": "python",
   "nbconvert_exporter": "python",
   "pygments_lexer": "ipython3",
   "version": "3.12.2"
  }
 },
 "nbformat": 4,
 "nbformat_minor": 5
}
