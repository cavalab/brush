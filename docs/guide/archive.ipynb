{
 "cells": [
  {
   "cell_type": "markdown",
   "metadata": {},
   "source": [
    "# The archive\n",
    "\n",
    "When you fit a brush estimator, two new attributes are created: `best_estimator_` and `archive_`.\n",
    "\n",
    "If you set `use_arch` to `True` when instantiating the estimator, then it will store the pareto front as a list in `archive_`. This pareto front is always created with individuals from the final population that are not dominated in objectives **scorer** and **complexity**. Setting `scorer` as an objective means optimizing the metric set as `scorer: str`.\n",
    "\n",
    "In case you need more flexibility, the archive will contain the entire final population if `use_arch` is `False`, and you can iterate through this list to select individuals with different criteria. It is also good to remind that Brush supports different optimization objectives using the argument `objectives`.\n",
    "\n",
    "Each element from the archive is a serialized individual (JSON object)."
   ]
  },
  {
   "cell_type": "code",
   "execution_count": 1,
   "metadata": {},
   "outputs": [],
   "source": [
    "import pandas as pd\n",
    "from pybrush import BrushClassifier\n",
    "\n",
    "# load data\n",
    "df = pd.read_csv('../examples/datasets/d_analcatdata_aids.csv')\n",
    "X = df.drop(columns='target')\n",
    "y = df['target']"
   ]
  },
  {
   "cell_type": "code",
   "execution_count": 2,
   "metadata": {},
   "outputs": [
    {
     "name": "stdout",
     "output_type": "stream",
     "text": [
      "Completed 100% [====================]\n",
      "Best model: Logistic(Sum(-0.24,If(AIDS>15890.50,1.00,If(Total>1572255.50,0.00,Asin(If(AIDS>123.00,1.00,1.00*Atan(Tan(AIDS))))))))\n",
      "score: 0.9\n"
     ]
    }
   ],
   "source": [
    "est = BrushClassifier(\n",
    "    # functions=['SplitBest','Add','Mul','Sin','Cos','Exp','Logabs'],\n",
    "    use_arch=True,\n",
    "    objectives=[\"scorer\", \"linear_complexity\"],\n",
    "    scorer='balanced_accuracy', # brush implements several metrics for clf and reg!\n",
    "    max_gens=100,\n",
    "    pop_size=100,\n",
    "    max_depth=10,\n",
    "    max_size=100,\n",
    "    verbosity=1\n",
    ")\n",
    "\n",
    "est.fit(X,y)\n",
    "\n",
    "print(\"Best model:\", est.best_estimator_.get_model())\n",
    "print('score:', est.score(X,y))"
   ]
  },
  {
   "cell_type": "markdown",
   "metadata": {},
   "source": [
    "You can see individuals from archive using the index:"
   ]
  },
  {
   "cell_type": "code",
   "execution_count": 3,
   "metadata": {},
   "outputs": [
    {
     "name": "stdout",
     "output_type": "stream",
     "text": [
      "7\n"
     ]
    },
    {
     "data": {
      "text/plain": [
       "{'fitness': {'complexity': 80,\n",
       "  'crowding_dist': 0.0,\n",
       "  'dcounter': 0,\n",
       "  'depth': 3,\n",
       "  'dominated': [],\n",
       "  'linear_complexity': 14,\n",
       "  'loss': 0.5400000214576721,\n",
       "  'loss_v': 0.5400000214576721,\n",
       "  'rank': 1,\n",
       "  'size': 5,\n",
       "  'values': [0.5400000214576721, 14.0],\n",
       "  'weights': [1.0, -1.0],\n",
       "  'wvalues': [0.5400000214576721, -14.0]},\n",
       " 'id': 264,\n",
       " 'is_fitted_': False,\n",
       " 'objectives': ['balanced_accuracy', 'linear_complexity'],\n",
       " 'parent_id': [207],\n",
       " 'program': {'Tree': [{'W': 1.0,\n",
       "    'arg_types': ['ArrayF'],\n",
       "    'center_op': False,\n",
       "    'feature': '',\n",
       "    'fixed': True,\n",
       "    'is_weighted': False,\n",
       "    'name': 'Logistic',\n",
       "    'node_type': 'Logistic',\n",
       "    'prob_change': 0.0,\n",
       "    'ret_type': 'ArrayF',\n",
       "    'sig_dual_hash': 10617925524997611780,\n",
       "    'sig_hash': 13326223354425868050},\n",
       "   {'W': 8.940696716308594e-08,\n",
       "    'arg_types': ['ArrayF'],\n",
       "    'center_op': False,\n",
       "    'feature': '',\n",
       "    'fixed': True,\n",
       "    'is_weighted': True,\n",
       "    'name': 'OffsetSum',\n",
       "    'node_type': 'OffsetSum',\n",
       "    'prob_change': 0.0,\n",
       "    'ret_type': 'ArrayF',\n",
       "    'sig_dual_hash': 10617925524997611780,\n",
       "    'sig_hash': 13326223354425868050},\n",
       "   {'W': 0.0,\n",
       "    'arg_types': [],\n",
       "    'center_op': True,\n",
       "    'feature': 'MeanLabel',\n",
       "    'fixed': False,\n",
       "    'is_weighted': True,\n",
       "    'name': 'MeanLabel',\n",
       "    'node_type': 'MeanLabel',\n",
       "    'prob_change': 0.19857122004032135,\n",
       "    'ret_type': 'ArrayF',\n",
       "    'sig_dual_hash': 509529941281334733,\n",
       "    'sig_hash': 17717457037689164349}],\n",
       "  'is_fitted_': True},\n",
       " 'variation': 'subtree'}"
      ]
     },
     "execution_count": 3,
     "metadata": {},
     "output_type": "execute_result"
    }
   ],
   "source": [
    "print(len(est.archive_[0]))\n",
    "\n",
    "est.archive_[0]"
   ]
  },
  {
   "cell_type": "markdown",
   "metadata": {},
   "source": [
    "And you can call `predict` (or `predict_proba`, if your `est` is an instance of `BrushClassifier`) with the entire archive:"
   ]
  },
  {
   "cell_type": "code",
   "execution_count": 4,
   "metadata": {},
   "outputs": [
    {
     "data": {
      "text/plain": [
       "[{'id': 264,\n",
       "  'y_pred': array([ True,  True,  True,  True,  True,  True,  True,  True,  True,\n",
       "          True,  True,  True,  True,  True,  True,  True,  True,  True,\n",
       "          True,  True,  True,  True,  True,  True,  True,  True,  True,\n",
       "          True,  True,  True,  True,  True,  True,  True,  True,  True,\n",
       "          True,  True,  True,  True,  True,  True,  True,  True,  True,\n",
       "          True,  True,  True, False, False])},\n",
       " {'id': 284,\n",
       "  'y_pred': array([ True,  True,  True,  True,  True,  True,  True,  True,  True,\n",
       "          True,  True,  True,  True,  True,  True, False,  True,  True,\n",
       "          True,  True, False,  True,  True,  True, False,  True,  True,\n",
       "          True,  True,  True,  True,  True,  True,  True,  True,  True,\n",
       "          True,  True,  True,  True, False, False, False, False, False,\n",
       "         False, False, False, False, False])},\n",
       " {'id': 260,\n",
       "  'y_pred': array([False,  True,  True,  True, False, False,  True,  True,  True,\n",
       "         False, False,  True,  True, False, False, False, False, False,\n",
       "         False, False, False, False, False, False, False, False, False,\n",
       "         False, False, False, False, False, False, False, False, False,\n",
       "         False, False, False, False, False, False, False, False, False,\n",
       "         False, False, False, False, False])},\n",
       " {'id': 286,\n",
       "  'y_pred': array([False,  True,  True,  True,  True, False,  True,  True,  True,\n",
       "          True, False,  True,  True,  True, False, False, False, False,\n",
       "         False, False, False, False, False, False, False, False, False,\n",
       "         False, False, False, False,  True,  True, False, False, False,\n",
       "         False, False, False, False, False, False, False, False, False,\n",
       "         False, False, False, False, False])},\n",
       " {'id': 276,\n",
       "  'y_pred': array([ True,  True,  True,  True,  True,  True,  True,  True,  True,\n",
       "         False, False,  True,  True,  True, False,  True, False, False,\n",
       "          True,  True,  True,  True, False, False,  True, False,  True,\n",
       "         False,  True, False,  True, False, False,  True, False, False,\n",
       "          True,  True, False, False, False,  True, False, False, False,\n",
       "         False, False, False, False,  True])},\n",
       " {'id': 251,\n",
       "  'y_pred': array([ True,  True,  True,  True,  True,  True,  True,  True,  True,\n",
       "         False, False,  True,  True,  True, False, False, False, False,\n",
       "          True,  True,  True,  True, False, False,  True, False, False,\n",
       "         False, False, False,  True, False, False,  True, False, False,\n",
       "          True,  True, False, False, False,  True, False, False, False,\n",
       "         False, False, False, False,  True])},\n",
       " {'id': 227,\n",
       "  'y_pred': array([ True,  True,  True,  True,  True,  True,  True,  True,  True,\n",
       "         False, False,  True,  True,  True, False,  True, False, False,\n",
       "          True,  True,  True,  True, False,  True,  True, False, False,\n",
       "          True, False, False,  True, False, False,  True, False, False,\n",
       "          True,  True, False, False, False, False, False, False, False,\n",
       "         False, False, False, False,  True])},\n",
       " {'id': 261,\n",
       "  'y_pred': array([False,  True,  True,  True,  True, False,  True,  True,  True,\n",
       "         False,  True,  True,  True,  True, False, False,  True,  True,\n",
       "          True,  True, False,  True,  True,  True, False, False, False,\n",
       "         False, False, False, False, False, False, False, False, False,\n",
       "         False, False,  True, False, False, False,  True, False, False,\n",
       "         False, False, False, False, False])},\n",
       " {'id': 247,\n",
       "  'y_pred': array([False,  True,  True,  True,  True, False,  True,  True,  True,\n",
       "         False,  True,  True,  True,  True, False, False,  True,  True,\n",
       "          True,  True, False,  True,  True,  True, False, False, False,\n",
       "         False, False, False, False, False, False, False, False, False,\n",
       "         False, False,  True, False, False, False, False, False, False,\n",
       "         False, False, False, False, False])},\n",
       " {'id': 228,\n",
       "  'y_pred': array([False,  True,  True,  True,  True, False,  True,  True,  True,\n",
       "         False,  True,  True,  True,  True, False,  True,  True,  True,\n",
       "          True,  True, False,  True,  True,  True, False, False, False,\n",
       "         False, False, False, False, False, False, False, False, False,\n",
       "         False, False,  True, False, False, False, False, False, False,\n",
       "         False, False, False, False, False])},\n",
       " {'id': 230,\n",
       "  'y_pred': array([False,  True,  True,  True,  True, False,  True,  True,  True,\n",
       "         False,  True,  True,  True,  True, False,  True,  True,  True,\n",
       "          True,  True,  True,  True,  True,  True,  True, False, False,\n",
       "         False, False, False, False, False, False, False, False, False,\n",
       "         False, False,  True, False, False, False, False, False, False,\n",
       "         False, False, False, False, False])}]"
      ]
     },
     "execution_count": 4,
     "metadata": {},
     "output_type": "execute_result"
    }
   ],
   "source": [
    "est.predict_archive(X)\n"
   ]
  },
  {
   "cell_type": "code",
   "execution_count": 5,
   "metadata": {},
   "outputs": [
    {
     "data": {
      "text/plain": [
       "[{'id': 264,\n",
       "  'y_pred': array([0.50000006, 0.50000006, 0.50000006, 0.50000006, 0.50000006,\n",
       "         0.50000006, 0.50000006, 0.50000006, 0.50000006, 0.50000006,\n",
       "         0.50000006, 0.50000006, 0.50000006, 0.50000006, 0.50000006,\n",
       "         0.50000006, 0.50000006, 0.50000006, 0.50000006, 0.50000006,\n",
       "         0.50000006, 0.50000006, 0.50000006, 0.50000006, 0.50000006,\n",
       "         0.50000006, 0.50000006, 0.50000006, 0.50000006, 0.50000006,\n",
       "         0.50000006, 0.50000006, 0.50000006, 0.50000006, 0.50000006,\n",
       "         0.50000006, 0.50000006, 0.50000006, 0.50000006, 0.50000006,\n",
       "         0.50000006, 0.50000006, 0.50000006, 0.50000006, 0.50000006,\n",
       "         0.50000006, 0.50000006, 0.50000006, 0.5       , 0.5       ],\n",
       "        dtype=float32)},\n",
       " {'id': 284,\n",
       "  'y_pred': array([1.0000000e+00, 1.0000000e+00, 1.0000000e+00, 1.0000000e+00,\n",
       "         1.0000000e+00, 1.0000000e+00, 1.0000000e+00, 1.0000000e+00,\n",
       "         1.0000000e+00, 1.0000000e+00, 1.0000000e+00, 1.0000000e+00,\n",
       "         1.0000000e+00, 1.0000000e+00, 1.0000000e+00, 0.0000000e+00,\n",
       "         1.0000000e+00, 1.0000000e+00, 1.0000000e+00, 1.0000000e+00,\n",
       "         0.0000000e+00, 1.0000000e+00, 1.0000000e+00, 9.9985957e-01,\n",
       "         7.8951918e-37, 1.0000000e+00, 1.0000000e+00, 1.0000000e+00,\n",
       "         1.0000000e+00, 1.0000000e+00, 1.0000000e+00, 1.0000000e+00,\n",
       "         1.0000000e+00, 1.0000000e+00, 1.0000000e+00, 1.0000000e+00,\n",
       "         1.0000000e+00, 1.0000000e+00, 1.0000000e+00, 1.0000000e+00,\n",
       "         0.0000000e+00, 1.2521880e-21, 1.2202326e-11, 1.0412302e-27,\n",
       "         8.6581284e-34, 0.0000000e+00, 8.4371766e-24, 3.1038638e-24,\n",
       "         0.0000000e+00, 0.0000000e+00], dtype=float32)},\n",
       " {'id': 260,\n",
       "  'y_pred': array([1.0081212e-35, 1.0000000e+00, 1.0000000e+00, 1.0000000e+00,\n",
       "         1.2496071e-02, 5.2254774e-36, 1.0000000e+00, 1.0000000e+00,\n",
       "         1.0000000e+00, 7.0163466e-14, 0.0000000e+00, 9.9999726e-01,\n",
       "         1.0000000e+00, 1.3096678e-11, 5.5269798e-28, 0.0000000e+00,\n",
       "         0.0000000e+00, 0.0000000e+00, 0.0000000e+00, 0.0000000e+00,\n",
       "         0.0000000e+00, 0.0000000e+00, 0.0000000e+00, 0.0000000e+00,\n",
       "         0.0000000e+00, 0.0000000e+00, 1.2658817e-27, 7.8919543e-26,\n",
       "         1.5775963e-37, 0.0000000e+00, 0.0000000e+00, 1.5053514e-09,\n",
       "         3.0856791e-03, 1.2355835e-24, 8.1867808e-36, 0.0000000e+00,\n",
       "         4.9887171e-28, 1.6857511e-26, 1.5835223e-38, 0.0000000e+00,\n",
       "         0.0000000e+00, 0.0000000e+00, 0.0000000e+00, 0.0000000e+00,\n",
       "         0.0000000e+00, 0.0000000e+00, 0.0000000e+00, 0.0000000e+00,\n",
       "         0.0000000e+00, 0.0000000e+00], dtype=float32)},\n",
       " {'id': 286,\n",
       "  'y_pred': array([0.40833515, 0.9820269 , 0.9980566 , 0.9287328 , 0.67898846,\n",
       "         0.40701428, 0.90484595, 0.9760761 , 0.8018543 , 0.5646876 ,\n",
       "         0.38469985, 0.7565818 , 0.841811  , 0.58659005, 0.45134798,\n",
       "         0.35905573, 0.3723781 , 0.38076416, 0.3690718 , 0.36326265,\n",
       "         0.35882685, 0.36579695, 0.3663163 , 0.36100355, 0.3592465 ,\n",
       "         0.36772186, 0.4536888 , 0.4658134 , 0.40029088, 0.3931104 ,\n",
       "         0.38719437, 0.60710794, 0.6725419 , 0.47429875, 0.40791473,\n",
       "         0.3677797 , 0.45106068, 0.4611968 , 0.39615962, 0.375852  ,\n",
       "         0.35844555, 0.3599145 , 0.3603538 , 0.3596472 , 0.35938004,\n",
       "         0.3583884 , 0.35981902, 0.35979992, 0.3589222 , 0.35859805],\n",
       "        dtype=float32)},\n",
       " {'id': 276,\n",
       "  'y_pred': array([7.8108364e-01, 7.4068010e-01, 7.4068010e-01, 7.4068010e-01,\n",
       "         7.4068010e-01, 7.6991338e-01, 7.4068010e-01, 7.4068010e-01,\n",
       "         7.4068010e-01, 4.2578113e-01, 3.9292258e-01, 7.4068010e-01,\n",
       "         7.4068010e-01, 8.1273812e-01, 3.1526712e-01, 5.8899599e-01,\n",
       "         1.8576130e-01, 4.1078791e-01, 7.4497253e-01, 6.1298168e-01,\n",
       "         7.7351385e-01, 6.2793267e-01, 2.5962147e-01, 7.3486399e-03,\n",
       "         7.7723646e-01, 4.9020657e-01, 5.6600595e-01, 2.5054170e-03,\n",
       "         5.1463062e-01, 3.0869538e-01, 7.8104508e-01, 3.8264209e-01,\n",
       "         5.0942674e-02, 9.2560732e-01, 4.2246539e-02, 4.5395932e-01,\n",
       "         8.4166944e-01, 7.4169952e-01, 3.3088744e-01, 1.4896183e-01,\n",
       "         4.3991685e-01, 9.8073673e-01, 2.6703531e-01, 4.8349547e-01,\n",
       "         2.5045840e-20, 4.7675678e-01, 3.6594018e-01, 1.0172682e-14,\n",
       "         4.0319046e-01, 9.9932098e-01], dtype=float32)},\n",
       " {'id': 251,\n",
       "  'y_pred': array([0.6278971 , 0.60289556, 0.60289556, 0.60289556, 0.60289556,\n",
       "         0.62100005, 0.60289556, 0.60289556, 0.60289556,        nan,\n",
       "                nan, 0.60289556, 0.60289556, 0.6476004 ,        nan,\n",
       "         0.4936501 ,        nan,        nan, 0.6055672 , 0.51452976,\n",
       "         0.62322253, 0.5264537 ,        nan,        nan, 0.6255207 ,\n",
       "                nan, 0.47062764,        nan, 0.38050255,        nan,\n",
       "         0.62787324,        nan,        nan, 0.7290232 ,        nan,\n",
       "                nan, 0.66614634, 0.60353065,        nan,        nan,\n",
       "                nan, 0.80018765,        nan,        nan,        nan,\n",
       "                nan,        nan,        nan,        nan, 0.891787  ],\n",
       "        dtype=float32)},\n",
       " {'id': 227,\n",
       "  'y_pred': array([0.6689781 , 0.6821383 , 0.6821383 , 0.6821383 , 0.6821383 ,\n",
       "         0.66368186, 0.6821383 , 0.6821383 , 0.6821383 , 0.35940248,\n",
       "         0.3313259 , 0.6821383 , 0.6821383 , 0.6796199 , 0.27467927,\n",
       "         0.5172356 , 0.22523105, 0.34633443, 0.6495391 , 0.54054886,\n",
       "         0.6654655 , 0.55476266, 0.24482079, 0.67573524, 0.667234  ,\n",
       "         0.41946912, 0.49450168, 0.50200063, 0.4434057 , 0.2706287 ,\n",
       "         0.66896105, 0.32298976, 0.40061048, 0.59498376, 0.44833356,\n",
       "         0.38498515, 0.68186295, 0.64747214, 0.28481302, 0.2293548 ,\n",
       "         0.37208086, 0.287013  , 0.24817689, 0.41297618, 0.23708849,\n",
       "         0.40650123, 0.30995077, 0.27102837, 0.33987376, 0.64190036],\n",
       "        dtype=float32)},\n",
       " {'id': 261,\n",
       "  'y_pred': array([0.3447548 , 0.58851355, 0.58851355, 0.58851355, 0.58851355,\n",
       "         0.3447548 , 0.58851355, 0.58851355, 0.58851355, 0.3447548 ,\n",
       "         0.9996426 , 0.58851355, 0.58851355, 1.        , 0.3447548 ,\n",
       "         0.40058893, 0.9812676 , 0.9987348 , 0.946967  , 0.7274303 ,\n",
       "         0.38259757, 0.8596523 , 0.8789301 , 0.5594563 , 0.41579157,\n",
       "         0.3447548 , 0.3447548 , 0.3447548 , 0.3447548 , 0.3447548 ,\n",
       "         0.3447548 , 0.3447548 , 0.3447548 , 0.3447548 , 0.3447548 ,\n",
       "         0.3447548 , 0.3447548 , 0.3447548 , 0.9999908 , 0.3447548 ,\n",
       "         0.35333464, 0.47008803, 0.50624126, 0.4482104 , 0.42653137,\n",
       "         0.3490325 , 0.46225694, 0.46069285, 0.390058  , 0.3649223 ],\n",
       "        dtype=float32)},\n",
       " {'id': 247,\n",
       "  'y_pred': array([0.44111538, 0.6820835 , 0.6820835 , 0.6820835 , 0.6820835 ,\n",
       "         0.44111538, 0.6820835 , 0.6820835 , 0.6820835 , 0.44111538,\n",
       "         0.7915279 , 0.6820835 , 0.6820835 , 0.7915279 , 0.44111538,\n",
       "         0.44111538, 0.7915279 , 0.7915279 , 0.7915279 , 0.7915279 ,\n",
       "         0.44111538, 0.7915279 , 0.7915279 , 0.7915279 , 0.44111538,\n",
       "         0.44111538, 0.44111538, 0.44111538, 0.44111538, 0.44111538,\n",
       "         0.44111538, 0.44111538, 0.44111538, 0.44111538, 0.44111538,\n",
       "         0.44111538, 0.44111538, 0.44111538, 0.7915279 , 0.44111538,\n",
       "         0.44111538, 0.44111538, 0.44111538, 0.44111538, 0.44111538,\n",
       "         0.44111538, 0.44111538, 0.44111538, 0.44111538, 0.44111538],\n",
       "        dtype=float32)},\n",
       " {'id': 228,\n",
       "  'y_pred': array([0.44111538, 0.6820835 , 0.6820835 , 0.6820835 , 0.6820835 ,\n",
       "         0.44111538, 0.6820835 , 0.6820835 , 0.6820835 , 0.44111538,\n",
       "         0.7915279 , 0.6820835 , 0.6820835 , 0.7915279 , 0.44111538,\n",
       "         0.5197103 , 0.7915279 , 0.7915279 , 0.7915279 , 0.7915279 ,\n",
       "                nan, 0.7915279 , 0.7915279 , 0.7915279 ,        nan,\n",
       "         0.44111538, 0.44111538, 0.44111538, 0.44111538, 0.44111538,\n",
       "         0.44111538, 0.44111538, 0.44111538, 0.44111538, 0.44111538,\n",
       "         0.44111538, 0.44111538, 0.44111538, 0.7915279 , 0.44111538,\n",
       "         0.37007034,        nan,        nan, 0.41278994,        nan,\n",
       "         0.4062064 , 0.29336157,        nan, 0.33311623,        nan],\n",
       "        dtype=float32)},\n",
       " {'id': 230,\n",
       "  'y_pred': array([0.44111538, 0.6820835 , 0.6820835 , 0.6820835 , 0.6820835 ,\n",
       "         0.44111538, 0.6820835 , 0.6820835 , 0.6820835 , 0.44111538,\n",
       "         0.7915279 , 0.6820835 , 0.6820835 , 0.7915279 , 0.44111538,\n",
       "         0.51724   , 0.7915279 , 0.7915279 , 0.7915279 , 0.7915279 ,\n",
       "         0.6927554 , 0.7915279 , 0.7915279 , 0.7915279 , 0.69658685,\n",
       "         0.44111538, 0.44111538, 0.44111538, 0.44111538, 0.44111538,\n",
       "         0.44111538, 0.44111538, 0.44111538, 0.44111538, 0.44111538,\n",
       "         0.44111538, 0.44111538, 0.44111538, 0.7915279 , 0.44111538,\n",
       "         0.3719757 ,        nan, 0.23363459, 0.41291445,        nan,\n",
       "         0.40643886, 0.30856097,        nan, 0.3394832 ,        nan],\n",
       "        dtype=float32)}]"
      ]
     },
     "execution_count": 5,
     "metadata": {},
     "output_type": "execute_result"
    }
   ],
   "source": [
    "est.predict_proba_archive(X)"
   ]
  },
  {
   "cell_type": "markdown",
   "metadata": {},
   "source": [
    "## Loading a specific model from archive\n",
    "\n",
    "We have a static class method called `from_json` which let's you easily the string representation of the json from the archive to load an individual."
   ]
  },
  {
   "cell_type": "code",
   "execution_count": 6,
   "metadata": {},
   "outputs": [],
   "source": [
    "from pybrush import individual\n",
    "\n",
    "loaded_from_arch = individual.ClassifierIndividual.from_json(est.archive_[-1])"
   ]
  },
  {
   "cell_type": "code",
   "execution_count": 7,
   "metadata": {},
   "outputs": [
    {
     "name": "stdout",
     "output_type": "stream",
     "text": [
      "Logistic(Sum(-0.24,If(AIDS>15890.50,1.00,If(Total>1572255.50,0.00,Asin(If(AIDS>123.00,1.00,1.00*Atan(Tan(AIDS))))))))\n",
      "Fitness(0.900000 67.000000 )\n"
     ]
    }
   ],
   "source": [
    "print(loaded_from_arch.get_model())\n",
    "print(loaded_from_arch.fitness)"
   ]
  },
  {
   "cell_type": "markdown",
   "metadata": {},
   "source": [
    "To use this loaded model to do predictions, you need to wrap the data into a Dataset:"
   ]
  },
  {
   "cell_type": "code",
   "execution_count": 8,
   "metadata": {},
   "outputs": [
    {
     "data": {
      "text/plain": [
       "array([False,  True,  True,  True,  True, False,  True,  True,  True,\n",
       "       False,  True,  True,  True,  True, False,  True,  True,  True,\n",
       "        True,  True,  True,  True,  True,  True,  True, False, False,\n",
       "       False, False, False, False, False, False, False, False, False,\n",
       "       False, False,  True, False, False, False, False, False, False,\n",
       "       False, False, False, False, False])"
      ]
     },
     "execution_count": 8,
     "metadata": {},
     "output_type": "execute_result"
    }
   ],
   "source": [
    "from pybrush import Dataset\n",
    "\n",
    "loaded_from_arch.predict(Dataset(X=X, ref_dataset=est.data_, \n",
    "                              feature_names=est.feature_names_))"
   ]
  },
  {
   "cell_type": "markdown",
   "metadata": {},
   "source": [
    "## Visualizing the Pareto front of the archive"
   ]
  },
  {
   "cell_type": "code",
   "execution_count": 9,
   "metadata": {},
   "outputs": [
    {
     "name": "stdout",
     "output_type": "stream",
     "text": [
      "11\n"
     ]
    },
    {
     "data": {
      "text/plain": [
       "Text(0, 0.5, 'Complexity (smaller is better)')"
      ]
     },
     "execution_count": 9,
     "metadata": {},
     "output_type": "execute_result"
    },
    {
     "data": {
      "image/png": "[encoded data removed]",
      "text/plain": [
       "<Figure size 640x480 with 1 Axes>"
      ]
     },
     "metadata": {},
     "output_type": "display_data"
    }
   ],
   "source": [
    "import matplotlib.pyplot as plt\n",
    "\n",
    "xs, ys = [], []\n",
    "for ind in est.archive_:\n",
    "    # We should look at the same objectives to get a valid pareto front\n",
    "    xs.append(ind['fitness']['loss'])\n",
    "    ys.append(ind['fitness']['linear_complexity'])\n",
    "\n",
    "print(len(xs))\n",
    "plt.scatter(xs, ys, alpha=0.25, c='b', linewidth=1.0)\n",
    "plt.yscale('log')\n",
    "plt.xlabel(\"Loss on validation partition (greater is better)\")\n",
    "plt.ylabel(\"Complexity (smaller is better)\")"
   ]
  },
  {
   "cell_type": "markdown",
   "metadata": {},
   "source": [
    "## Storing the population (unique individuals)\n",
    "\n",
    "If not using archive, then the unique individuals from the final population will be stored. Notice that, while the archive contains only the Pareto front (when `use_arch=True`), this will contain all individuals, even dominated ones."
   ]
  },
  {
   "cell_type": "code",
   "execution_count": 10,
   "metadata": {},
   "outputs": [
    {
     "name": "stdout",
     "output_type": "stream",
     "text": [
      "Completed 100% [====================]\n",
      "Best model: Logistic(Sum(-1.39,If(AIDS>15890.50,17.24,If(Total>1572255.50,If(AIDS>2320.50,11.61*Logistic(If(Age>0.00,13.75,-21.10)),1.00*Mul(If(AIDS>491.50,-39544.36,Total),Add(-10166.09,0.00))),If(AIDS>123.00,If(AIDS>1653.50,If(AIDS>6597.50,15.18,Total),Add(15.18,1.00)),If(AIDS>51.50,-14.40,If(AIDS>20.00,If(Total>168995.50,15.98,-21.11),-14.01)))))))\n",
      "score: 0.84\n"
     ]
    }
   ],
   "source": [
    "est = BrushClassifier(\n",
    "    # functions=['SplitBest','Add','Mul','Sin','Cos','Exp','Logabs'],\n",
    "    use_arch=True,\n",
    "    objectives=[\"scorer\", \"linear_complexity\"],\n",
    "    max_depth=10,\n",
    "    max_size=100,\n",
    "    max_gens=100,\n",
    "    pop_size=200,\n",
    "    verbosity=1\n",
    ")\n",
    "\n",
    "est.fit(X,y)\n",
    "\n",
    "print(\"Best model:\", est.best_estimator_.get_model())\n",
    "print('score:', est.score(X,y))"
   ]
  },
  {
   "cell_type": "code",
   "execution_count": 11,
   "metadata": {},
   "outputs": [
    {
     "name": "stdout",
     "output_type": "stream",
     "text": [
      "42\n"
     ]
    },
    {
     "data": {
      "text/plain": [
       "Text(0, 0.5, 'Complexity (smaller is better)')"
      ]
     },
     "execution_count": 11,
     "metadata": {},
     "output_type": "execute_result"
    },
    {
     "data": {
      "image/png": "[encoded data removed]",
      "text/plain": [
       "<Figure size 640x480 with 1 Axes>"
      ]
     },
     "metadata": {},
     "output_type": "display_data"
    }
   ],
   "source": [
    "xs, ys = [], []\n",
    "for ind in est.archive_:\n",
    "    # use the same as the objectives\n",
    "    xs.append(ind['fitness']['loss'])\n",
    "    ys.append(ind['fitness']['linear_complexity'])\n",
    "\n",
    "print(len(xs))\n",
    "plt.scatter(xs, ys, alpha=0.25, c='b', linewidth=1.0)\n",
    "plt.yscale('log')\n",
    "plt.xlabel(\"Loss on validation partition (smaller is better)\")\n",
    "plt.ylabel(\"Complexity (smaller is better)\")"
   ]
  },
  {
   "cell_type": "markdown",
   "metadata": {},
   "source": [
    "# (advanced) Interactive plot of archive"
   ]
  },
  {
   "cell_type": "code",
   "execution_count": 12,
   "metadata": {},
   "outputs": [],
   "source": [
    "# TODO"
   ]
  }
 ],
 "metadata": {
  "kernelspec": {
   "display_name": "brush",
   "language": "python",
   "name": "python3"
  },
  "language_info": {
   "codemirror_mode": {
    "name": "ipython",
    "version": 3
   },
   "file_extension": ".py",
   "mimetype": "text/x-python",
   "name": "python",
   "nbconvert_exporter": "python",
   "pygments_lexer": "ipython3",
   "version": "3.12.2"
  }
 },
 "nbformat": 4,
 "nbformat_minor": 2
}
