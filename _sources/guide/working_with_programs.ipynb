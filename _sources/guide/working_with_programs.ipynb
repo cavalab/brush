{
 "cells": [
  {
   "cell_type": "markdown",
   "id": "e9776d12",
   "metadata": {},
   "source": [
    "# Working with Programs\n",
    "\n",
    "In Brush, a *Program* is an executable data structure. \n",
    "You may think of it as a *model* or a *function* mapping feature inputs to data labels. \n",
    "We call them programs because that's what they are: executable data structures,  \n",
    "and that is what they are called in the genetic algorithm literature, to distinguish them from optimizing bits or strings. \n",
    "\n",
    "The Brush Program class operates similarly to a [sklearn](scikit-learn.org) estimator: it has `fit` and `predict` methods that are called in during training or inference, respectively. \n",
    "\n",
    "\n",
    "## Types of Programs \n",
    "\n",
    "There are four fundamental \"types\" of Brush programs:\n",
    "\n",
    "- **Regressors**: map inputs to a continous endpoint \n",
    "- **Binary Classifiers**: map inputs to a binary endpoint, as well as a continuous value in $[0, 1]$  \n",
    "- **Multi-class Classifiers**: map inputs to a category\n",
    "    - Under development\n",
    "- **Representors**: map inputs to a lower dimensional space. \n",
    "    - Under development\n",
    "\n",
    "## Representation \n",
    "\n",
    "Internally, the programs are represented as syntax trees. \n",
    "We use the [tree.hh tree class](https://github.com/kpeeters/tree.hh) which gives trees an STL-like feel. \n",
    "\n",
    "\n",
    "\n",
    "## Generation\n",
    "\n",
    "We generate random programs using Sean Luke's PTC2 algorithm.  \n",
    "\n",
    "\n",
    "## Evaluation\n",
    "\n",
    "TODO\n",
    "\n",
    "\n"
   ]
  },
  {
   "cell_type": "markdown",
   "id": "8c258669",
   "metadata": {},
   "source": [
    "## Visualizing Programs\n",
    "\n",
    "Programs in Brush are symbolic tree structures, and can be viewed in a few ways: \n",
    "\n",
    "\n",
    "1. As a string using `get_model()`\n",
    "2. As a string-like tree using `get_model(\"tree\")`\n",
    "2. As a graph using `graphviz` and `get_model(\"dot\")`. \n",
    "\n",
    "Let's look at a regresion example."
   ]
  },
  {
   "cell_type": "code",
   "execution_count": 3,
   "id": "102e3fcb",
   "metadata": {
    "tags": [
     "remove-output"
    ]
   },
   "outputs": [
    {
     "name": "stderr",
     "output_type": "stream",
     "text": [
      "/home/bill/projects/brush/src/brush/estimator.py:244: RuntimeWarning: overflow encountered in square\n",
      "  np.sum((data.y- ind.prg.predict(data))**2),\n",
      "/home/bill/mambaforge/envs/brush/lib/python3.11/site-packages/deap/tools/emo.py:139: RuntimeWarning: invalid value encountered in scalar divide\n",
      "  distances[cur[1]] += (next[0][i] - prev[0][i]) / norm\n",
      "/home/bill/mambaforge/envs/brush/lib/python3.11/site-packages/deap/tools/emo.py:139: RuntimeWarning: invalid value encountered in scalar subtract\n",
      "  distances[cur[1]] += (next[0][i] - prev[0][i]) / norm\n"
     ]
    },
    {
     "name": "stdout",
     "output_type": "stream",
     "text": [
      "gen\tevals\tave          \tstd                  \tmin      \n",
      "0  \t100  \t[  nan 13.57]\t[      nan 6.3027851]\t[nan  4.]\n",
      "1  \t100  \t[ nan 5.22]  \t[       nan 2.84457378]\t[nan  1.]\n",
      "2  \t100  \t[ nan 2.28]  \t[      nan 1.3272528]  \t[nan  1.]\n",
      "3  \t100  \t[ nan 1.38]  \t[       nan 0.56178288]\t[nan  1.]\n",
      "4  \t100  \t[8.89129739e+06 1.10000000e+00]\t[1.87174329e+07 3.00000000e-01]\t[3.56768242e+04 1.00000000e+00]\n",
      "5  \t100  \t[3.5818721e+05 1.3600000e+00]  \t[1.65342052e+05 9.95188424e-01]\t[1.1878252e+04 1.0000000e+00]  \n",
      "6  \t100  \t[3.84596934e+05 1.08000000e+00]\t[1.35052515e+05 2.71293199e-01]\t[1.37853623e+04 1.00000000e+00]\n",
      "7  \t100  \t[3.61039791e+05 1.08000000e+00]\t[1.26517850e+05 2.71293199e-01]\t[1.37853623e+04 1.00000000e+00]\n",
      "8  \t100  \t[3.30752034e+05 1.08000000e+00]\t[1.07264517e+05 2.71293199e-01]\t[1.37853623e+04 1.00000000e+00]\n",
      "9  \t100  \t[3.17290809e+05 1.08000000e+00]\t[9.44260429e+04 2.71293199e-01]\t[1.37853623e+04 1.00000000e+00]\n",
      "10 \t100  \t[3.1665422e+05 1.1200000e+00]  \t[7.68450006e+04 5.15363949e-01]\t[1.18190889e+04 1.00000000e+00]\n",
      "11 \t100  \t[3.1665422e+05 1.1200000e+00]  \t[7.68450006e+04 5.15363949e-01]\t[1.18190889e+04 1.00000000e+00]\n",
      "12 \t100  \t[3.10153696e+05 1.20000000e+00]\t[8.78824763e+04 7.48331477e-01]\t[1.10424746e+04 1.00000000e+00]\n",
      "13 \t100  \t[3.10153696e+05 1.20000000e+00]\t[8.78824777e+04 7.48331477e-01]\t[1.10424551e+04 1.00000000e+00]\n",
      "14 \t100  \t[3.10118377e+05 1.20000000e+00]\t[8.80029528e+04 7.48331477e-01]\t[9.27649805e+03 1.00000000e+00]\n",
      "15 \t100  \t[3.10118377e+05 1.20000000e+00]\t[8.80029528e+04 7.48331477e-01]\t[9.27649805e+03 1.00000000e+00]\n",
      "16 \t100  \t[3.1665422e+05 1.1200000e+00]  \t[7.68450006e+04 5.15363949e-01]\t[1.18190889e+04 1.00000000e+00]\n",
      "17 \t100  \t[3.29623021e+05 1.02000000e+00]\t[4.51196655e+04 1.40000000e-01]\t[1.37853623e+04 1.00000000e+00]\n",
      "18 \t100  \t[3.29623021e+05 1.02000000e+00]\t[4.51196655e+04 1.40000000e-01]\t[1.37853623e+04 1.00000000e+00]\n",
      "19 \t100  \t[3.29623021e+05 1.02000000e+00]\t[4.51196655e+04 1.40000000e-01]\t[1.37853623e+04 1.00000000e+00]\n",
      "20 \t100  \t[3.29623021e+05 1.02000000e+00]\t[4.51196655e+04 1.40000000e-01]\t[1.37853623e+04 1.00000000e+00]\n",
      "21 \t100  \t[3.16693538e+05 1.14000000e+00]\t[7.66893654e+04 6.32771681e-01]\t[1.1878251e+04 1.0000000e+00]  \n",
      "22 \t100  \t[3.16612278e+05 1.14000000e+00]\t[7.70123097e+04 6.32771681e-01]\t[8.99198145e+03 1.00000000e+00]\n",
      "23 \t100  \t[3.16581851e+05 1.14000000e+00]\t[7.71332088e+04 6.32771681e-01]\t[8.20064453e+03 1.00000000e+00]\n",
      "24 \t100  \t[3.16578547e+05 1.14000000e+00]\t[7.71464226e+04 6.32771681e-01]\t[8.03541992e+03 1.00000000e+00]\n",
      "25 \t100  \t[3.16578547e+05 1.14000000e+00]\t[7.71464226e+04 6.32771681e-01]\t[8.03541992e+03 1.00000000e+00]\n",
      "26 \t100  \t[3.16578547e+05 1.14000000e+00]\t[7.71464226e+04 6.32771681e-01]\t[8.03541992e+03 1.00000000e+00]\n",
      "27 \t100  \t[3.10093555e+05 1.20000000e+00]\t[8.80879366e+04 7.48331477e-01]\t[8.03541992e+03 1.00000000e+00]\n",
      "28 \t100  \t[3.10093555e+05 1.20000000e+00]\t[8.80879367e+04 7.48331477e-01]\t[8.03541797e+03 1.00000000e+00]\n",
      "29 \t100  \t[3.10093555e+05 1.20000000e+00]\t[8.80879367e+04 7.48331477e-01]\t[8.03541797e+03 1.00000000e+00]\n",
      "30 \t100  \t[3.29623021e+05 1.02000000e+00]\t[4.51196655e+04 1.40000000e-01]\t[1.37853623e+04 1.00000000e+00]\n",
      "31 \t100  \t[3.1667353e+05 1.1200000e+00]  \t[7.67688629e+04 5.15363949e-01]\t[1.10424746e+04 1.00000000e+00]\n",
      "32 \t100  \t[3.1663821e+05 1.1200000e+00]  \t[7.69097455e+04 5.15363949e-01]\t[9.27649707e+03 1.00000000e+00]\n",
      "33 \t100  \t[3.16617968e+05 1.12000000e+00]\t[7.69895871e+04 5.15363949e-01]\t[9.27649707e+03 1.00000000e+00]\n",
      "34 \t100  \t[3.16617968e+05 1.12000000e+00]\t[7.69895871e+04 5.15363949e-01]\t[9.27649707e+03 1.00000000e+00]\n",
      "35 \t100  \t[3.16617968e+05 1.12000000e+00]\t[7.69895871e+04 5.15363949e-01]\t[9.27649707e+03 1.00000000e+00]\n",
      "36 \t100  \t[3.16617968e+05 1.12000000e+00]\t[7.69895871e+04 5.15363949e-01]\t[9.27649707e+03 1.00000000e+00]\n",
      "37 \t100  \t[3.10076434e+05 1.20000000e+00]\t[8.81459767e+04 7.48331477e-01]\t[8.99198047e+03 1.00000000e+00]\n",
      "38 \t100  \t[3.10076434e+05 1.20000000e+00]\t[8.81459767e+04 7.48331477e-01]\t[8.99198047e+03 1.00000000e+00]\n",
      "39 \t100  \t[3.29623021e+05 1.02000000e+00]\t[4.51196655e+04 1.40000000e-01]\t[1.37853623e+04 1.00000000e+00]\n",
      "40 \t100  \t[3.16641503e+05 1.14000000e+00]\t[7.68967723e+04 6.32771681e-01]\t[9.27649805e+03 1.00000000e+00]\n",
      "41 \t100  \t[3.16628496e+05 1.14000000e+00]\t[7.69480381e+04 6.32771681e-01]\t[9.27649805e+03 1.00000000e+00]\n",
      "42 \t100  \t[3.10143504e+05 1.20000000e+00]\t[8.79179305e+04 7.48331477e-01]\t[9.27649805e+03 1.00000000e+00]\n",
      "43 \t100  \t[3.29623021e+05 1.02000000e+00]\t[4.51196655e+04 1.40000000e-01]\t[1.37853623e+04 1.00000000e+00]\n",
      "44 \t100  \t[3.16666841e+05 1.14000000e+00]\t[7.67951949e+04 6.32771681e-01]\t[1.11937324e+04 1.00000000e+00]\n",
      "45 \t100  \t[3.29623021e+05 1.02000000e+00]\t[4.51196655e+04 1.40000000e-01]\t[1.37853623e+04 1.00000000e+00]\n",
      "46 \t100  \t[3.23153812e+05 1.06000000e+00]\t[6.32698213e+04 3.10483494e-01]\t[1.26082207e+04 1.00000000e+00]\n",
      "47 \t100  \t[3.23153812e+05 1.06000000e+00]\t[6.32698213e+04 3.10483494e-01]\t[1.26082207e+04 1.00000000e+00]\n",
      "48 \t100  \t[3.29623021e+05 1.02000000e+00]\t[4.51196655e+04 1.40000000e-01]\t[1.37853623e+04 1.00000000e+00]\n",
      "49 \t100  \t[3.29623021e+05 1.02000000e+00]\t[4.51196655e+04 1.40000000e-01]\t[1.37853623e+04 1.00000000e+00]\n",
      "50 \t100  \t[3.29623021e+05 1.02000000e+00]\t[4.51196655e+04 1.40000000e-01]\t[1.37853623e+04 1.00000000e+00]\n",
      "51 \t100  \t[3.29623021e+05 1.02000000e+00]\t[4.51196655e+04 1.40000000e-01]\t[1.37853623e+04 1.00000000e+00]\n",
      "52 \t100  \t[3.29623021e+05 1.02000000e+00]\t[4.51196655e+04 1.40000000e-01]\t[1.37853623e+04 1.00000000e+00]\n",
      "53 \t100  \t[3.29623021e+05 1.02000000e+00]\t[4.51196655e+04 1.40000000e-01]\t[1.37853623e+04 1.00000000e+00]\n",
      "54 \t100  \t[3.23139212e+05 1.06000000e+00]\t[6.33415209e+04 3.10483494e-01]\t[1.1878252e+04 1.0000000e+00]  \n",
      "55 \t100  \t[3.29623021e+05 1.02000000e+00]\t[4.51196655e+04 1.40000000e-01]\t[1.37853623e+04 1.00000000e+00]\n",
      "56 \t100  \t[3.1665422e+05 1.1400000e+00]  \t[7.68450005e+04 6.32771681e-01]\t[1.18190898e+04 1.00000000e+00]\n",
      "57 \t100  \t[3.29623021e+05 1.02000000e+00]\t[4.51196655e+04 1.40000000e-01]\t[1.37853623e+04 1.00000000e+00]\n",
      "58 \t100  \t[3.16641713e+05 1.12000000e+00]\t[7.68946486e+04 5.15363949e-01]\t[1.11937344e+04 1.00000000e+00]\n",
      "59 \t100  \t[3.29623021e+05 1.02000000e+00]\t[4.51196655e+04 1.40000000e-01]\t[1.37853623e+04 1.00000000e+00]\n",
      "60 \t100  \t[3.29623021e+05 1.02000000e+00]\t[4.51196655e+04 1.40000000e-01]\t[1.37853623e+04 1.00000000e+00]\n",
      "61 \t100  \t[3.29623021e+05 1.02000000e+00]\t[4.51196655e+04 1.40000000e-01]\t[1.37853623e+04 1.00000000e+00]\n",
      "62 \t100  \t[3.29623021e+05 1.02000000e+00]\t[4.51196655e+04 1.40000000e-01]\t[1.37853623e+04 1.00000000e+00]\n",
      "63 \t100  \t[3.29623021e+05 1.02000000e+00]\t[4.51196655e+04 1.40000000e-01]\t[1.37853623e+04 1.00000000e+00]\n",
      "64 \t100  \t[3.29623021e+05 1.02000000e+00]\t[4.51196655e+04 1.40000000e-01]\t[1.37853623e+04 1.00000000e+00]\n",
      "65 \t100  \t[3.16679348e+05 1.12000000e+00]\t[7.67454783e+04 5.15363949e-01]\t[1.18190889e+04 1.00000000e+00]\n",
      "66 \t100  \t[3.29623021e+05 1.02000000e+00]\t[4.51196655e+04 1.40000000e-01]\t[1.37853623e+04 1.00000000e+00]\n",
      "67 \t100  \t[3.29623021e+05 1.02000000e+00]\t[4.51196655e+04 1.40000000e-01]\t[1.37853623e+04 1.00000000e+00]\n",
      "68 \t100  \t[3.1665422e+05 1.1400000e+00]  \t[7.68450004e+04 6.32771681e-01]\t[1.18190908e+04 1.00000000e+00]\n",
      "69 \t100  \t[3.1665422e+05 1.1400000e+00]  \t[7.68450004e+04 6.32771681e-01]\t[1.18190908e+04 1.00000000e+00]\n",
      "70 \t100  \t[3.16638597e+05 1.14000000e+00]\t[7.69070303e+04 6.32771681e-01]\t[1.10379092e+04 1.00000000e+00]\n",
      "71 \t100  \t[3.16597678e+05 1.14000000e+00]\t[7.70699865e+04 6.32771681e-01]\t[8.99198242e+03 1.00000000e+00]\n",
      "72 \t100  \t[3.10061834e+05 1.20000000e+00]\t[8.81952909e+04 7.48331477e-01]\t[8.99198145e+03 1.00000000e+00]\n",
      "73 \t100  \t[3.29623021e+05 1.02000000e+00]\t[4.51196655e+04 1.40000000e-01]\t[1.37853623e+04 1.00000000e+00]\n",
      "74 \t100  \t[3.10153696e+05 1.20000000e+00]\t[8.78824763e+04 7.48331477e-01]\t[1.10424746e+04 1.00000000e+00]\n",
      "75 \t100  \t[3.10153696e+05 1.20000000e+00]\t[8.78824763e+04 7.48331477e-01]\t[1.10424746e+04 1.00000000e+00]\n",
      "76 \t100  \t[3.10153696e+05 1.20000000e+00]\t[8.78824763e+04 7.48331477e-01]\t[1.10424746e+04 1.00000000e+00]\n",
      "77 \t100  \t[3.16603368e+05 1.12000000e+00]\t[7.70472821e+04 5.15363949e-01]\t[9.27649707e+03 1.00000000e+00]\n",
      "78 \t100  \t[3.29623021e+05 1.02000000e+00]\t[4.51196655e+04 1.40000000e-01]\t[1.37853623e+04 1.00000000e+00]\n",
      "79 \t100  \t[3.23139212e+05 1.08000000e+00]\t[6.33415211e+04 4.40000000e-01]\t[1.187825e+04 1.000000e+00]    \n",
      "80 \t100  \t[3.23139212e+05 1.08000000e+00]\t[6.33415211e+04 4.40000000e-01]\t[1.187825e+04 1.000000e+00]    \n",
      "81 \t100  \t[3.16655404e+05 1.12000000e+00]\t[7.68403072e+04 5.15363949e-01]\t[1.187825e+04 1.000000e+00]    \n",
      "82 \t100  \t[3.29623021e+05 1.02000000e+00]\t[4.51196655e+04 1.40000000e-01]\t[1.37853623e+04 1.00000000e+00]\n",
      "83 \t100  \t[3.29623021e+05 1.02000000e+00]\t[4.51196655e+04 1.40000000e-01]\t[1.37853623e+04 1.00000000e+00]\n",
      "84 \t100  \t[3.16622806e+05 1.14000000e+00]\t[7.69707737e+04 6.32771681e-01]\t[8.99198145e+03 1.00000000e+00]\n",
      "85 \t100  \t[3.16597678e+05 1.14000000e+00]\t[7.70699866e+04 6.32771681e-01]\t[8.99198145e+03 1.00000000e+00]\n",
      "86 \t100  \t[3.29623021e+05 1.02000000e+00]\t[4.51196655e+04 1.40000000e-01]\t[1.37853623e+04 1.00000000e+00]\n",
      "87 \t100  \t[3.29623021e+05 1.02000000e+00]\t[4.51196655e+04 1.40000000e-01]\t[1.37853623e+04 1.00000000e+00]\n"
     ]
    },
    {
     "name": "stdout",
     "output_type": "stream",
     "text": [
      "88 \t100  \t[3.16689062e+05 1.12000000e+00]\t[7.67070779e+04 5.15363949e-01]\t[1.18190918e+04 1.00000000e+00]\n",
      "89 \t100  \t[3.16634274e+05 1.12000000e+00]\t[7.69242101e+04 5.15363949e-01]\t[1.08217881e+04 1.00000000e+00]\n",
      "90 \t100  \t[3.29623021e+05 1.02000000e+00]\t[4.51196655e+04 1.40000000e-01]\t[1.37853623e+04 1.00000000e+00]\n",
      "91 \t100  \t[3.29623021e+05 1.02000000e+00]\t[4.51196655e+04 1.40000000e-01]\t[1.37853623e+04 1.00000000e+00]\n",
      "92 \t100  \t[3.29623021e+05 1.02000000e+00]\t[4.51196655e+04 1.40000000e-01]\t[1.37853623e+04 1.00000000e+00]\n",
      "93 \t100  \t[3.29623021e+05 1.02000000e+00]\t[4.51196655e+04 1.40000000e-01]\t[1.37853623e+04 1.00000000e+00]\n",
      "94 \t100  \t[3.16717599e+05 1.14000000e+00]\t[7.65938499e+04 6.32771681e-01]\t[1.31346328e+04 1.00000000e+00]\n",
      "95 \t100  \t[3.29623021e+05 1.02000000e+00]\t[4.51196655e+04 1.40000000e-01]\t[1.37853623e+04 1.00000000e+00]\n",
      "96 \t100  \t[3.16669116e+05 1.14000000e+00]\t[7.67864389e+04 6.32771681e-01]\t[1.08217881e+04 1.00000000e+00]\n",
      "97 \t100  \t[3.10126587e+05 1.20000000e+00]\t[8.79760449e+04 7.48331477e-01]\t[8.491125e+03 1.000000e+00]    \n",
      "98 \t100  \t[3.10091745e+05 1.20000000e+00]\t[8.80937312e+04 7.48331477e-01]\t[8.491125e+03 1.000000e+00]    \n",
      "99 \t100  \t[3.29623021e+05 1.02000000e+00]\t[4.51196655e+04 1.40000000e-01]\t[1.37853623e+04 1.00000000e+00]\n",
      "Final population hypervolume is 0.000000\n",
      "best model: Abs(x4)\n"
     ]
    }
   ],
   "source": [
    "import pandas as pd\n",
    "from brush import BrushRegressor\n",
    "\n",
    "# load data\n",
    "df = pd.read_csv('../examples/datasets/d_enc.csv')\n",
    "X = df.drop(columns='label')\n",
    "y = df['label']\n",
    "\n",
    "# import and make a regressor\n",
    "est = BrushRegressor()\n",
    "\n",
    "# use like you would a sklearn regressor\n",
    "est.fit(X,y)\n",
    "y_pred = est.predict(X)\n"
   ]
  },
  {
   "cell_type": "code",
   "execution_count": 4,
   "id": "050565b5",
   "metadata": {},
   "outputs": [
    {
     "name": "stdout",
     "output_type": "stream",
     "text": [
      "score: 0.8014088305336884\n"
     ]
    }
   ],
   "source": [
    "print('score:', est.score(X,y))"
   ]
  },
  {
   "cell_type": "markdown",
   "id": "a355d8f3",
   "metadata": {},
   "source": [
    "Now that we have trained a model, `est.best_estimator_` contains our symbolic model. \n",
    "We can view it as a string:"
   ]
  },
  {
   "cell_type": "code",
   "execution_count": 5,
   "id": "316964d5",
   "metadata": {},
   "outputs": [
    {
     "name": "stdout",
     "output_type": "stream",
     "text": [
      "Abs(x4)\n"
     ]
    }
   ],
   "source": [
    "print(est.best_estimator_.get_model())"
   ]
  },
  {
   "cell_type": "markdown",
   "id": "e7d578bb",
   "metadata": {},
   "source": [
    "We can view it as a tree:"
   ]
  },
  {
   "cell_type": "code",
   "execution_count": 6,
   "id": "dad68d01",
   "metadata": {},
   "outputs": [
    {
     "name": "stdout",
     "output_type": "stream",
     "text": [
      "Abs\n",
      "|-x4\n"
     ]
    }
   ],
   "source": [
    "print(est.best_estimator_.get_model(\"tree\"))"
   ]
  },
  {
   "cell_type": "markdown",
   "id": "90068143",
   "metadata": {},
   "source": [
    "We can also view it as a graph in dot format. \n",
    "Let's import graphviz and make a nicer plot."
   ]
  },
  {
   "cell_type": "code",
   "execution_count": 9,
   "id": "3ef1a735",
   "metadata": {
    "scrolled": false
   },
   "outputs": [
    {
     "name": "stdout",
     "output_type": "stream",
     "text": [
      "digraph G {\n",
      "Abs -> x4 [label=\"4.702\"];\n",
      "}\n",
      "\n"
     ]
    },
    {
     "data": {
      "image/svg+xml": [
       "<?xml version=\"1.0\" encoding=\"UTF-8\" standalone=\"no\"?>\n",
       "<!DOCTYPE svg PUBLIC \"-//W3C//DTD SVG 1.1//EN\"\n",
       " \"http://www.w3.org/Graphics/SVG/1.1/DTD/svg11.dtd\">\n",
       "<!-- Generated by graphviz version 7.1.0 (20230122.1345)\n",
       " -->\n",
       "<!-- Title: G Pages: 1 -->\n",
       "<svg width=\"77pt\" height=\"131pt\"\n",
       " viewBox=\"0.00 0.00 76.95 131.00\" xmlns=\"http://www.w3.org/2000/svg\" xmlns:xlink=\"http://www.w3.org/1999/xlink\">\n",
       "<g id=\"graph0\" class=\"graph\" transform=\"scale(1 1) rotate(0) translate(4 127)\">\n",
       "<title>G</title>\n",
       "<polygon fill=\"white\" stroke=\"none\" points=\"-4,4 -4,-127 72.95,-127 72.95,4 -4,4\"/>\n",
       "<!-- Abs -->\n",
       "<g id=\"node1\" class=\"node\">\n",
       "<title>Abs</title>\n",
       "<ellipse fill=\"none\" stroke=\"black\" cx=\"27.95\" cy=\"-105\" rx=\"27.9\" ry=\"18\"/>\n",
       "<text text-anchor=\"middle\" x=\"27.95\" y=\"-101.3\" font-family=\"Times,serif\" font-size=\"14.00\">Abs</text>\n",
       "</g>\n",
       "<!-- x4 -->\n",
       "<g id=\"node2\" class=\"node\">\n",
       "<title>x4</title>\n",
       "<ellipse fill=\"none\" stroke=\"black\" cx=\"27.95\" cy=\"-18\" rx=\"27\" ry=\"18\"/>\n",
       "<text text-anchor=\"middle\" x=\"27.95\" y=\"-14.3\" font-family=\"Times,serif\" font-size=\"14.00\">x4</text>\n",
       "</g>\n",
       "<!-- Abs&#45;&gt;x4 -->\n",
       "<g id=\"edge1\" class=\"edge\">\n",
       "<title>Abs&#45;&gt;x4</title>\n",
       "<path fill=\"none\" stroke=\"black\" d=\"M27.95,-86.8C27.95,-75.58 27.95,-60.67 27.95,-47.69\"/>\n",
       "<polygon fill=\"black\" stroke=\"black\" points=\"31.45,-47.98 27.95,-37.98 24.45,-47.98 31.45,-47.98\"/>\n",
       "<text text-anchor=\"middle\" x=\"48.45\" y=\"-57.8\" font-family=\"Times,serif\" font-size=\"14.00\">4.702</text>\n",
       "</g>\n",
       "</g>\n",
       "</svg>\n"
      ],
      "text/plain": [
       "<graphviz.sources.Source at 0x7fd4314eead0>"
      ]
     },
     "execution_count": 9,
     "metadata": {},
     "output_type": "execute_result"
    }
   ],
   "source": [
    "import graphviz\n",
    "\n",
    "model = est.best_estimator_.get_model(\"dot\")\n",
    "print(model)\n",
    "g = graphviz.Source(model)\n",
    "g"
   ]
  }
 ],
 "metadata": {
  "kernelspec": {
   "display_name": "Python 3 (ipykernel)",
   "language": "python",
   "name": "python3"
  },
  "language_info": {
   "codemirror_mode": {
    "name": "ipython",
    "version": 3
   },
   "file_extension": ".py",
   "mimetype": "text/x-python",
   "name": "python",
   "nbconvert_exporter": "python",
   "pygments_lexer": "ipython3",
   "version": "3.11.0"
  }
 },
 "nbformat": 4,
 "nbformat_minor": 5
}
