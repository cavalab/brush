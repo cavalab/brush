{
 "cells": [
  {
   "cell_type": "markdown",
   "id": "e9776d12",
   "metadata": {},
   "source": [
    "# Working with Programs\n",
    "\n",
    "In Brush, a *Program* is an executable data structure. \n",
    "You may think of it as a *model* or a *function* mapping feature inputs to data labels. \n",
    "We call them programs because that's what they are: executable data structures,  \n",
    "and that is what they are called in the genetic algorithm literature, to distinguish them from optimizing bits or strings. \n",
    "\n",
    "The Brush Program class operates similarly to a [sklearn](scikit-learn.org) estimator: it has `fit` and `predict` methods that are called in during training or inference, respectively. \n",
    "\n",
    "\n",
    "## Types of Programs \n",
    "\n",
    "There are four fundamental \"types\" of Brush programs:\n",
    "\n",
    "- **Regressors**: map inputs to a continous endpoint \n",
    "- **Binary Classifiers**: map inputs to a binary endpoint, as well as a continuous value in $[0, 1]$  \n",
    "- **Multi-class Classifiers**: map inputs to a category\n",
    "    - Under development\n",
    "- **Representors**: map inputs to a lower dimensional space. \n",
    "    - Under development\n",
    "\n",
    "## Representation \n",
    "\n",
    "Internally, the programs are represented as syntax trees. \n",
    "We use the [tree.hh tree class](https://github.com/kpeeters/tree.hh) which gives trees an STL-like feel. \n",
    "\n",
    "\n",
    "\n",
    "## Generation\n",
    "\n",
    "We generate random programs using Sean Luke's PTC2 algorithm.  \n",
    "\n",
    "\n",
    "## Evaluation\n",
    "\n",
    "TODO\n",
    "\n",
    "\n"
   ]
  },
  {
   "cell_type": "markdown",
   "id": "8c258669",
   "metadata": {},
   "source": [
    "## Visualizing Programs\n",
    "\n",
    "Programs in Brush are symbolic tree structures, and can be viewed in a few ways: \n",
    "\n",
    "\n",
    "1. As a string using `get_model()`\n",
    "2. As a string-like tree using `get_model(\"tree\")`\n",
    "2. As a graph using `graphviz` and `get_model(\"dot\")`. \n",
    "\n",
    "Let's look at a regresion example."
   ]
  },
  {
   "cell_type": "code",
   "execution_count": 1,
   "id": "102e3fcb",
   "metadata": {
    "tags": [
     "remove-output"
    ]
   },
   "outputs": [],
   "source": [
    "import pandas as pd\n",
    "from pybrush import BrushRegressor\n",
    "\n",
    "# load data\n",
    "df = pd.read_csv('../examples/datasets/d_enc.csv')\n",
    "X = df.drop(columns='label')\n",
    "y = df['label']"
   ]
  },
  {
   "cell_type": "code",
   "execution_count": 2,
   "id": "ac39c9ca",
   "metadata": {},
   "outputs": [
    {
     "name": "stdout",
     "output_type": "stream",
     "text": [
      "Completed 100% [====================]\n",
      "saving final population as archive...\n",
      "score: 0.8853105771974339\n"
     ]
    }
   ],
   "source": [
    "# import and make a regressor\n",
    "est = BrushRegressor(\n",
    "    functions=['SplitBest','Add','Mul','Sin','Cos','Exp','Logabs'],\n",
    "    verbosity=1 # set verbosity==1 to see a progress bar\n",
    ")\n",
    "\n",
    "# use like you would a sklearn regressor\n",
    "est.fit(X,y)\n",
    "y_pred = est.predict(X)\n",
    "print('score:', est.score(X,y))"
   ]
  },
  {
   "cell_type": "markdown",
   "id": "5bbd24cd",
   "metadata": {},
   "source": [
    "You can see the fitness of the final individual by accessing the `fitness` attribute. Each fitness value corresponds to the objective of same index defined earlier for the `BrushRegressor` class. By default, it will try to minimize `\"error\"` and `\"size\"`."
   ]
  },
  {
   "cell_type": "code",
   "execution_count": 3,
   "id": "166415c2",
   "metadata": {},
   "outputs": [
    {
     "name": "stdout",
     "output_type": "stream",
     "text": [
      "Fitness(10.366220 14.000000 )\n",
      "['error', 'size']\n"
     ]
    }
   ],
   "source": [
    "print(est.best_estimator_.fitness)\n",
    "print(est.objectives)"
   ]
  },
  {
   "cell_type": "markdown",
   "id": "38b6364e",
   "metadata": {},
   "source": [
    "A `fitness` in Brush is actually more than a tuple. It is a class that has all boolean comparison operators overloaded to allow an ease of use when prototyping with Brush.\n",
    "\n",
    "It also infers the weight of each objective to automatically handle minimization or maximization objetives.\n",
    "\n",
    "To see the weights, you can try:"
   ]
  },
  {
   "cell_type": "code",
   "execution_count": 4,
   "id": "13d0ac5f",
   "metadata": {},
   "outputs": [
    {
     "data": {
      "text/plain": [
       "[-1.0, -1.0]"
      ]
     },
     "execution_count": 4,
     "metadata": {},
     "output_type": "execute_result"
    }
   ],
   "source": [
    "est.best_estimator_.fitness.weights"
   ]
  },
  {
   "cell_type": "markdown",
   "id": "2fc9fe80",
   "metadata": {},
   "source": [
    "Other information of the best estimator can also be accessed through its fitness attribute:"
   ]
  },
  {
   "cell_type": "code",
   "execution_count": 5,
   "id": "de5255e7",
   "metadata": {},
   "outputs": [
    {
     "name": "stdout",
     "output_type": "stream",
     "text": [
      "14\n",
      "162\n",
      "3\n"
     ]
    }
   ],
   "source": [
    "print(est.best_estimator_.fitness.size)\n",
    "print(est.best_estimator_.fitness.complexity)\n",
    "print(est.best_estimator_.fitness.depth)"
   ]
  },
  {
   "cell_type": "markdown",
   "id": "fe594691",
   "metadata": {},
   "source": [
    "## Serialization \n",
    "\n",
    "Brush let's you serialize the entire individual, or just the program or fitness it wraps. It uses JSON to serialize the objects, and this is implemented with the get and set states of an object:"
   ]
  },
  {
   "cell_type": "code",
   "execution_count": 6,
   "id": "b01ab1fa",
   "metadata": {},
   "outputs": [
    {
     "name": "stdout",
     "output_type": "stream",
     "text": [
      "fitness {'complexity': 162, 'crowding_dist': 3.4028234663852886e+38, 'dcounter': 0, 'depth': 3, 'dominated': [1, 111, 112, 114, 117], 'linear_complexity': 24, 'loss': 10.366219520568848, 'loss_v': 10.366219520568848, 'rank': 1, 'size': 14, 'values': [10.366219520568848, 14.0], 'weights': [-1.0, -1.0], 'wvalues': [-10.366219520568848, -14.0]}\n",
      "id 206\n",
      "objectives ['mse', 'size']\n",
      "parent_id [203]\n",
      "program {'Tree': [{'W': 1.8204278945922852, 'arg_types': ['ArrayF', 'ArrayF'], 'center_op': True, 'feature': '', 'fixed': False, 'is_weighted': False, 'name': 'Add', 'node_type': 'Add', 'prob_change': 1.0, 'ret_type': 'ArrayF', 'sig_dual_hash': 9996486434638833164, 'sig_hash': 10001460114883919497}, {'W': 14.676007270812988, 'arg_types': [], 'center_op': True, 'feature': 'x6', 'fixed': False, 'is_weighted': True, 'name': 'Terminal', 'node_type': 'Terminal', 'prob_change': 0.20750471949577332, 'ret_type': 'ArrayF', 'sig_dual_hash': 509529941281334733, 'sig_hash': 17717457037689164349}, {'W': 0.75, 'arg_types': ['ArrayF', 'ArrayF'], 'center_op': True, 'feature': 'x0', 'fixed': False, 'is_weighted': False, 'name': 'SplitBest', 'node_type': 'SplitBest', 'prob_change': 1.0, 'ret_type': 'ArrayF', 'sig_dual_hash': 9996486434638833164, 'sig_hash': 10001460114883919497}, {'W': 0.04977686330676079, 'arg_types': [], 'center_op': True, 'feature': 'x1', 'fixed': False, 'is_weighted': True, 'name': 'Terminal', 'node_type': 'Terminal', 'prob_change': 0.6729995608329773, 'ret_type': 'ArrayF', 'sig_dual_hash': 509529941281334733, 'sig_hash': 17717457037689164349}, {'W': 0.016918443143367767, 'arg_types': [], 'center_op': True, 'feature': 'x1', 'fixed': False, 'is_weighted': True, 'name': 'Terminal', 'node_type': 'Terminal', 'prob_change': 0.6729995608329773, 'ret_type': 'ArrayF', 'sig_dual_hash': 509529941281334733, 'sig_hash': 17717457037689164349}], 'is_fitted_': True}\n",
      "variation point\n"
     ]
    }
   ],
   "source": [
    "estimator_dict = est.best_estimator_.__getstate__()\n",
    "\n",
    "for k, v in estimator_dict.items():\n",
    "    print(k, v)"
   ]
  },
  {
   "cell_type": "markdown",
   "id": "6bcb071b",
   "metadata": {},
   "source": [
    "With serialization, you can use pickle to save and load just programs or even the entire individual."
   ]
  },
  {
   "cell_type": "code",
   "execution_count": 7,
   "id": "b4537631",
   "metadata": {},
   "outputs": [],
   "source": [
    "import pickle\n",
    "import os, tempfile\n",
    "\n",
    "individual_file = os.path.join(tempfile.mkdtemp(), 'individual.json')\n",
    "with open(individual_file, \"wb\") as f:\n",
    "    pickle.dump(est.best_estimator_, f)\n",
    "\n",
    "program_file = os.path.join(tempfile.mkdtemp(), 'program.json')\n",
    "with open(program_file, \"wb\") as f:\n",
    "    pickle.dump(est.best_estimator_.program, f)"
   ]
  },
  {
   "cell_type": "markdown",
   "id": "fff5693d",
   "metadata": {},
   "source": [
    "Then we can load it later with:"
   ]
  },
  {
   "cell_type": "code",
   "execution_count": 8,
   "id": "ee7a20c6",
   "metadata": {},
   "outputs": [
    {
     "name": "stdout",
     "output_type": "stream",
     "text": [
      "Add(14.68*x6,If(x0>0.75,0.05*x1,0.02*x1))\n"
     ]
    }
   ],
   "source": [
    "with open(individual_file, \"rb\") as f:\n",
    "    loaded_estimator = pickle.load(f)\n",
    "    print(loaded_estimator.get_model())"
   ]
  },
  {
   "cell_type": "markdown",
   "id": "a355d8f3",
   "metadata": {},
   "source": [
    "### String\n",
    "\n",
    "Now that we have trained a model, `est.best_estimator_` contains our symbolic model. \n",
    "We can view it as a string:"
   ]
  },
  {
   "cell_type": "code",
   "execution_count": 9,
   "id": "316964d5",
   "metadata": {},
   "outputs": [
    {
     "name": "stdout",
     "output_type": "stream",
     "text": [
      "Add(14.68*x6,If(x0>0.75,0.05*x1,0.02*x1))\n"
     ]
    }
   ],
   "source": [
    "print(est.best_estimator_.get_model())"
   ]
  },
  {
   "cell_type": "markdown",
   "id": "e7d578bb",
   "metadata": {},
   "source": [
    "### Quick Little Tree\n",
    "\n",
    "Or, we can view it as a compact tree:"
   ]
  },
  {
   "cell_type": "code",
   "execution_count": 10,
   "id": "dad68d01",
   "metadata": {},
   "outputs": [
    {
     "name": "stdout",
     "output_type": "stream",
     "text": [
      "Add\n",
      "|-14.68*x6\n",
      "|-SplitBest\n",
      "|  |-0.05*x1\n",
      "|  |-0.02*x1\n"
     ]
    }
   ],
   "source": [
    "print(est.best_estimator_.get_model(\"tree\"))"
   ]
  },
  {
   "cell_type": "markdown",
   "id": "90068143",
   "metadata": {},
   "source": [
    "### GraphViz\n",
    "\n",
    "If we are feeling fancy 🎩, we can also view it as a graph in dot format. \n",
    "Let's import graphviz and make a nicer plot."
   ]
  },
  {
   "cell_type": "code",
   "execution_count": 11,
   "id": "3ef1a735",
   "metadata": {},
   "outputs": [
    {
     "data": {
      "image/svg+xml": [
       "<?xml version=\"1.0\" encoding=\"UTF-8\" standalone=\"no\"?>\n",
       "<!DOCTYPE svg PUBLIC \"-//W3C//DTD SVG 1.1//EN\"\n",
       " \"http://www.w3.org/Graphics/SVG/1.1/DTD/svg11.dtd\">\n",
       "<!-- Generated by graphviz version 9.0.0 (20231125.0833)\n",
       " -->\n",
       "<!-- Title: G Pages: 1 -->\n",
       "<svg width=\"198pt\" height=\"206pt\"\n",
       " viewBox=\"0.00 0.00 198.10 206.25\" xmlns=\"http://www.w3.org/2000/svg\" xmlns:xlink=\"http://www.w3.org/1999/xlink\">\n",
       "<g id=\"graph0\" class=\"graph\" transform=\"scale(1 1) rotate(0) translate(4 202.25)\">\n",
       "<title>G</title>\n",
       "<polygon fill=\"white\" stroke=\"none\" points=\"-4,4 -4,-202.25 194.1,-202.25 194.1,4 -4,4\"/>\n",
       "<!-- 7f84a80dcfa0 -->\n",
       "<g id=\"node1\" class=\"node\">\n",
       "<title>7f84a80dcfa0</title>\n",
       "<ellipse fill=\"none\" stroke=\"black\" cx=\"55\" cy=\"-180.25\" rx=\"30.69\" ry=\"18\"/>\n",
       "<text text-anchor=\"middle\" x=\"55\" y=\"-175.57\" font-family=\"Times,serif\" font-size=\"14.00\">Add</text>\n",
       "</g>\n",
       "<!-- x6 -->\n",
       "<g id=\"node2\" class=\"node\">\n",
       "<title>x6</title>\n",
       "<ellipse fill=\"none\" stroke=\"black\" cx=\"27\" cy=\"-91\" rx=\"27\" ry=\"18\"/>\n",
       "<text text-anchor=\"middle\" x=\"27\" y=\"-86.33\" font-family=\"Times,serif\" font-size=\"14.00\">x6</text>\n",
       "</g>\n",
       "<!-- 7f84a80dcfa0&#45;&gt;x6 -->\n",
       "<g id=\"edge1\" class=\"edge\">\n",
       "<title>7f84a80dcfa0&#45;&gt;x6</title>\n",
       "<path fill=\"none\" stroke=\"black\" d=\"M49.6,-162.43C45.71,-150.31 40.38,-133.7 35.87,-119.65\"/>\n",
       "<polygon fill=\"black\" stroke=\"black\" points=\"39.33,-118.96 32.94,-110.51 32.66,-121.1 39.33,-118.96\"/>\n",
       "<text text-anchor=\"middle\" x=\"64.25\" y=\"-130.95\" font-family=\"Times,serif\" font-size=\"14.00\">14.68</text>\n",
       "</g>\n",
       "<!-- 7f84a8051170 -->\n",
       "<g id=\"node3\" class=\"node\">\n",
       "<title>7f84a8051170</title>\n",
       "<ellipse fill=\"none\" stroke=\"black\" cx=\"131\" cy=\"-91\" rx=\"59.1\" ry=\"18\"/>\n",
       "<text text-anchor=\"middle\" x=\"131\" y=\"-86.33\" font-family=\"Times,serif\" font-size=\"14.00\">x0&gt;0.75?</text>\n",
       "</g>\n",
       "<!-- 7f84a80dcfa0&#45;&gt;7f84a8051170 -->\n",
       "<g id=\"edge2\" class=\"edge\">\n",
       "<title>7f84a80dcfa0&#45;&gt;7f84a8051170</title>\n",
       "<path fill=\"none\" stroke=\"black\" d=\"M70.21,-164.21C76.2,-158.13 83.05,-150.98 89,-144.25 96.47,-135.8 104.31,-126.25 111.16,-117.66\"/>\n",
       "<polygon fill=\"black\" stroke=\"black\" points=\"113.77,-120.01 117.21,-109.99 108.27,-115.67 113.77,-120.01\"/>\n",
       "</g>\n",
       "<!-- x1 -->\n",
       "<g id=\"node4\" class=\"node\">\n",
       "<title>x1</title>\n",
       "<ellipse fill=\"none\" stroke=\"black\" cx=\"131\" cy=\"-18\" rx=\"27\" ry=\"18\"/>\n",
       "<text text-anchor=\"middle\" x=\"131\" y=\"-13.32\" font-family=\"Times,serif\" font-size=\"14.00\">x1</text>\n",
       "</g>\n",
       "<!-- 7f84a8051170&#45;&gt;x1 -->\n",
       "<g id=\"edge3\" class=\"edge\">\n",
       "<title>7f84a8051170&#45;&gt;x1</title>\n",
       "<path fill=\"none\" stroke=\"black\" d=\"M125.12,-72.81C124.32,-65.14 124.07,-55.89 124.38,-47.24\"/>\n",
       "<polygon fill=\"black\" stroke=\"black\" points=\"127.85,-47.75 125.04,-37.54 120.87,-47.28 127.85,-47.75\"/>\n",
       "<text text-anchor=\"middle\" x=\"109.39\" y=\"-39.98\" font-family=\"Times,serif\" font-size=\"14.00\">0.05</text>\n",
       "<text text-anchor=\"middle\" x=\"120.62\" y=\"-59.51\" font-family=\"Times,serif\" font-size=\"14.00\">Y</text>\n",
       "</g>\n",
       "<!-- 7f84a8051170&#45;&gt;x1 -->\n",
       "<g id=\"edge4\" class=\"edge\">\n",
       "<title>7f84a8051170&#45;&gt;x1</title>\n",
       "<path fill=\"none\" stroke=\"black\" d=\"M136.88,-72.81C137.68,-65.14 137.93,-55.89 137.62,-47.24\"/>\n",
       "<polygon fill=\"black\" stroke=\"black\" points=\"141.13,-47.28 136.96,-37.54 134.15,-47.75 141.13,-47.28\"/>\n",
       "<text text-anchor=\"middle\" x=\"152.61\" y=\"-39.98\" font-family=\"Times,serif\" font-size=\"14.00\">0.02</text>\n",
       "<text text-anchor=\"middle\" x=\"142.88\" y=\"-59.51\" font-family=\"Times,serif\" font-size=\"14.00\">N</text>\n",
       "</g>\n",
       "</g>\n",
       "</svg>\n"
      ],
      "text/plain": [
       "<graphviz.sources.Source at 0x7f84adafc500>"
      ]
     },
     "execution_count": 11,
     "metadata": {},
     "output_type": "execute_result"
    }
   ],
   "source": [
    "import graphviz\n",
    "\n",
    "model = est.best_estimator_.get_model(\"dot\")\n",
    "graphviz.Source(model)"
   ]
  },
  {
   "cell_type": "markdown",
   "id": "a2f93509",
   "metadata": {},
   "source": [
    "The `model` variable is now a little program in the [dot language](https://graphviz.org/docs/layouts/dot/), which we can inspect directly. "
   ]
  },
  {
   "cell_type": "code",
   "execution_count": 12,
   "id": "1f7e725e",
   "metadata": {},
   "outputs": [
    {
     "name": "stdout",
     "output_type": "stream",
     "text": [
      "digraph G {\n",
      "\"7f84a80dcfa0\" [label=\"Add\"];\n",
      "\"7f84a80dcfa0\" -> \"x6\" [label=\"14.68\"];\n",
      "\"7f84a80dcfa0\" -> \"7f84a8051170\" [label=\"\"];\n",
      "\"x6\" [label=\"x6\"];\n",
      "\"7f84a8051170\" [label=\"x0>0.75?\"];\n",
      "\"7f84a8051170\" -> \"x1\" [headlabel=\"0.05\",taillabel=\"Y\"];\n",
      "\"7f84a8051170\" -> \"x1\" [headlabel=\"0.02\",taillabel=\"N\"];\n",
      "\"x1\" [label=\"x1\"];\n",
      "\"x1\" [label=\"x1\"];\n",
      "}\n",
      "\n"
     ]
    }
   ],
   "source": [
    "print(model)"
   ]
  },
  {
   "cell_type": "markdown",
   "id": "b9c0154a",
   "metadata": {},
   "source": [
    "### Tweaking Graphs\n",
    "\n",
    "The [dot manual](https://graphviz.org/docs/layouts/dot/) has lots of options for tweaking the graphs. \n",
    "You can do this by manually editing `model`, but brush also provides a function, `get_dot_model()`, to which you can pass additional arguments to dot. \n",
    "\n",
    "For example, let's view the graph from Left-to-Right: "
   ]
  },
  {
   "cell_type": "code",
   "execution_count": 13,
   "id": "f35b1e05",
   "metadata": {},
   "outputs": [
    {
     "data": {
      "image/svg+xml": [
       "<?xml version=\"1.0\" encoding=\"UTF-8\" standalone=\"no\"?>\n",
       "<!DOCTYPE svg PUBLIC \"-//W3C//DTD SVG 1.1//EN\"\n",
       " \"http://www.w3.org/Graphics/SVG/1.1/DTD/svg11.dtd\">\n",
       "<!-- Generated by graphviz version 9.0.0 (20231125.0833)\n",
       " -->\n",
       "<!-- Title: G Pages: 1 -->\n",
       "<svg width=\"355pt\" height=\"104pt\"\n",
       " viewBox=\"0.00 0.00 355.08 103.97\" xmlns=\"http://www.w3.org/2000/svg\" xmlns:xlink=\"http://www.w3.org/1999/xlink\">\n",
       "<g id=\"graph0\" class=\"graph\" transform=\"scale(1 1) rotate(0) translate(4 99.97)\">\n",
       "<title>G</title>\n",
       "<polygon fill=\"white\" stroke=\"none\" points=\"-4,4 -4,-99.97 351.08,-99.97 351.08,4 -4,4\"/>\n",
       "<!-- 7f84a80dcfa0 -->\n",
       "<g id=\"node1\" class=\"node\">\n",
       "<title>7f84a80dcfa0</title>\n",
       "<ellipse fill=\"none\" stroke=\"black\" cx=\"30.69\" cy=\"-50.97\" rx=\"30.69\" ry=\"18\"/>\n",
       "<text text-anchor=\"middle\" x=\"30.69\" y=\"-46.3\" font-family=\"Times,serif\" font-size=\"14.00\">Add</text>\n",
       "</g>\n",
       "<!-- x6 -->\n",
       "<g id=\"node2\" class=\"node\">\n",
       "<title>x6</title>\n",
       "<ellipse fill=\"none\" stroke=\"black\" cx=\"196.98\" cy=\"-77.97\" rx=\"27\" ry=\"18\"/>\n",
       "<text text-anchor=\"middle\" x=\"196.98\" y=\"-73.3\" font-family=\"Times,serif\" font-size=\"14.00\">x6</text>\n",
       "</g>\n",
       "<!-- 7f84a80dcfa0&#45;&gt;x6 -->\n",
       "<g id=\"edge1\" class=\"edge\">\n",
       "<title>7f84a80dcfa0&#45;&gt;x6</title>\n",
       "<path fill=\"none\" stroke=\"black\" d=\"M60.68,-55.74C88.09,-60.24 129.33,-67.02 159.07,-71.9\"/>\n",
       "<polygon fill=\"black\" stroke=\"black\" points=\"158.32,-75.33 168.75,-73.5 159.45,-68.42 158.32,-75.33\"/>\n",
       "<text text-anchor=\"middle\" x=\"99.63\" y=\"-68.92\" font-family=\"Times,serif\" font-size=\"14.00\">14.68</text>\n",
       "</g>\n",
       "<!-- 7f84a8051170 -->\n",
       "<g id=\"node3\" class=\"node\">\n",
       "<title>7f84a8051170</title>\n",
       "<ellipse fill=\"none\" stroke=\"black\" cx=\"196.98\" cy=\"-23.97\" rx=\"59.1\" ry=\"18\"/>\n",
       "<text text-anchor=\"middle\" x=\"196.98\" y=\"-19.3\" font-family=\"Times,serif\" font-size=\"14.00\">x0&gt;0.75?</text>\n",
       "</g>\n",
       "<!-- 7f84a80dcfa0&#45;&gt;7f84a8051170 -->\n",
       "<g id=\"edge2\" class=\"edge\">\n",
       "<title>7f84a80dcfa0&#45;&gt;7f84a8051170</title>\n",
       "<path fill=\"none\" stroke=\"black\" d=\"M60.68,-46.21C80.73,-42.91 108.19,-38.4 133.13,-34.3\"/>\n",
       "<polygon fill=\"black\" stroke=\"black\" points=\"133.58,-37.77 142.88,-32.7 132.45,-30.86 133.58,-37.77\"/>\n",
       "</g>\n",
       "<!-- x1 -->\n",
       "<g id=\"node4\" class=\"node\">\n",
       "<title>x1</title>\n",
       "<ellipse fill=\"none\" stroke=\"black\" cx=\"320.08\" cy=\"-23.97\" rx=\"27\" ry=\"18\"/>\n",
       "<text text-anchor=\"middle\" x=\"320.08\" y=\"-19.3\" font-family=\"Times,serif\" font-size=\"14.00\">x1</text>\n",
       "</g>\n",
       "<!-- 7f84a8051170&#45;&gt;x1 -->\n",
       "<g id=\"edge3\" class=\"edge\">\n",
       "<title>7f84a8051170&#45;&gt;x1</title>\n",
       "<path fill=\"none\" stroke=\"black\" d=\"M252.51,-17.25C262.66,-17.15 273.04,-17.3 282.49,-17.71\"/>\n",
       "<polygon fill=\"black\" stroke=\"black\" points=\"282.18,-21.2 292.37,-18.28 282.59,-14.21 282.18,-21.2\"/>\n",
       "<text text-anchor=\"middle\" x=\"278.13\" y=\"-5.07\" font-family=\"Times,serif\" font-size=\"14.00\">0.05</text>\n",
       "<text text-anchor=\"middle\" x=\"257.01\" y=\"-3.95\" font-family=\"Times,serif\" font-size=\"14.00\">Y</text>\n",
       "</g>\n",
       "<!-- 7f84a8051170&#45;&gt;x1 -->\n",
       "<g id=\"edge4\" class=\"edge\">\n",
       "<title>7f84a8051170&#45;&gt;x1</title>\n",
       "<path fill=\"none\" stroke=\"black\" d=\"M252.51,-30.69C262.66,-30.79 273.04,-30.64 282.49,-30.23\"/>\n",
       "<polygon fill=\"black\" stroke=\"black\" points=\"282.59,-33.73 292.37,-29.66 282.18,-26.74 282.59,-33.73\"/>\n",
       "<text text-anchor=\"middle\" x=\"278.13\" y=\"-33.52\" font-family=\"Times,serif\" font-size=\"14.00\">0.02</text>\n",
       "<text text-anchor=\"middle\" x=\"258.51\" y=\"-34.64\" font-family=\"Times,serif\" font-size=\"14.00\">N</text>\n",
       "</g>\n",
       "</g>\n",
       "</svg>\n"
      ],
      "text/plain": [
       "<graphviz.sources.Source at 0x7f84aca601d0>"
      ]
     },
     "execution_count": 13,
     "metadata": {},
     "output_type": "execute_result"
    }
   ],
   "source": [
    "model = est.best_estimator_.get_dot_model(\"rankdir=LR;\")\n",
    "graphviz.Source(model)"
   ]
  },
  {
   "cell_type": "markdown",
   "id": "512434e7",
   "metadata": {},
   "source": [
    "### A classification example"
   ]
  },
  {
   "cell_type": "code",
   "execution_count": 17,
   "id": "4ca564f3",
   "metadata": {},
   "outputs": [
    {
     "name": "stdout",
     "output_type": "stream",
     "text": [
      "Completed  58% [===========         ]"
     ]
    }
   ],
   "source": [
    "from pybrush import BrushClassifier\n",
    "\n",
    "# load data\n",
    "df = pd.read_csv('../examples/datasets/d_analcatdata_aids.csv')\n",
    "X = df.drop(columns='target')\n",
    "y = df['target']\n",
    "\n",
    "est = BrushClassifier(\n",
    "    functions=['Sin','Cos','Exp'],\n",
    "    max_gens=10,\n",
    "    objectives=[\"error\"], #  \"linear_complexity\"\n",
    "    scorer=\"average_precision_score\",\n",
    "    pop_size=10,\n",
    "    bandit='thompson',\n",
    "    verbosity=1\n",
    ")\n",
    "\n",
    "est.fit(X,y)\n",
    "\n",
    "print(\"Best model:\", est.best_estimator_.get_model())\n",
    "print('score:', est.score(X,y))\n",
    "\n",
    "model = est.best_estimator_.get_dot_model()\n",
    "graphviz.Source(model)"
   ]
  }
 ],
 "metadata": {
  "kernelspec": {
   "display_name": "Python 3 (ipykernel)",
   "language": "python",
   "name": "python3"
  },
  "language_info": {
   "codemirror_mode": {
    "name": "ipython",
    "version": 3
   },
   "file_extension": ".py",
   "mimetype": "text/x-python",
   "name": "python",
   "nbconvert_exporter": "python",
   "pygments_lexer": "ipython3",
   "version": "3.12.2"
  }
 },
 "nbformat": 4,
 "nbformat_minor": 5
}
