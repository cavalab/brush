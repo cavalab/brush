{
 "cells": [
  {
   "cell_type": "markdown",
   "id": "e9776d12",
   "metadata": {},
   "source": [
    "# Working with Programs\n",
    "\n",
    "In Brush, a *Program* is an executable data structure. \n",
    "You may think of it as a *model* or a *function* mapping feature inputs to data labels. \n",
    "We call them programs because that's what they are: executable data structures,  \n",
    "and that is what they are called in the genetic algorithm literature, to distinguish them from optimizing bits or strings. \n",
    "\n",
    "The Brush Program class operates similarly to a [sklearn](scikit-learn.org) estimator: it has `fit` and `predict` methods that are called in during training or inference, respectively. \n",
    "\n",
    "\n",
    "## Types of Programs \n",
    "\n",
    "There are four fundamental \"types\" of Brush programs:\n",
    "\n",
    "- **Regressors**: map inputs to a continous endpoint \n",
    "- **Binary Classifiers**: map inputs to a binary endpoint, as well as a continuous value in $[0, 1]$  \n",
    "- **Multi-class Classifiers**: map inputs to a category\n",
    "    - Under development\n",
    "- **Representors**: map inputs to a lower dimensional space. \n",
    "    - Under development\n",
    "\n",
    "## Representation \n",
    "\n",
    "Internally, the programs are represented as syntax trees. \n",
    "We use the [tree.hh tree class](https://github.com/kpeeters/tree.hh) which gives trees an STL-like feel. \n",
    "\n",
    "\n",
    "\n",
    "## Generation\n",
    "\n",
    "We generate random programs using Sean Luke's PTC2 algorithm.  \n",
    "\n",
    "\n",
    "## Evaluation\n",
    "\n",
    "TODO\n",
    "\n",
    "\n"
   ]
  },
  {
   "cell_type": "markdown",
   "id": "8c258669",
   "metadata": {},
   "source": [
    "## Visualizing Programs\n",
    "\n",
    "Programs in Brush are symbolic tree structures, and can be viewed in a few ways: \n",
    "\n",
    "\n",
    "1. As a string using `get_model()`\n",
    "2. As a string-like tree using `get_model(\"tree\")`\n",
    "2. As a graph using `graphviz` and `get_model(\"dot\")`. \n",
    "\n",
    "Let's look at a regresion example."
   ]
  },
  {
   "cell_type": "code",
   "execution_count": 1,
   "id": "102e3fcb",
   "metadata": {
    "tags": [
     "remove-output"
    ]
   },
   "outputs": [],
   "source": [
    "import pandas as pd\n",
    "from pybrush import BrushRegressor\n",
    "\n",
    "# load data\n",
    "df = pd.read_csv('../examples/datasets/d_enc.csv')\n",
    "X = df.drop(columns='label')\n",
    "y = df['label']"
   ]
  },
  {
   "cell_type": "code",
   "execution_count": 2,
   "id": "ac39c9ca",
   "metadata": {},
   "outputs": [
    {
     "name": "stdout",
     "output_type": "stream",
     "text": [
      "Completed 100% [====================]\n",
      "saving final population as archive...\n",
      "score: 0.8899401501413186\n"
     ]
    }
   ],
   "source": [
    "# import and make a regressor\n",
    "est = BrushRegressor(\n",
    "    functions=['SplitBest','Add','Mul','Sin','Cos','Exp','Logabs'],\n",
    "    verbosity=1 # set verbosity==1 to see a progress bar\n",
    ")\n",
    "\n",
    "# use like you would a sklearn regressor\n",
    "est.fit(X,y)\n",
    "y_pred = est.predict(X)\n",
    "print('score:', est.score(X,y))"
   ]
  },
  {
   "cell_type": "markdown",
   "id": "5bbd24cd",
   "metadata": {},
   "source": [
    "You can see the fitness of the final individual by accessing the `fitness` attribute. Each fitness value corresponds to the objective of same index defined earlier for the `BrushRegressor` class. By default, it will try to minimize `\"error\"` and `\"size\"`."
   ]
  },
  {
   "cell_type": "code",
   "execution_count": 3,
   "id": "166415c2",
   "metadata": {},
   "outputs": [
    {
     "name": "stdout",
     "output_type": "stream",
     "text": [
      "Fitness(9.947776 15.000000 )\n",
      "['error', 'size']\n"
     ]
    }
   ],
   "source": [
    "print(est.best_estimator_.fitness)\n",
    "print(est.objectives)"
   ]
  },
  {
   "cell_type": "markdown",
   "id": "38b6364e",
   "metadata": {},
   "source": [
    "A `fitness` in Brush is actually more than a tuple. It is a class that has all boolean comparison operators overloaded to allow an ease of use when prototyping with Brush.\n",
    "\n",
    "It also infers the weight of each objective to automatically handle minimization or maximization objetives.\n",
    "\n",
    "To see the weights, you can try:"
   ]
  },
  {
   "cell_type": "code",
   "execution_count": 4,
   "id": "13d0ac5f",
   "metadata": {},
   "outputs": [
    {
     "data": {
      "text/plain": [
       "[-1.0, -1.0]"
      ]
     },
     "execution_count": 4,
     "metadata": {},
     "output_type": "execute_result"
    }
   ],
   "source": [
    "est.best_estimator_.fitness.weights"
   ]
  },
  {
   "cell_type": "markdown",
   "id": "2fc9fe80",
   "metadata": {},
   "source": [
    "Other information of the best estimator can also be accessed through its fitness attribute:"
   ]
  },
  {
   "cell_type": "code",
   "execution_count": 9,
   "id": "de5255e7",
   "metadata": {},
   "outputs": [
    {
     "name": "stdout",
     "output_type": "stream",
     "text": [
      "15\n",
      "525\n",
      "3\n"
     ]
    }
   ],
   "source": [
    "print(est.best_estimator_.fitness.size)\n",
    "print(est.best_estimator_.fitness.complexity)\n",
    "print(est.best_estimator_.fitness.depth)"
   ]
  },
  {
   "cell_type": "markdown",
   "id": "fe594691",
   "metadata": {},
   "source": [
    "## Serialization \n",
    "\n",
    "Brush let's you serialize the entire individual, or just the program or fitness it wraps. It uses JSON to serialize the objects, and this is implemented with the get and set states of an object:"
   ]
  },
  {
   "cell_type": "code",
   "execution_count": null,
   "id": "b01ab1fa",
   "metadata": {},
   "outputs": [],
   "source": [
    "estimator_dict = est.best_estimator_.__getstate__()\n",
    "\n",
    "for k, v in estimator_dict.items():\n",
    "    print(k, v)"
   ]
  },
  {
   "cell_type": "markdown",
   "id": "6bcb071b",
   "metadata": {},
   "source": [
    "With serialization, you can use pickle to save and load just programs or even the entire individual."
   ]
  },
  {
   "cell_type": "code",
   "execution_count": null,
   "id": "b4537631",
   "metadata": {},
   "outputs": [],
   "source": [
    "import pickle\n",
    "import os, tempfile\n",
    "\n",
    "individual_file = os.path.join(tempfile.mkdtemp(), 'individual.json')\n",
    "with open(individual_file, \"wb\") as f:\n",
    "    pickle.dump(est.best_estimator_, f)\n",
    "\n",
    "program_file = os.path.join(tempfile.mkdtemp(), 'program.json')\n",
    "with open(program_file, \"wb\") as f:\n",
    "    pickle.dump(est.best_estimator_.program, f)"
   ]
  },
  {
   "cell_type": "markdown",
   "id": "fff5693d",
   "metadata": {},
   "source": [
    "Then we can load it later with:"
   ]
  },
  {
   "cell_type": "code",
   "execution_count": null,
   "id": "ee7a20c6",
   "metadata": {},
   "outputs": [],
   "source": [
    "with open(individual_file, \"rb\") as f:\n",
    "    loaded_estimator = pickle.load(f)\n",
    "    print(loaded_estimator.get_model())"
   ]
  },
  {
   "cell_type": "markdown",
   "id": "a355d8f3",
   "metadata": {},
   "source": [
    "### String\n",
    "\n",
    "Now that we have trained a model, `est.best_estimator_` contains our symbolic model. \n",
    "We can view it as a string:"
   ]
  },
  {
   "cell_type": "code",
   "execution_count": null,
   "id": "316964d5",
   "metadata": {},
   "outputs": [],
   "source": [
    "print(est.best_estimator_.get_model())"
   ]
  },
  {
   "cell_type": "markdown",
   "id": "e7d578bb",
   "metadata": {},
   "source": [
    "### Quick Little Tree\n",
    "\n",
    "Or, we can view it as a compact tree:"
   ]
  },
  {
   "cell_type": "code",
   "execution_count": null,
   "id": "dad68d01",
   "metadata": {},
   "outputs": [],
   "source": [
    "print(est.best_estimator_.get_model(\"tree\"))"
   ]
  },
  {
   "cell_type": "markdown",
   "id": "90068143",
   "metadata": {},
   "source": [
    "### GraphViz\n",
    "\n",
    "If we are feeling fancy 🎩, we can also view it as a graph in dot format. \n",
    "Let's import graphviz and make a nicer plot."
   ]
  },
  {
   "cell_type": "code",
   "execution_count": null,
   "id": "3ef1a735",
   "metadata": {},
   "outputs": [],
   "source": [
    "import graphviz\n",
    "\n",
    "model = est.best_estimator_.get_model(\"dot\")\n",
    "graphviz.Source(model)"
   ]
  },
  {
   "cell_type": "markdown",
   "id": "a2f93509",
   "metadata": {},
   "source": [
    "The `model` variable is now a little program in the [dot language](https://graphviz.org/docs/layouts/dot/), which we can inspect directly. "
   ]
  },
  {
   "cell_type": "code",
   "execution_count": null,
   "id": "1f7e725e",
   "metadata": {},
   "outputs": [],
   "source": [
    "print(model)"
   ]
  },
  {
   "cell_type": "markdown",
   "id": "b9c0154a",
   "metadata": {},
   "source": [
    "### Tweaking Graphs\n",
    "\n",
    "The [dot manual](https://graphviz.org/docs/layouts/dot/) has lots of options for tweaking the graphs. \n",
    "You can do this by manually editing `model`, but brush also provides a function, `get_dot_model()`, to which you can pass additional arguments to dot. \n",
    "\n",
    "For example, let's view the graph from Left-to-Right: "
   ]
  },
  {
   "cell_type": "code",
   "execution_count": null,
   "id": "f35b1e05",
   "metadata": {},
   "outputs": [],
   "source": [
    "model = est.best_estimator_.get_dot_model(\"rankdir=LR;\")\n",
    "graphviz.Source(model)"
   ]
  }
 ],
 "metadata": {
  "kernelspec": {
   "display_name": "Python 3 (ipykernel)",
   "language": "python",
   "name": "python3"
  },
  "language_info": {
   "codemirror_mode": {
    "name": "ipython",
    "version": 3
   },
   "file_extension": ".py",
   "mimetype": "text/x-python",
   "name": "python",
   "nbconvert_exporter": "python",
   "pygments_lexer": "ipython3",
   "version": "3.12.2"
  }
 },
 "nbformat": 4,
 "nbformat_minor": 5
}
