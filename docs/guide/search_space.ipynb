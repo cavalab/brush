{
 "cells": [
  {
   "cell_type": "markdown",
   "id": "eb2cd418",
   "metadata": {},
   "source": [
    "# The Search Space\n",
    "\n",
    "The [`SearchSpace`](../cpp_api/search_space.html) holds the terminals and operators used to define programs, and includes utilities for creating programs and modifying them. \n",
    "It has a few basic components:\n",
    "\n",
    "- `node_map`: this object maps function signatures to specific node types. It is a nested map, made to most quickly match on return types first, then full signatures. It is structured this way to mutations and crossover lookups fast. \n",
    "- `terminal_map`: same as `node_map` but for terminals. \n",
    "\n",
    "Both of these maps have associated weights that are used to weight the probabilities of each operator/terminal being sampled. \n",
    "Users can optionally provide these weights."
   ]
  },
  {
   "cell_type": "markdown",
   "id": "429d810b",
   "metadata": {},
   "source": [
    "## Initializing\n",
    "\n",
    "At a minimum, initializing the search space requires that a `Dataset` is already defined, so that `SearchSpace` knows how to define the terminals. "
   ]
  },
  {
   "cell_type": "code",
   "execution_count": 1,
   "id": "b667948a",
   "metadata": {},
   "outputs": [],
   "source": [
    "import pandas as pd\n",
    "from pybrush import Dataset, SearchSpace\n",
    "\n",
    "df = pd.read_csv('../examples/datasets/d_enc.csv')\n",
    "X = df.drop(columns='label')\n",
    "y = df['label']\n",
    "\n",
    "data = Dataset(X,y)\n",
    "\n",
    "search_space = SearchSpace(data)"
   ]
  },
  {
   "cell_type": "markdown",
   "id": "d3e4128c",
   "metadata": {},
   "source": [
    "By default, the search space includes all available operators that have at least one argument type matching a datatype in `Data`. \n",
    "That can be quite large. \n",
    "\n",
    "Instead, the user may specify operators with weightings that determine the probability of being sampled, i.e. "
   ]
  },
  {
   "cell_type": "code",
   "execution_count": null,
   "id": "23d6f552",
   "metadata": {},
   "outputs": [],
   "source": [
    "user_ops = {\n",
    "    'Add': 0.5,\n",
    "    'Sub': 0.5,\n",
    "    'Mul': 1.0,\n",
    "    'Div': 0.1,\n",
    "    'SplitBest':0.2\n",
    "}\n",
    "\n",
    "search_space = SearchSpace(data, user_ops)\n"
   ]
  },
  {
   "cell_type": "markdown",
   "id": "7ebde83f",
   "metadata": {},
   "source": [
    "## Inspecting"
   ]
  },
  {
   "cell_type": "markdown",
   "id": "551a450b",
   "metadata": {},
   "source": [
    "We now have a much smaller search space. To view it, call `print()`:"
   ]
  },
  {
   "cell_type": "code",
   "execution_count": null,
   "id": "a2953719",
   "metadata": {},
   "outputs": [
    {
     "name": "stdout",
     "output_type": "stream",
     "text": [
      "Search Space\n",
      "===\n",
      "terminal_map: {\"ArrayB\": [\"1.00\"], \"ArrayI\": [\"x_5\", \"x_7\", \"1.00\"], \"ArrayF\": [\"x_0\", \"x_1\", \"x_2\", \"x_3\", \"x_4\", \"x_6\", \"1.00\", \"1.00*MeanLabel\"]}\n",
      "terminal_weights: {\"ArrayB\": [-nan], \"ArrayI\": [0.011619061, 0.03579926, 0.023709161], \"ArrayF\": [0.6343385, 0.67299956, 0.42711574, 0.8625447, 0.8957853, 0.20750472, 0.6167148, 0.6167148]}\n",
      "node_map[ArrayI][[\"ArrayI\", \"ArrayI\"]][SplitBest] = SplitBest, weight = 0.2\n",
      "node_map[ArrayF][[\"ArrayF\", \"ArrayF\"]][SplitBest] = SplitBest, weight = 0.2\n",
      "node_map[ArrayF][[\"ArrayF\", \"ArrayF\"]][Div] = Div, weight = 0.1\n",
      "node_map[ArrayF][[\"ArrayF\", \"ArrayF\"]][Mul] = Mul, weight = 1\n",
      "node_map[ArrayF][[\"ArrayF\", \"ArrayF\"]][Sub] = Sub, weight = 0.5\n",
      "node_map[ArrayF][[\"ArrayF\", \"ArrayF\"]][Add] = Add, weight = 0.5\n",
      "===\n"
     ]
    }
   ],
   "source": [
    "search_space.print()"
   ]
  },
  {
   "cell_type": "markdown",
   "id": "b02a700b",
   "metadata": {},
   "source": [
    "Note that the `node_map` includes two `SplitBest` operators: one with the signature `ArrayI(ArrayI, ArrayI)` and one with the signature `ArrayF(ArrayF, ArrayF)`. \n",
    "This is because our dataset contains both interger and floating point data types. \n",
    "Note also that the default behavior is to give both of these nodes the same weight as specified by the user. "
   ]
  },
  {
   "cell_type": "markdown",
   "id": "d662c5a7",
   "metadata": {},
   "source": [
    "## Sampling\n",
    "\n",
    "TODO. For now, see the mutation and crossover functions in the [Program](../cpp_api/program.html) class."
   ]
  }
 ],
 "metadata": {
  "kernelspec": {
   "display_name": "Python 3 (ipykernel)",
   "language": "python",
   "name": "python3"
  },
  "language_info": {
   "codemirror_mode": {
    "name": "ipython",
    "version": 3
   },
   "file_extension": ".py",
   "mimetype": "text/x-python",
   "name": "python",
   "nbconvert_exporter": "python",
   "pygments_lexer": "ipython3",
   "version": "3.12.2"
  }
 },
 "nbformat": 4,
 "nbformat_minor": 5
}
