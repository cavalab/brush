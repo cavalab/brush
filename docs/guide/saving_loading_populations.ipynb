{
 "cells": [
  {
   "cell_type": "markdown",
   "metadata": {},
   "source": [
    "# Saving and loading populations\n",
    "\n",
    "Another feature Brush implements is the ability to save and load entire populations.\n",
    "We use JSON notation to store the population into a file that is human readable. The same way, we can feed an estimator a previous population file to serve as starting point for the evolution.\n",
    "\n",
    "In this notebook, we will walk through how to use the `save_population` and `load_population` parameters. \n",
    "\n",
    "We start by getting a sample dataset and splitting it into `X` and `y`:"
   ]
  },
  {
   "cell_type": "code",
   "execution_count": 1,
   "metadata": {},
   "outputs": [],
   "source": [
    "import pandas as pd\n",
    "from pybrush import BrushRegressor\n",
    "\n",
    "# load data\n",
    "df = pd.read_csv('../examples/datasets/d_enc.csv')\n",
    "X = df.drop(columns='label')\n",
    "y = df['label']"
   ]
  },
  {
   "cell_type": "markdown",
   "metadata": {},
   "source": [
    "To save the population after finishing the evolution, you nee to set `save_population` parameter to a value different than an empty string. Then, the final population is going to be stored in that specific file.\n",
    "\n",
    "In this example, we create a temporary file."
   ]
  },
  {
   "cell_type": "code",
   "execution_count": 2,
   "metadata": {},
   "outputs": [
    {
     "name": "stdout",
     "output_type": "stream",
     "text": [
      "Generation 1/10 [//////                                            ]\n",
      "Train Loss (Med): 14.24093 (60.79966)\n",
      "Val Loss (Med): 14.24093 (60.79966)\n",
      "Median Size (Max): 3 (18)\n",
      "Median complexity (Max): 9 (351)\n",
      "Time (s): 0.12213\n",
      "\n",
      "Generation 2/10 [///////////                                       ]\n",
      "Train Loss (Med): 13.86337 (20.54475)\n",
      "Val Loss (Med): 13.86337 (20.54475)\n",
      "Median Size (Max): 3 (20)\n",
      "Median complexity (Max): 9 (651)\n",
      "Time (s): 0.20873\n",
      "\n",
      "Generation 3/10 [////////////////                                  ]\n",
      "Train Loss (Med): 13.58168 (17.94969)\n",
      "Val Loss (Med): 13.58168 (17.94969)\n",
      "Median Size (Max): 3 (18)\n",
      "Median complexity (Max): 9 (216)\n",
      "Time (s): 0.30500\n",
      "\n",
      "Generation 4/10 [/////////////////////                             ]\n",
      "Train Loss (Med): 13.58167 (17.94969)\n",
      "Val Loss (Med): 13.58167 (17.94969)\n",
      "Median Size (Max): 3 (18)\n",
      "Median complexity (Max): 9 (478)\n",
      "Time (s): 0.44846\n",
      "\n",
      "Generation 5/10 [//////////////////////////                        ]\n",
      "Train Loss (Med): 13.58167 (17.94969)\n",
      "Val Loss (Med): 13.58167 (17.94969)\n",
      "Median Size (Max): 3 (18)\n",
      "Median complexity (Max): 8 (297)\n",
      "Time (s): 0.58464\n",
      "\n",
      "Generation 6/10 [///////////////////////////////                   ]\n",
      "Train Loss (Med): 13.25836 (63.64049)\n",
      "Val Loss (Med): 13.25836 (63.64049)\n",
      "Median Size (Max): 3 (18)\n",
      "Median complexity (Max): 7 (297)\n",
      "Time (s): 0.71193\n",
      "\n",
      "Generation 7/10 [////////////////////////////////////              ]\n",
      "Train Loss (Med): 10.63986 (63.64049)\n",
      "Val Loss (Med): 10.63986 (63.64049)\n",
      "Median Size (Max): 3 (18)\n",
      "Median complexity (Max): 6 (567)\n",
      "Time (s): 0.84199\n",
      "\n",
      "Generation 8/10 [/////////////////////////////////////////         ]\n",
      "Train Loss (Med): 10.28156 (63.64049)\n",
      "Val Loss (Med): 10.28156 (63.64049)\n",
      "Median Size (Max): 3 (18)\n",
      "Median complexity (Max): 6 (270)\n",
      "Time (s): 0.96073\n",
      "\n",
      "Generation 9/10 [//////////////////////////////////////////////    ]\n",
      "Train Loss (Med): 10.09177 (63.64049)\n",
      "Val Loss (Med): 10.09177 (63.64049)\n",
      "Median Size (Max): 3 (18)\n",
      "Median complexity (Max): 6 (216)\n",
      "Time (s): 1.06539\n",
      "\n",
      "Generation 10/10 [//////////////////////////////////////////////////]\n",
      "Train Loss (Med): 10.09177 (63.64049)\n",
      "Val Loss (Med): 10.09177 (63.64049)\n",
      "Median Size (Max): 3 (20)\n",
      "Median complexity (Max): 6 (510)\n",
      "Time (s): 1.15215\n",
      "\n",
      "Saved population to file /tmp/tmp91lebnyr/population.json\n",
      "saving final population as archive...\n",
      "score: 0.8883469950530682\n"
     ]
    }
   ],
   "source": [
    "import pickle\n",
    "import os, tempfile\n",
    "\n",
    "pop_file = os.path.join(tempfile.mkdtemp(), 'population.json')\n",
    "\n",
    "# set verbosity==2 to see the full report\n",
    "est = BrushRegressor(\n",
    "    functions=['SplitBest','Add','Mul','Sin','Cos','Exp','Logabs'],\n",
    "    max_gens=10,\n",
    "    objectives=[\"error\", \"complexity\"],\n",
    "    save_population=pop_file,\n",
    "    verbosity=2\n",
    ")\n",
    "\n",
    "est.fit(X,y)\n",
    "y_pred = est.predict(X)\n",
    "print('score:', est.score(X,y))"
   ]
  },
  {
   "cell_type": "markdown",
   "metadata": {},
   "source": [
    "Loading a previous population is done providing `load_population` a string value corresponding to a JSON file generated by Brush. In our case, we will use the same file from the previous code block.\n",
    "\n",
    "After loading the population, we run the evolution for 10 more generations, and we can see that the first generation started from the previous population. This means that the population was successfully saved and loaded."
   ]
  },
  {
   "cell_type": "code",
   "execution_count": 3,
   "metadata": {},
   "outputs": [
    {
     "name": "stdout",
     "output_type": "stream",
     "text": [
      "Loaded population from /tmp/tmp91lebnyr/population.json of size = 200\n",
      "Completed 100% [====================]\n",
      "saving final population as archive...\n",
      "score: 0.8893989188100573\n"
     ]
    }
   ],
   "source": [
    "est = BrushRegressor(\n",
    "    functions=['SplitBest','Add','Mul','Sin','Cos','Exp','Logabs'],\n",
    "    load_population=pop_file,\n",
    "    max_gens=10,\n",
    "    verbosity=1\n",
    ")\n",
    "\n",
    "est.fit(X,y)\n",
    "y_pred = est.predict(X)\n",
    "print('score:', est.score(X,y))"
   ]
  },
  {
   "cell_type": "markdown",
   "metadata": {},
   "source": [
    "You can open the serialized file and change individuals' programs manually.\n",
    "\n",
    "This also allow us to have checkpoints in the execution."
   ]
  },
  {
   "cell_type": "markdown",
   "metadata": {},
   "source": [
    "## Using population files with classification\n",
    "\n",
    "To give another example, we do a two-step fit in the cells below.\n",
    "\n",
    "First, we run the evolution and save the population to a file; then, we load it and keep evolving the individuals.\n",
    "\n",
    "What is different though is that the first run is optimizing `error` and `complexity`, and the second run is optimizing `average_precision_score` and `size`."
   ]
  },
  {
   "cell_type": "code",
   "execution_count": 4,
   "metadata": {},
   "outputs": [
    {
     "name": "stdout",
     "output_type": "stream",
     "text": [
      "Generation 1/10 [//////                                            ]\n",
      "Train Loss (Med): 0.54930 (0.69315)\n",
      "Val Loss (Med): 0.54930 (0.69315)\n",
      "Median Size (Max): 5 (10)\n",
      "Median complexity (Max): 6 (270)\n",
      "Time (s): 0.05091\n",
      "\n",
      "Generation 2/10 [///////////                                       ]\n",
      "Train Loss (Med): 0.54848 (0.69315)\n",
      "Val Loss (Med): 0.54848 (0.69315)\n",
      "Median Size (Max): 5 (10)\n",
      "Median complexity (Max): 6 (54)\n",
      "Time (s): 0.08855\n",
      "\n",
      "Generation 3/10 [////////////////                                  ]\n",
      "Train Loss (Med): 0.54847 (0.69315)\n",
      "Val Loss (Med): 0.54847 (0.69315)\n",
      "Median Size (Max): 5 (10)\n",
      "Median complexity (Max): 6 (54)\n",
      "Time (s): 0.12188\n",
      "\n",
      "Generation 4/10 [/////////////////////                             ]\n",
      "Train Loss (Med): 0.54847 (0.69315)\n",
      "Val Loss (Med): 0.54847 (0.69315)\n",
      "Median Size (Max): 1 (10)\n",
      "Median complexity (Max): 2 (52)\n",
      "Time (s): 0.15164\n",
      "\n",
      "Generation 5/10 [//////////////////////////                        ]\n",
      "Train Loss (Med): 0.54846 (0.69315)\n",
      "Val Loss (Med): 0.54846 (0.69315)\n",
      "Median Size (Max): 1 (9)\n",
      "Median complexity (Max): 1 (52)\n",
      "Time (s): 0.18853\n",
      "\n",
      "Generation 6/10 [///////////////////////////////                   ]\n",
      "Train Loss (Med): 0.50911 (0.69315)\n",
      "Val Loss (Med): 0.50911 (0.69315)\n",
      "Median Size (Max): 1 (12)\n",
      "Median complexity (Max): 1 (52)\n",
      "Time (s): 0.23546\n",
      "\n",
      "Generation 7/10 [////////////////////////////////////              ]\n",
      "Train Loss (Med): 0.50911 (0.69315)\n",
      "Val Loss (Med): 0.50911 (0.69315)\n",
      "Median Size (Max): 1 (12)\n",
      "Median complexity (Max): 1 (44)\n",
      "Time (s): 0.28747\n",
      "\n",
      "Generation 8/10 [/////////////////////////////////////////         ]\n",
      "Train Loss (Med): 0.50911 (0.69315)\n",
      "Val Loss (Med): 0.50911 (0.69315)\n",
      "Median Size (Max): 1 (14)\n",
      "Median complexity (Max): 1 (120)\n",
      "Time (s): 0.34002\n",
      "\n",
      "Generation 9/10 [//////////////////////////////////////////////    ]\n",
      "Train Loss (Med): 0.50911 (0.69315)\n",
      "Val Loss (Med): 0.50911 (0.69315)\n",
      "Median Size (Max): 1 (14)\n",
      "Median complexity (Max): 1 (80)\n",
      "Time (s): 0.39083\n",
      "\n",
      "Generation 10/10 [//////////////////////////////////////////////////]\n",
      "Train Loss (Med): 0.50911 (0.69315)\n",
      "Val Loss (Med): 0.50911 (0.69315)\n",
      "Median Size (Max): 1 (12)\n",
      "Median complexity (Max): 1 (44)\n",
      "Time (s): 0.45610\n",
      "\n",
      "Saved population to file /tmp/tmpqcnwu35t/population.json\n",
      "saving final population as archive...\n",
      "If(AIDS>15890.50,Logistic(13.52),If(Total>1572255.50,0.22,0.52))\n",
      "score: 0.7\n"
     ]
    }
   ],
   "source": [
    "from pybrush import BrushClassifier\n",
    "\n",
    "# load data\n",
    "df = pd.read_csv('../examples/datasets/d_analcatdata_aids.csv')\n",
    "X = df.drop(columns='target')\n",
    "y = df['target']\n",
    "\n",
    "pop_file = os.path.join(tempfile.mkdtemp(), 'population.json')\n",
    "\n",
    "est = BrushClassifier(\n",
    "    functions=['SplitBest','Add','Mul','Sin','Cos','Exp','Logabs'],\n",
    "    max_gens=10,\n",
    "    objectives=[\"error\", \"complexity\"],\n",
    "    scorer=\"log\",\n",
    "    save_population=pop_file,\n",
    "    verbosity=2\n",
    ")\n",
    "\n",
    "est.fit(X,y)\n",
    "print(est.best_estimator_.get_model())\n",
    "\n",
    "y_pred = est.predict(X)\n",
    "print('score:', est.score(X,y))"
   ]
  },
  {
   "cell_type": "code",
   "execution_count": 5,
   "metadata": {},
   "outputs": [
    {
     "name": "stdout",
     "output_type": "stream",
     "text": [
      "Generation 1/1 [//////////////////////////////////////////////////]\n",
      "Train Loss (Med): 0.46115 (0.31675)\n",
      "Val Loss (Med): 0.46115 (0.31675)\n",
      "Median Size (Max): 5 (9)\n",
      "Median complexity (Max): 6 (120)\n",
      "Time (s): 0.04622\n",
      "\n",
      "saving final population as archive...\n",
      "Logistic(Sum(-1.2485952,Add(-1.25,0.08*AIDS)))\n",
      "score: 0.54\n"
     ]
    }
   ],
   "source": [
    "est = BrushClassifier(\n",
    "    functions=['SplitBest','Add','Mul','Sin','Cos','Exp','Logabs'],\n",
    "    #load_population=pop_file,\n",
    "    objectives=[\"error\", \"complexity\"],\n",
    "    scorer=\"average_precision_score\",\n",
    "    max_gens=1,\n",
    "    verbosity=2\n",
    ")\n",
    "\n",
    "est.fit(X,y)\n",
    "print(est.best_estimator_.get_model())\n",
    "\n",
    "y_pred = est.predict(X)\n",
    "print('score:', est.score(X,y))"
   ]
  }
 ],
 "metadata": {
  "kernelspec": {
   "display_name": "brush",
   "language": "python",
   "name": "python3"
  },
  "language_info": {
   "codemirror_mode": {
    "name": "ipython",
    "version": 3
   },
   "file_extension": ".py",
   "mimetype": "text/x-python",
   "name": "python",
   "nbconvert_exporter": "python",
   "pygments_lexer": "ipython3",
   "version": "3.12.2"
  }
 },
 "nbformat": 4,
 "nbformat_minor": 2
}
