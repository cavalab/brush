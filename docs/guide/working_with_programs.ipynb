{
 "cells": [
  {
   "cell_type": "markdown",
   "id": "e9776d12",
   "metadata": {},
   "source": [
    "# Working with Programs\n",
    "\n",
    "In Brush, a *Program* is an executable data structure. \n",
    "You may think of it as a *model* or a *function* mapping feature inputs to data labels. \n",
    "We call them programs because that's what they are: executable data structures,  \n",
    "and that is what they are called in the genetic algorithm literature, to distinguish them from optimizing bits or strings. \n",
    "\n",
    "The Brush Program class operates similarly to a [sklearn](scikit-learn.org) estimator: it has `fit` and `predict` methods that are called in during training or inference, respectively. \n",
    "\n",
    "\n",
    "## Types of Programs \n",
    "\n",
    "There are four fundamental \"types\" of Brush programs:\n",
    "\n",
    "- **Regressors**: map inputs to a continous endpoint \n",
    "- **Binary Classifiers**: map inputs to a binary endpoint, as well as a continuous value in $[0, 1]$  \n",
    "- **Multi-class Classifiers**: map inputs to a category\n",
    "    - Under development\n",
    "- **Representors**: map inputs to a lower dimensional space. \n",
    "    - Under development\n",
    "\n",
    "## Representation \n",
    "\n",
    "Internally, the programs are represented as syntax trees. \n",
    "We use the [tree.hh tree class](https://github.com/kpeeters/tree.hh) which gives trees an STL-like feel. \n",
    "\n",
    "\n",
    "\n",
    "## Generation\n",
    "\n",
    "We generate random programs using Sean Luke's PTC2 algorithm.  \n",
    "\n",
    "\n",
    "## Evaluation\n",
    "\n",
    "TODO\n",
    "\n",
    "\n"
   ]
  },
  {
   "cell_type": "markdown",
   "id": "8c258669",
   "metadata": {},
   "source": [
    "## Visualizing Programs\n",
    "\n",
    "Programs in Brush are symbolic tree structures, and can be viewed in a few ways: \n",
    "\n",
    "\n",
    "1. As a string using `get_model()`\n",
    "2. As a string-like tree using `get_model(\"tree\")`\n",
    "2. As a graph using `graphviz` and `get_model(\"dot\")`. \n",
    "\n",
    "Let's look at a regresion example."
   ]
  },
  {
   "cell_type": "code",
   "execution_count": 1,
   "id": "102e3fcb",
   "metadata": {
    "tags": [
     "remove-output"
    ]
   },
   "outputs": [],
   "source": [
    "import pandas as pd\n",
    "from pybrush import BrushRegressor\n",
    "\n",
    "# load data\n",
    "df = pd.read_csv('../examples/datasets/d_enc.csv')\n",
    "X = df.drop(columns='label')\n",
    "y = df['label']"
   ]
  },
  {
   "cell_type": "code",
   "execution_count": 2,
   "id": "ac39c9ca",
   "metadata": {},
   "outputs": [
    {
     "name": "stdout",
     "output_type": "stream",
     "text": [
      "Completed 100% [====================]\n",
      "score: 0.890070958724087\n"
     ]
    }
   ],
   "source": [
    "# import and make a regressor\n",
    "est = BrushRegressor(\n",
    "    functions=['SplitBest','Add','Mul','Sin','Cos','Exp','Logabs'],\n",
    "    verbosity=1 # set verbosity==1 to see a progress bar\n",
    ")\n",
    "\n",
    "# use like you would a sklearn regressor\n",
    "est.fit(X,y)\n",
    "y_pred = est.predict(X)\n",
    "print('score:', est.score(X,y))"
   ]
  },
  {
   "cell_type": "markdown",
   "id": "5bbd24cd",
   "metadata": {},
   "source": [
    "You can see the fitness of the final individual by accessing the `fitness` attribute. Each fitness value corresponds to the objective of same index defined earlier for the `BrushRegressor` class. By default, it will try to minimize `\"error\"` and `\"size\"`."
   ]
  },
  {
   "cell_type": "code",
   "execution_count": 3,
   "id": "166415c2",
   "metadata": {},
   "outputs": [
    {
     "name": "stdout",
     "output_type": "stream",
     "text": [
      "Fitness(9.935950 18.000000 )\n",
      "['error', 'size']\n"
     ]
    }
   ],
   "source": [
    "print(est.best_estimator_.fitness)\n",
    "print(est.objectives)"
   ]
  },
  {
   "cell_type": "markdown",
   "id": "38b6364e",
   "metadata": {},
   "source": [
    "A `fitness` in Brush is actually more than a tuple. It is a class that has all boolean comparison operators overloaded to allow an ease of use when prototyping with Brush.\n",
    "\n",
    "It also infers the weight of each objective to automatically handle minimization or maximization objetives.\n",
    "\n",
    "To see the weights, you can try:"
   ]
  },
  {
   "cell_type": "code",
   "execution_count": 4,
   "id": "13d0ac5f",
   "metadata": {},
   "outputs": [
    {
     "data": {
      "text/plain": [
       "[-1.0, -1.0]"
      ]
     },
     "execution_count": 4,
     "metadata": {},
     "output_type": "execute_result"
    }
   ],
   "source": [
    "est.best_estimator_.fitness.weights"
   ]
  },
  {
   "cell_type": "markdown",
   "id": "fe594691",
   "metadata": {},
   "source": [
    "Brush let's you serialize the entire individual, or just the program or fitness it wraps. You can use pickle to save and load programs.\n",
    "\n",
    "This is all you need to save and load entire populations, and this feature allow us to create store the `Archive` after running the algorithm."
   ]
  },
  {
   "cell_type": "code",
   "execution_count": 5,
   "id": "b4537631",
   "metadata": {},
   "outputs": [],
   "source": [
    "import pickle\n",
    "import os, tempfile\n",
    "\n",
    "individual_file = os.path.join(tempfile.mkdtemp(), 'individual')\n",
    "with open(individual_file, \"wb\") as f:\n",
    "    pickle.dump(est.best_estimator_, f)\n",
    "\n",
    "program_file = os.path.join(tempfile.mkdtemp(), 'program')\n",
    "with open(program_file, \"wb\") as f:\n",
    "    pickle.dump(est.best_estimator_.program, f)"
   ]
  },
  {
   "cell_type": "markdown",
   "id": "a355d8f3",
   "metadata": {},
   "source": [
    "### String\n",
    "\n",
    "Now that we have trained a model, `est.best_estimator_` contains our symbolic model. \n",
    "We can view it as a string:"
   ]
  },
  {
   "cell_type": "code",
   "execution_count": 6,
   "id": "316964d5",
   "metadata": {},
   "outputs": [
    {
     "name": "stdout",
     "output_type": "stream",
     "text": [
      "0.03*Add(If(x0>0.75,1.16*x1,191.72*x0),Add(x2,512.72*x6))\n"
     ]
    }
   ],
   "source": [
    "print(est.best_estimator_.get_model())"
   ]
  },
  {
   "cell_type": "markdown",
   "id": "e7d578bb",
   "metadata": {},
   "source": [
    "### Quick Little Tree\n",
    "\n",
    "Or, we can view it as a compact tree:"
   ]
  },
  {
   "cell_type": "code",
   "execution_count": 7,
   "id": "dad68d01",
   "metadata": {},
   "outputs": [
    {
     "name": "stdout",
     "output_type": "stream",
     "text": [
      "0.03*Add\n",
      "|-SplitBest\n",
      "  |-1.16*x1\n",
      "  |-191.72*x0\n",
      "|-Add\n",
      "|  |-x2\n",
      "|  |-512.72*x6\n"
     ]
    }
   ],
   "source": [
    "print(est.best_estimator_.get_model(\"tree\"))"
   ]
  },
  {
   "cell_type": "markdown",
   "id": "90068143",
   "metadata": {},
   "source": [
    "### GraphViz\n",
    "\n",
    "If we are feeling fancy 🎩, we can also view it as a graph in dot format. \n",
    "Let's import graphviz and make a nicer plot."
   ]
  },
  {
   "cell_type": "code",
   "execution_count": 8,
   "id": "3ef1a735",
   "metadata": {},
   "outputs": [
    {
     "data": {
      "image/svg+xml": [
       "<?xml version=\"1.0\" encoding=\"UTF-8\" standalone=\"no\"?>\n",
       "<!DOCTYPE svg PUBLIC \"-//W3C//DTD SVG 1.1//EN\"\n",
       " \"http://www.w3.org/Graphics/SVG/1.1/DTD/svg11.dtd\">\n",
       "<!-- Generated by graphviz version 9.0.0 (20231125.0833)\n",
       " -->\n",
       "<!-- Title: G Pages: 1 -->\n",
       "<svg width=\"287pt\" height=\"296pt\"\n",
       " viewBox=\"0.00 0.00 287.00 295.50\" xmlns=\"http://www.w3.org/2000/svg\" xmlns:xlink=\"http://www.w3.org/1999/xlink\">\n",
       "<g id=\"graph0\" class=\"graph\" transform=\"scale(1 1) rotate(0) translate(4 291.5)\">\n",
       "<title>G</title>\n",
       "<polygon fill=\"white\" stroke=\"none\" points=\"-4,4 -4,-291.5 283,-291.5 283,4 -4,4\"/>\n",
       "<!-- y -->\n",
       "<g id=\"node1\" class=\"node\">\n",
       "<title>y</title>\n",
       "<polygon fill=\"none\" stroke=\"black\" points=\"161,-287.5 107,-287.5 107,-251.5 161,-251.5 161,-287.5\"/>\n",
       "<text text-anchor=\"middle\" x=\"134\" y=\"-264.82\" font-family=\"Times,serif\" font-size=\"14.00\">y</text>\n",
       "</g>\n",
       "<!-- 7f6ad0015040 -->\n",
       "<g id=\"node2\" class=\"node\">\n",
       "<title>7f6ad0015040</title>\n",
       "<ellipse fill=\"none\" stroke=\"black\" cx=\"134\" cy=\"-180.25\" rx=\"30.69\" ry=\"18\"/>\n",
       "<text text-anchor=\"middle\" x=\"134\" y=\"-175.57\" font-family=\"Times,serif\" font-size=\"14.00\">Add</text>\n",
       "</g>\n",
       "<!-- y&#45;&gt;7f6ad0015040 -->\n",
       "<g id=\"edge1\" class=\"edge\">\n",
       "<title>y&#45;&gt;7f6ad0015040</title>\n",
       "<path fill=\"none\" stroke=\"black\" d=\"M134,-251.26C134,-239.43 134,-223.45 134,-209.75\"/>\n",
       "<polygon fill=\"black\" stroke=\"black\" points=\"137.5,-209.97 134,-199.97 130.5,-209.97 137.5,-209.97\"/>\n",
       "<text text-anchor=\"middle\" x=\"149.75\" y=\"-220.2\" font-family=\"Times,serif\" font-size=\"14.00\">0.03</text>\n",
       "</g>\n",
       "<!-- 7f6ad00811a0 -->\n",
       "<g id=\"node3\" class=\"node\">\n",
       "<title>7f6ad00811a0</title>\n",
       "<ellipse fill=\"none\" stroke=\"black\" cx=\"81\" cy=\"-107.25\" rx=\"59.1\" ry=\"18\"/>\n",
       "<text text-anchor=\"middle\" x=\"81\" y=\"-102.58\" font-family=\"Times,serif\" font-size=\"14.00\">x0&gt;0.75?</text>\n",
       "</g>\n",
       "<!-- 7f6ad0015040&#45;&gt;7f6ad00811a0 -->\n",
       "<g id=\"edge2\" class=\"edge\">\n",
       "<title>7f6ad0015040&#45;&gt;7f6ad00811a0</title>\n",
       "<path fill=\"none\" stroke=\"black\" d=\"M122.24,-163.49C115.81,-154.89 107.69,-144.01 100.36,-134.19\"/>\n",
       "<polygon fill=\"black\" stroke=\"black\" points=\"103.35,-132.34 94.56,-126.42 97.74,-136.52 103.35,-132.34\"/>\n",
       "</g>\n",
       "<!-- 7f6ad00810e0 -->\n",
       "<g id=\"node4\" class=\"node\">\n",
       "<title>7f6ad00810e0</title>\n",
       "<ellipse fill=\"none\" stroke=\"black\" cx=\"189\" cy=\"-107.25\" rx=\"30.69\" ry=\"18\"/>\n",
       "<text text-anchor=\"middle\" x=\"189\" y=\"-102.58\" font-family=\"Times,serif\" font-size=\"14.00\">Add</text>\n",
       "</g>\n",
       "<!-- 7f6ad0015040&#45;&gt;7f6ad00810e0 -->\n",
       "<g id=\"edge3\" class=\"edge\">\n",
       "<title>7f6ad0015040&#45;&gt;7f6ad00810e0</title>\n",
       "<path fill=\"none\" stroke=\"black\" d=\"M146.21,-163.49C153.18,-154.48 162.09,-142.99 169.97,-132.82\"/>\n",
       "<polygon fill=\"black\" stroke=\"black\" points=\"172.54,-135.21 175.9,-125.16 167.01,-130.92 172.54,-135.21\"/>\n",
       "</g>\n",
       "<!-- x1 -->\n",
       "<g id=\"node5\" class=\"node\">\n",
       "<title>x1</title>\n",
       "<ellipse fill=\"none\" stroke=\"black\" cx=\"27\" cy=\"-18\" rx=\"27\" ry=\"18\"/>\n",
       "<text text-anchor=\"middle\" x=\"27\" y=\"-13.32\" font-family=\"Times,serif\" font-size=\"14.00\">x1</text>\n",
       "</g>\n",
       "<!-- 7f6ad00811a0&#45;&gt;x1 -->\n",
       "<g id=\"edge4\" class=\"edge\">\n",
       "<title>7f6ad00811a0&#45;&gt;x1</title>\n",
       "<path fill=\"none\" stroke=\"black\" d=\"M70.59,-89.43C62.72,-76.71 51.78,-59.04 42.83,-44.58\"/>\n",
       "<polygon fill=\"black\" stroke=\"black\" points=\"46.05,-43.13 37.81,-36.47 40.1,-46.81 46.05,-43.13\"/>\n",
       "<text text-anchor=\"middle\" x=\"52.76\" y=\"-39.13\" font-family=\"Times,serif\" font-size=\"14.00\">1.16</text>\n",
       "<text text-anchor=\"middle\" x=\"66.09\" y=\"-76.13\" font-family=\"Times,serif\" font-size=\"14.00\">Y</text>\n",
       "</g>\n",
       "<!-- x0 -->\n",
       "<g id=\"node6\" class=\"node\">\n",
       "<title>x0</title>\n",
       "<ellipse fill=\"none\" stroke=\"black\" cx=\"99\" cy=\"-18\" rx=\"27\" ry=\"18\"/>\n",
       "<text text-anchor=\"middle\" x=\"99\" y=\"-13.32\" font-family=\"Times,serif\" font-size=\"14.00\">x0</text>\n",
       "</g>\n",
       "<!-- 7f6ad00811a0&#45;&gt;x0 -->\n",
       "<g id=\"edge5\" class=\"edge\">\n",
       "<title>7f6ad00811a0&#45;&gt;x0</title>\n",
       "<path fill=\"none\" stroke=\"black\" d=\"M84.56,-89.01C87.02,-77.06 90.36,-60.88 93.21,-47.08\"/>\n",
       "<polygon fill=\"black\" stroke=\"black\" points=\"96.55,-48.19 95.15,-37.68 89.7,-46.77 96.55,-48.19\"/>\n",
       "<text text-anchor=\"middle\" x=\"120.2\" y=\"-40.15\" font-family=\"Times,serif\" font-size=\"14.00\">191.72</text>\n",
       "<text text-anchor=\"middle\" x=\"78.56\" y=\"-75.71\" font-family=\"Times,serif\" font-size=\"14.00\">N</text>\n",
       "</g>\n",
       "<!-- x2 -->\n",
       "<g id=\"node7\" class=\"node\">\n",
       "<title>x2</title>\n",
       "<ellipse fill=\"none\" stroke=\"black\" cx=\"180\" cy=\"-18\" rx=\"27\" ry=\"18\"/>\n",
       "<text text-anchor=\"middle\" x=\"180\" y=\"-13.32\" font-family=\"Times,serif\" font-size=\"14.00\">x2</text>\n",
       "</g>\n",
       "<!-- 7f6ad00810e0&#45;&gt;x2 -->\n",
       "<g id=\"edge6\" class=\"edge\">\n",
       "<title>7f6ad00810e0&#45;&gt;x2</title>\n",
       "<path fill=\"none\" stroke=\"black\" d=\"M187.22,-89.01C186,-77.18 184.35,-61.2 182.94,-47.5\"/>\n",
       "<polygon fill=\"black\" stroke=\"black\" points=\"186.44,-47.3 181.93,-37.71 179.47,-48.01 186.44,-47.3\"/>\n",
       "</g>\n",
       "<!-- x6 -->\n",
       "<g id=\"node8\" class=\"node\">\n",
       "<title>x6</title>\n",
       "<ellipse fill=\"none\" stroke=\"black\" cx=\"252\" cy=\"-18\" rx=\"27\" ry=\"18\"/>\n",
       "<text text-anchor=\"middle\" x=\"252\" y=\"-13.32\" font-family=\"Times,serif\" font-size=\"14.00\">x6</text>\n",
       "</g>\n",
       "<!-- 7f6ad00810e0&#45;&gt;x6 -->\n",
       "<g id=\"edge7\" class=\"edge\">\n",
       "<title>7f6ad00810e0&#45;&gt;x6</title>\n",
       "<path fill=\"none\" stroke=\"black\" d=\"M200.56,-90.25C209.94,-77.25 223.33,-58.7 234.1,-43.79\"/>\n",
       "<polygon fill=\"black\" stroke=\"black\" points=\"236.83,-45.99 239.84,-35.84 231.15,-41.89 236.83,-45.99\"/>\n",
       "<text text-anchor=\"middle\" x=\"250.75\" y=\"-57.95\" font-family=\"Times,serif\" font-size=\"14.00\">512.72</text>\n",
       "</g>\n",
       "</g>\n",
       "</svg>\n"
      ],
      "text/plain": [
       "<graphviz.sources.Source at 0x7f6ae6db45c0>"
      ]
     },
     "execution_count": 8,
     "metadata": {},
     "output_type": "execute_result"
    }
   ],
   "source": [
    "import graphviz\n",
    "\n",
    "model = est.best_estimator_.get_model(\"dot\")\n",
    "graphviz.Source(model)"
   ]
  },
  {
   "cell_type": "markdown",
   "id": "a2f93509",
   "metadata": {},
   "source": [
    "The `model` variable is now a little program in the [dot language](https://graphviz.org/docs/layouts/dot/), which we can inspect directly. "
   ]
  },
  {
   "cell_type": "code",
   "execution_count": 9,
   "id": "1f7e725e",
   "metadata": {},
   "outputs": [
    {
     "name": "stdout",
     "output_type": "stream",
     "text": [
      "digraph G {\n",
      "y [shape=box];\n",
      "y -> \"7f6ad0015040\" [label=\"0.03\"];\n",
      "\"7f6ad0015040\" [label=\"Add\"];\n",
      "\"7f6ad0015040\" -> \"7f6ad00811a0\" [label=\"\"];\n",
      "\"7f6ad0015040\" -> \"7f6ad00810e0\" [label=\"\"];\n",
      "\"7f6ad00811a0\" [label=\"x0>0.75?\"];\n",
      "\"7f6ad00811a0\" -> \"x1\" [headlabel=\"1.16\",taillabel=\"Y\"];\n",
      "\"7f6ad00811a0\" -> \"x0\" [headlabel=\"191.72\",taillabel=\"N\"];\n",
      "\"x1\" [label=\"x1\"];\n",
      "\"x0\" [label=\"x0\"];\n",
      "\"7f6ad00810e0\" [label=\"Add\"];\n",
      "\"7f6ad00810e0\" -> \"x2\" [label=\"\"];\n",
      "\"7f6ad00810e0\" -> \"x6\" [label=\"512.72\"];\n",
      "\"x2\" [label=\"x2\"];\n",
      "\"x6\" [label=\"x6\"];\n",
      "}\n",
      "\n"
     ]
    }
   ],
   "source": [
    "print(model)"
   ]
  },
  {
   "cell_type": "markdown",
   "id": "b9c0154a",
   "metadata": {},
   "source": [
    "### Tweaking Graphs\n",
    "\n",
    "The [dot manual](https://graphviz.org/docs/layouts/dot/) has lots of options for tweaking the graphs. \n",
    "You can do this by manually editing `model`, but brush also provides a function, `get_dot_model()`, to which you can pass additional arguments to dot. \n",
    "\n",
    "For example, let's view the graph from Left-to-Right: "
   ]
  },
  {
   "cell_type": "code",
   "execution_count": 10,
   "id": "f35b1e05",
   "metadata": {},
   "outputs": [
    {
     "data": {
      "image/svg+xml": [
       "<?xml version=\"1.0\" encoding=\"UTF-8\" standalone=\"no\"?>\n",
       "<!DOCTYPE svg PUBLIC \"-//W3C//DTD SVG 1.1//EN\"\n",
       " \"http://www.w3.org/Graphics/SVG/1.1/DTD/svg11.dtd\">\n",
       "<!-- Generated by graphviz version 9.0.0 (20231125.0833)\n",
       " -->\n",
       "<!-- Title: G Pages: 1 -->\n",
       "<svg width=\"486pt\" height=\"206pt\"\n",
       " viewBox=\"0.00 0.00 485.58 206.00\" xmlns=\"http://www.w3.org/2000/svg\" xmlns:xlink=\"http://www.w3.org/1999/xlink\">\n",
       "<g id=\"graph0\" class=\"graph\" transform=\"scale(1 1) rotate(0) translate(4 202)\">\n",
       "<title>G</title>\n",
       "<polygon fill=\"white\" stroke=\"none\" points=\"-4,4 -4,-202 481.58,-202 481.58,4 -4,4\"/>\n",
       "<!-- y -->\n",
       "<g id=\"node1\" class=\"node\">\n",
       "<title>y</title>\n",
       "<polygon fill=\"none\" stroke=\"black\" points=\"54,-116 0,-116 0,-80 54,-80 54,-116\"/>\n",
       "<text text-anchor=\"middle\" x=\"27\" y=\"-93.33\" font-family=\"Times,serif\" font-size=\"14.00\">y</text>\n",
       "</g>\n",
       "<!-- 7f6ad0015040 -->\n",
       "<g id=\"node2\" class=\"node\">\n",
       "<title>7f6ad0015040</title>\n",
       "<ellipse fill=\"none\" stroke=\"black\" cx=\"152.19\" cy=\"-98\" rx=\"30.69\" ry=\"18\"/>\n",
       "<text text-anchor=\"middle\" x=\"152.19\" y=\"-93.33\" font-family=\"Times,serif\" font-size=\"14.00\">Add</text>\n",
       "</g>\n",
       "<!-- y&#45;&gt;7f6ad0015040 -->\n",
       "<g id=\"edge1\" class=\"edge\">\n",
       "<title>y&#45;&gt;7f6ad0015040</title>\n",
       "<path fill=\"none\" stroke=\"black\" d=\"M54.43,-98C70.63,-98 91.71,-98 110.05,-98\"/>\n",
       "<polygon fill=\"black\" stroke=\"black\" points=\"109.83,-101.5 119.83,-98 109.83,-94.5 109.83,-101.5\"/>\n",
       "<text text-anchor=\"middle\" x=\"87.75\" y=\"-101.95\" font-family=\"Times,serif\" font-size=\"14.00\">0.03</text>\n",
       "</g>\n",
       "<!-- 7f6ad00811a0 -->\n",
       "<g id=\"node3\" class=\"node\">\n",
       "<title>7f6ad00811a0</title>\n",
       "<ellipse fill=\"none\" stroke=\"black\" cx=\"278.98\" cy=\"-126\" rx=\"59.1\" ry=\"18\"/>\n",
       "<text text-anchor=\"middle\" x=\"278.98\" y=\"-121.33\" font-family=\"Times,serif\" font-size=\"14.00\">x0&gt;0.75?</text>\n",
       "</g>\n",
       "<!-- 7f6ad0015040&#45;&gt;7f6ad00811a0 -->\n",
       "<g id=\"edge2\" class=\"edge\">\n",
       "<title>7f6ad0015040&#45;&gt;7f6ad00811a0</title>\n",
       "<path fill=\"none\" stroke=\"black\" d=\"M181.19,-104.28C192.54,-106.83 206.08,-109.87 219.39,-112.85\"/>\n",
       "<polygon fill=\"black\" stroke=\"black\" points=\"218.47,-116.23 228.99,-115.01 220,-109.4 218.47,-116.23\"/>\n",
       "</g>\n",
       "<!-- 7f6ad00810e0 -->\n",
       "<g id=\"node4\" class=\"node\">\n",
       "<title>7f6ad00810e0</title>\n",
       "<ellipse fill=\"none\" stroke=\"black\" cx=\"278.98\" cy=\"-72\" rx=\"30.69\" ry=\"18\"/>\n",
       "<text text-anchor=\"middle\" x=\"278.98\" y=\"-67.33\" font-family=\"Times,serif\" font-size=\"14.00\">Add</text>\n",
       "</g>\n",
       "<!-- 7f6ad0015040&#45;&gt;7f6ad00810e0 -->\n",
       "<g id=\"edge3\" class=\"edge\">\n",
       "<title>7f6ad0015040&#45;&gt;7f6ad00810e0</title>\n",
       "<path fill=\"none\" stroke=\"black\" d=\"M181.51,-92.1C198.42,-88.58 220.15,-84.05 238.7,-80.18\"/>\n",
       "<polygon fill=\"black\" stroke=\"black\" points=\"239.22,-83.65 248.29,-78.19 237.79,-76.8 239.22,-83.65\"/>\n",
       "</g>\n",
       "<!-- x1 -->\n",
       "<g id=\"node5\" class=\"node\">\n",
       "<title>x1</title>\n",
       "<ellipse fill=\"none\" stroke=\"black\" cx=\"450.58\" cy=\"-180\" rx=\"27\" ry=\"18\"/>\n",
       "<text text-anchor=\"middle\" x=\"450.58\" y=\"-175.32\" font-family=\"Times,serif\" font-size=\"14.00\">x1</text>\n",
       "</g>\n",
       "<!-- 7f6ad00811a0&#45;&gt;x1 -->\n",
       "<g id=\"edge4\" class=\"edge\">\n",
       "<title>7f6ad00811a0&#45;&gt;x1</title>\n",
       "<path fill=\"none\" stroke=\"black\" d=\"M321.03,-139.07C349.69,-148.19 387.51,-160.24 414.7,-168.89\"/>\n",
       "<polygon fill=\"black\" stroke=\"black\" points=\"413.61,-172.22 424.2,-171.92 415.74,-165.55 413.61,-172.22\"/>\n",
       "<text text-anchor=\"middle\" x=\"409.89\" y=\"-159.08\" font-family=\"Times,serif\" font-size=\"14.00\">1.16</text>\n",
       "<text text-anchor=\"middle\" x=\"316.53\" y=\"-143.02\" font-family=\"Times,serif\" font-size=\"14.00\">Y</text>\n",
       "</g>\n",
       "<!-- x0 -->\n",
       "<g id=\"node6\" class=\"node\">\n",
       "<title>x0</title>\n",
       "<ellipse fill=\"none\" stroke=\"black\" cx=\"450.58\" cy=\"-126\" rx=\"27\" ry=\"18\"/>\n",
       "<text text-anchor=\"middle\" x=\"450.58\" y=\"-121.33\" font-family=\"Times,serif\" font-size=\"14.00\">x0</text>\n",
       "</g>\n",
       "<!-- 7f6ad00811a0&#45;&gt;x0 -->\n",
       "<g id=\"edge5\" class=\"edge\">\n",
       "<title>7f6ad00811a0&#45;&gt;x0</title>\n",
       "<path fill=\"none\" stroke=\"black\" d=\"M338.35,-126C362.76,-126 390.43,-126 412.06,-126\"/>\n",
       "<polygon fill=\"black\" stroke=\"black\" points=\"411.88,-129.5 421.88,-126 411.88,-122.5 411.88,-129.5\"/>\n",
       "<text text-anchor=\"middle\" x=\"398.65\" y=\"-112.7\" font-family=\"Times,serif\" font-size=\"14.00\">191.72</text>\n",
       "<text text-anchor=\"middle\" x=\"344.35\" y=\"-112.7\" font-family=\"Times,serif\" font-size=\"14.00\">N</text>\n",
       "</g>\n",
       "<!-- x2 -->\n",
       "<g id=\"node7\" class=\"node\">\n",
       "<title>x2</title>\n",
       "<ellipse fill=\"none\" stroke=\"black\" cx=\"450.58\" cy=\"-72\" rx=\"27\" ry=\"18\"/>\n",
       "<text text-anchor=\"middle\" x=\"450.58\" y=\"-67.33\" font-family=\"Times,serif\" font-size=\"14.00\">x2</text>\n",
       "</g>\n",
       "<!-- 7f6ad00810e0&#45;&gt;x2 -->\n",
       "<g id=\"edge6\" class=\"edge\">\n",
       "<title>7f6ad00810e0&#45;&gt;x2</title>\n",
       "<path fill=\"none\" stroke=\"black\" d=\"M309.91,-72C338.41,-72 381.4,-72 412.16,-72\"/>\n",
       "<polygon fill=\"black\" stroke=\"black\" points=\"411.77,-75.5 421.77,-72 411.77,-68.5 411.77,-75.5\"/>\n",
       "</g>\n",
       "<!-- x6 -->\n",
       "<g id=\"node8\" class=\"node\">\n",
       "<title>x6</title>\n",
       "<ellipse fill=\"none\" stroke=\"black\" cx=\"450.58\" cy=\"-18\" rx=\"27\" ry=\"18\"/>\n",
       "<text text-anchor=\"middle\" x=\"450.58\" y=\"-13.32\" font-family=\"Times,serif\" font-size=\"14.00\">x6</text>\n",
       "</g>\n",
       "<!-- 7f6ad00810e0&#45;&gt;x6 -->\n",
       "<g id=\"edge7\" class=\"edge\">\n",
       "<title>7f6ad00810e0&#45;&gt;x6</title>\n",
       "<path fill=\"none\" stroke=\"black\" d=\"M306.48,-63.56C335.73,-54.25 382.92,-39.22 415.05,-28.99\"/>\n",
       "<polygon fill=\"black\" stroke=\"black\" points=\"415.82,-32.42 424.29,-26.05 413.7,-25.75 415.82,-32.42\"/>\n",
       "<text text-anchor=\"middle\" x=\"380.83\" y=\"-49.95\" font-family=\"Times,serif\" font-size=\"14.00\">512.72</text>\n",
       "</g>\n",
       "</g>\n",
       "</svg>\n"
      ],
      "text/plain": [
       "<graphviz.sources.Source at 0x7f6ad681ec90>"
      ]
     },
     "execution_count": 10,
     "metadata": {},
     "output_type": "execute_result"
    }
   ],
   "source": [
    "model = est.best_estimator_.get_dot_model(\"rankdir=LR;\")\n",
    "graphviz.Source(model)"
   ]
  }
 ],
 "metadata": {
  "kernelspec": {
   "display_name": "Python 3 (ipykernel)",
   "language": "python",
   "name": "python3"
  },
  "language_info": {
   "codemirror_mode": {
    "name": "ipython",
    "version": 3
   },
   "file_extension": ".py",
   "mimetype": "text/x-python",
   "name": "python",
   "nbconvert_exporter": "python",
   "pygments_lexer": "ipython3",
   "version": "3.12.2"
  }
 },
 "nbformat": 4,
 "nbformat_minor": 5
}
