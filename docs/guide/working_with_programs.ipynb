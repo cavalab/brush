{
 "cells": [
  {
   "cell_type": "markdown",
   "id": "e9776d12",
   "metadata": {},
   "source": [
    "# Working with Programs\n",
    "\n",
    "In Brush, a *Program* is an executable data structure. \n",
    "You may think of it as a *model* or a *function* mapping feature inputs to data labels. \n",
    "We call them programs because that's what they are: executable data structures,  \n",
    "and that is what they are called in the genetic algorithm literature, to distinguish them from optimizing bits or strings. \n",
    "\n",
    "The Brush Program class operates similarly to a [sklearn](scikit-learn.org) estimator: it has `fit` and `predict` methods that are called in during training or inference, respectively. \n",
    "\n",
    "\n",
    "## Types of Programs \n",
    "\n",
    "There are four fundamental \"types\" of Brush programs:\n",
    "\n",
    "- **Regressors**: map inputs to a continous endpoint \n",
    "- **Binary Classifiers**: map inputs to a binary endpoint, as well as a continuous value in $[0, 1]$  \n",
    "- **Multi-class Classifiers**: map inputs to a category\n",
    "    - Under development\n",
    "- **Representors**: map inputs to a lower dimensional space. \n",
    "    - Under development\n",
    "\n",
    "## Representation \n",
    "\n",
    "Internally, the programs are represented as syntax trees. \n",
    "We use the [tree.hh tree class](https://github.com/kpeeters/tree.hh) which gives trees an STL-like feel. \n",
    "\n",
    "\n",
    "\n",
    "## Generation\n",
    "\n",
    "We generate random programs using Sean Luke's PTC2 algorithm.  \n",
    "\n",
    "\n",
    "## Evaluation\n",
    "\n",
    "TODO\n",
    "\n",
    "\n"
   ]
  },
  {
   "cell_type": "markdown",
   "id": "8c258669",
   "metadata": {},
   "source": [
    "## Visualizing Programs\n",
    "\n",
    "Programs in Brush are symbolic tree structures, and can be viewed in a few ways: \n",
    "\n",
    "\n",
    "1. As a string using `get_model()`\n",
    "2. As a string-like tree using `get_model(\"tree\")`\n",
    "2. As a graph using `graphviz` and `get_model(\"dot\")`. \n",
    "\n",
    "Let's look at a regresion example."
   ]
  },
  {
   "cell_type": "code",
   "execution_count": 1,
   "id": "102e3fcb",
   "metadata": {
    "tags": [
     "remove-output"
    ]
   },
   "outputs": [],
   "source": [
    "import pandas as pd\n",
    "from pybrush import BrushRegressor\n",
    "\n",
    "# load data\n",
    "df = pd.read_csv('../examples/datasets/d_enc.csv')\n",
    "X = df.drop(columns='label')\n",
    "y = df['label']"
   ]
  },
  {
   "cell_type": "code",
   "execution_count": 2,
   "id": "ac39c9ca",
   "metadata": {},
   "outputs": [
    {
     "name": "stdout",
     "output_type": "stream",
     "text": [
      "Completed 100% [====================]\n",
      "saving final population as archive...\n",
      "score: 0.8855788063255049\n"
     ]
    }
   ],
   "source": [
    "# import and make a regressor\n",
    "est = BrushRegressor(\n",
    "    functions=['SplitBest','Add','Mul','Sin','Cos','Exp','Logabs'],\n",
    "    verbosity=1 # set verbosity==1 to see a progress bar\n",
    ")\n",
    "\n",
    "# use like you would a sklearn regressor\n",
    "est.fit(X,y)\n",
    "y_pred = est.predict(X)\n",
    "print('score:', est.score(X,y))"
   ]
  },
  {
   "cell_type": "markdown",
   "id": "5bbd24cd",
   "metadata": {},
   "source": [
    "You can see the fitness of the final individual by accessing the `fitness` attribute. Each fitness value corresponds to the objective of same index defined earlier for the `BrushRegressor` class. By default, it will try to minimize `\"error\"` and `\"size\"`."
   ]
  },
  {
   "cell_type": "code",
   "execution_count": 3,
   "id": "166415c2",
   "metadata": {},
   "outputs": [
    {
     "name": "stdout",
     "output_type": "stream",
     "text": [
      "Fitness(10.341975 18.000000 )\n",
      "['error', 'size']\n"
     ]
    }
   ],
   "source": [
    "print(est.best_estimator_.fitness)\n",
    "print(est.objectives)"
   ]
  },
  {
   "cell_type": "markdown",
   "id": "38b6364e",
   "metadata": {},
   "source": [
    "A `fitness` in Brush is actually more than a tuple. It is a class that has all boolean comparison operators overloaded to allow an ease of use when prototyping with Brush.\n",
    "\n",
    "It also infers the weight of each objective to automatically handle minimization or maximization objetives.\n",
    "\n",
    "To see the weights, you can try:"
   ]
  },
  {
   "cell_type": "code",
   "execution_count": 4,
   "id": "13d0ac5f",
   "metadata": {},
   "outputs": [
    {
     "data": {
      "text/plain": [
       "[-1.0, -1.0]"
      ]
     },
     "execution_count": 4,
     "metadata": {},
     "output_type": "execute_result"
    }
   ],
   "source": [
    "est.best_estimator_.fitness.weights"
   ]
  },
  {
   "cell_type": "markdown",
   "id": "2fc9fe80",
   "metadata": {},
   "source": [
    "Other information of the best estimator can also be accessed through its fitness attribute:"
   ]
  },
  {
   "cell_type": "code",
   "execution_count": 5,
   "id": "de5255e7",
   "metadata": {},
   "outputs": [
    {
     "name": "stdout",
     "output_type": "stream",
     "text": [
      "18\n",
      "2142\n",
      "3\n"
     ]
    }
   ],
   "source": [
    "print(est.best_estimator_.fitness.size)\n",
    "print(est.best_estimator_.fitness.complexity)\n",
    "print(est.best_estimator_.fitness.depth)"
   ]
  },
  {
   "cell_type": "markdown",
   "id": "fe594691",
   "metadata": {},
   "source": [
    "## Serialization \n",
    "\n",
    "Brush let's you serialize the entire individual, or just the program or fitness it wraps. It uses JSON to serialize the objects, and this is implemented with the get and set states of an object:"
   ]
  },
  {
   "cell_type": "code",
   "execution_count": 6,
   "id": "b01ab1fa",
   "metadata": {},
   "outputs": [
    {
     "name": "stdout",
     "output_type": "stream",
     "text": [
      "fitness {'complexity': 2142, 'crowding_dist': 3.4028234663852886e+38, 'dcounter': 0, 'depth': 3, 'dominated': [107, 121, 137, 157, 170, 188, 195, 197], 'linear_complexity': 45, 'loss': 10.341975212097168, 'loss_v': 10.341975212097168, 'rank': 1, 'size': 18, 'values': [10.341975212097168, 18.0], 'weights': [-1.0, -1.0], 'wvalues': [-10.341975212097168, -18.0]}\n",
      "id 238\n",
      "is_fitted_ False\n",
      "objectives ['mse', 'size']\n",
      "parent_id [225]\n",
      "program {'Tree': [{'W': 0.9338497519493103, 'arg_types': ['ArrayF', 'ArrayF'], 'center_op': True, 'feature': '', 'fixed': False, 'is_weighted': False, 'name': 'Add', 'node_type': 'Add', 'prob_change': 1.0, 'ret_type': 'ArrayF', 'sig_dual_hash': 9996486434638833164, 'sig_hash': 10001460114883919497}, {'W': 0.75, 'arg_types': ['ArrayF', 'ArrayF'], 'center_op': True, 'feature': 'x0', 'fixed': False, 'is_weighted': True, 'name': 'SplitBest', 'node_type': 'SplitBest', 'prob_change': 1.0, 'ret_type': 'ArrayF', 'sig_dual_hash': 9996486434638833164, 'sig_hash': 10001460114883919497}, {'W': 0.05348462238907814, 'arg_types': [], 'center_op': True, 'feature': 'x1', 'fixed': False, 'is_weighted': True, 'name': 'Terminal', 'node_type': 'Terminal', 'prob_change': 0.6729995608329773, 'ret_type': 'ArrayF', 'sig_dual_hash': 509529941281334733, 'sig_hash': 17717457037689164349}, {'W': 0.019886666908860207, 'arg_types': [], 'center_op': True, 'feature': 'x1', 'fixed': False, 'is_weighted': True, 'name': 'Terminal', 'node_type': 'Terminal', 'prob_change': 0.6729995608329773, 'ret_type': 'ArrayF', 'sig_dual_hash': 509529941281334733, 'sig_hash': 17717457037689164349}, {'W': 0.9591334462165833, 'arg_types': ['ArrayF', 'ArrayF'], 'center_op': True, 'feature': '', 'fixed': False, 'is_weighted': False, 'name': 'Add', 'node_type': 'Add', 'prob_change': 1.0, 'ret_type': 'ArrayF', 'sig_dual_hash': 9996486434638833164, 'sig_hash': 10001460114883919497}, {'W': 14.817970275878906, 'arg_types': [], 'center_op': True, 'feature': 'x6', 'fixed': False, 'is_weighted': True, 'name': 'Terminal', 'node_type': 'Terminal', 'prob_change': 0.20750471949577332, 'ret_type': 'ArrayF', 'sig_dual_hash': 509529941281334733, 'sig_hash': 17717457037689164349}, {'W': -2.2582321166992188, 'arg_types': [], 'center_op': True, 'feature': 'Constant', 'fixed': False, 'is_weighted': True, 'name': 'Constant', 'node_type': 'Constant', 'prob_change': 0.6167147755622864, 'ret_type': 'ArrayF', 'sig_dual_hash': 509529941281334733, 'sig_hash': 17717457037689164349}], 'is_fitted_': True}\n",
      "variation toggle_weight_off\n"
     ]
    }
   ],
   "source": [
    "estimator_dict = est.best_estimator_.__getstate__()\n",
    "\n",
    "for k, v in estimator_dict.items():\n",
    "    print(k, v)"
   ]
  },
  {
   "cell_type": "markdown",
   "id": "6bcb071b",
   "metadata": {},
   "source": [
    "With serialization, you can use pickle to save and load just programs or even the entire individual."
   ]
  },
  {
   "cell_type": "code",
   "execution_count": 7,
   "id": "b4537631",
   "metadata": {},
   "outputs": [],
   "source": [
    "import pickle\n",
    "import os, tempfile\n",
    "\n",
    "individual_file = os.path.join(tempfile.mkdtemp(), 'individual.json')\n",
    "with open(individual_file, \"wb\") as f:\n",
    "    pickle.dump(est.best_estimator_, f)\n",
    "\n",
    "program_file = os.path.join(tempfile.mkdtemp(), 'program.json')\n",
    "with open(program_file, \"wb\") as f:\n",
    "    pickle.dump(est.best_estimator_.program, f)"
   ]
  },
  {
   "cell_type": "markdown",
   "id": "fff5693d",
   "metadata": {},
   "source": [
    "Then we can load it later with:"
   ]
  },
  {
   "cell_type": "code",
   "execution_count": 8,
   "id": "ee7a20c6",
   "metadata": {},
   "outputs": [
    {
     "name": "stdout",
     "output_type": "stream",
     "text": [
      "Add(If(x0>0.75,0.05*x1,0.02*x1),Add(14.82*x6,-2.26))\n"
     ]
    }
   ],
   "source": [
    "with open(individual_file, \"rb\") as f:\n",
    "    loaded_estimator = pickle.load(f)\n",
    "    print(loaded_estimator.get_model())"
   ]
  },
  {
   "cell_type": "markdown",
   "id": "a355d8f3",
   "metadata": {},
   "source": [
    "### String\n",
    "\n",
    "Now that we have trained a model, `est.best_estimator_` contains our symbolic model. \n",
    "We can view it as a string:"
   ]
  },
  {
   "cell_type": "code",
   "execution_count": 9,
   "id": "316964d5",
   "metadata": {},
   "outputs": [
    {
     "name": "stdout",
     "output_type": "stream",
     "text": [
      "Add(If(x0>0.75,0.05*x1,0.02*x1),Add(14.82*x6,-2.26))\n"
     ]
    }
   ],
   "source": [
    "print(est.best_estimator_.get_model())"
   ]
  },
  {
   "cell_type": "markdown",
   "id": "e7d578bb",
   "metadata": {},
   "source": [
    "### Quick Little Tree\n",
    "\n",
    "Or, we can view it as a compact tree:"
   ]
  },
  {
   "cell_type": "code",
   "execution_count": 10,
   "id": "dad68d01",
   "metadata": {},
   "outputs": [
    {
     "name": "stdout",
     "output_type": "stream",
     "text": [
      "Add\n",
      "|- If(x0>0.75)\n",
      "|  |- 0.05*x1\n",
      "|  |- 0.02*x1\n",
      "|- Add\n",
      "|  |- 14.82*x6\n",
      "|  |- -2.26\n"
     ]
    }
   ],
   "source": [
    "print(est.best_estimator_.get_model(\"tree\"))"
   ]
  },
  {
   "cell_type": "markdown",
   "id": "90068143",
   "metadata": {},
   "source": [
    "### GraphViz\n",
    "\n",
    "If we are feeling fancy 🎩, we can also view it as a graph in dot format. \n",
    "Let's import graphviz and make a nicer plot."
   ]
  },
  {
   "cell_type": "code",
   "execution_count": 11,
   "id": "3ef1a735",
   "metadata": {},
   "outputs": [
    {
     "data": {
      "image/svg+xml": [
       "<?xml version=\"1.0\" encoding=\"UTF-8\" standalone=\"no\"?>\n",
       "<!DOCTYPE svg PUBLIC \"-//W3C//DTD SVG 1.1//EN\"\n",
       " \"http://www.w3.org/Graphics/SVG/1.1/DTD/svg11.dtd\">\n",
       "<!-- Generated by graphviz version 9.0.0 (20231125.0833)\n",
       " -->\n",
       "<!-- Title: G Pages: 1 -->\n",
       "<svg width=\"275pt\" height=\"206pt\"\n",
       " viewBox=\"0.00 0.00 274.58 206.25\" xmlns=\"http://www.w3.org/2000/svg\" xmlns:xlink=\"http://www.w3.org/1999/xlink\">\n",
       "<g id=\"graph0\" class=\"graph\" transform=\"scale(1 1) rotate(0) translate(4 202.25)\">\n",
       "<title>G</title>\n",
       "<polygon fill=\"white\" stroke=\"none\" points=\"-4,4 -4,-202.25 270.58,-202.25 270.58,4 -4,4\"/>\n",
       "<!-- 7f18b00cbd50 -->\n",
       "<g id=\"node1\" class=\"node\">\n",
       "<title>7f18b00cbd50</title>\n",
       "<ellipse fill=\"none\" stroke=\"black\" cx=\"112.1\" cy=\"-180.25\" rx=\"30.69\" ry=\"18\"/>\n",
       "<text text-anchor=\"middle\" x=\"112.1\" y=\"-175.57\" font-family=\"Times,serif\" font-size=\"14.00\">Add</text>\n",
       "</g>\n",
       "<!-- 7f18b01b7de0 -->\n",
       "<g id=\"node2\" class=\"node\">\n",
       "<title>7f18b01b7de0</title>\n",
       "<ellipse fill=\"none\" stroke=\"black\" cx=\"59.1\" cy=\"-107.25\" rx=\"59.1\" ry=\"18\"/>\n",
       "<text text-anchor=\"middle\" x=\"59.1\" y=\"-102.58\" font-family=\"Times,serif\" font-size=\"14.00\">x0&gt;0.75?</text>\n",
       "</g>\n",
       "<!-- 7f18b00cbd50&#45;&gt;7f18b01b7de0 -->\n",
       "<g id=\"edge1\" class=\"edge\">\n",
       "<title>7f18b00cbd50&#45;&gt;7f18b01b7de0</title>\n",
       "<path fill=\"none\" stroke=\"black\" d=\"M100.34,-163.49C93.91,-154.89 85.79,-144.01 78.46,-134.19\"/>\n",
       "<polygon fill=\"black\" stroke=\"black\" points=\"81.45,-132.34 72.66,-126.42 75.84,-136.52 81.45,-132.34\"/>\n",
       "</g>\n",
       "<!-- 7f18b01b7d20 -->\n",
       "<g id=\"node3\" class=\"node\">\n",
       "<title>7f18b01b7d20</title>\n",
       "<ellipse fill=\"none\" stroke=\"black\" cx=\"167.1\" cy=\"-107.25\" rx=\"30.69\" ry=\"18\"/>\n",
       "<text text-anchor=\"middle\" x=\"167.1\" y=\"-102.58\" font-family=\"Times,serif\" font-size=\"14.00\">Add</text>\n",
       "</g>\n",
       "<!-- 7f18b00cbd50&#45;&gt;7f18b01b7d20 -->\n",
       "<g id=\"edge2\" class=\"edge\">\n",
       "<title>7f18b00cbd50&#45;&gt;7f18b01b7d20</title>\n",
       "<path fill=\"none\" stroke=\"black\" d=\"M124.31,-163.49C131.28,-154.48 140.19,-142.99 148.07,-132.82\"/>\n",
       "<polygon fill=\"black\" stroke=\"black\" points=\"150.64,-135.21 154,-125.16 145.11,-130.92 150.64,-135.21\"/>\n",
       "</g>\n",
       "<!-- x1 -->\n",
       "<g id=\"node4\" class=\"node\">\n",
       "<title>x1</title>\n",
       "<ellipse fill=\"none\" stroke=\"black\" cx=\"59.1\" cy=\"-18\" rx=\"27\" ry=\"18\"/>\n",
       "<text text-anchor=\"middle\" x=\"59.1\" y=\"-13.32\" font-family=\"Times,serif\" font-size=\"14.00\">x1</text>\n",
       "</g>\n",
       "<!-- 7f18b01b7de0&#45;&gt;x1 -->\n",
       "<g id=\"edge3\" class=\"edge\">\n",
       "<title>7f18b01b7de0&#45;&gt;x1</title>\n",
       "<path fill=\"none\" stroke=\"black\" d=\"M53.6,-89.01C52.3,-77.1 52.02,-61 52.74,-47.23\"/>\n",
       "<polygon fill=\"black\" stroke=\"black\" points=\"56.22,-47.66 53.51,-37.41 49.24,-47.11 56.22,-47.66\"/>\n",
       "<text text-anchor=\"middle\" x=\"37.88\" y=\"-39.86\" font-family=\"Times,serif\" font-size=\"14.00\">0.05</text>\n",
       "<text text-anchor=\"middle\" x=\"49.1\" y=\"-75.71\" font-family=\"Times,serif\" font-size=\"14.00\">Y</text>\n",
       "</g>\n",
       "<!-- 7f18b01b7de0&#45;&gt;x1 -->\n",
       "<g id=\"edge4\" class=\"edge\">\n",
       "<title>7f18b01b7de0&#45;&gt;x1</title>\n",
       "<path fill=\"none\" stroke=\"black\" d=\"M64.6,-89.01C65.9,-77.1 66.18,-61 65.46,-47.23\"/>\n",
       "<polygon fill=\"black\" stroke=\"black\" points=\"68.96,-47.11 64.69,-37.41 61.98,-47.66 68.96,-47.11\"/>\n",
       "<text text-anchor=\"middle\" x=\"80.32\" y=\"-39.86\" font-family=\"Times,serif\" font-size=\"14.00\">0.02</text>\n",
       "<text text-anchor=\"middle\" x=\"70.6\" y=\"-75.71\" font-family=\"Times,serif\" font-size=\"14.00\">N</text>\n",
       "</g>\n",
       "<!-- x6 -->\n",
       "<g id=\"node5\" class=\"node\">\n",
       "<title>x6</title>\n",
       "<ellipse fill=\"none\" stroke=\"black\" cx=\"149.1\" cy=\"-18\" rx=\"27\" ry=\"18\"/>\n",
       "<text text-anchor=\"middle\" x=\"149.1\" y=\"-13.32\" font-family=\"Times,serif\" font-size=\"14.00\">x6</text>\n",
       "</g>\n",
       "<!-- 7f18b01b7d20&#45;&gt;x6 -->\n",
       "<g id=\"edge5\" class=\"edge\">\n",
       "<title>7f18b01b7d20&#45;&gt;x6</title>\n",
       "<path fill=\"none\" stroke=\"black\" d=\"M163.54,-89.01C161.08,-77.06 157.74,-60.88 154.89,-47.08\"/>\n",
       "<polygon fill=\"black\" stroke=\"black\" points=\"158.4,-46.77 152.95,-37.68 151.55,-48.19 158.4,-46.77\"/>\n",
       "<text text-anchor=\"middle\" x=\"180.35\" y=\"-57.95\" font-family=\"Times,serif\" font-size=\"14.00\">14.82</text>\n",
       "</g>\n",
       "<!-- 7f18b011e540 -->\n",
       "<g id=\"node6\" class=\"node\">\n",
       "<title>7f18b011e540</title>\n",
       "<ellipse fill=\"none\" stroke=\"black\" cx=\"230.1\" cy=\"-18\" rx=\"36.48\" ry=\"18\"/>\n",
       "<text text-anchor=\"middle\" x=\"230.1\" y=\"-13.32\" font-family=\"Times,serif\" font-size=\"14.00\">&#45;2.26</text>\n",
       "</g>\n",
       "<!-- 7f18b01b7d20&#45;&gt;7f18b011e540 -->\n",
       "<g id=\"edge6\" class=\"edge\">\n",
       "<title>7f18b01b7d20&#45;&gt;7f18b011e540</title>\n",
       "<path fill=\"none\" stroke=\"black\" d=\"M185.13,-92.16C191.96,-86.21 199.45,-78.9 205.1,-71.25 210.67,-63.71 215.49,-54.74 219.38,-46.38\"/>\n",
       "<polygon fill=\"black\" stroke=\"black\" points=\"222.55,-47.86 223.33,-37.29 216.13,-45.07 222.55,-47.86\"/>\n",
       "</g>\n",
       "</g>\n",
       "</svg>\n"
      ],
      "text/plain": [
       "<graphviz.sources.Source at 0x7f18bb42a570>"
      ]
     },
     "execution_count": 11,
     "metadata": {},
     "output_type": "execute_result"
    }
   ],
   "source": [
    "import graphviz\n",
    "\n",
    "model = est.best_estimator_.get_model(\"dot\")\n",
    "graphviz.Source(model)"
   ]
  },
  {
   "cell_type": "markdown",
   "id": "a2f93509",
   "metadata": {},
   "source": [
    "The `model` variable is now a little program in the [dot language](https://graphviz.org/docs/layouts/dot/), which we can inspect directly. "
   ]
  },
  {
   "cell_type": "code",
   "execution_count": 12,
   "id": "1f7e725e",
   "metadata": {},
   "outputs": [
    {
     "name": "stdout",
     "output_type": "stream",
     "text": [
      "digraph G {\n",
      "\"7f18b00cbd50\" [label=\"Add\"];\n",
      "\"7f18b00cbd50\" -> \"7f18b01b7de0\" [label=\"\"];\n",
      "\"7f18b00cbd50\" -> \"7f18b01b7d20\" [label=\"\"];\n",
      "\"7f18b01b7de0\" [label=\"x0>0.75?\"];\n",
      "\"7f18b01b7de0\" -> \"x1\" [headlabel=\"0.05\",taillabel=\"Y\"];\n",
      "\"7f18b01b7de0\" -> \"x1\" [headlabel=\"0.02\",taillabel=\"N\"];\n",
      "\"x1\" [label=\"x1\"];\n",
      "\"x1\" [label=\"x1\"];\n",
      "\"7f18b01b7d20\" [label=\"Add\"];\n",
      "\"7f18b01b7d20\" -> \"x6\" [label=\"14.82\"];\n",
      "\"7f18b01b7d20\" -> \"7f18b011e540\" [label=\"\"];\n",
      "\"x6\" [label=\"x6\"];\n",
      "\"7f18b011e540\" [label=\"-2.26\"];\n",
      "}\n",
      "\n"
     ]
    }
   ],
   "source": [
    "print(model)"
   ]
  },
  {
   "cell_type": "markdown",
   "id": "b9c0154a",
   "metadata": {},
   "source": [
    "### Tweaking Graphs\n",
    "\n",
    "The [dot manual](https://graphviz.org/docs/layouts/dot/) has lots of options for tweaking the graphs. \n",
    "You can do this by manually editing `model`, but brush also provides a function, `get_dot_model()`, to which you can pass additional arguments to dot. \n",
    "\n",
    "For example, let's view the graph from Left-to-Right: "
   ]
  },
  {
   "cell_type": "code",
   "execution_count": 13,
   "id": "f35b1e05",
   "metadata": {},
   "outputs": [
    {
     "data": {
      "image/svg+xml": [
       "<?xml version=\"1.0\" encoding=\"UTF-8\" standalone=\"no\"?>\n",
       "<!DOCTYPE svg PUBLIC \"-//W3C//DTD SVG 1.1//EN\"\n",
       " \"http://www.w3.org/Graphics/SVG/1.1/DTD/svg11.dtd\">\n",
       "<!-- Generated by graphviz version 9.0.0 (20231125.0833)\n",
       " -->\n",
       "<!-- Title: G Pages: 1 -->\n",
       "<svg width=\"374pt\" height=\"158pt\"\n",
       " viewBox=\"0.00 0.00 374.03 157.60\" xmlns=\"http://www.w3.org/2000/svg\" xmlns:xlink=\"http://www.w3.org/1999/xlink\">\n",
       "<g id=\"graph0\" class=\"graph\" transform=\"scale(1 1) rotate(0) translate(4 153.6)\">\n",
       "<title>G</title>\n",
       "<polygon fill=\"white\" stroke=\"none\" points=\"-4,4 -4,-153.6 370.03,-153.6 370.03,4 -4,4\"/>\n",
       "<!-- 7f18b00cbd50 -->\n",
       "<g id=\"node1\" class=\"node\">\n",
       "<title>7f18b00cbd50</title>\n",
       "<ellipse fill=\"none\" stroke=\"black\" cx=\"30.69\" cy=\"-98\" rx=\"30.69\" ry=\"18\"/>\n",
       "<text text-anchor=\"middle\" x=\"30.69\" y=\"-93.33\" font-family=\"Times,serif\" font-size=\"14.00\">Add</text>\n",
       "</g>\n",
       "<!-- 7f18b01b7de0 -->\n",
       "<g id=\"node2\" class=\"node\">\n",
       "<title>7f18b01b7de0</title>\n",
       "<ellipse fill=\"none\" stroke=\"black\" cx=\"157.48\" cy=\"-126\" rx=\"59.1\" ry=\"18\"/>\n",
       "<text text-anchor=\"middle\" x=\"157.48\" y=\"-121.33\" font-family=\"Times,serif\" font-size=\"14.00\">x0&gt;0.75?</text>\n",
       "</g>\n",
       "<!-- 7f18b00cbd50&#45;&gt;7f18b01b7de0 -->\n",
       "<g id=\"edge1\" class=\"edge\">\n",
       "<title>7f18b00cbd50&#45;&gt;7f18b01b7de0</title>\n",
       "<path fill=\"none\" stroke=\"black\" d=\"M59.69,-104.28C71.04,-106.83 84.58,-109.87 97.89,-112.85\"/>\n",
       "<polygon fill=\"black\" stroke=\"black\" points=\"96.97,-116.23 107.49,-115.01 98.5,-109.4 96.97,-116.23\"/>\n",
       "</g>\n",
       "<!-- 7f18b01b7d20 -->\n",
       "<g id=\"node3\" class=\"node\">\n",
       "<title>7f18b01b7d20</title>\n",
       "<ellipse fill=\"none\" stroke=\"black\" cx=\"157.48\" cy=\"-72\" rx=\"30.69\" ry=\"18\"/>\n",
       "<text text-anchor=\"middle\" x=\"157.48\" y=\"-67.33\" font-family=\"Times,serif\" font-size=\"14.00\">Add</text>\n",
       "</g>\n",
       "<!-- 7f18b00cbd50&#45;&gt;7f18b01b7d20 -->\n",
       "<g id=\"edge2\" class=\"edge\">\n",
       "<title>7f18b00cbd50&#45;&gt;7f18b01b7d20</title>\n",
       "<path fill=\"none\" stroke=\"black\" d=\"M60.01,-92.1C76.92,-88.58 98.65,-84.05 117.2,-80.18\"/>\n",
       "<polygon fill=\"black\" stroke=\"black\" points=\"117.72,-83.65 126.79,-78.19 116.29,-76.8 117.72,-83.65\"/>\n",
       "</g>\n",
       "<!-- x1 -->\n",
       "<g id=\"node4\" class=\"node\">\n",
       "<title>x1</title>\n",
       "<ellipse fill=\"none\" stroke=\"black\" cx=\"329.56\" cy=\"-126\" rx=\"27\" ry=\"18\"/>\n",
       "<text text-anchor=\"middle\" x=\"329.56\" y=\"-121.33\" font-family=\"Times,serif\" font-size=\"14.00\">x1</text>\n",
       "</g>\n",
       "<!-- 7f18b01b7de0&#45;&gt;x1 -->\n",
       "<g id=\"edge3\" class=\"edge\">\n",
       "<title>7f18b01b7de0&#45;&gt;x1</title>\n",
       "<path fill=\"none\" stroke=\"black\" d=\"M213.23,-119.65C239.03,-118.94 269.11,-119.18 292.08,-120.34\"/>\n",
       "<polygon fill=\"black\" stroke=\"black\" points=\"291.67,-123.82 301.87,-120.95 292.1,-116.84 291.67,-123.82\"/>\n",
       "<text text-anchor=\"middle\" x=\"287.63\" y=\"-107.74\" font-family=\"Times,serif\" font-size=\"14.00\">0.05</text>\n",
       "<text text-anchor=\"middle\" x=\"217.73\" y=\"-106.35\" font-family=\"Times,serif\" font-size=\"14.00\">Y</text>\n",
       "</g>\n",
       "<!-- 7f18b01b7de0&#45;&gt;x1 -->\n",
       "<g id=\"edge4\" class=\"edge\">\n",
       "<title>7f18b01b7de0&#45;&gt;x1</title>\n",
       "<path fill=\"none\" stroke=\"black\" d=\"M213.23,-132.35C239.03,-133.06 269.11,-132.82 292.08,-131.66\"/>\n",
       "<polygon fill=\"black\" stroke=\"black\" points=\"292.1,-135.16 301.87,-131.05 291.67,-128.18 292.1,-135.16\"/>\n",
       "<text text-anchor=\"middle\" x=\"287.63\" y=\"-134.91\" font-family=\"Times,serif\" font-size=\"14.00\">0.02</text>\n",
       "<text text-anchor=\"middle\" x=\"219.23\" y=\"-136.3\" font-family=\"Times,serif\" font-size=\"14.00\">N</text>\n",
       "</g>\n",
       "<!-- x6 -->\n",
       "<g id=\"node5\" class=\"node\">\n",
       "<title>x6</title>\n",
       "<ellipse fill=\"none\" stroke=\"black\" cx=\"329.56\" cy=\"-72\" rx=\"27\" ry=\"18\"/>\n",
       "<text text-anchor=\"middle\" x=\"329.56\" y=\"-67.33\" font-family=\"Times,serif\" font-size=\"14.00\">x6</text>\n",
       "</g>\n",
       "<!-- 7f18b01b7d20&#45;&gt;x6 -->\n",
       "<g id=\"edge5\" class=\"edge\">\n",
       "<title>7f18b01b7d20&#45;&gt;x6</title>\n",
       "<path fill=\"none\" stroke=\"black\" d=\"M188.49,-72C217.08,-72 260.19,-72 291.03,-72\"/>\n",
       "<polygon fill=\"black\" stroke=\"black\" points=\"290.68,-75.5 300.68,-72 290.68,-68.5 290.68,-75.5\"/>\n",
       "<text text-anchor=\"middle\" x=\"254.83\" y=\"-75.95\" font-family=\"Times,serif\" font-size=\"14.00\">14.82</text>\n",
       "</g>\n",
       "<!-- 7f18b011e540 -->\n",
       "<g id=\"node6\" class=\"node\">\n",
       "<title>7f18b011e540</title>\n",
       "<ellipse fill=\"none\" stroke=\"black\" cx=\"329.56\" cy=\"-18\" rx=\"36.48\" ry=\"18\"/>\n",
       "<text text-anchor=\"middle\" x=\"329.56\" y=\"-13.32\" font-family=\"Times,serif\" font-size=\"14.00\">&#45;2.26</text>\n",
       "</g>\n",
       "<!-- 7f18b01b7d20&#45;&gt;7f18b011e540 -->\n",
       "<g id=\"edge6\" class=\"edge\">\n",
       "<title>7f18b01b7d20&#45;&gt;7f18b011e540</title>\n",
       "<path fill=\"none\" stroke=\"black\" d=\"M185.05,-63.56C212.47,-54.86 255.59,-41.17 287.41,-31.06\"/>\n",
       "<polygon fill=\"black\" stroke=\"black\" points=\"288.23,-34.47 296.71,-28.11 286.12,-27.8 288.23,-34.47\"/>\n",
       "</g>\n",
       "</g>\n",
       "</svg>\n"
      ],
      "text/plain": [
       "<graphviz.sources.Source at 0x7f18b8b4b920>"
      ]
     },
     "execution_count": 13,
     "metadata": {},
     "output_type": "execute_result"
    }
   ],
   "source": [
    "model = est.best_estimator_.get_dot_model(\"rankdir=LR;\")\n",
    "graphviz.Source(model)"
   ]
  },
  {
   "cell_type": "markdown",
   "id": "512434e7",
   "metadata": {},
   "source": [
    "### A classification example"
   ]
  },
  {
   "cell_type": "code",
   "execution_count": 14,
   "id": "4ca564f3",
   "metadata": {},
   "outputs": [
    {
     "name": "stdout",
     "output_type": "stream",
     "text": [
      "Completed 100% [====================]\n",
      "saving final population as archive...\n",
      "Best model: Logistic(Sum(-0.25,If(AIDS>0.41,1.00,-0.38*Race)))\n",
      "score: 0.68\n"
     ]
    },
    {
     "data": {
      "image/svg+xml": [
       "<?xml version=\"1.0\" encoding=\"UTF-8\" standalone=\"no\"?>\n",
       "<!DOCTYPE svg PUBLIC \"-//W3C//DTD SVG 1.1//EN\"\n",
       " \"http://www.w3.org/Graphics/SVG/1.1/DTD/svg11.dtd\">\n",
       "<!-- Generated by graphviz version 9.0.0 (20231125.0833)\n",
       " -->\n",
       "<!-- Title: G Pages: 1 -->\n",
       "<svg width=\"248pt\" height=\"260pt\"\n",
       " viewBox=\"0.00 0.00 247.80 260.00\" xmlns=\"http://www.w3.org/2000/svg\" xmlns:xlink=\"http://www.w3.org/1999/xlink\">\n",
       "<g id=\"graph0\" class=\"graph\" transform=\"scale(1 1) rotate(0) translate(4 256)\">\n",
       "<title>G</title>\n",
       "<polygon fill=\"white\" stroke=\"none\" points=\"-4,4 -4,-256 243.8,-256 243.8,4 -4,4\"/>\n",
       "<!-- 7f18b0056e10 -->\n",
       "<g id=\"node1\" class=\"node\">\n",
       "<title>7f18b0056e10</title>\n",
       "<ellipse fill=\"none\" stroke=\"black\" cx=\"139.32\" cy=\"-234\" rx=\"50.68\" ry=\"18\"/>\n",
       "<text text-anchor=\"middle\" x=\"139.32\" y=\"-229.32\" font-family=\"Times,serif\" font-size=\"14.00\">Logistic</text>\n",
       "</g>\n",
       "<!-- 7f18b00481e0 -->\n",
       "<g id=\"node2\" class=\"node\">\n",
       "<title>7f18b00481e0</title>\n",
       "<ellipse fill=\"none\" stroke=\"black\" cx=\"139.32\" cy=\"-162\" rx=\"30.69\" ry=\"18\"/>\n",
       "<text text-anchor=\"middle\" x=\"139.32\" y=\"-157.32\" font-family=\"Times,serif\" font-size=\"14.00\">Add</text>\n",
       "</g>\n",
       "<!-- 7f18b0056e10&#45;&gt;7f18b00481e0 -->\n",
       "<g id=\"edge1\" class=\"edge\">\n",
       "<title>7f18b0056e10&#45;&gt;7f18b00481e0</title>\n",
       "<path fill=\"none\" stroke=\"black\" d=\"M139.32,-215.7C139.32,-208.41 139.32,-199.73 139.32,-191.54\"/>\n",
       "<polygon fill=\"black\" stroke=\"black\" points=\"142.82,-191.62 139.32,-181.62 135.82,-191.62 142.82,-191.62\"/>\n",
       "</g>\n",
       "<!-- 7f18b0056d50 -->\n",
       "<g id=\"node3\" class=\"node\">\n",
       "<title>7f18b0056d50</title>\n",
       "<ellipse fill=\"none\" stroke=\"black\" cx=\"76.32\" cy=\"-90\" rx=\"72.25\" ry=\"18\"/>\n",
       "<text text-anchor=\"middle\" x=\"76.32\" y=\"-85.33\" font-family=\"Times,serif\" font-size=\"14.00\">AIDS&gt;0.41?</text>\n",
       "</g>\n",
       "<!-- 7f18b00481e0&#45;&gt;7f18b0056d50 -->\n",
       "<g id=\"edge2\" class=\"edge\">\n",
       "<title>7f18b00481e0&#45;&gt;7f18b0056d50</title>\n",
       "<path fill=\"none\" stroke=\"black\" d=\"M125.34,-145.46C117.68,-136.95 107.99,-126.19 99.26,-116.48\"/>\n",
       "<polygon fill=\"black\" stroke=\"black\" points=\"101.89,-114.18 92.6,-109.09 96.69,-118.86 101.89,-114.18\"/>\n",
       "</g>\n",
       "<!-- 7f18b00481e0Offset -->\n",
       "<g id=\"node4\" class=\"node\">\n",
       "<title>7f18b00481e0Offset</title>\n",
       "<ellipse fill=\"none\" stroke=\"black\" cx=\"203.32\" cy=\"-90\" rx=\"36.48\" ry=\"18\"/>\n",
       "<text text-anchor=\"middle\" x=\"203.32\" y=\"-85.33\" font-family=\"Times,serif\" font-size=\"14.00\">&#45;0.25</text>\n",
       "</g>\n",
       "<!-- 7f18b00481e0&#45;&gt;7f18b00481e0Offset -->\n",
       "<g id=\"edge3\" class=\"edge\">\n",
       "<title>7f18b00481e0&#45;&gt;7f18b00481e0Offset</title>\n",
       "<path fill=\"none\" stroke=\"black\" d=\"M153.21,-145.81C161.4,-136.85 171.95,-125.32 181.25,-115.14\"/>\n",
       "<polygon fill=\"black\" stroke=\"black\" points=\"183.83,-117.5 188,-107.76 178.67,-112.78 183.83,-117.5\"/>\n",
       "</g>\n",
       "<!-- 7f18b00b1180 -->\n",
       "<g id=\"node5\" class=\"node\">\n",
       "<title>7f18b00b1180</title>\n",
       "<ellipse fill=\"none\" stroke=\"black\" cx=\"33.32\" cy=\"-18\" rx=\"33.32\" ry=\"18\"/>\n",
       "<text text-anchor=\"middle\" x=\"33.32\" y=\"-13.32\" font-family=\"Times,serif\" font-size=\"14.00\">1.00</text>\n",
       "</g>\n",
       "<!-- 7f18b0056d50&#45;&gt;7f18b00b1180 -->\n",
       "<g id=\"edge4\" class=\"edge\">\n",
       "<title>7f18b0056d50&#45;&gt;7f18b00b1180</title>\n",
       "<path fill=\"none\" stroke=\"black\" d=\"M65.91,-72.05C60.93,-63.94 54.85,-54.04 49.3,-45.01\"/>\n",
       "<polygon fill=\"black\" stroke=\"black\" points=\"52.35,-43.29 44.13,-36.6 46.38,-46.95 52.35,-43.29\"/>\n",
       "<text text-anchor=\"middle\" x=\"61.41\" y=\"-58.75\" font-family=\"Times,serif\" font-size=\"14.00\">Y</text>\n",
       "</g>\n",
       "<!-- Race -->\n",
       "<g id=\"node6\" class=\"node\">\n",
       "<title>Race</title>\n",
       "<ellipse fill=\"none\" stroke=\"black\" cx=\"120.32\" cy=\"-18\" rx=\"35.42\" ry=\"18\"/>\n",
       "<text text-anchor=\"middle\" x=\"120.32\" y=\"-13.32\" font-family=\"Times,serif\" font-size=\"14.00\">Race</text>\n",
       "</g>\n",
       "<!-- 7f18b0056d50&#45;&gt;Race -->\n",
       "<g id=\"edge5\" class=\"edge\">\n",
       "<title>7f18b0056d50&#45;&gt;Race</title>\n",
       "<path fill=\"none\" stroke=\"black\" d=\"M86.97,-72.05C92.07,-63.94 98.29,-54.04 103.97,-45.01\"/>\n",
       "<polygon fill=\"black\" stroke=\"black\" points=\"106.91,-46.92 109.26,-36.59 100.98,-43.19 106.91,-46.92\"/>\n",
       "<text text-anchor=\"middle\" x=\"92.07\" y=\"-39.26\" font-family=\"Times,serif\" font-size=\"14.00\">&#45;0.38</text>\n",
       "<text text-anchor=\"middle\" x=\"80.97\" y=\"-58.75\" font-family=\"Times,serif\" font-size=\"14.00\">N</text>\n",
       "</g>\n",
       "</g>\n",
       "</svg>\n"
      ],
      "text/plain": [
       "<graphviz.sources.Source at 0x7f18b8850320>"
      ]
     },
     "execution_count": 14,
     "metadata": {},
     "output_type": "execute_result"
    }
   ],
   "source": [
    "from pybrush import BrushClassifier\n",
    "from sklearn.preprocessing import StandardScaler\n",
    "\n",
    "# load data\n",
    "df = pd.read_csv('../examples/datasets/d_analcatdata_aids.csv')\n",
    "X = df.drop(columns='target')\n",
    "y = df['target']\n",
    "\n",
    "if True:\n",
    "    scl = StandardScaler().fit(X)\n",
    "    X = pd.DataFrame(scl.transform(X), columns=X.columns)\n",
    "\n",
    "est = BrushClassifier(\n",
    "    functions=['SplitOn', 'SplitBest', 'Sin','Cos','Exp'],\n",
    "    max_gens=100,\n",
    "    objectives=[\"error\", \"linear_complexity\"],  \n",
    "    scorer=\"average_precision_score\",\n",
    "    pop_size=100,\n",
    "    bandit='dynamic_thompson',\n",
    "    verbosity=1\n",
    ")\n",
    "\n",
    "est.fit(X,y)\n",
    "\n",
    "print(\"Best model:\", est.best_estimator_.get_model())\n",
    "print('score:', est.score(X,y))\n",
    "\n",
    "model = est.best_estimator_.get_dot_model()\n",
    "graphviz.Source(model)"
   ]
  },
  {
   "cell_type": "code",
   "execution_count": 15,
   "id": "6018bafe",
   "metadata": {},
   "outputs": [
    {
     "name": "stdout",
     "output_type": "stream",
     "text": [
      "Completed 100% [====================]\n",
      "saving final population as archive...\n",
      "Best model: Logistic(Sum(-0.62,If(AIDS>0.41,10.13,-0.70*Total)))\n",
      "score: 0.68\n"
     ]
    },
    {
     "data": {
      "image/svg+xml": [
       "<?xml version=\"1.0\" encoding=\"UTF-8\" standalone=\"no\"?>\n",
       "<!DOCTYPE svg PUBLIC \"-//W3C//DTD SVG 1.1//EN\"\n",
       " \"http://www.w3.org/Graphics/SVG/1.1/DTD/svg11.dtd\">\n",
       "<!-- Generated by graphviz version 9.0.0 (20231125.0833)\n",
       " -->\n",
       "<!-- Title: G Pages: 1 -->\n",
       "<svg width=\"258pt\" height=\"260pt\"\n",
       " viewBox=\"0.00 0.00 258.11 260.00\" xmlns=\"http://www.w3.org/2000/svg\" xmlns:xlink=\"http://www.w3.org/1999/xlink\">\n",
       "<g id=\"graph0\" class=\"graph\" transform=\"scale(1 1) rotate(0) translate(4 256)\">\n",
       "<title>G</title>\n",
       "<polygon fill=\"white\" stroke=\"none\" points=\"-4,4 -4,-256 254.11,-256 254.11,4 -4,4\"/>\n",
       "<!-- 7f18b00675c0 -->\n",
       "<g id=\"node1\" class=\"node\">\n",
       "<title>7f18b00675c0</title>\n",
       "<ellipse fill=\"none\" stroke=\"black\" cx=\"149.63\" cy=\"-234\" rx=\"50.68\" ry=\"18\"/>\n",
       "<text text-anchor=\"middle\" x=\"149.63\" y=\"-229.32\" font-family=\"Times,serif\" font-size=\"14.00\">Logistic</text>\n",
       "</g>\n",
       "<!-- 7f18b0067680 -->\n",
       "<g id=\"node2\" class=\"node\">\n",
       "<title>7f18b0067680</title>\n",
       "<ellipse fill=\"none\" stroke=\"black\" cx=\"149.63\" cy=\"-162\" rx=\"30.69\" ry=\"18\"/>\n",
       "<text text-anchor=\"middle\" x=\"149.63\" y=\"-157.32\" font-family=\"Times,serif\" font-size=\"14.00\">Add</text>\n",
       "</g>\n",
       "<!-- 7f18b00675c0&#45;&gt;7f18b0067680 -->\n",
       "<g id=\"edge1\" class=\"edge\">\n",
       "<title>7f18b00675c0&#45;&gt;7f18b0067680</title>\n",
       "<path fill=\"none\" stroke=\"black\" d=\"M149.63,-215.7C149.63,-208.41 149.63,-199.73 149.63,-191.54\"/>\n",
       "<polygon fill=\"black\" stroke=\"black\" points=\"153.13,-191.62 149.63,-181.62 146.13,-191.62 153.13,-191.62\"/>\n",
       "</g>\n",
       "<!-- 7f18b00c9030 -->\n",
       "<g id=\"node3\" class=\"node\">\n",
       "<title>7f18b00c9030</title>\n",
       "<ellipse fill=\"none\" stroke=\"black\" cx=\"86.63\" cy=\"-90\" rx=\"72.25\" ry=\"18\"/>\n",
       "<text text-anchor=\"middle\" x=\"86.63\" y=\"-85.33\" font-family=\"Times,serif\" font-size=\"14.00\">AIDS&gt;0.41?</text>\n",
       "</g>\n",
       "<!-- 7f18b0067680&#45;&gt;7f18b00c9030 -->\n",
       "<g id=\"edge2\" class=\"edge\">\n",
       "<title>7f18b0067680&#45;&gt;7f18b00c9030</title>\n",
       "<path fill=\"none\" stroke=\"black\" d=\"M135.65,-145.46C127.99,-136.95 118.3,-126.19 109.57,-116.48\"/>\n",
       "<polygon fill=\"black\" stroke=\"black\" points=\"112.2,-114.18 102.91,-109.09 107,-118.86 112.2,-114.18\"/>\n",
       "</g>\n",
       "<!-- 7f18b0067680Offset -->\n",
       "<g id=\"node4\" class=\"node\">\n",
       "<title>7f18b0067680Offset</title>\n",
       "<ellipse fill=\"none\" stroke=\"black\" cx=\"213.63\" cy=\"-90\" rx=\"36.48\" ry=\"18\"/>\n",
       "<text text-anchor=\"middle\" x=\"213.63\" y=\"-85.33\" font-family=\"Times,serif\" font-size=\"14.00\">&#45;0.62</text>\n",
       "</g>\n",
       "<!-- 7f18b0067680&#45;&gt;7f18b0067680Offset -->\n",
       "<g id=\"edge3\" class=\"edge\">\n",
       "<title>7f18b0067680&#45;&gt;7f18b0067680Offset</title>\n",
       "<path fill=\"none\" stroke=\"black\" d=\"M163.52,-145.81C171.71,-136.85 182.26,-125.32 191.56,-115.14\"/>\n",
       "<polygon fill=\"black\" stroke=\"black\" points=\"194.14,-117.5 198.31,-107.76 188.98,-112.78 194.14,-117.5\"/>\n",
       "</g>\n",
       "<!-- 7f18b00678e0 -->\n",
       "<g id=\"node5\" class=\"node\">\n",
       "<title>7f18b00678e0</title>\n",
       "<ellipse fill=\"none\" stroke=\"black\" cx=\"39.63\" cy=\"-18\" rx=\"39.63\" ry=\"18\"/>\n",
       "<text text-anchor=\"middle\" x=\"39.63\" y=\"-13.32\" font-family=\"Times,serif\" font-size=\"14.00\">10.13</text>\n",
       "</g>\n",
       "<!-- 7f18b00c9030&#45;&gt;7f18b00678e0 -->\n",
       "<g id=\"edge4\" class=\"edge\">\n",
       "<title>7f18b00c9030&#45;&gt;7f18b00678e0</title>\n",
       "<path fill=\"none\" stroke=\"black\" d=\"M75.26,-72.05C69.75,-63.85 63.02,-53.83 56.9,-44.71\"/>\n",
       "<polygon fill=\"black\" stroke=\"black\" points=\"59.91,-42.91 51.43,-36.56 54.09,-46.82 59.91,-42.91\"/>\n",
       "<text text-anchor=\"middle\" x=\"70.76\" y=\"-58.75\" font-family=\"Times,serif\" font-size=\"14.00\">Y</text>\n",
       "</g>\n",
       "<!-- Total -->\n",
       "<g id=\"node6\" class=\"node\">\n",
       "<title>Total</title>\n",
       "<ellipse fill=\"none\" stroke=\"black\" cx=\"133.63\" cy=\"-18\" rx=\"35.95\" ry=\"18\"/>\n",
       "<text text-anchor=\"middle\" x=\"133.63\" y=\"-13.32\" font-family=\"Times,serif\" font-size=\"14.00\">Total</text>\n",
       "</g>\n",
       "<!-- 7f18b00c9030&#45;&gt;Total -->\n",
       "<g id=\"edge5\" class=\"edge\">\n",
       "<title>7f18b00c9030&#45;&gt;Total</title>\n",
       "<path fill=\"none\" stroke=\"black\" d=\"M98.01,-72.05C103.52,-63.85 110.25,-53.83 116.37,-44.71\"/>\n",
       "<polygon fill=\"black\" stroke=\"black\" points=\"119.17,-46.82 121.84,-36.56 113.36,-42.91 119.17,-46.82\"/>\n",
       "<text text-anchor=\"middle\" x=\"104.68\" y=\"-39.26\" font-family=\"Times,serif\" font-size=\"14.00\">&#45;0.70</text>\n",
       "<text text-anchor=\"middle\" x=\"92.01\" y=\"-58.75\" font-family=\"Times,serif\" font-size=\"14.00\">N</text>\n",
       "</g>\n",
       "</g>\n",
       "</svg>\n"
      ],
      "text/plain": [
       "<graphviz.sources.Source at 0x7f18b8805fa0>"
      ]
     },
     "execution_count": 15,
     "metadata": {},
     "output_type": "execute_result"
    }
   ],
   "source": [
    "\n",
    "est = BrushClassifier(\n",
    "    # functions=['SplitOn', 'SplitBest', 'Sin','Cos','Exp'],\n",
    "    max_gens=100,\n",
    "    objectives=[\"error\", \"complexity\"],  \n",
    "    scorer=\"log\",\n",
    "    pop_size=100,\n",
    "    bandit='dynamic_thompson',\n",
    "    verbosity=1\n",
    ")\n",
    "\n",
    "est.fit(X,y)\n",
    "\n",
    "print(\"Best model:\", est.best_estimator_.get_model())\n",
    "print('score:', est.score(X,y))\n",
    "\n",
    "model = est.best_estimator_.get_dot_model()\n",
    "graphviz.Source(model)"
   ]
  },
  {
   "cell_type": "code",
   "execution_count": 16,
   "id": "03e77e47",
   "metadata": {},
   "outputs": [
    {
     "name": "stdout",
     "output_type": "stream",
     "text": [
      "Logistic\n",
      "|- -0.62+Sum\n",
      "|  |- If(AIDS>0.41)\n",
      "|  |  |- 10.13\n",
      "|  |  |- -0.70*Total\n"
     ]
    }
   ],
   "source": [
    "print(est.best_estimator_.get_model(\"tree\"))"
   ]
  }
 ],
 "metadata": {
  "kernelspec": {
   "display_name": "brush",
   "language": "python",
   "name": "python3"
  },
  "language_info": {
   "codemirror_mode": {
    "name": "ipython",
    "version": 3
   },
   "file_extension": ".py",
   "mimetype": "text/x-python",
   "name": "python",
   "nbconvert_exporter": "python",
   "pygments_lexer": "ipython3",
   "version": "3.12.2"
  }
 },
 "nbformat": 4,
 "nbformat_minor": 5
}
