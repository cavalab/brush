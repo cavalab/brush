{
 "cells": [
  {
   "cell_type": "markdown",
   "id": "e9776d12",
   "metadata": {},
   "source": [
    "# Working with Programs\n",
    "\n",
    "In Brush, a *Program* is an executable data structure. \n",
    "You may think of it as a *model* or a *function* mapping feature inputs to data labels. \n",
    "We call them programs because that's what they are: executable data structures,  \n",
    "and that is what they are called in the genetic algorithm literature, to distinguish them from optimizing bits or strings. \n",
    "\n",
    "The Brush Program class operates similarly to a [sklearn](scikit-learn.org) estimator: it has `fit` and `predict` methods that are called in during training or inference, respectively. \n",
    "\n",
    "\n",
    "## Types of Programs \n",
    "\n",
    "There are four fundamental \"types\" of Brush programs:\n",
    "\n",
    "- **Regressors**: map inputs to a continous endpoint \n",
    "- **Binary Classifiers**: map inputs to a binary endpoint, as well as a continuous value in $[0, 1]$  \n",
    "- **Multi-class Classifiers**: map inputs to a category\n",
    "    - Under development\n",
    "- **Representors**: map inputs to a lower dimensional space. \n",
    "    - Under development\n",
    "\n",
    "## Representation \n",
    "\n",
    "Internally, the programs are represented as syntax trees. \n",
    "We use the [tree.hh tree class](https://github.com/kpeeters/tree.hh) which gives trees an STL-like feel. \n",
    "\n",
    "\n",
    "\n",
    "## Generation\n",
    "\n",
    "We generate random programs using Sean Luke's PTC2 algorithm.  \n",
    "\n",
    "\n",
    "## Evaluation\n",
    "\n",
    "TODO\n",
    "\n",
    "\n"
   ]
  },
  {
   "cell_type": "markdown",
   "id": "8c258669",
   "metadata": {},
   "source": [
    "## Visualizing Programs\n",
    "\n",
    "Programs in Brush are symbolic tree structures, and can be viewed in a few ways: \n",
    "\n",
    "\n",
    "1. As a string using `get_model()`\n",
    "2. As a string-like tree using `get_model(\"tree\")`\n",
    "2. As a graph using `graphviz` and `get_model(\"dot\")`. \n",
    "\n",
    "Let's look at a regresion example."
   ]
  },
  {
   "cell_type": "code",
   "execution_count": 1,
   "id": "102e3fcb",
   "metadata": {
    "tags": [
     "remove-output"
    ]
   },
   "outputs": [],
   "source": [
    "import pandas as pd\n",
    "from pybrush import BrushRegressor\n",
    "\n",
    "# load data\n",
    "df = pd.read_csv('../examples/datasets/d_enc.csv')\n",
    "X = df.drop(columns='label')\n",
    "y = df['label']"
   ]
  },
  {
   "cell_type": "code",
   "execution_count": 2,
   "id": "ac39c9ca",
   "metadata": {},
   "outputs": [
    {
     "name": "stdout",
     "output_type": "stream",
     "text": [
      "Completed 100% [====================]\n",
      "saving final population as archive...\n",
      "score: 0.8853105829226801\n"
     ]
    }
   ],
   "source": [
    "# import and make a regressor\n",
    "est = BrushRegressor(\n",
    "    functions=['SplitBest','Add','Mul','Sin','Cos','Exp','Logabs'],\n",
    "    verbosity=1 # set verbosity==1 to see a progress bar\n",
    ")\n",
    "\n",
    "# use like you would a sklearn regressor\n",
    "est.fit(X,y)\n",
    "y_pred = est.predict(X)\n",
    "print('score:', est.score(X,y))"
   ]
  },
  {
   "cell_type": "markdown",
   "id": "5bbd24cd",
   "metadata": {},
   "source": [
    "You can see the fitness of the final individual by accessing the `fitness` attribute. Each fitness value corresponds to the objective of same index defined earlier for the `BrushRegressor` class. By default, it will try to minimize `\"error\"` and `\"size\"`."
   ]
  },
  {
   "cell_type": "code",
   "execution_count": 3,
   "id": "166415c2",
   "metadata": {},
   "outputs": [
    {
     "name": "stdout",
     "output_type": "stream",
     "text": [
      "Fitness(10.366219 18.000000 )\n",
      "['error', 'size']\n"
     ]
    }
   ],
   "source": [
    "print(est.best_estimator_.fitness)\n",
    "print(est.objectives)"
   ]
  },
  {
   "cell_type": "markdown",
   "id": "38b6364e",
   "metadata": {},
   "source": [
    "A `fitness` in Brush is actually more than a tuple. It is a class that has all boolean comparison operators overloaded to allow an ease of use when prototyping with Brush.\n",
    "\n",
    "It also infers the weight of each objective to automatically handle minimization or maximization objetives.\n",
    "\n",
    "To see the weights, you can try:"
   ]
  },
  {
   "cell_type": "code",
   "execution_count": 4,
   "id": "13d0ac5f",
   "metadata": {},
   "outputs": [
    {
     "data": {
      "text/plain": [
       "[-1.0, -1.0]"
      ]
     },
     "execution_count": 4,
     "metadata": {},
     "output_type": "execute_result"
    }
   ],
   "source": [
    "est.best_estimator_.fitness.weights"
   ]
  },
  {
   "cell_type": "markdown",
   "id": "2fc9fe80",
   "metadata": {},
   "source": [
    "Other information of the best estimator can also be accessed through its fitness attribute:"
   ]
  },
  {
   "cell_type": "code",
   "execution_count": 5,
   "id": "de5255e7",
   "metadata": {},
   "outputs": [
    {
     "name": "stdout",
     "output_type": "stream",
     "text": [
      "18\n",
      "8024\n",
      "3\n"
     ]
    }
   ],
   "source": [
    "print(est.best_estimator_.fitness.size)\n",
    "print(est.best_estimator_.fitness.complexity)\n",
    "print(est.best_estimator_.fitness.depth)"
   ]
  },
  {
   "cell_type": "markdown",
   "id": "fe594691",
   "metadata": {},
   "source": [
    "## Serialization \n",
    "\n",
    "Brush let's you serialize the entire individual, or just the program or fitness it wraps. It uses JSON to serialize the objects, and this is implemented with the get and set states of an object:"
   ]
  },
  {
   "cell_type": "code",
   "execution_count": 6,
   "id": "b01ab1fa",
   "metadata": {},
   "outputs": [
    {
     "name": "stdout",
     "output_type": "stream",
     "text": [
      "fitness {'complexity': 8024, 'crowding_dist': 3.4028234663852886e+38, 'dcounter': 0, 'depth': 3, 'dominated': [122], 'linear_complexity': 46, 'loss': 10.366218566894531, 'loss_v': 10.366218566894531, 'rank': 1, 'size': 18, 'values': [10.366218566894531, 18.0], 'weights': [-1.0, -1.0], 'wvalues': [-10.366218566894531, -18.0]}\n",
      "id 235\n",
      "objectives ['mse', 'size']\n",
      "parent_id [222]\n",
      "program {'Tree': [{'W': 0.19512075185775757, 'arg_types': ['ArrayF', 'ArrayF'], 'center_op': True, 'feature': '', 'fixed': False, 'is_weighted': True, 'name': 'Add', 'node_type': 'Add', 'prob_change': 1.0, 'ret_type': 'ArrayF', 'sig_dual_hash': 9996486434638833164, 'sig_hash': 10001460114883919497}, {'W': 0.75, 'arg_types': ['ArrayF', 'ArrayF'], 'center_op': True, 'feature': 'x0', 'fixed': False, 'is_weighted': True, 'name': 'SplitBest', 'node_type': 'SplitBest', 'prob_change': 1.0, 'ret_type': 'ArrayF', 'sig_dual_hash': 9996486434638833164, 'sig_hash': 10001460114883919497}, {'W': 0.2551078498363495, 'arg_types': [], 'center_op': False, 'feature': 'x1', 'fixed': False, 'is_weighted': True, 'name': 'Terminal', 'node_type': 'Terminal', 'prob_change': 0.6729995608329773, 'ret_type': 'ArrayF', 'sig_dual_hash': 509529941281334733, 'sig_hash': 17717457037689164349}, {'W': 0.08670751005411148, 'arg_types': [], 'center_op': False, 'feature': 'x1', 'fixed': False, 'is_weighted': True, 'name': 'Terminal', 'node_type': 'Terminal', 'prob_change': 0.6729995608329773, 'ret_type': 'ArrayF', 'sig_dual_hash': 509529941281334733, 'sig_hash': 17717457037689164349}, {'W': 75.2149658203125, 'arg_types': [], 'center_op': False, 'feature': 'x6', 'fixed': False, 'is_weighted': True, 'name': 'Terminal', 'node_type': 'Terminal', 'prob_change': 0.20750471949577332, 'ret_type': 'ArrayF', 'sig_dual_hash': 509529941281334733, 'sig_hash': 17717457037689164349}], 'is_fitted_': True}\n",
      "variation delete\n"
     ]
    }
   ],
   "source": [
    "estimator_dict = est.best_estimator_.__getstate__()\n",
    "\n",
    "for k, v in estimator_dict.items():\n",
    "    print(k, v)"
   ]
  },
  {
   "cell_type": "markdown",
   "id": "6bcb071b",
   "metadata": {},
   "source": [
    "With serialization, you can use pickle to save and load just programs or even the entire individual."
   ]
  },
  {
   "cell_type": "code",
   "execution_count": 7,
   "id": "b4537631",
   "metadata": {},
   "outputs": [],
   "source": [
    "import pickle\n",
    "import os, tempfile\n",
    "\n",
    "individual_file = os.path.join(tempfile.mkdtemp(), 'individual.json')\n",
    "with open(individual_file, \"wb\") as f:\n",
    "    pickle.dump(est.best_estimator_, f)\n",
    "\n",
    "program_file = os.path.join(tempfile.mkdtemp(), 'program.json')\n",
    "with open(program_file, \"wb\") as f:\n",
    "    pickle.dump(est.best_estimator_.program, f)"
   ]
  },
  {
   "cell_type": "markdown",
   "id": "fff5693d",
   "metadata": {},
   "source": [
    "Then we can load it later with:"
   ]
  },
  {
   "cell_type": "code",
   "execution_count": 8,
   "id": "ee7a20c6",
   "metadata": {},
   "outputs": [
    {
     "name": "stdout",
     "output_type": "stream",
     "text": [
      "0.20*Add(If(x0>0.75,0.26*x1,0.09*x1),75.21*x6)\n"
     ]
    }
   ],
   "source": [
    "with open(individual_file, \"rb\") as f:\n",
    "    loaded_estimator = pickle.load(f)\n",
    "    print(loaded_estimator.get_model())"
   ]
  },
  {
   "cell_type": "markdown",
   "id": "a355d8f3",
   "metadata": {},
   "source": [
    "### String\n",
    "\n",
    "Now that we have trained a model, `est.best_estimator_` contains our symbolic model. \n",
    "We can view it as a string:"
   ]
  },
  {
   "cell_type": "code",
   "execution_count": 9,
   "id": "316964d5",
   "metadata": {},
   "outputs": [
    {
     "name": "stdout",
     "output_type": "stream",
     "text": [
      "0.20*Add(If(x0>0.75,0.26*x1,0.09*x1),75.21*x6)\n"
     ]
    }
   ],
   "source": [
    "print(est.best_estimator_.get_model())"
   ]
  },
  {
   "cell_type": "markdown",
   "id": "e7d578bb",
   "metadata": {},
   "source": [
    "### Quick Little Tree\n",
    "\n",
    "Or, we can view it as a compact tree:"
   ]
  },
  {
   "cell_type": "code",
   "execution_count": 10,
   "id": "dad68d01",
   "metadata": {},
   "outputs": [
    {
     "name": "stdout",
     "output_type": "stream",
     "text": [
      "0.20*Add\n",
      "|-0.75*SplitBest\n",
      "  |-0.26*x1\n",
      "  |-0.09*x1\n",
      "|-75.21*x6\n"
     ]
    }
   ],
   "source": [
    "print(est.best_estimator_.get_model(\"tree\"))"
   ]
  },
  {
   "cell_type": "markdown",
   "id": "90068143",
   "metadata": {},
   "source": [
    "### GraphViz\n",
    "\n",
    "If we are feeling fancy 🎩, we can also view it as a graph in dot format. \n",
    "Let's import graphviz and make a nicer plot."
   ]
  },
  {
   "cell_type": "code",
   "execution_count": 11,
   "id": "3ef1a735",
   "metadata": {},
   "outputs": [
    {
     "data": {
      "image/svg+xml": [
       "<?xml version=\"1.0\" encoding=\"UTF-8\" standalone=\"no\"?>\n",
       "<!DOCTYPE svg PUBLIC \"-//W3C//DTD SVG 1.1//EN\"\n",
       " \"http://www.w3.org/Graphics/SVG/1.1/DTD/svg11.dtd\">\n",
       "<!-- Generated by graphviz version 9.0.0 (20231125.0833)\n",
       " -->\n",
       "<!-- Title: G Pages: 1 -->\n",
       "<svg width=\"201pt\" height=\"296pt\"\n",
       " viewBox=\"0.00 0.00 200.60 295.50\" xmlns=\"http://www.w3.org/2000/svg\" xmlns:xlink=\"http://www.w3.org/1999/xlink\">\n",
       "<g id=\"graph0\" class=\"graph\" transform=\"scale(1 1) rotate(0) translate(4 291.5)\">\n",
       "<title>G</title>\n",
       "<polygon fill=\"white\" stroke=\"none\" points=\"-4,4 -4,-291.5 196.6,-291.5 196.6,4 -4,4\"/>\n",
       "<!-- y -->\n",
       "<g id=\"node1\" class=\"node\">\n",
       "<title>y</title>\n",
       "<polygon fill=\"none\" stroke=\"black\" points=\"164.1,-287.5 110.1,-287.5 110.1,-251.5 164.1,-251.5 164.1,-287.5\"/>\n",
       "<text text-anchor=\"middle\" x=\"137.1\" y=\"-264.82\" font-family=\"Times,serif\" font-size=\"14.00\">y</text>\n",
       "</g>\n",
       "<!-- 7f26340ccf60 -->\n",
       "<g id=\"node2\" class=\"node\">\n",
       "<title>7f26340ccf60</title>\n",
       "<ellipse fill=\"none\" stroke=\"black\" cx=\"137.1\" cy=\"-180.25\" rx=\"30.69\" ry=\"18\"/>\n",
       "<text text-anchor=\"middle\" x=\"137.1\" y=\"-175.57\" font-family=\"Times,serif\" font-size=\"14.00\">Add</text>\n",
       "</g>\n",
       "<!-- y&#45;&gt;7f26340ccf60 -->\n",
       "<g id=\"edge1\" class=\"edge\">\n",
       "<title>y&#45;&gt;7f26340ccf60</title>\n",
       "<path fill=\"none\" stroke=\"black\" d=\"M137.1,-251.26C137.1,-239.43 137.1,-223.45 137.1,-209.75\"/>\n",
       "<polygon fill=\"black\" stroke=\"black\" points=\"140.6,-209.97 137.1,-199.97 133.6,-209.97 140.6,-209.97\"/>\n",
       "<text text-anchor=\"middle\" x=\"152.85\" y=\"-220.2\" font-family=\"Times,serif\" font-size=\"14.00\">0.20</text>\n",
       "</g>\n",
       "<!-- 7f26340ccde0 -->\n",
       "<g id=\"node3\" class=\"node\">\n",
       "<title>7f26340ccde0</title>\n",
       "<ellipse fill=\"none\" stroke=\"black\" cx=\"59.1\" cy=\"-91\" rx=\"59.1\" ry=\"18\"/>\n",
       "<text text-anchor=\"middle\" x=\"59.1\" y=\"-86.33\" font-family=\"Times,serif\" font-size=\"14.00\">x0&gt;0.75?</text>\n",
       "</g>\n",
       "<!-- 7f26340ccf60&#45;&gt;7f26340ccde0 -->\n",
       "<g id=\"edge2\" class=\"edge\">\n",
       "<title>7f26340ccf60&#45;&gt;7f26340ccde0</title>\n",
       "<path fill=\"none\" stroke=\"black\" d=\"M123.51,-164.05C111.98,-151.16 95.2,-132.39 81.66,-117.24\"/>\n",
       "<polygon fill=\"black\" stroke=\"black\" points=\"84.41,-115.06 75.14,-109.94 79.19,-119.73 84.41,-115.06\"/>\n",
       "</g>\n",
       "<!-- x6 -->\n",
       "<g id=\"node4\" class=\"node\">\n",
       "<title>x6</title>\n",
       "<ellipse fill=\"none\" stroke=\"black\" cx=\"163.1\" cy=\"-91\" rx=\"27\" ry=\"18\"/>\n",
       "<text text-anchor=\"middle\" x=\"163.1\" y=\"-86.33\" font-family=\"Times,serif\" font-size=\"14.00\">x6</text>\n",
       "</g>\n",
       "<!-- 7f26340ccf60&#45;&gt;x6 -->\n",
       "<g id=\"edge3\" class=\"edge\">\n",
       "<title>7f26340ccf60&#45;&gt;x6</title>\n",
       "<path fill=\"none\" stroke=\"black\" d=\"M142.24,-162.01C145.82,-149.98 150.68,-133.67 154.81,-119.82\"/>\n",
       "<polygon fill=\"black\" stroke=\"black\" points=\"158.13,-120.94 157.63,-110.36 151.42,-118.94 158.13,-120.94\"/>\n",
       "<text text-anchor=\"middle\" x=\"172.35\" y=\"-130.95\" font-family=\"Times,serif\" font-size=\"14.00\">75.21</text>\n",
       "</g>\n",
       "<!-- x1 -->\n",
       "<g id=\"node5\" class=\"node\">\n",
       "<title>x1</title>\n",
       "<ellipse fill=\"none\" stroke=\"black\" cx=\"59.1\" cy=\"-18\" rx=\"27\" ry=\"18\"/>\n",
       "<text text-anchor=\"middle\" x=\"59.1\" y=\"-13.32\" font-family=\"Times,serif\" font-size=\"14.00\">x1</text>\n",
       "</g>\n",
       "<!-- 7f26340ccde0&#45;&gt;x1 -->\n",
       "<g id=\"edge4\" class=\"edge\">\n",
       "<title>7f26340ccde0&#45;&gt;x1</title>\n",
       "<path fill=\"none\" stroke=\"black\" d=\"M53.22,-72.81C52.42,-65.14 52.17,-55.89 52.48,-47.24\"/>\n",
       "<polygon fill=\"black\" stroke=\"black\" points=\"55.95,-47.75 53.14,-37.54 48.97,-47.28 55.95,-47.75\"/>\n",
       "<text text-anchor=\"middle\" x=\"37.49\" y=\"-39.98\" font-family=\"Times,serif\" font-size=\"14.00\">0.26</text>\n",
       "<text text-anchor=\"middle\" x=\"48.72\" y=\"-59.51\" font-family=\"Times,serif\" font-size=\"14.00\">Y</text>\n",
       "</g>\n",
       "<!-- 7f26340ccde0&#45;&gt;x1 -->\n",
       "<g id=\"edge5\" class=\"edge\">\n",
       "<title>7f26340ccde0&#45;&gt;x1</title>\n",
       "<path fill=\"none\" stroke=\"black\" d=\"M64.98,-72.81C65.78,-65.14 66.03,-55.89 65.72,-47.24\"/>\n",
       "<polygon fill=\"black\" stroke=\"black\" points=\"69.23,-47.28 65.06,-37.54 62.25,-47.75 69.23,-47.28\"/>\n",
       "<text text-anchor=\"middle\" x=\"80.71\" y=\"-39.98\" font-family=\"Times,serif\" font-size=\"14.00\">0.09</text>\n",
       "<text text-anchor=\"middle\" x=\"70.98\" y=\"-59.51\" font-family=\"Times,serif\" font-size=\"14.00\">N</text>\n",
       "</g>\n",
       "</g>\n",
       "</svg>\n"
      ],
      "text/plain": [
       "<graphviz.sources.Source at 0x7f2639bc0bf0>"
      ]
     },
     "execution_count": 11,
     "metadata": {},
     "output_type": "execute_result"
    }
   ],
   "source": [
    "import graphviz\n",
    "\n",
    "model = est.best_estimator_.get_model(\"dot\")\n",
    "graphviz.Source(model)"
   ]
  },
  {
   "cell_type": "markdown",
   "id": "a2f93509",
   "metadata": {},
   "source": [
    "The `model` variable is now a little program in the [dot language](https://graphviz.org/docs/layouts/dot/), which we can inspect directly. "
   ]
  },
  {
   "cell_type": "code",
   "execution_count": 12,
   "id": "1f7e725e",
   "metadata": {},
   "outputs": [
    {
     "name": "stdout",
     "output_type": "stream",
     "text": [
      "digraph G {\n",
      "y [shape=box];\n",
      "y -> \"7f26340ccf60\" [label=\"0.20\"];\n",
      "\"7f26340ccf60\" [label=\"Add\"];\n",
      "\"7f26340ccf60\" -> \"7f26340ccde0\" [label=\"\"];\n",
      "\"7f26340ccf60\" -> \"x6\" [label=\"75.21\"];\n",
      "\"7f26340ccde0\" [label=\"x0>0.75?\"];\n",
      "\"7f26340ccde0\" -> \"x1\" [headlabel=\"0.26\",taillabel=\"Y\"];\n",
      "\"7f26340ccde0\" -> \"x1\" [headlabel=\"0.09\",taillabel=\"N\"];\n",
      "\"x1\" [label=\"x1\"];\n",
      "\"x1\" [label=\"x1\"];\n",
      "\"x6\" [label=\"x6\"];\n",
      "}\n",
      "\n"
     ]
    }
   ],
   "source": [
    "print(model)"
   ]
  },
  {
   "cell_type": "markdown",
   "id": "b9c0154a",
   "metadata": {},
   "source": [
    "### Tweaking Graphs\n",
    "\n",
    "The [dot manual](https://graphviz.org/docs/layouts/dot/) has lots of options for tweaking the graphs. \n",
    "You can do this by manually editing `model`, but brush also provides a function, `get_dot_model()`, to which you can pass additional arguments to dot. \n",
    "\n",
    "For example, let's view the graph from Left-to-Right: "
   ]
  },
  {
   "cell_type": "code",
   "execution_count": 13,
   "id": "f35b1e05",
   "metadata": {},
   "outputs": [
    {
     "data": {
      "image/svg+xml": [
       "<?xml version=\"1.0\" encoding=\"UTF-8\" standalone=\"no\"?>\n",
       "<!DOCTYPE svg PUBLIC \"-//W3C//DTD SVG 1.1//EN\"\n",
       " \"http://www.w3.org/Graphics/SVG/1.1/DTD/svg11.dtd\">\n",
       "<!-- Generated by graphviz version 9.0.0 (20231125.0833)\n",
       " -->\n",
       "<!-- Title: G Pages: 1 -->\n",
       "<svg width=\"477pt\" height=\"104pt\"\n",
       " viewBox=\"0.00 0.00 476.58 103.97\" xmlns=\"http://www.w3.org/2000/svg\" xmlns:xlink=\"http://www.w3.org/1999/xlink\">\n",
       "<g id=\"graph0\" class=\"graph\" transform=\"scale(1 1) rotate(0) translate(4 99.97)\">\n",
       "<title>G</title>\n",
       "<polygon fill=\"white\" stroke=\"none\" points=\"-4,4 -4,-99.97 472.58,-99.97 472.58,4 -4,4\"/>\n",
       "<!-- y -->\n",
       "<g id=\"node1\" class=\"node\">\n",
       "<title>y</title>\n",
       "<polygon fill=\"none\" stroke=\"black\" points=\"54,-52 0,-52 0,-16 54,-16 54,-52\"/>\n",
       "<text text-anchor=\"middle\" x=\"27\" y=\"-29.32\" font-family=\"Times,serif\" font-size=\"14.00\">y</text>\n",
       "</g>\n",
       "<!-- 7f26340ccf60 -->\n",
       "<g id=\"node2\" class=\"node\">\n",
       "<title>7f26340ccf60</title>\n",
       "<ellipse fill=\"none\" stroke=\"black\" cx=\"152.19\" cy=\"-34\" rx=\"30.69\" ry=\"18\"/>\n",
       "<text text-anchor=\"middle\" x=\"152.19\" y=\"-29.32\" font-family=\"Times,serif\" font-size=\"14.00\">Add</text>\n",
       "</g>\n",
       "<!-- y&#45;&gt;7f26340ccf60 -->\n",
       "<g id=\"edge1\" class=\"edge\">\n",
       "<title>y&#45;&gt;7f26340ccf60</title>\n",
       "<path fill=\"none\" stroke=\"black\" d=\"M54.43,-34C70.63,-34 91.71,-34 110.05,-34\"/>\n",
       "<polygon fill=\"black\" stroke=\"black\" points=\"109.83,-37.5 119.83,-34 109.83,-30.5 109.83,-37.5\"/>\n",
       "<text text-anchor=\"middle\" x=\"87.75\" y=\"-37.95\" font-family=\"Times,serif\" font-size=\"14.00\">0.20</text>\n",
       "</g>\n",
       "<!-- 7f26340ccde0 -->\n",
       "<g id=\"node3\" class=\"node\">\n",
       "<title>7f26340ccde0</title>\n",
       "<ellipse fill=\"none\" stroke=\"black\" cx=\"318.48\" cy=\"-72\" rx=\"59.1\" ry=\"18\"/>\n",
       "<text text-anchor=\"middle\" x=\"318.48\" y=\"-67.33\" font-family=\"Times,serif\" font-size=\"14.00\">x0&gt;0.75?</text>\n",
       "</g>\n",
       "<!-- 7f26340ccf60&#45;&gt;7f26340ccde0 -->\n",
       "<g id=\"edge2\" class=\"edge\">\n",
       "<title>7f26340ccf60&#45;&gt;7f26340ccde0</title>\n",
       "<path fill=\"none\" stroke=\"black\" d=\"M180.36,-41.68C187.05,-43.5 194.21,-45.38 200.88,-47 219.12,-51.44 239.07,-55.87 257.23,-59.74\"/>\n",
       "<polygon fill=\"black\" stroke=\"black\" points=\"256.28,-63.12 266.79,-61.76 257.73,-56.27 256.28,-63.12\"/>\n",
       "</g>\n",
       "<!-- x6 -->\n",
       "<g id=\"node4\" class=\"node\">\n",
       "<title>x6</title>\n",
       "<ellipse fill=\"none\" stroke=\"black\" cx=\"318.48\" cy=\"-18\" rx=\"27\" ry=\"18\"/>\n",
       "<text text-anchor=\"middle\" x=\"318.48\" y=\"-13.32\" font-family=\"Times,serif\" font-size=\"14.00\">x6</text>\n",
       "</g>\n",
       "<!-- 7f26340ccf60&#45;&gt;x6 -->\n",
       "<g id=\"edge3\" class=\"edge\">\n",
       "<title>7f26340ccf60&#45;&gt;x6</title>\n",
       "<path fill=\"none\" stroke=\"black\" d=\"M182.94,-31.1C210.29,-28.44 250.93,-24.48 280.39,-21.61\"/>\n",
       "<polygon fill=\"black\" stroke=\"black\" points=\"280.35,-25.13 289.96,-20.68 279.67,-18.17 280.35,-25.13\"/>\n",
       "<text text-anchor=\"middle\" x=\"221.13\" y=\"-33.95\" font-family=\"Times,serif\" font-size=\"14.00\">75.21</text>\n",
       "</g>\n",
       "<!-- x1 -->\n",
       "<g id=\"node5\" class=\"node\">\n",
       "<title>x1</title>\n",
       "<ellipse fill=\"none\" stroke=\"black\" cx=\"441.58\" cy=\"-72\" rx=\"27\" ry=\"18\"/>\n",
       "<text text-anchor=\"middle\" x=\"441.58\" y=\"-67.33\" font-family=\"Times,serif\" font-size=\"14.00\">x1</text>\n",
       "</g>\n",
       "<!-- 7f26340ccde0&#45;&gt;x1 -->\n",
       "<g id=\"edge4\" class=\"edge\">\n",
       "<title>7f26340ccde0&#45;&gt;x1</title>\n",
       "<path fill=\"none\" stroke=\"black\" d=\"M374.01,-65.28C384.16,-65.18 394.54,-65.33 403.99,-65.74\"/>\n",
       "<polygon fill=\"black\" stroke=\"black\" points=\"403.68,-69.23 413.87,-66.31 404.09,-62.24 403.68,-69.23\"/>\n",
       "<text text-anchor=\"middle\" x=\"399.63\" y=\"-53.1\" font-family=\"Times,serif\" font-size=\"14.00\">0.26</text>\n",
       "<text text-anchor=\"middle\" x=\"378.51\" y=\"-51.98\" font-family=\"Times,serif\" font-size=\"14.00\">Y</text>\n",
       "</g>\n",
       "<!-- 7f26340ccde0&#45;&gt;x1 -->\n",
       "<g id=\"edge5\" class=\"edge\">\n",
       "<title>7f26340ccde0&#45;&gt;x1</title>\n",
       "<path fill=\"none\" stroke=\"black\" d=\"M374.01,-78.72C384.16,-78.82 394.54,-78.67 403.99,-78.26\"/>\n",
       "<polygon fill=\"black\" stroke=\"black\" points=\"404.09,-81.76 413.87,-77.69 403.68,-74.77 404.09,-81.76\"/>\n",
       "<text text-anchor=\"middle\" x=\"399.63\" y=\"-81.55\" font-family=\"Times,serif\" font-size=\"14.00\">0.09</text>\n",
       "<text text-anchor=\"middle\" x=\"380.01\" y=\"-82.67\" font-family=\"Times,serif\" font-size=\"14.00\">N</text>\n",
       "</g>\n",
       "</g>\n",
       "</svg>\n"
      ],
      "text/plain": [
       "<graphviz.sources.Source at 0x7f2639be71d0>"
      ]
     },
     "execution_count": 13,
     "metadata": {},
     "output_type": "execute_result"
    }
   ],
   "source": [
    "model = est.best_estimator_.get_dot_model(\"rankdir=LR;\")\n",
    "graphviz.Source(model)"
   ]
  },
  {
   "cell_type": "markdown",
   "id": "512434e7",
   "metadata": {},
   "source": [
    "### A classification example"
   ]
  },
  {
   "cell_type": "code",
   "execution_count": 26,
   "id": "4ca564f3",
   "metadata": {},
   "outputs": [
    {
     "name": "stdout",
     "output_type": "stream",
     "text": [
      "Completed 100% [====================]\n",
      "saving final population as archive...\n",
      "Best model: Logistic(Sum(0.8313863,If(AIDS>0.41,1.00 (MeanLabel),AIDS)))\n",
      "score: 0.5\n"
     ]
    },
    {
     "data": {
      "image/svg+xml": [
       "<?xml version=\"1.0\" encoding=\"UTF-8\" standalone=\"no\"?>\n",
       "<!DOCTYPE svg PUBLIC \"-//W3C//DTD SVG 1.1//EN\"\n",
       " \"http://www.w3.org/Graphics/SVG/1.1/DTD/svg11.dtd\">\n",
       "<!-- Generated by graphviz version 9.0.0 (20231125.0833)\n",
       " -->\n",
       "<!-- Title: G Pages: 1 -->\n",
       "<svg width=\"404pt\" height=\"260pt\"\n",
       " viewBox=\"0.00 0.00 403.97 260.00\" xmlns=\"http://www.w3.org/2000/svg\" xmlns:xlink=\"http://www.w3.org/1999/xlink\">\n",
       "<g id=\"graph0\" class=\"graph\" transform=\"scale(1 1) rotate(0) translate(4 256)\">\n",
       "<title>G</title>\n",
       "<polygon fill=\"white\" stroke=\"none\" points=\"-4,4 -4,-256 399.97,-256 399.97,4 -4,4\"/>\n",
       "<!-- 7f262c0797c0 -->\n",
       "<g id=\"node1\" class=\"node\">\n",
       "<title>7f262c0797c0</title>\n",
       "<ellipse fill=\"none\" stroke=\"black\" cx=\"253.08\" cy=\"-234\" rx=\"50.68\" ry=\"18\"/>\n",
       "<text text-anchor=\"middle\" x=\"253.08\" y=\"-229.32\" font-family=\"Times,serif\" font-size=\"14.00\">Logistic</text>\n",
       "</g>\n",
       "<!-- 7f262c0721e0 -->\n",
       "<g id=\"node2\" class=\"node\">\n",
       "<title>7f262c0721e0</title>\n",
       "<ellipse fill=\"none\" stroke=\"black\" cx=\"253.08\" cy=\"-162\" rx=\"30.69\" ry=\"18\"/>\n",
       "<text text-anchor=\"middle\" x=\"253.08\" y=\"-157.32\" font-family=\"Times,serif\" font-size=\"14.00\">Add</text>\n",
       "</g>\n",
       "<!-- 7f262c0797c0&#45;&gt;7f262c0721e0 -->\n",
       "<g id=\"edge1\" class=\"edge\">\n",
       "<title>7f262c0797c0&#45;&gt;7f262c0721e0</title>\n",
       "<path fill=\"none\" stroke=\"black\" d=\"M253.08,-215.7C253.08,-208.41 253.08,-199.73 253.08,-191.54\"/>\n",
       "<polygon fill=\"black\" stroke=\"black\" points=\"256.58,-191.62 253.08,-181.62 249.58,-191.62 256.58,-191.62\"/>\n",
       "</g>\n",
       "<!-- 7f262c0722a0 -->\n",
       "<g id=\"node3\" class=\"node\">\n",
       "<title>7f262c0722a0</title>\n",
       "<ellipse fill=\"none\" stroke=\"black\" cx=\"176.08\" cy=\"-90\" rx=\"72.25\" ry=\"18\"/>\n",
       "<text text-anchor=\"middle\" x=\"176.08\" y=\"-85.33\" font-family=\"Times,serif\" font-size=\"14.00\">AIDS&gt;0.41?</text>\n",
       "</g>\n",
       "<!-- 7f262c0721e0&#45;&gt;7f262c0722a0 -->\n",
       "<g id=\"edge2\" class=\"edge\">\n",
       "<title>7f262c0721e0&#45;&gt;7f262c0722a0</title>\n",
       "<path fill=\"none\" stroke=\"black\" d=\"M237.13,-146.5C227.23,-137.5 214.26,-125.71 202.82,-115.31\"/>\n",
       "<polygon fill=\"black\" stroke=\"black\" points=\"205.33,-112.85 195.57,-108.72 200.62,-118.03 205.33,-112.85\"/>\n",
       "</g>\n",
       "<!-- 7f262c0721e0Offset -->\n",
       "<g id=\"node4\" class=\"node\">\n",
       "<title>7f262c0721e0Offset</title>\n",
       "<ellipse fill=\"none\" stroke=\"black\" cx=\"331.08\" cy=\"-90\" rx=\"64.89\" ry=\"18\"/>\n",
       "<text text-anchor=\"middle\" x=\"331.08\" y=\"-85.33\" font-family=\"Times,serif\" font-size=\"14.00\">0.8313863</text>\n",
       "</g>\n",
       "<!-- 7f262c0721e0&#45;&gt;7f262c0721e0Offset -->\n",
       "<g id=\"edge3\" class=\"edge\">\n",
       "<title>7f262c0721e0&#45;&gt;7f262c0721e0Offset</title>\n",
       "<path fill=\"none\" stroke=\"black\" d=\"M269.25,-146.5C279.27,-137.5 292.41,-125.71 304,-115.31\"/>\n",
       "<polygon fill=\"black\" stroke=\"black\" points=\"306.25,-117.99 311.35,-108.71 301.57,-112.78 306.25,-117.99\"/>\n",
       "</g>\n",
       "<!-- 7f262c07c180 -->\n",
       "<g id=\"node5\" class=\"node\">\n",
       "<title>7f262c07c180</title>\n",
       "<ellipse fill=\"none\" stroke=\"black\" cx=\"99.08\" cy=\"-18\" rx=\"99.08\" ry=\"18\"/>\n",
       "<text text-anchor=\"middle\" x=\"99.08\" y=\"-13.32\" font-family=\"Times,serif\" font-size=\"14.00\">1.00 (MeanLabel)</text>\n",
       "</g>\n",
       "<!-- 7f262c0722a0&#45;&gt;7f262c07c180 -->\n",
       "<g id=\"edge4\" class=\"edge\">\n",
       "<title>7f262c0722a0&#45;&gt;7f262c07c180</title>\n",
       "<path fill=\"none\" stroke=\"black\" d=\"M157.84,-72.41C148.39,-63.82 136.66,-53.16 126.17,-43.63\"/>\n",
       "<polygon fill=\"black\" stroke=\"black\" points=\"128.61,-41.11 118.86,-36.97 123.9,-46.29 128.61,-41.11\"/>\n",
       "<text text-anchor=\"middle\" x=\"153.34\" y=\"-59.11\" font-family=\"Times,serif\" font-size=\"14.00\">Y</text>\n",
       "</g>\n",
       "<!-- AIDS -->\n",
       "<g id=\"node6\" class=\"node\">\n",
       "<title>AIDS</title>\n",
       "<ellipse fill=\"none\" stroke=\"black\" cx=\"253.08\" cy=\"-18\" rx=\"36.48\" ry=\"18\"/>\n",
       "<text text-anchor=\"middle\" x=\"253.08\" y=\"-13.32\" font-family=\"Times,serif\" font-size=\"14.00\">AIDS</text>\n",
       "</g>\n",
       "<!-- 7f262c0722a0&#45;&gt;AIDS -->\n",
       "<g id=\"edge5\" class=\"edge\">\n",
       "<title>7f262c0722a0&#45;&gt;AIDS</title>\n",
       "<path fill=\"none\" stroke=\"black\" d=\"M194.33,-72.41C204.37,-63.29 216.97,-51.83 227.93,-41.87\"/>\n",
       "<polygon fill=\"black\" stroke=\"black\" points=\"230.12,-44.61 235.16,-35.29 225.41,-39.43 230.12,-44.61\"/>\n",
       "<text text-anchor=\"middle\" x=\"220.53\" y=\"-38.22\" font-family=\"Times,serif\" font-size=\"14.00\">1.00</text>\n",
       "<text text-anchor=\"middle\" x=\"188.33\" y=\"-59.11\" font-family=\"Times,serif\" font-size=\"14.00\">N</text>\n",
       "</g>\n",
       "</g>\n",
       "</svg>\n"
      ],
      "text/plain": [
       "<graphviz.sources.Source at 0x7f263a875d60>"
      ]
     },
     "execution_count": 26,
     "metadata": {},
     "output_type": "execute_result"
    }
   ],
   "source": [
    "from pybrush import BrushClassifier\n",
    "from sklearn.preprocessing import StandardScaler\n",
    "\n",
    "# load data\n",
    "df = pd.read_csv('../examples/datasets/d_analcatdata_aids.csv')\n",
    "X = df.drop(columns='target')\n",
    "y = df['target']\n",
    "\n",
    "if True:\n",
    "    scl = StandardScaler().fit(X)\n",
    "    X = pd.DataFrame(scl.transform(X), columns=X.columns)\n",
    "\n",
    "est = BrushClassifier(\n",
    "    # functions=['SplitOn', 'SplitBest', 'Sin','Cos','Exp'],\n",
    "    max_gens=100,\n",
    "    objectives=[\"error\", \"linear_complexity\"],  \n",
    "    scorer=\"average_precision_score\",\n",
    "    pop_size=100,\n",
    "    bandit='dynamic_thompson',\n",
    "    verbosity=1\n",
    ")\n",
    "\n",
    "est.fit(X,y)\n",
    "\n",
    "print(\"Best model:\", est.best_estimator_.get_model())\n",
    "print('score:', est.score(X,y))\n",
    "\n",
    "model = est.best_estimator_.get_dot_model()\n",
    "graphviz.Source(model)"
   ]
  },
  {
   "cell_type": "code",
   "execution_count": 31,
   "id": "6018bafe",
   "metadata": {},
   "outputs": [
    {
     "name": "stdout",
     "output_type": "stream",
     "text": [
      "Completed 100% [====================]\n",
      "saving final population as archive...\n",
      "Best model: Logistic(Sum(-0.44628662,If(AIDS>0.41,9.51,0.00 (MeanLabel))))\n",
      "score: 0.68\n"
     ]
    },
    {
     "data": {
      "image/svg+xml": [
       "<?xml version=\"1.0\" encoding=\"UTF-8\" standalone=\"no\"?>\n",
       "<!DOCTYPE svg PUBLIC \"-//W3C//DTD SVG 1.1//EN\"\n",
       " \"http://www.w3.org/Graphics/SVG/1.1/DTD/svg11.dtd\">\n",
       "<!-- Generated by graphviz version 9.0.0 (20231125.0833)\n",
       " -->\n",
       "<!-- Title: G Pages: 1 -->\n",
       "<svg width=\"356pt\" height=\"260pt\"\n",
       " viewBox=\"0.00 0.00 355.68 260.00\" xmlns=\"http://www.w3.org/2000/svg\" xmlns:xlink=\"http://www.w3.org/1999/xlink\">\n",
       "<g id=\"graph0\" class=\"graph\" transform=\"scale(1 1) rotate(0) translate(4 256)\">\n",
       "<title>G</title>\n",
       "<polygon fill=\"white\" stroke=\"none\" points=\"-4,4 -4,-256 351.68,-256 351.68,4 -4,4\"/>\n",
       "<!-- 7f262c00bca0 -->\n",
       "<g id=\"node1\" class=\"node\">\n",
       "<title>7f262c00bca0</title>\n",
       "<ellipse fill=\"none\" stroke=\"black\" cx=\"190.32\" cy=\"-234\" rx=\"50.68\" ry=\"18\"/>\n",
       "<text text-anchor=\"middle\" x=\"190.32\" y=\"-229.32\" font-family=\"Times,serif\" font-size=\"14.00\">Logistic</text>\n",
       "</g>\n",
       "<!-- 7f262c05bc30 -->\n",
       "<g id=\"node2\" class=\"node\">\n",
       "<title>7f262c05bc30</title>\n",
       "<ellipse fill=\"none\" stroke=\"black\" cx=\"190.32\" cy=\"-162\" rx=\"30.69\" ry=\"18\"/>\n",
       "<text text-anchor=\"middle\" x=\"190.32\" y=\"-157.32\" font-family=\"Times,serif\" font-size=\"14.00\">Add</text>\n",
       "</g>\n",
       "<!-- 7f262c00bca0&#45;&gt;7f262c05bc30 -->\n",
       "<g id=\"edge1\" class=\"edge\">\n",
       "<title>7f262c00bca0&#45;&gt;7f262c05bc30</title>\n",
       "<path fill=\"none\" stroke=\"black\" d=\"M190.32,-215.7C190.32,-208.41 190.32,-199.73 190.32,-191.54\"/>\n",
       "<polygon fill=\"black\" stroke=\"black\" points=\"193.82,-191.62 190.32,-181.62 186.82,-191.62 193.82,-191.62\"/>\n",
       "</g>\n",
       "<!-- 7f262c05c340 -->\n",
       "<g id=\"node3\" class=\"node\">\n",
       "<title>7f262c05c340</title>\n",
       "<ellipse fill=\"none\" stroke=\"black\" cx=\"108.32\" cy=\"-90\" rx=\"72.25\" ry=\"18\"/>\n",
       "<text text-anchor=\"middle\" x=\"108.32\" y=\"-85.33\" font-family=\"Times,serif\" font-size=\"14.00\">AIDS&gt;0.41?</text>\n",
       "</g>\n",
       "<!-- 7f262c05bc30&#45;&gt;7f262c05c340 -->\n",
       "<g id=\"edge2\" class=\"edge\">\n",
       "<title>7f262c05bc30&#45;&gt;7f262c05c340</title>\n",
       "<path fill=\"none\" stroke=\"black\" d=\"M173.33,-146.5C162.68,-137.41 148.71,-125.48 136.44,-115\"/>\n",
       "<polygon fill=\"black\" stroke=\"black\" points=\"138.91,-112.51 129.03,-108.68 134.37,-117.84 138.91,-112.51\"/>\n",
       "</g>\n",
       "<!-- 7f262c05bc30Offset -->\n",
       "<g id=\"node4\" class=\"node\">\n",
       "<title>7f262c05bc30Offset</title>\n",
       "<ellipse fill=\"none\" stroke=\"black\" cx=\"273.32\" cy=\"-90\" rx=\"74.36\" ry=\"18\"/>\n",
       "<text text-anchor=\"middle\" x=\"273.32\" y=\"-85.33\" font-family=\"Times,serif\" font-size=\"14.00\">&#45;0.44628662</text>\n",
       "</g>\n",
       "<!-- 7f262c05bc30&#45;&gt;7f262c05bc30Offset -->\n",
       "<g id=\"edge3\" class=\"edge\">\n",
       "<title>7f262c05bc30&#45;&gt;7f262c05bc30Offset</title>\n",
       "<path fill=\"none\" stroke=\"black\" d=\"M207.12,-146.83C217.94,-137.7 232.29,-125.6 244.87,-115\"/>\n",
       "<polygon fill=\"black\" stroke=\"black\" points=\"247.09,-117.7 252.47,-108.58 242.57,-112.35 247.09,-117.7\"/>\n",
       "</g>\n",
       "<!-- 7f262c049770 -->\n",
       "<g id=\"node5\" class=\"node\">\n",
       "<title>7f262c049770</title>\n",
       "<ellipse fill=\"none\" stroke=\"black\" cx=\"33.32\" cy=\"-18\" rx=\"33.32\" ry=\"18\"/>\n",
       "<text text-anchor=\"middle\" x=\"33.32\" y=\"-13.32\" font-family=\"Times,serif\" font-size=\"14.00\">9.51</text>\n",
       "</g>\n",
       "<!-- 7f262c05c340&#45;&gt;7f262c049770 -->\n",
       "<g id=\"edge4\" class=\"edge\">\n",
       "<title>7f262c05c340&#45;&gt;7f262c049770</title>\n",
       "<path fill=\"none\" stroke=\"black\" d=\"M90.55,-72.41C80.7,-63.22 68.32,-51.67 57.6,-41.66\"/>\n",
       "<polygon fill=\"black\" stroke=\"black\" points=\"60.24,-39.34 50.54,-35.07 55.46,-44.45 60.24,-39.34\"/>\n",
       "<text text-anchor=\"middle\" x=\"86.05\" y=\"-59.11\" font-family=\"Times,serif\" font-size=\"14.00\">Y</text>\n",
       "</g>\n",
       "<!-- 7f262c037b40 -->\n",
       "<g id=\"node6\" class=\"node\">\n",
       "<title>7f262c037b40</title>\n",
       "<ellipse fill=\"none\" stroke=\"black\" cx=\"183.32\" cy=\"-18\" rx=\"99.08\" ry=\"18\"/>\n",
       "<text text-anchor=\"middle\" x=\"183.32\" y=\"-13.32\" font-family=\"Times,serif\" font-size=\"14.00\">0.00 (MeanLabel)</text>\n",
       "</g>\n",
       "<!-- 7f262c05c340&#45;&gt;7f262c037b40 -->\n",
       "<g id=\"edge5\" class=\"edge\">\n",
       "<title>7f262c05c340&#45;&gt;7f262c037b40</title>\n",
       "<path fill=\"none\" stroke=\"black\" d=\"M126.09,-72.41C135.3,-63.82 146.72,-53.16 156.93,-43.63\"/>\n",
       "<polygon fill=\"black\" stroke=\"black\" points=\"159.12,-46.37 164.05,-36.99 154.35,-41.25 159.12,-46.37\"/>\n",
       "<text text-anchor=\"middle\" x=\"120.09\" y=\"-59.11\" font-family=\"Times,serif\" font-size=\"14.00\">N</text>\n",
       "</g>\n",
       "</g>\n",
       "</svg>\n"
      ],
      "text/plain": [
       "<graphviz.sources.Source at 0x7f263a875880>"
      ]
     },
     "execution_count": 31,
     "metadata": {},
     "output_type": "execute_result"
    }
   ],
   "source": [
    "\n",
    "est = BrushClassifier(\n",
    "    # functions=['SplitOn', 'SplitBest', 'Sin','Cos','Exp'],\n",
    "    max_gens=100,\n",
    "    objectives=[\"error\", \"complexity\"],  \n",
    "    scorer=\"log\",\n",
    "    pop_size=100,\n",
    "    bandit='dynamic_thompson',\n",
    "    verbosity=1\n",
    ")\n",
    "\n",
    "est.fit(X,y)\n",
    "\n",
    "print(\"Best model:\", est.best_estimator_.get_model())\n",
    "print('score:', est.score(X,y))\n",
    "\n",
    "model = est.best_estimator_.get_dot_model()\n",
    "graphviz.Source(model)"
   ]
  }
 ],
 "metadata": {
  "kernelspec": {
   "display_name": "Python 3 (ipykernel)",
   "language": "python",
   "name": "python3"
  },
  "language_info": {
   "codemirror_mode": {
    "name": "ipython",
    "version": 3
   },
   "file_extension": ".py",
   "mimetype": "text/x-python",
   "name": "python",
   "nbconvert_exporter": "python",
   "pygments_lexer": "ipython3",
   "version": "3.12.2"
  }
 },
 "nbformat": 4,
 "nbformat_minor": 5
}
