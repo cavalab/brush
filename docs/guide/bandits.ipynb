{
 "cells": [
  {
   "cell_type": "markdown",
   "metadata": {},
   "source": [
    "# Using bandits to learn probabilities for the search space\n",
    "\n",
    "To learn probabilities for the search space, the `Brush` estimators (not the DEAP!) uses a multi-armed bandit approach. \n",
    "\n",
    "This allows it to dynamically adjust the sampling probabilities of different operations based on their performance.\n",
    "\n",
    "Not only it can learn how to sample terminals, but it also learns which mutations are useful and which are not. This is also important, as the mutations are responsible for sampling from the search space.\n",
    "\n",
    "In this notebook, we show how to set this configuration, and how it changes the probabilities."
   ]
  },
  {
   "cell_type": "code",
   "execution_count": 1,
   "metadata": {},
   "outputs": [],
   "source": [
    "import pandas as pd\n",
    "from pybrush import Dataset, SearchSpace\n",
    "from pybrush import BrushRegressor\n",
    "\n",
    "df = pd.read_csv('../examples/datasets/d_enc.csv')\n",
    "X = df.drop(columns='label')\n",
    "y = df['label']\n",
    "\n",
    "data = Dataset(X,y)\n",
    "\n",
    "search_space = SearchSpace(data)"
   ]
  },
  {
   "cell_type": "markdown",
   "metadata": {},
   "source": [
    "This is the original search space using the loaded dataset. "
   ]
  },
  {
   "cell_type": "code",
   "execution_count": 2,
   "metadata": {},
   "outputs": [
    {
     "name": "stdout",
     "output_type": "stream",
     "text": [
      "Search Space\n",
      "===\n",
      "terminal_map: {\"ArrayB\": [\"1.00\"], \"ArrayI\": [\"x_5\", \"x_7\", \"1.00\"], \"ArrayF\": [\"x_0\", \"x_1\", \"x_2\", \"x_3\", \"x_4\", \"x_6\", \"1.00\", \"1.00*MeanLabel\"]}\n",
      "terminal_weights: {\"ArrayB\": [-nan], \"ArrayI\": [0.011619061, 0.03579926, 0.023709161], \"ArrayF\": [0.6343385, 0.67299956, 0.42711574, 0.8625447, 0.8957853, 0.20750472, 0.6167148, 0.6167148]}\n",
      "node_map[ArrayI][[\"ArrayF\", \"ArrayI\", \"ArrayI\"]][SplitOn] = SplitOn, weight = 1\n",
      "node_map[ArrayI][[\"ArrayI\", \"ArrayI\", \"ArrayI\"]][SplitOn] = SplitOn, weight = 1\n",
      "node_map[ArrayI][[\"ArrayI\", \"ArrayI\"]][SplitBest] = SplitBest, weight = 1\n",
      "node_map[MatrixF][[\"ArrayF\", \"ArrayF\", \"ArrayF\", \"ArrayF\"]][Logistic] = Logistic, weight = 1\n",
      "node_map[MatrixF][[\"ArrayF\", \"ArrayF\", \"ArrayF\", \"ArrayF\"]][Square] = Square, weight = 1\n",
      "node_map[MatrixF][[\"ArrayF\", \"ArrayF\", \"ArrayF\", \"ArrayF\"]][Sqrtabs] = Sqrtabs, weight = 1\n",
      "node_map[MatrixF][[\"ArrayF\", \"ArrayF\", \"ArrayF\", \"ArrayF\"]][Sqrt] = Sqrt, weight = 1\n",
      "node_map[MatrixF][[\"ArrayF\", \"ArrayF\", \"ArrayF\", \"ArrayF\"]][Log1p] = Log1p, weight = 1\n",
      "node_map[MatrixF][[\"ArrayF\", \"ArrayF\", \"ArrayF\", \"ArrayF\"]][Logabs] = Logabs, weight = 1\n",
      "node_map[MatrixF][[\"ArrayF\", \"ArrayF\", \"ArrayF\", \"ArrayF\"]][Log] = Log, weight = 1\n",
      "node_map[MatrixF][[\"ArrayF\", \"ArrayF\", \"ArrayF\", \"ArrayF\"]][Abs] = Abs, weight = 1\n",
      "node_map[MatrixF][[\"ArrayF\", \"ArrayF\", \"ArrayF\", \"ArrayF\"]][Exp] = Exp, weight = 1\n",
      "node_map[MatrixF][[\"ArrayF\", \"ArrayF\", \"ArrayF\", \"ArrayF\"]][OffsetSum] = 1+Sum, weight = 1\n",
      "node_map[MatrixF][[\"ArrayF\", \"ArrayF\", \"ArrayF\", \"ArrayF\"]][Acos] = Acos, weight = 1\n",
      "node_map[MatrixF][[\"ArrayF\", \"ArrayF\", \"ArrayF\", \"ArrayF\"]][Softmax] = Softmax, weight = 1\n",
      "node_map[MatrixF][[\"ArrayF\", \"ArrayF\", \"ArrayF\", \"ArrayF\"]][Asin] = Asin, weight = 1\n",
      "node_map[MatrixF][[\"ArrayF\", \"ArrayF\", \"ArrayF\", \"ArrayF\"]][Atan] = Atan, weight = 1\n",
      "node_map[MatrixF][[\"ArrayF\", \"ArrayF\", \"ArrayF\", \"ArrayF\"]][Cos] = Cos, weight = 1\n",
      "node_map[MatrixF][[\"ArrayF\", \"ArrayF\", \"ArrayF\", \"ArrayF\"]][Cosh] = Cosh, weight = 1\n",
      "node_map[MatrixF][[\"ArrayF\", \"ArrayF\", \"ArrayF\", \"ArrayF\"]][Sin] = Sin, weight = 1\n",
      "node_map[MatrixF][[\"ArrayF\", \"ArrayF\", \"ArrayF\", \"ArrayF\"]][Sinh] = Sinh, weight = 1\n",
      "node_map[MatrixF][[\"ArrayF\", \"ArrayF\", \"ArrayF\", \"ArrayF\"]][Tan] = Tan, weight = 1\n",
      "node_map[MatrixF][[\"ArrayF\", \"ArrayF\", \"ArrayF\", \"ArrayF\"]][Tanh] = Tanh, weight = 1\n",
      "node_map[MatrixF][[\"ArrayF\", \"ArrayF\", \"ArrayF\", \"ArrayF\"]][Ceil] = Ceil, weight = 1\n",
      "node_map[MatrixF][[\"ArrayF\", \"ArrayF\", \"ArrayF\", \"ArrayF\"]][Floor] = Floor, weight = 1\n",
      "node_map[MatrixF][[\"ArrayF\", \"ArrayF\", \"ArrayF\"]][Logistic] = Logistic, weight = 1\n",
      "node_map[MatrixF][[\"ArrayF\", \"ArrayF\", \"ArrayF\"]][Square] = Square, weight = 1\n",
      "node_map[MatrixF][[\"ArrayF\", \"ArrayF\", \"ArrayF\"]][Sqrtabs] = Sqrtabs, weight = 1\n",
      "node_map[MatrixF][[\"ArrayF\", \"ArrayF\", \"ArrayF\"]][Sqrt] = Sqrt, weight = 1\n",
      "node_map[MatrixF][[\"ArrayF\", \"ArrayF\", \"ArrayF\"]][Log1p] = Log1p, weight = 1\n",
      "node_map[MatrixF][[\"ArrayF\", \"ArrayF\", \"ArrayF\"]][Logabs] = Logabs, weight = 1\n",
      "node_map[MatrixF][[\"ArrayF\", \"ArrayF\", \"ArrayF\"]][Log] = Log, weight = 1\n",
      "node_map[MatrixF][[\"ArrayF\", \"ArrayF\", \"ArrayF\"]][Abs] = Abs, weight = 1\n",
      "node_map[MatrixF][[\"ArrayF\", \"ArrayF\", \"ArrayF\"]][Exp] = Exp, weight = 1\n",
      "node_map[MatrixF][[\"ArrayF\", \"ArrayF\", \"ArrayF\"]][OffsetSum] = 1+Sum, weight = 1\n",
      "node_map[MatrixF][[\"ArrayF\", \"ArrayF\", \"ArrayF\"]][Acos] = Acos, weight = 1\n",
      "node_map[MatrixF][[\"ArrayF\", \"ArrayF\", \"ArrayF\"]][Softmax] = Softmax, weight = 1\n",
      "node_map[MatrixF][[\"ArrayF\", \"ArrayF\", \"ArrayF\"]][Asin] = Asin, weight = 1\n",
      "node_map[MatrixF][[\"ArrayF\", \"ArrayF\", \"ArrayF\"]][Atan] = Atan, weight = 1\n",
      "node_map[MatrixF][[\"ArrayF\", \"ArrayF\", \"ArrayF\"]][Cos] = Cos, weight = 1\n",
      "node_map[MatrixF][[\"ArrayF\", \"ArrayF\", \"ArrayF\"]][Cosh] = Cosh, weight = 1\n",
      "node_map[MatrixF][[\"ArrayF\", \"ArrayF\", \"ArrayF\"]][Sin] = Sin, weight = 1\n",
      "node_map[MatrixF][[\"ArrayF\", \"ArrayF\", \"ArrayF\"]][Sinh] = Sinh, weight = 1\n",
      "node_map[MatrixF][[\"ArrayF\", \"ArrayF\", \"ArrayF\"]][Tan] = Tan, weight = 1\n",
      "node_map[MatrixF][[\"ArrayF\", \"ArrayF\", \"ArrayF\"]][Tanh] = Tanh, weight = 1\n",
      "node_map[MatrixF][[\"ArrayF\", \"ArrayF\", \"ArrayF\"]][Ceil] = Ceil, weight = 1\n",
      "node_map[MatrixF][[\"ArrayF\", \"ArrayF\", \"ArrayF\"]][Floor] = Floor, weight = 1\n",
      "node_map[MatrixF][[\"ArrayF\", \"ArrayF\"]][Logistic] = Logistic, weight = 1\n",
      "node_map[MatrixF][[\"ArrayF\", \"ArrayF\"]][Square] = Square, weight = 1\n",
      "node_map[MatrixF][[\"ArrayF\", \"ArrayF\"]][Sqrtabs] = Sqrtabs, weight = 1\n",
      "node_map[MatrixF][[\"ArrayF\", \"ArrayF\"]][Sqrt] = Sqrt, weight = 1\n",
      "node_map[MatrixF][[\"ArrayF\", \"ArrayF\"]][Log1p] = Log1p, weight = 1\n",
      "node_map[MatrixF][[\"ArrayF\", \"ArrayF\"]][Logabs] = Logabs, weight = 1\n",
      "node_map[MatrixF][[\"ArrayF\", \"ArrayF\"]][Log] = Log, weight = 1\n",
      "node_map[MatrixF][[\"ArrayF\", \"ArrayF\"]][Abs] = Abs, weight = 1\n",
      "node_map[MatrixF][[\"ArrayF\", \"ArrayF\"]][Exp] = Exp, weight = 1\n",
      "node_map[MatrixF][[\"ArrayF\", \"ArrayF\"]][OffsetSum] = 1+Sum, weight = 1\n",
      "node_map[MatrixF][[\"ArrayF\", \"ArrayF\"]][Acos] = Acos, weight = 1\n",
      "node_map[MatrixF][[\"ArrayF\", \"ArrayF\"]][Softmax] = Softmax, weight = 1\n",
      "node_map[MatrixF][[\"ArrayF\", \"ArrayF\"]][Asin] = Asin, weight = 1\n",
      "node_map[MatrixF][[\"ArrayF\", \"ArrayF\"]][Atan] = Atan, weight = 1\n",
      "node_map[MatrixF][[\"ArrayF\", \"ArrayF\"]][Cos] = Cos, weight = 1\n",
      "node_map[MatrixF][[\"ArrayF\", \"ArrayF\"]][Cosh] = Cosh, weight = 1\n",
      "node_map[MatrixF][[\"ArrayF\", \"ArrayF\"]][Sin] = Sin, weight = 1\n",
      "node_map[MatrixF][[\"ArrayF\", \"ArrayF\"]][Sinh] = Sinh, weight = 1\n",
      "node_map[MatrixF][[\"ArrayF\", \"ArrayF\"]][Tan] = Tan, weight = 1\n",
      "node_map[MatrixF][[\"ArrayF\", \"ArrayF\"]][Tanh] = Tanh, weight = 1\n",
      "node_map[MatrixF][[\"ArrayF\", \"ArrayF\"]][Ceil] = Ceil, weight = 1\n",
      "node_map[MatrixF][[\"ArrayF\", \"ArrayF\"]][Floor] = Floor, weight = 1\n",
      "node_map[ArrayF][[\"ArrayI\", \"ArrayF\", \"ArrayF\"]][SplitOn] = SplitOn, weight = 1\n",
      "node_map[ArrayF][[\"ArrayF\", \"ArrayF\", \"ArrayF\", \"ArrayF\"]][Sum] = Sum, weight = 1\n",
      "node_map[ArrayF][[\"ArrayF\", \"ArrayF\", \"ArrayF\", \"ArrayF\"]][Prod] = Prod, weight = 1\n",
      "node_map[ArrayF][[\"ArrayF\", \"ArrayF\", \"ArrayF\", \"ArrayF\"]][Median] = Median, weight = 1\n",
      "node_map[ArrayF][[\"ArrayF\", \"ArrayF\", \"ArrayF\", \"ArrayF\"]][Mean] = Mean, weight = 1\n",
      "node_map[ArrayF][[\"ArrayF\", \"ArrayF\", \"ArrayF\", \"ArrayF\"]][Max] = Max, weight = 1\n",
      "node_map[ArrayF][[\"ArrayF\", \"ArrayF\", \"ArrayF\", \"ArrayF\"]][Min] = Min, weight = 1\n",
      "node_map[ArrayF][[\"ArrayF\", \"ArrayF\", \"ArrayF\"]][Sum] = Sum, weight = 1\n",
      "node_map[ArrayF][[\"ArrayF\", \"ArrayF\", \"ArrayF\"]][Prod] = Prod, weight = 1\n",
      "node_map[ArrayF][[\"ArrayF\", \"ArrayF\", \"ArrayF\"]][Median] = Median, weight = 1\n",
      "node_map[ArrayF][[\"ArrayF\", \"ArrayF\", \"ArrayF\"]][SplitOn] = SplitOn, weight = 1\n",
      "node_map[ArrayF][[\"ArrayF\", \"ArrayF\", \"ArrayF\"]][Mean] = Mean, weight = 1\n",
      "node_map[ArrayF][[\"ArrayF\", \"ArrayF\", \"ArrayF\"]][Max] = Max, weight = 1\n",
      "node_map[ArrayF][[\"ArrayF\", \"ArrayF\", \"ArrayF\"]][Min] = Min, weight = 1\n",
      "node_map[ArrayF][[\"ArrayF\", \"ArrayF\"]][Div] = Div, weight = 1\n",
      "node_map[ArrayF][[\"ArrayF\", \"ArrayF\"]][Mul] = Mul, weight = 1\n",
      "node_map[ArrayF][[\"ArrayF\", \"ArrayF\"]][Sub] = Sub, weight = 1\n",
      "node_map[ArrayF][[\"ArrayF\", \"ArrayF\"]][Add] = Add, weight = 1\n",
      "node_map[ArrayF][[\"ArrayF\", \"ArrayF\"]][Sum] = Sum, weight = 1\n",
      "node_map[ArrayF][[\"ArrayF\", \"ArrayF\"]][Prod] = Prod, weight = 1\n",
      "node_map[ArrayF][[\"ArrayF\", \"ArrayF\"]][Median] = Median, weight = 1\n",
      "node_map[ArrayF][[\"ArrayF\", \"ArrayF\"]][Mean] = Mean, weight = 1\n",
      "node_map[ArrayF][[\"ArrayF\", \"ArrayF\"]][SplitBest] = SplitBest, weight = 1\n",
      "node_map[ArrayF][[\"ArrayF\", \"ArrayF\"]][Max] = Max, weight = 1\n",
      "node_map[ArrayF][[\"ArrayF\", \"ArrayF\"]][Pow] = Pow, weight = 1\n",
      "node_map[ArrayF][[\"ArrayF\", \"ArrayF\"]][Min] = Min, weight = 1\n",
      "node_map[ArrayF][[\"ArrayF\"]][Logistic] = Logistic, weight = 1\n",
      "node_map[ArrayF][[\"ArrayF\"]][Square] = Square, weight = 1\n",
      "node_map[ArrayF][[\"ArrayF\"]][Sqrtabs] = Sqrtabs, weight = 1\n",
      "node_map[ArrayF][[\"ArrayF\"]][Sqrt] = Sqrt, weight = 1\n",
      "node_map[ArrayF][[\"ArrayF\"]][Log1p] = Log1p, weight = 1\n",
      "node_map[ArrayF][[\"ArrayF\"]][Logabs] = Logabs, weight = 1\n",
      "node_map[ArrayF][[\"ArrayF\"]][Log] = Log, weight = 1\n",
      "node_map[ArrayF][[\"ArrayF\"]][Abs] = Abs, weight = 1\n",
      "node_map[ArrayF][[\"ArrayF\"]][Exp] = Exp, weight = 1\n",
      "node_map[ArrayF][[\"ArrayF\"]][OffsetSum] = 1+Sum, weight = 1\n",
      "node_map[ArrayF][[\"ArrayF\"]][Acos] = Acos, weight = 1\n",
      "node_map[ArrayF][[\"ArrayF\"]][Asin] = Asin, weight = 1\n",
      "node_map[ArrayF][[\"ArrayF\"]][Atan] = Atan, weight = 1\n",
      "node_map[ArrayF][[\"ArrayF\"]][Cos] = Cos, weight = 1\n",
      "node_map[ArrayF][[\"ArrayF\"]][Cosh] = Cosh, weight = 1\n",
      "node_map[ArrayF][[\"ArrayF\"]][Sin] = Sin, weight = 1\n",
      "node_map[ArrayF][[\"ArrayF\"]][Sinh] = Sinh, weight = 1\n",
      "node_map[ArrayF][[\"ArrayF\"]][Tan] = Tan, weight = 1\n",
      "node_map[ArrayF][[\"ArrayF\"]][Tanh] = Tanh, weight = 1\n",
      "node_map[ArrayF][[\"ArrayF\"]][Ceil] = Ceil, weight = 1\n",
      "node_map[ArrayF][[\"ArrayF\"]][Floor] = Floor, weight = 1\n",
      "===\n",
      "None\n"
     ]
    }
   ],
   "source": [
    "print( search_space.print() )"
   ]
  },
  {
   "cell_type": "markdown",
   "metadata": {},
   "source": [
    "There are two important settings for this:\n",
    "\n",
    "- `bandit`, which specifies which strategy will be used to learn the probabilities, and\n",
    "- `weights_init`, which will initialize the sampling probabilities for terminals in the search space based on the correlation between each terminal and the target variable."
   ]
  },
  {
   "cell_type": "code",
   "execution_count": 3,
   "metadata": {},
   "outputs": [],
   "source": [
    "est = BrushRegressor(\n",
    "    functions=['SplitBest','Add','Mul','Sin','Cos','Exp','Logabs'],\n",
    "    max_gens=100,\n",
    "    objectives=[\"error\", \"complexity\"],\n",
    "\n",
    "    # Changing search space sampling probabilities\n",
    "    bandit='thompson',\n",
    "    weights_init=True,\n",
    "    \n",
    "    verbosity=1\n",
    ")"
   ]
  },
  {
   "cell_type": "code",
   "execution_count": 4,
   "metadata": {},
   "outputs": [
    {
     "name": "stdout",
     "output_type": "stream",
     "text": [
      "Completed 100% [====================]\n",
      "Saved population to file /tmp/tmpshx7uzc1/population.json\n",
      "saving final population as archive...\n",
      "score: 0.8900709673753779\n"
     ]
    }
   ],
   "source": [
    "est.fit(X,y)\n",
    "y_pred = est.predict(X)\n",
    "print('score:', est.score(X,y))"
   ]
  },
  {
   "cell_type": "markdown",
   "metadata": {},
   "source": [
    "The attribute `search_space_` is an original copy and it is not changed."
   ]
  },
  {
   "cell_type": "code",
   "execution_count": 5,
   "metadata": {},
   "outputs": [
    {
     "name": "stdout",
     "output_type": "stream",
     "text": [
      "Search Space\n",
      "===\n",
      "terminal_map: {\"ArrayB\": [\"1.00\"], \"ArrayI\": [\"x5\", \"x7\", \"1.00\"], \"ArrayF\": [\"x0\", \"x1\", \"x2\", \"x3\", \"x4\", \"x6\", \"1.00\", \"1.00*MeanLabel\"]}\n",
      "terminal_weights: {\"ArrayB\": [-nan], \"ArrayI\": [0.011619061, 0.03579926, 0.023709161], \"ArrayF\": [0.6343385, 0.67299956, 0.42711574, 0.8625447, 0.8957853, 0.20750472, 0.6167148, 0.6167148]}\n",
      "node_map[ArrayI][[\"ArrayI\", \"ArrayI\"]][SplitBest] = SplitBest, weight = 1\n",
      "node_map[MatrixF][[\"ArrayF\", \"ArrayF\", \"ArrayF\", \"ArrayF\"]][Logabs] = Logabs, weight = 1\n",
      "node_map[MatrixF][[\"ArrayF\", \"ArrayF\", \"ArrayF\", \"ArrayF\"]][Exp] = Exp, weight = 1\n",
      "node_map[MatrixF][[\"ArrayF\", \"ArrayF\", \"ArrayF\", \"ArrayF\"]][Sin] = Sin, weight = 1\n",
      "node_map[MatrixF][[\"ArrayF\", \"ArrayF\", \"ArrayF\", \"ArrayF\"]][Cos] = Cos, weight = 1\n",
      "node_map[MatrixF][[\"ArrayF\", \"ArrayF\", \"ArrayF\"]][Logabs] = Logabs, weight = 1\n",
      "node_map[MatrixF][[\"ArrayF\", \"ArrayF\", \"ArrayF\"]][Exp] = Exp, weight = 1\n",
      "node_map[MatrixF][[\"ArrayF\", \"ArrayF\", \"ArrayF\"]][Sin] = Sin, weight = 1\n",
      "node_map[MatrixF][[\"ArrayF\", \"ArrayF\", \"ArrayF\"]][Cos] = Cos, weight = 1\n",
      "node_map[MatrixF][[\"ArrayF\", \"ArrayF\"]][Logabs] = Logabs, weight = 1\n",
      "node_map[MatrixF][[\"ArrayF\", \"ArrayF\"]][Exp] = Exp, weight = 1\n",
      "node_map[MatrixF][[\"ArrayF\", \"ArrayF\"]][Sin] = Sin, weight = 1\n",
      "node_map[MatrixF][[\"ArrayF\", \"ArrayF\"]][Cos] = Cos, weight = 1\n",
      "node_map[ArrayF][[\"ArrayF\", \"ArrayF\"]][SplitBest] = SplitBest, weight = 1\n",
      "node_map[ArrayF][[\"ArrayF\", \"ArrayF\"]][Mul] = Mul, weight = 1\n",
      "node_map[ArrayF][[\"ArrayF\", \"ArrayF\"]][Add] = Add, weight = 1\n",
      "node_map[ArrayF][[\"ArrayF\"]][Logabs] = Logabs, weight = 1\n",
      "node_map[ArrayF][[\"ArrayF\"]][Exp] = Exp, weight = 1\n",
      "node_map[ArrayF][[\"ArrayF\"]][Sin] = Sin, weight = 1\n",
      "node_map[ArrayF][[\"ArrayF\"]][Cos] = Cos, weight = 1\n",
      "===\n"
     ]
    }
   ],
   "source": [
    "est.search_space_.print()"
   ]
  },
  {
   "cell_type": "markdown",
   "metadata": {},
   "source": [
    "When we call `fit`, the Brush engine is set to run and return the best individual. Then, the engine is stored as an attribute in our estimator, called `engine_`, and we can retrieve the learned probabilities by looking at the engine's search space."
   ]
  },
  {
   "cell_type": "code",
   "execution_count": 6,
   "metadata": {},
   "outputs": [
    {
     "name": "stdout",
     "output_type": "stream",
     "text": [
      "Search Space\n",
      "===\n",
      "terminal_map: {\"ArrayB\": [\"1.00\"], \"ArrayI\": [\"x5\", \"x7\", \"1.00\"], \"ArrayF\": [\"x0\", \"x1\", \"x2\", \"x3\", \"x4\", \"x6\", \"1.00\", \"1.00*MeanLabel\"]}\n",
      "terminal_weights: {\"ArrayB\": [-nan], \"ArrayI\": [0.5, 0.5, 0.5], \"ArrayF\": [0.5302013, 0.5300546, 0.55172414, 0.55825245, 0.5, 0.55445546, 0.407767, 0.3604651]}\n",
      "node_map[ArrayI][[\"ArrayI\", \"ArrayI\"]][SplitBest] = SplitBest, weight = 1\n",
      "node_map[MatrixF][[\"ArrayF\", \"ArrayF\", \"ArrayF\", \"ArrayF\"]][Logabs] = Logabs, weight = 1\n",
      "node_map[MatrixF][[\"ArrayF\", \"ArrayF\", \"ArrayF\", \"ArrayF\"]][Exp] = Exp, weight = 1\n",
      "node_map[MatrixF][[\"ArrayF\", \"ArrayF\", \"ArrayF\", \"ArrayF\"]][Sin] = Sin, weight = 1\n",
      "node_map[MatrixF][[\"ArrayF\", \"ArrayF\", \"ArrayF\", \"ArrayF\"]][Cos] = Cos, weight = 1\n",
      "node_map[MatrixF][[\"ArrayF\", \"ArrayF\", \"ArrayF\"]][Logabs] = Logabs, weight = 1\n",
      "node_map[MatrixF][[\"ArrayF\", \"ArrayF\", \"ArrayF\"]][Exp] = Exp, weight = 1\n",
      "node_map[MatrixF][[\"ArrayF\", \"ArrayF\", \"ArrayF\"]][Sin] = Sin, weight = 1\n",
      "node_map[MatrixF][[\"ArrayF\", \"ArrayF\", \"ArrayF\"]][Cos] = Cos, weight = 1\n",
      "node_map[MatrixF][[\"ArrayF\", \"ArrayF\"]][Logabs] = Logabs, weight = 1\n",
      "node_map[MatrixF][[\"ArrayF\", \"ArrayF\"]][Exp] = Exp, weight = 1\n",
      "node_map[MatrixF][[\"ArrayF\", \"ArrayF\"]][Sin] = Sin, weight = 1\n",
      "node_map[MatrixF][[\"ArrayF\", \"ArrayF\"]][Cos] = Cos, weight = 1\n",
      "node_map[ArrayF][[\"ArrayF\", \"ArrayF\"]][SplitBest] = SplitBest, weight = 1\n",
      "node_map[ArrayF][[\"ArrayF\", \"ArrayF\"]][Mul] = Mul, weight = 1\n",
      "node_map[ArrayF][[\"ArrayF\", \"ArrayF\"]][Add] = Add, weight = 1\n",
      "node_map[ArrayF][[\"ArrayF\"]][Logabs] = Logabs, weight = 1\n",
      "node_map[ArrayF][[\"ArrayF\"]][Exp] = Exp, weight = 1\n",
      "node_map[ArrayF][[\"ArrayF\"]][Sin] = Sin, weight = 1\n",
      "node_map[ArrayF][[\"ArrayF\"]][Cos] = Cos, weight = 1\n",
      "===\n"
     ]
    }
   ],
   "source": [
    "est.engine_.search_space.print()"
   ]
  },
  {
   "cell_type": "markdown",
   "metadata": {},
   "source": [
    "Mutation probabilities are stored in the parameters, not the search space. The same way that we can have the original and the learned probabilities by looking at the instance references and the instance's engine reference, we can look the learned probabilities."
   ]
  },
  {
   "cell_type": "code",
   "execution_count": 7,
   "metadata": {},
   "outputs": [
    {
     "name": "stdout",
     "output_type": "stream",
     "text": [
      "0.1428571492433548\n",
      "{'delete': 0.1666666716337204, 'insert': 0.1666666716337204, 'point': 0.1666666716337204, 'subtree': 0.1666666716337204, 'toggle_weight_off': 0.1666666716337204, 'toggle_weight_on': 0.1666666716337204}\n"
     ]
    }
   ],
   "source": [
    "print(est.parameters_.cx_prob)\n",
    "print(est.parameters_.mutation_probs)"
   ]
  },
  {
   "cell_type": "code",
   "execution_count": 8,
   "metadata": {},
   "outputs": [
    {
     "name": "stdout",
     "output_type": "stream",
     "text": [
      "0.19159255921840668\n",
      "{'delete': 0.3327217102050781, 'insert': 0.014492753893136978, 'point': 0.47653430700302124, 'subtree': 0.687393069267273, 'toggle_weight_off': 0.40665435791015625, 'toggle_weight_on': 0.019417475908994675}\n"
     ]
    }
   ],
   "source": [
    "print(est.engine_.params.cx_prob)\n",
    "print(est.engine_.params.mutation_probs)"
   ]
  }
 ],
 "metadata": {
  "kernelspec": {
   "display_name": "brush",
   "language": "python",
   "name": "python3"
  },
  "language_info": {
   "codemirror_mode": {
    "name": "ipython",
    "version": 3
   },
   "file_extension": ".py",
   "mimetype": "text/x-python",
   "name": "python",
   "nbconvert_exporter": "python",
   "pygments_lexer": "ipython3",
   "version": "3.1.undefined"
  }
 },
 "nbformat": 4,
 "nbformat_minor": 2
}
