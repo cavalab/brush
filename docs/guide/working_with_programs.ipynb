{
 "cells": [
  {
   "cell_type": "markdown",
   "id": "e9776d12",
   "metadata": {},
   "source": [
    "# Working with Programs\n",
    "\n",
    "In Brush, a *Program* is an executable data structure. \n",
    "You may think of it as a *model* or a *function* mapping feature inputs to data labels. \n",
    "We call them programs because that's what they are: executable data structures,  \n",
    "and that is what they are called in the genetic algorithm literature, to distinguish them from optimizing bits or strings. \n",
    "\n",
    "The Brush Program class operates similarly to a [sklearn](scikit-learn.org) estimator: it has `fit` and `predict` methods that are called in during training or inference, respectively. \n",
    "\n",
    "\n",
    "## Types of Programs \n",
    "\n",
    "There are four fundamental \"types\" of Brush programs:\n",
    "\n",
    "- **Regressors**: map inputs to a continous endpoint \n",
    "- **Binary Classifiers**: map inputs to a binary endpoint, as well as a continuous value in $[0, 1]$  \n",
    "- **Multi-class Classifiers**: map inputs to a category\n",
    "    - Under development\n",
    "- **Representors**: map inputs to a lower dimensional space. \n",
    "    - Under development\n",
    "\n",
    "## Representation \n",
    "\n",
    "Internally, the programs are represented as syntax trees. \n",
    "We use the [tree.hh tree class](https://github.com/kpeeters/tree.hh) which gives trees an STL-like feel. \n",
    "\n",
    "\n",
    "\n",
    "## Generation\n",
    "\n",
    "We generate random programs using Sean Luke's PTC2 algorithm.  \n",
    "\n",
    "\n",
    "## Evaluation\n",
    "\n",
    "TODO\n",
    "\n",
    "\n"
   ]
  },
  {
   "cell_type": "markdown",
   "id": "8c258669",
   "metadata": {},
   "source": [
    "## Visualizing Programs\n",
    "\n",
    "Programs in Brush are symbolic tree structures, and can be viewed in a few ways: \n",
    "\n",
    "\n",
    "1. As a string using `get_model()`\n",
    "2. As a string-like tree using `get_model(\"tree\")`\n",
    "2. As a graph using `graphviz` and `get_model(\"dot\")`. \n",
    "\n",
    "Let's look at a regresion example."
   ]
  },
  {
   "cell_type": "code",
   "execution_count": 7,
   "id": "102e3fcb",
   "metadata": {
    "scrolled": true,
    "tags": [
     "remove-output"
    ]
   },
   "outputs": [],
   "source": [
    "import pandas as pd\n",
    "from brush import BrushRegressor\n",
    "from pmlb import fetch_data\n",
    "\n",
    "# load data\n",
    "df = pd.read_csv('../examples/datasets/d_enc.csv')\n",
    "X = df.drop(columns='label')\n",
    "y = df['label']\n",
    "# X, y = fetch_data('1027_ESL', return_X_y = True)\n",
    "# X, y = fetch_data('192_vineyard', return_X_y = True)\n",
    "# X, y = fetch_data('594_fri_c2_100_5', return_X_y = True)\n",
    "# X, y = fetch_data('607_fri_c4_1000_50', return_X_y = True)\n",
    "# X, y = fetch_data('503_wind', return_X_y = True)\n",
    "\n"
   ]
  },
  {
   "cell_type": "code",
   "execution_count": 8,
   "id": "acf0b4ae",
   "metadata": {},
   "outputs": [
    {
     "name": "stderr",
     "output_type": "stream",
     "text": [
      "/home/bill/mambaforge/envs/brush/lib/python3.11/site-packages/deap/creator.py:138: RuntimeWarning: A class named 'FitnessMulti' has already been created and it will be overwritten. Consider deleting previous creation of that class or rename it.\n",
      "  warnings.warn(\"A class named '{0}' has already been created and it \"\n",
      "/home/bill/mambaforge/envs/brush/lib/python3.11/site-packages/deap/creator.py:138: RuntimeWarning: A class named 'Individual' has already been created and it will be overwritten. Consider deleting previous creation of that class or rename it.\n",
      "  warnings.warn(\"A class named '{0}' has already been created and it \"\n",
      "/home/bill/mambaforge/envs/brush/lib/python3.11/site-packages/deap/tools/emo.py:139: RuntimeWarning: invalid value encountered in scalar divide\n",
      "  distances[cur[1]] += (next[0][i] - prev[0][i]) / norm\n",
      "/home/bill/mambaforge/envs/brush/lib/python3.11/site-packages/deap/tools/emo.py:139: RuntimeWarning: invalid value encountered in scalar subtract\n",
      "  distances[cur[1]] += (next[0][i] - prev[0][i]) / norm\n",
      "/home/bill/mambaforge/envs/brush/lib/python3.11/site-packages/numpy/core/_methods.py:236: RuntimeWarning: invalid value encountered in subtract\n",
      "  x = asanyarray(arr - arrmean)\n"
     ]
    },
    {
     "name": "stdout",
     "output_type": "stream",
     "text": [
      "best model: Add(Sub(Sub(3.92*x4,12.66),-0.04*x2),Mul(4.11*x4,0.68*x6))\n"
     ]
    }
   ],
   "source": [
    "# import and make a regressor\n",
    "est = BrushRegressor(\n",
    "    max_depth=3, \n",
    "    max_size=20,\n",
    "    functions=['SplitBest','Add','Sub','Mul','Div']\n",
    ")\n",
    "\n",
    "# use like you would a sklearn regressor\n",
    "est.fit(X,y)\n",
    "y_pred = est.predict(X)"
   ]
  },
  {
   "cell_type": "code",
   "execution_count": 9,
   "id": "050565b5",
   "metadata": {},
   "outputs": [
    {
     "name": "stdout",
     "output_type": "stream",
     "text": [
      "score: 0.8823622777154134\n"
     ]
    }
   ],
   "source": [
    "print('score:', est.score(X,y))"
   ]
  },
  {
   "cell_type": "markdown",
   "id": "a355d8f3",
   "metadata": {},
   "source": [
    "Now that we have trained a model, `est.best_estimator_` contains our symbolic model. \n",
    "We can view it as a string:"
   ]
  },
  {
   "cell_type": "code",
   "execution_count": 10,
   "id": "316964d5",
   "metadata": {},
   "outputs": [
    {
     "name": "stdout",
     "output_type": "stream",
     "text": [
      "Add(Sub(Sub(3.92*x4,12.66),-0.04*x2),Mul(4.11*x4,0.68*x6))\n"
     ]
    }
   ],
   "source": [
    "print(est.best_estimator_.get_model())"
   ]
  },
  {
   "cell_type": "markdown",
   "id": "e7d578bb",
   "metadata": {},
   "source": [
    "We can view it as a tree:"
   ]
  },
  {
   "cell_type": "code",
   "execution_count": 11,
   "id": "dad68d01",
   "metadata": {},
   "outputs": [
    {
     "name": "stdout",
     "output_type": "stream",
     "text": [
      "Add\n",
      "|-Sub\n",
      "  |-Sub\n",
      "    |-3.92*x4\n",
      "    |-12.66\n",
      "  |--0.04*x2\n",
      "|-Mul\n",
      "|  |-4.11*x4\n",
      "|  |-0.68*x6\n"
     ]
    }
   ],
   "source": [
    "print(est.best_estimator_.get_model(\"tree\"))"
   ]
  },
  {
   "cell_type": "markdown",
   "id": "90068143",
   "metadata": {},
   "source": [
    "We can also view it as a graph in dot format. \n",
    "Let's import graphviz and make a nicer plot."
   ]
  },
  {
   "cell_type": "code",
   "execution_count": null,
   "id": "3ef1a735",
   "metadata": {
    "scrolled": false
   },
   "outputs": [],
   "source": [
    "import graphviz\n",
    "\n",
    "model = est.best_estimator_.get_model(\"dot\")\n",
    "print(model)\n",
    "g = graphviz.Source(model)\n",
    "g"
   ]
  }
 ],
 "metadata": {
  "kernelspec": {
   "display_name": "Python 3 (ipykernel)",
   "language": "python",
   "name": "python3"
  },
  "language_info": {
   "codemirror_mode": {
    "name": "ipython",
    "version": 3
   },
   "file_extension": ".py",
   "mimetype": "text/x-python",
   "name": "python",
   "nbconvert_exporter": "python",
   "pygments_lexer": "ipython3",
   "version": "3.11.0"
  }
 },
 "nbformat": 4,
 "nbformat_minor": 5
}
