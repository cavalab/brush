{
 "cells": [
  {
   "cell_type": "markdown",
   "metadata": {},
   "source": [
    "# The archive\n",
    "\n",
    "When you fit a brush estimator, two new attributes are created: `best_estimator_` and `archive_`.\n",
    "\n",
    "If you set `use_arch` to `True` when instantiating the estimator, then it will store the pareto front as a list in `archive_`. This pareto front is always created with individuals from the final population that are not dominated in objectives **error** and **complexity**.\n",
    "\n",
    "In case you need more flexibility, the archive will contain the entire final population if `use_arch` is `False`, and you can iterate through this list to select individuals with different criteria. It is also good to remind that Brush supports different optimization objectives using the argument `objectives`.\n",
    "\n",
    "Each element from the archive is a serialized individual (JSON object)."
   ]
  },
  {
   "cell_type": "code",
   "execution_count": 1,
   "metadata": {},
   "outputs": [],
   "source": [
    "import pandas as pd\n",
    "from pybrush import BrushClassifier\n",
    "\n",
    "# load data\n",
    "df = pd.read_csv('../examples/datasets/d_analcatdata_aids.csv')\n",
    "X = df.drop(columns='target')\n",
    "y = df['target']"
   ]
  },
  {
   "cell_type": "code",
   "execution_count": 2,
   "metadata": {},
   "outputs": [
    {
     "name": "stdout",
     "output_type": "stream",
     "text": [
      "Completed 100% [====================]\n",
      "Best model: 1043.19*Logistic(Sum(-4.5942945,0.16*Logabs(0.00*AIDS)))\n",
      "score: 0.58\n"
     ]
    }
   ],
   "source": [
    "est = BrushClassifier(\n",
    "    functions=['SplitBest','Add','Mul','Sin','Cos','Exp','Logabs'],\n",
    "    use_arch=True,\n",
    "    objectives=[\"error\", \"complexity\"],\n",
    "    max_gens=100,\n",
    "    pop_size=200,\n",
    "    verbosity=1\n",
    ")\n",
    "\n",
    "est.fit(X,y)\n",
    "\n",
    "print(\"Best model:\", est.best_estimator_.get_model())\n",
    "print('score:', est.score(X,y))"
   ]
  },
  {
   "cell_type": "markdown",
   "metadata": {},
   "source": [
    "You can see individuals from archive using the index:"
   ]
  },
  {
   "cell_type": "code",
   "execution_count": 3,
   "metadata": {},
   "outputs": [
    {
     "name": "stdout",
     "output_type": "stream",
     "text": [
      "6\n"
     ]
    },
    {
     "data": {
      "text/plain": [
       "{'fitness': {'complexity': 27,\n",
       "  'crowding_dist': 0.0,\n",
       "  'dcounter': 0,\n",
       "  'depth': 3,\n",
       "  'dominated': [],\n",
       "  'linear_complexity': 10,\n",
       "  'loss': 0.6931471228599548,\n",
       "  'loss_v': 0.6931471228599548,\n",
       "  'rank': 1,\n",
       "  'size': 7,\n",
       "  'values': [0.6931471228599548, 27.0],\n",
       "  'weights': [-1.0, -1.0],\n",
       "  'wvalues': [-0.6931471228599548, -27.0]},\n",
       " 'id': 514,\n",
       " 'objectives': ['log', 'complexity'],\n",
       " 'parent_id': [],\n",
       " 'program': {'Tree': [{'W': 1.0,\n",
       "    'arg_types': ['ArrayF'],\n",
       "    'center_op': True,\n",
       "    'feature': '',\n",
       "    'fixed': True,\n",
       "    'is_weighted': True,\n",
       "    'name': 'Logistic',\n",
       "    'node_type': 'Logistic',\n",
       "    'prob_change': 0.0,\n",
       "    'ret_type': 'ArrayF',\n",
       "    'sig_dual_hash': 10617925524997611780,\n",
       "    'sig_hash': 13326223354425868050},\n",
       "   {'W': 0.0,\n",
       "    'arg_types': ['ArrayF'],\n",
       "    'center_op': True,\n",
       "    'feature': '',\n",
       "    'fixed': True,\n",
       "    'is_weighted': True,\n",
       "    'name': 'OffsetSum',\n",
       "    'node_type': 'OffsetSum',\n",
       "    'prob_change': 0.0,\n",
       "    'ret_type': 'ArrayF',\n",
       "    'sig_dual_hash': 10617925524997611780,\n",
       "    'sig_hash': 13326223354425868050},\n",
       "   {'W': 0.0,\n",
       "    'arg_types': [],\n",
       "    'center_op': True,\n",
       "    'feature': 'MeanLabel',\n",
       "    'fixed': False,\n",
       "    'is_weighted': True,\n",
       "    'name': 'MeanLabel',\n",
       "    'node_type': 'MeanLabel',\n",
       "    'prob_change': 0.19857122004032135,\n",
       "    'ret_type': 'ArrayF',\n",
       "    'sig_dual_hash': 509529941281334733,\n",
       "    'sig_hash': 17717457037689164349}],\n",
       "  'is_fitted_': True},\n",
       " 'variation': 'born'}"
      ]
     },
     "execution_count": 3,
     "metadata": {},
     "output_type": "execute_result"
    }
   ],
   "source": [
    "print(len(est.archive_[0]))\n",
    "\n",
    "est.archive_[0]"
   ]
  },
  {
   "cell_type": "markdown",
   "metadata": {},
   "source": [
    "And you can call `predict` (or `predict_proba`, if your `est` is an instance of `BrushClassifier`) with the entire archive:"
   ]
  },
  {
   "cell_type": "code",
   "execution_count": 4,
   "metadata": {},
   "outputs": [
    {
     "data": {
      "text/plain": [
       "[{'id': 514,\n",
       "  'y_pred': array([False, False, False, False, False, False, False, False, False,\n",
       "         False, False, False, False, False, False, False, False, False,\n",
       "         False, False, False, False, False, False, False, False, False,\n",
       "         False, False, False, False, False, False, False, False, False,\n",
       "         False, False, False, False, False, False, False, False, False,\n",
       "         False, False, False, False, False])},\n",
       " {'id': 428,\n",
       "  'y_pred': array([ True,  True,  True,  True,  True,  True,  True,  True,  True,\n",
       "          True,  True,  True,  True,  True,  True,  True,  True,  True,\n",
       "          True,  True,  True,  True,  True,  True,  True,  True,  True,\n",
       "          True,  True,  True,  True,  True,  True,  True,  True,  True,\n",
       "          True,  True,  True,  True, False,  True,  True,  True,  True,\n",
       "         False,  True,  True,  True, False])},\n",
       " {'id': 457,\n",
       "  'y_pred': array([ True,  True,  True,  True,  True,  True,  True,  True,  True,\n",
       "          True,  True,  True,  True,  True,  True,  True,  True,  True,\n",
       "          True,  True,  True,  True,  True,  True,  True,  True,  True,\n",
       "          True,  True,  True,  True,  True,  True,  True,  True,  True,\n",
       "          True,  True,  True,  True, False,  True,  True,  True,  True,\n",
       "         False,  True,  True,  True, False])},\n",
       " {'id': 0,\n",
       "  'y_pred': array([ True,  True,  True,  True,  True,  True,  True,  True,  True,\n",
       "          True, False,  True,  True,  True,  True, False, False, False,\n",
       "         False, False, False, False, False, False, False, False,  True,\n",
       "          True,  True, False, False,  True,  True,  True,  True, False,\n",
       "          True,  True,  True, False, False, False, False, False, False,\n",
       "         False, False, False, False, False])}]"
      ]
     },
     "execution_count": 4,
     "metadata": {},
     "output_type": "execute_result"
    }
   ],
   "source": [
    "est.predict_archive(X)\n"
   ]
  },
  {
   "cell_type": "code",
   "execution_count": 5,
   "metadata": {},
   "outputs": [
    {
     "data": {
      "text/plain": [
       "[{'id': 514,\n",
       "  'y_pred': array([0.5, 0.5, 0.5, 0.5, 0.5, 0.5, 0.5, 0.5, 0.5, 0.5, 0.5, 0.5, 0.5,\n",
       "         0.5, 0.5, 0.5, 0.5, 0.5, 0.5, 0.5, 0.5, 0.5, 0.5, 0.5, 0.5, 0.5,\n",
       "         0.5, 0.5, 0.5, 0.5, 0.5, 0.5, 0.5, 0.5, 0.5, 0.5, 0.5, 0.5, 0.5,\n",
       "         0.5, 0.5, 0.5, 0.5, 0.5, 0.5, 0.5, 0.5, 0.5, 0.5, 0.5],\n",
       "        dtype=float32)},\n",
       " {'id': 428,\n",
       "  'y_pred': array([5.3191370e-01, 5.3191370e-01, 5.3191370e-01, 5.3191370e-01,\n",
       "         5.3191370e-01, 5.3191370e-01, 5.3191370e-01, 5.3191370e-01,\n",
       "         5.3191370e-01, 5.3191370e-01, 5.3191370e-01, 5.3191370e-01,\n",
       "         5.3191370e-01, 5.3191370e-01, 5.3191370e-01, 5.3191370e-01,\n",
       "         5.3191370e-01, 5.3191370e-01, 5.3191370e-01, 5.3191370e-01,\n",
       "         5.3173161e-01, 5.3191370e-01, 5.3191370e-01, 5.3191370e-01,\n",
       "         5.3191370e-01, 5.3191370e-01, 5.3191370e-01, 5.3191370e-01,\n",
       "         5.3191370e-01, 5.3191370e-01, 5.3191370e-01, 5.3191370e-01,\n",
       "         5.3191370e-01, 5.3191370e-01, 5.3191370e-01, 5.3191370e-01,\n",
       "         5.3191370e-01, 5.3191370e-01, 5.3191370e-01, 5.3191370e-01,\n",
       "         3.2011469e-06, 5.3191370e-01, 5.3191370e-01, 5.3191370e-01,\n",
       "         5.3191370e-01, 1.5937661e-07, 5.3191370e-01, 5.3191370e-01,\n",
       "         5.3191251e-01, 9.3743652e-03], dtype=float32)},\n",
       " {'id': 457,\n",
       "  'y_pred': array([5.3191483e-01, 5.3191483e-01, 5.3191483e-01, 5.3191483e-01,\n",
       "         5.3191483e-01, 5.3191483e-01, 5.3191483e-01, 5.3191483e-01,\n",
       "         5.3191483e-01, 5.3191483e-01, 5.3191483e-01, 5.3191483e-01,\n",
       "         5.3191483e-01, 5.3191483e-01, 5.3191483e-01, 5.3191483e-01,\n",
       "         5.3191483e-01, 5.3191483e-01, 5.3191483e-01, 5.3191483e-01,\n",
       "         5.3191483e-01, 5.3191483e-01, 5.3191483e-01, 5.3191483e-01,\n",
       "         5.3191483e-01, 5.3191483e-01, 5.3191483e-01, 5.3191483e-01,\n",
       "         5.3191483e-01, 5.3191483e-01, 5.3191483e-01, 5.3191483e-01,\n",
       "         5.3191483e-01, 5.3191483e-01, 5.3191483e-01, 5.3191483e-01,\n",
       "         5.3191483e-01, 5.3191483e-01, 5.3191483e-01, 5.3191483e-01,\n",
       "         1.7524428e-32, 5.3191483e-01, 5.3191483e-01, 5.3191483e-01,\n",
       "         5.3191483e-01, 0.0000000e+00, 5.3191483e-01, 5.3191483e-01,\n",
       "         5.3191483e-01, 2.1774457e-04], dtype=float32)},\n",
       " {'id': 0,\n",
       "  'y_pred': array([0.52221817, 0.8515583 , 0.9071904 , 0.80226165, 0.6996155 ,\n",
       "         0.520049  , 0.78892744, 0.842689  , 0.7451944 , 0.6505222 ,\n",
       "         0.47254738, 0.72843987, 0.76070005, 0.6610676 , 0.57487196,\n",
       "         0.26737478, 0.42796203, 0.46070603, 0.4102002 , 0.3626234 ,\n",
       "         0.25170955, 0.3872591 , 0.39140493, 0.32901868, 0.27749935,\n",
       "         0.40157905, 0.5770795 , 0.5878265 , 0.5081532 , 0.49348217,\n",
       "         0.47929123, 0.67033243, 0.69713384, 0.5947533 , 0.52153325,\n",
       "         0.40196913, 0.5745975 , 0.5838619 , 0.5000032 , 0.44313556,\n",
       "         0.19933364, 0.3027608 , 0.31477427, 0.29399228, 0.28357497,\n",
       "         0.17851885, 0.2997828 , 0.29916808, 0.258853  , 0.2281006 ],\n",
       "        dtype=float32)}]"
      ]
     },
     "execution_count": 5,
     "metadata": {},
     "output_type": "execute_result"
    }
   ],
   "source": [
    "est.predict_proba_archive(X)"
   ]
  },
  {
   "cell_type": "markdown",
   "metadata": {},
   "source": [
    "## Visualizing the Pareto front of the archive"
   ]
  },
  {
   "cell_type": "code",
   "execution_count": 6,
   "metadata": {},
   "outputs": [
    {
     "name": "stdout",
     "output_type": "stream",
     "text": [
      "4\n"
     ]
    },
    {
     "data": {
      "text/plain": [
       "Text(0, 0.5, 'Complexity (smaller is better)')"
      ]
     },
     "execution_count": 6,
     "metadata": {},
     "output_type": "execute_result"
    },
    {
     "data": {
      "image/png": "[encoded data removed]",
      "text/plain": [
       "<Figure size 640x480 with 1 Axes>"
      ]
     },
     "metadata": {},
     "output_type": "display_data"
    }
   ],
   "source": [
    "import matplotlib.pyplot as plt\n",
    "\n",
    "xs, ys = [], []\n",
    "for ind in est.archive_:\n",
    "    xs.append(ind['fitness']['loss_v'])\n",
    "    ys.append(ind['fitness']['complexity'])\n",
    "\n",
    "print(len(xs))\n",
    "plt.scatter(xs, ys, alpha=0.25, c='b', linewidth=1.0)\n",
    "plt.xlabel(\"Loss on validation partition (smaller is better)\")\n",
    "plt.ylabel(\"Complexity (smaller is better)\")"
   ]
  },
  {
   "cell_type": "markdown",
   "metadata": {},
   "source": [
    "## Storing the population (unique individuals)\n",
    "\n",
    "If not using archive, then the unique individuals from the final population will be stored. Notice that, while the archive contains only the Pareto front (when `use_arch=True`), this will contain all individuals, even dominated ones."
   ]
  },
  {
   "cell_type": "code",
   "execution_count": 7,
   "metadata": {},
   "outputs": [
    {
     "name": "stdout",
     "output_type": "stream",
     "text": [
      "Completed 100% [====================]\n",
      "saving final population as archive...\n",
      "Best model: 0.53*Logistic(Sum(-44.52416,2.68*AIDS))\n",
      "score: 0.56\n"
     ]
    }
   ],
   "source": [
    "est = BrushClassifier(\n",
    "    # functions=['SplitBest','Add','Mul','Sin','Cos','Exp','Logabs'],\n",
    "    use_arch=False,\n",
    "    objectives=[\"error\", \"complexity\"],\n",
    "    max_gens=5,\n",
    "    pop_size=200,\n",
    "    verbosity=1\n",
    ")\n",
    "\n",
    "est.fit(X,y)\n",
    "\n",
    "print(\"Best model:\", est.best_estimator_.get_model())\n",
    "print('score:', est.score(X,y))"
   ]
  },
  {
   "cell_type": "code",
   "execution_count": 8,
   "metadata": {},
   "outputs": [
    {
     "name": "stdout",
     "output_type": "stream",
     "text": [
      "3\n"
     ]
    },
    {
     "data": {
      "text/plain": [
       "Text(0, 0.5, 'Complexity (smaller is better)')"
      ]
     },
     "execution_count": 8,
     "metadata": {},
     "output_type": "execute_result"
    },
    {
     "data": {
      "image/png": "[encoded data removed]",
      "text/plain": [
       "<Figure size 640x480 with 1 Axes>"
      ]
     },
     "metadata": {},
     "output_type": "display_data"
    }
   ],
   "source": [
    "xs, ys = [], []\n",
    "for ind in est.archive_:\n",
    "    xs.append(ind['fitness']['loss_v'])\n",
    "    ys.append(ind['fitness']['complexity'])\n",
    "\n",
    "print(len(xs))\n",
    "plt.scatter(xs, ys, alpha=0.25, c='b', linewidth=1.0)\n",
    "plt.xlabel(\"Loss on validation partition (smaller is better)\")\n",
    "plt.ylabel(\"Complexity (smaller is better)\")"
   ]
  }
 ],
 "metadata": {
  "kernelspec": {
   "display_name": "brush",
   "language": "python",
   "name": "python3"
  },
  "language_info": {
   "codemirror_mode": {
    "name": "ipython",
    "version": 3
   },
   "file_extension": ".py",
   "mimetype": "text/x-python",
   "name": "python",
   "nbconvert_exporter": "python",
   "pygments_lexer": "ipython3",
   "version": "3.12.2"
  }
 },
 "nbformat": 4,
 "nbformat_minor": 2
}
