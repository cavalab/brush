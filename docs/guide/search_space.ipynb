{
 "cells": [
  {
   "cell_type": "markdown",
   "id": "eb2cd418",
   "metadata": {},
   "source": [
    "# The Search Space\n",
    "\n",
    "The [`SearchSpace`](../cpp_api/search_space.html) holds the terminals and operators used to define programs, and includes utilities for creating programs and modifying them. \n",
    "It has a few basic components:\n",
    "\n",
    "- `node_map`: this object maps function signatures to specific node types. It is a nested map, made to most quickly match on return types first, then full signatures. It is structured this way to mutations and crossover lookups fast. \n",
    "- `terminal_map`: same as `node_map` but for terminals. \n",
    "\n",
    "Both of these maps have associated weights that are used to weight the probabilities of each operator/terminal being sampled. \n",
    "Users can optionally provide these weights."
   ]
  },
  {
   "cell_type": "markdown",
   "id": "429d810b",
   "metadata": {},
   "source": [
    "## Initializing\n",
    "\n",
    "At a minimum, initializing the search space requires that a `Dataset` is already defined, so that `SearchSpace` knows how to define the terminals. "
   ]
  },
  {
   "cell_type": "code",
   "execution_count": 11,
   "id": "b667948a",
   "metadata": {},
   "outputs": [
    {
     "data": {
      "text/html": [
       "<div>\n",
       "<style scoped>\n",
       "    .dataframe tbody tr th:only-of-type {\n",
       "        vertical-align: middle;\n",
       "    }\n",
       "\n",
       "    .dataframe tbody tr th {\n",
       "        vertical-align: top;\n",
       "    }\n",
       "\n",
       "    .dataframe thead th {\n",
       "        text-align: right;\n",
       "    }\n",
       "</style>\n",
       "<table border=\"1\" class=\"dataframe\">\n",
       "  <thead>\n",
       "    <tr style=\"text-align: right;\">\n",
       "      <th></th>\n",
       "      <th>id</th>\n",
       "      <th>sex</th>\n",
       "      <th>race</th>\n",
       "      <th>target</th>\n",
       "    </tr>\n",
       "  </thead>\n",
       "  <tbody>\n",
       "    <tr>\n",
       "      <th>count</th>\n",
       "      <td>993.00000</td>\n",
       "      <td>993.000000</td>\n",
       "      <td>993.000000</td>\n",
       "      <td>993.000000</td>\n",
       "    </tr>\n",
       "    <tr>\n",
       "      <th>mean</th>\n",
       "      <td>496.00000</td>\n",
       "      <td>0.487412</td>\n",
       "      <td>2.625378</td>\n",
       "      <td>8.219092</td>\n",
       "    </tr>\n",
       "    <tr>\n",
       "      <th>std</th>\n",
       "      <td>286.79871</td>\n",
       "      <td>0.500093</td>\n",
       "      <td>1.725240</td>\n",
       "      <td>1.101319</td>\n",
       "    </tr>\n",
       "    <tr>\n",
       "      <th>min</th>\n",
       "      <td>0.00000</td>\n",
       "      <td>0.000000</td>\n",
       "      <td>0.000000</td>\n",
       "      <td>1.337280</td>\n",
       "    </tr>\n",
       "    <tr>\n",
       "      <th>25%</th>\n",
       "      <td>248.00000</td>\n",
       "      <td>0.000000</td>\n",
       "      <td>1.000000</td>\n",
       "      <td>7.836757</td>\n",
       "    </tr>\n",
       "    <tr>\n",
       "      <th>50%</th>\n",
       "      <td>496.00000</td>\n",
       "      <td>0.000000</td>\n",
       "      <td>3.000000</td>\n",
       "      <td>8.404038</td>\n",
       "    </tr>\n",
       "    <tr>\n",
       "      <th>75%</th>\n",
       "      <td>744.00000</td>\n",
       "      <td>1.000000</td>\n",
       "      <td>4.000000</td>\n",
       "      <td>8.810710</td>\n",
       "    </tr>\n",
       "    <tr>\n",
       "      <th>max</th>\n",
       "      <td>992.00000</td>\n",
       "      <td>1.000000</td>\n",
       "      <td>5.000000</td>\n",
       "      <td>11.410597</td>\n",
       "    </tr>\n",
       "  </tbody>\n",
       "</table>\n",
       "</div>"
      ],
      "text/plain": [
       "              id         sex        race      target\n",
       "count  993.00000  993.000000  993.000000  993.000000\n",
       "mean   496.00000    0.487412    2.625378    8.219092\n",
       "std    286.79871    0.500093    1.725240    1.101319\n",
       "min      0.00000    0.000000    0.000000    1.337280\n",
       "25%    248.00000    0.000000    1.000000    7.836757\n",
       "50%    496.00000    0.000000    3.000000    8.404038\n",
       "75%    744.00000    1.000000    4.000000    8.810710\n",
       "max    992.00000    1.000000    5.000000   11.410597"
      ]
     },
     "execution_count": 11,
     "metadata": {},
     "output_type": "execute_result"
    }
   ],
   "source": [
    "import pandas as pd\n",
    "from pybrush import Dataset, SearchSpace\n",
    "\n",
    "df = pd.read_csv('../examples/datasets/d_example_patients.csv')\n",
    "X = df.drop(columns='target')\n",
    "y = df['target']\n",
    "\n",
    "df.describe()"
   ]
  },
  {
   "cell_type": "code",
   "execution_count": 13,
   "id": "6d563aae",
   "metadata": {},
   "outputs": [],
   "source": [
    "data = Dataset(X,y)\n",
    "\n",
    "search_space = SearchSpace(data)"
   ]
  },
  {
   "cell_type": "markdown",
   "id": "d3e4128c",
   "metadata": {},
   "source": [
    "By default, the search space includes all available operators that have at least one argument type matching a datatype in `Data`. \n",
    "That can be quite large. \n",
    "\n",
    "Instead, the user may specify operators with weightings that determine the probability of being sampled, i.e. "
   ]
  },
  {
   "cell_type": "code",
   "execution_count": 14,
   "id": "23d6f552",
   "metadata": {},
   "outputs": [],
   "source": [
    "user_ops = {\n",
    "    'Add': 0.5,\n",
    "    'Sub': 0.5,\n",
    "    'Mul': 1.0,\n",
    "    'Div': 0.1,\n",
    "    'SplitBest':0.2\n",
    "}\n",
    "\n",
    "search_space = SearchSpace(data, user_ops)\n"
   ]
  },
  {
   "cell_type": "markdown",
   "id": "7ebde83f",
   "metadata": {},
   "source": [
    "## Inspecting"
   ]
  },
  {
   "cell_type": "markdown",
   "id": "551a450b",
   "metadata": {},
   "source": [
    "We now have a much smaller search space. To view it, call `print()`:"
   ]
  },
  {
   "cell_type": "code",
   "execution_count": 15,
   "id": "a2953719",
   "metadata": {},
   "outputs": [
    {
     "name": "stdout",
     "output_type": "stream",
     "text": [
      "=== Search space ===\n",
      "terminal_map: {\"ArrayI\": [\"x_2\", \"1.00\"], \"ArrayB\": [\"x_1\", \"1.00\"], \"ArrayF\": [\"x_0\", \"1.00\", \"1.00*MeanLabel\"]}\n",
      "terminal_weights: {\"ArrayI\": [0.01214596, 0.01214596], \"ArrayB\": [0.026419641, 0.026419641], \"ArrayF\": [0.056145623, 0.056145623, 0.056145623]}\n",
      "node_map[ArrayB][[\"ArrayB\", \"ArrayB\"]][SplitBest] = SplitBest, weight = 0.2\n",
      "node_map[ArrayI][[\"ArrayI\", \"ArrayI\"]][SplitBest] = SplitBest, weight = 0.2\n",
      "node_map[ArrayF][[\"ArrayF\", \"ArrayF\"]][SplitBest] = SplitBest, weight = 0.2\n",
      "node_map[ArrayF][[\"ArrayF\", \"ArrayF\"]][Div] = Div, weight = 0.1\n",
      "node_map[ArrayF][[\"ArrayF\", \"ArrayF\"]][Mul] = Mul, weight = 1\n",
      "node_map[ArrayF][[\"ArrayF\", \"ArrayF\"]][Sub] = Sub, weight = 0.5\n",
      "node_map[ArrayF][[\"ArrayF\", \"ArrayF\"]][Add] = Add, weight = 0.5\n",
      "\n"
     ]
    }
   ],
   "source": [
    "search_space.print()"
   ]
  },
  {
   "cell_type": "markdown",
   "id": "b02a700b",
   "metadata": {},
   "source": [
    "Note that the `node_map` includes two `SplitBest` operators: one with the signature `ArrayI(ArrayI, ArrayI)` and one with the signature `ArrayF(ArrayF, ArrayF)`. \n",
    "This is because our dataset contains both interger and floating point data types. \n",
    "Note also that the default behavior is to give both of these nodes the same weight as specified by the user. "
   ]
  },
  {
   "cell_type": "markdown",
   "id": "ca903d90",
   "metadata": {},
   "source": [
    "## Loading datatypes\n",
    "\n",
    "If you pass a numpy array, Brush will try to infer datatypes based on its values.\n",
    "If instead of passing the data directly you rather pass a pandas dataframe, then it will use the data types retrieved from the powerful pandas sniffer to use as its own data type."
   ]
  },
  {
   "cell_type": "code",
   "execution_count": 27,
   "id": "1c8c72c1",
   "metadata": {},
   "outputs": [
    {
     "name": "stdout",
     "output_type": "stream",
     "text": [
      "=== Search space ===\n",
      "terminal_map: {\"ArrayI\": [\"x_2\", \"1.00\"], \"ArrayB\": [\"x_1\", \"1.00\"], \"ArrayF\": [\"x_0\", \"1.00\", \"1.00*MeanLabel\"]}\n",
      "terminal_weights: {\"ArrayI\": [0.01214596, 0.01214596], \"ArrayB\": [0.026419641, 0.026419641], \"ArrayF\": [0.056145623, 0.056145623, 0.056145623]}\n",
      "node_map[ArrayB][[\"ArrayB\", \"ArrayB\"]][SplitBest] = SplitBest, weight = 0.2\n",
      "node_map[ArrayI][[\"ArrayI\", \"ArrayI\"]][SplitBest] = SplitBest, weight = 0.2\n",
      "node_map[ArrayF][[\"ArrayF\", \"ArrayF\"]][SplitBest] = SplitBest, weight = 0.2\n",
      "node_map[ArrayF][[\"ArrayF\", \"ArrayF\"]][Div] = Div, weight = 0.1\n",
      "node_map[ArrayF][[\"ArrayF\", \"ArrayF\"]][Mul] = Mul, weight = 1\n",
      "node_map[ArrayF][[\"ArrayF\", \"ArrayF\"]][Sub] = Sub, weight = 0.5\n",
      "node_map[ArrayF][[\"ArrayF\", \"ArrayF\"]][Add] = Add, weight = 0.5\n",
      "\n"
     ]
    }
   ],
   "source": [
    "data = Dataset(X.values, y.values)\n",
    "\n",
    "search_space = SearchSpace(data, user_ops)\n",
    "search_space.print()"
   ]
  },
  {
   "cell_type": "markdown",
   "id": "d662c5a7",
   "metadata": {},
   "source": [
    "## Sampling\n",
    "\n",
    "TODO. For now, see the mutation and crossover functions in the [Program](../cpp_api/program.html) class."
   ]
  }
 ],
 "metadata": {
  "kernelspec": {
   "display_name": "Python 3 (ipykernel)",
   "language": "python",
   "name": "python3"
  },
  "language_info": {
   "codemirror_mode": {
    "name": "ipython",
    "version": 3
   },
   "file_extension": ".py",
   "mimetype": "text/x-python",
   "name": "python",
   "nbconvert_exporter": "python",
   "pygments_lexer": "ipython3",
   "version": "3.1.undefined"
  }
 },
 "nbformat": 4,
 "nbformat_minor": 5
}
